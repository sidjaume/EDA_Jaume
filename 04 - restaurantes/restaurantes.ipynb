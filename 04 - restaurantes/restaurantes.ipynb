{
 "cells": [
  {
   "cell_type": "code",
   "execution_count": 2,
   "metadata": {},
   "outputs": [],
   "source": [
    "import pandas as pd\n",
    "import numpy as np\n",
    "import seaborn as sns\n",
    "import matplotlib.pyplot as plt"
   ]
  },
  {
   "cell_type": "code",
   "execution_count": 3,
   "metadata": {},
   "outputs": [
    {
     "name": "stdout",
     "output_type": "stream",
     "text": [
      "<class 'pandas.core.frame.DataFrame'>\n",
      "RangeIndex: 95 entries, 0 to 94\n",
      "Data columns (total 6 columns):\n",
      " #   Column              Non-Null Count  Dtype  \n",
      "---  ------              --------------  -----  \n",
      " 0   ID                  95 non-null     int64  \n",
      " 1   Nombre Restaurante  95 non-null     object \n",
      " 2   Dirección           93 non-null     object \n",
      " 3   Distrito Postal     93 non-null     float64\n",
      " 4   Localidad           93 non-null     object \n",
      " 5   Provincia           95 non-null     object \n",
      "dtypes: float64(1), int64(1), object(4)\n",
      "memory usage: 4.6+ KB\n"
     ]
    }
   ],
   "source": [
    "resto = pd.read_csv(r'E:\\OneDrive\\Data Science Bootcamp 2023\\jaume_eda\\restaurantes.csv',encoding='latin-1')\n",
    "resto.info()"
   ]
  },
  {
   "cell_type": "code",
   "execution_count": 12,
   "metadata": {},
   "outputs": [
    {
     "data": {
      "text/plain": [
       "Provincia  Localidad                 \n",
       "Madrid     Madrid                        73\n",
       "           Majadahonda                    6\n",
       "           Alaclá de Henares              1\n",
       "           Alcalá de Henares              1\n",
       "           Alcobendas                     1\n",
       "           Aravaca                        1\n",
       "           Brunete                        1\n",
       "           Galapagar                      1\n",
       "           Las Matas                      1\n",
       "           Las Rozas                      1\n",
       "           Lozoya                         1\n",
       "           Pozuelo de Alarcón             1\n",
       "           RIvas - Vaciamadrid            1\n",
       "           Rivas - Vaciamadrid            1\n",
       "           San Sebastián de los Reyes     1\n",
       "           Torrelodones                   1\n",
       "Name: count, dtype: int64"
      ]
     },
     "execution_count": 12,
     "metadata": {},
     "output_type": "execute_result"
    }
   ],
   "source": [
    "resto[['Provincia','Localidad']].value_counts()"
   ]
  }
 ],
 "metadata": {
  "kernelspec": {
   "display_name": "eda3",
   "language": "python",
   "name": "python3"
  },
  "language_info": {
   "codemirror_mode": {
    "name": "ipython",
    "version": 3
   },
   "file_extension": ".py",
   "mimetype": "text/x-python",
   "name": "python",
   "nbconvert_exporter": "python",
   "pygments_lexer": "ipython3",
   "version": "3.9.16"
  },
  "orig_nbformat": 4
 },
 "nbformat": 4,
 "nbformat_minor": 2
}
