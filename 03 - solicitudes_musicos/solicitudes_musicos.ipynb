{
 "cells": [
  {
   "cell_type": "code",
   "execution_count": 155,
   "metadata": {},
   "outputs": [],
   "source": [
    "import pandas as pd\n",
    "import numpy as np\n",
    "import seaborn as sns\n",
    "import matplotlib.pyplot as plt\n",
    "import plotly.express as px\n",
    "import plotly.graph_objects as go\n",
    "import mplcyberpunk as pnk"
   ]
  },
  {
   "cell_type": "code",
   "execution_count": 156,
   "metadata": {},
   "outputs": [
    {
     "name": "stdout",
     "output_type": "stream",
     "text": [
      "<class 'pandas.core.frame.DataFrame'>\n",
      "RangeIndex: 547 entries, 0 to 546\n",
      "Data columns (total 16 columns):\n",
      " #   Column                               Non-Null Count  Dtype  \n",
      "---  ------                               --------------  -----  \n",
      " 0   id                                   547 non-null    int64  \n",
      " 1   Date                                 547 non-null    object \n",
      " 2   Title                                506 non-null    object \n",
      " 3   calculadora_musico_nombre_artistico  547 non-null    object \n",
      " 4   calculadora_musico_provincia         512 non-null    object \n",
      " 5   calculadora_musico_tipo              533 non-null    object \n",
      " 6   calculadora_provincia_evento         512 non-null    object \n",
      " 7   calculadora_numero_invitados         512 non-null    float64\n",
      " 8   calculadora_espacio_evento           512 non-null    object \n",
      " 9   calculadora_horas_actuacion          512 non-null    float64\n",
      " 10  calculadora_formato_musico           452 non-null    object \n",
      " 11  estimacionPrecioTotal                511 non-null    object \n",
      " 12  fech_evento                          335 non-null    object \n",
      " 13  calculadora_id_musico                418 non-null    float64\n",
      " 14  solicitud_calculada_paso             418 non-null    float64\n",
      " 15  estado_solicitud                     397 non-null    object \n",
      "dtypes: float64(4), int64(1), object(11)\n",
      "memory usage: 68.5+ KB\n"
     ]
    }
   ],
   "source": [
    "sol_musicos = pd.read_csv(r'E:\\OneDrive\\Data Science Bootcamp 2023\\jaume_eda\\03 - solicitudes_musicos\\solicitudes_musicos.csv',encoding='latin-1')\n",
    "sol_musicos.info()"
   ]
  },
  {
   "cell_type": "code",
   "execution_count": 157,
   "metadata": {},
   "outputs": [
    {
     "data": {
      "text/html": [
       "<div>\n",
       "<style scoped>\n",
       "    .dataframe tbody tr th:only-of-type {\n",
       "        vertical-align: middle;\n",
       "    }\n",
       "\n",
       "    .dataframe tbody tr th {\n",
       "        vertical-align: top;\n",
       "    }\n",
       "\n",
       "    .dataframe thead th {\n",
       "        text-align: right;\n",
       "    }\n",
       "</style>\n",
       "<table border=\"1\" class=\"dataframe\">\n",
       "  <thead>\n",
       "    <tr style=\"text-align: right;\">\n",
       "      <th></th>\n",
       "      <th>id</th>\n",
       "      <th>Date</th>\n",
       "      <th>Title</th>\n",
       "      <th>calculadora_musico_nombre_artistico</th>\n",
       "      <th>calculadora_musico_provincia</th>\n",
       "      <th>calculadora_musico_tipo</th>\n",
       "      <th>calculadora_provincia_evento</th>\n",
       "      <th>calculadora_numero_invitados</th>\n",
       "      <th>calculadora_espacio_evento</th>\n",
       "      <th>calculadora_horas_actuacion</th>\n",
       "      <th>calculadora_formato_musico</th>\n",
       "      <th>estimacionPrecioTotal</th>\n",
       "      <th>fech_evento</th>\n",
       "      <th>calculadora_id_musico</th>\n",
       "      <th>solicitud_calculada_paso</th>\n",
       "      <th>estado_solicitud</th>\n",
       "    </tr>\n",
       "  </thead>\n",
       "  <tbody>\n",
       "    <tr>\n",
       "      <th>0</th>\n",
       "      <td>31796</td>\n",
       "      <td>2023-03-10</td>\n",
       "      <td>NaN</td>\n",
       "      <td>Eva Páez</td>\n",
       "      <td>NaN</td>\n",
       "      <td>Músico</td>\n",
       "      <td>NaN</td>\n",
       "      <td>NaN</td>\n",
       "      <td>NaN</td>\n",
       "      <td>NaN</td>\n",
       "      <td>NaN</td>\n",
       "      <td>NaN</td>\n",
       "      <td>NaN</td>\n",
       "      <td>10989.0</td>\n",
       "      <td>1.0</td>\n",
       "      <td>NaN</td>\n",
       "    </tr>\n",
       "    <tr>\n",
       "      <th>1</th>\n",
       "      <td>31798</td>\n",
       "      <td>2023-03-10</td>\n",
       "      <td>NaN</td>\n",
       "      <td>Spin Off</td>\n",
       "      <td>NaN</td>\n",
       "      <td>Músico</td>\n",
       "      <td>NaN</td>\n",
       "      <td>NaN</td>\n",
       "      <td>NaN</td>\n",
       "      <td>NaN</td>\n",
       "      <td>NaN</td>\n",
       "      <td>NaN</td>\n",
       "      <td>NaN</td>\n",
       "      <td>8279.0</td>\n",
       "      <td>1.0</td>\n",
       "      <td>NaN</td>\n",
       "    </tr>\n",
       "    <tr>\n",
       "      <th>2</th>\n",
       "      <td>31799</td>\n",
       "      <td>2023-03-10</td>\n",
       "      <td>NaN</td>\n",
       "      <td>Kilometro cero</td>\n",
       "      <td>NaN</td>\n",
       "      <td>Músico</td>\n",
       "      <td>NaN</td>\n",
       "      <td>NaN</td>\n",
       "      <td>NaN</td>\n",
       "      <td>NaN</td>\n",
       "      <td>NaN</td>\n",
       "      <td>NaN</td>\n",
       "      <td>NaN</td>\n",
       "      <td>9421.0</td>\n",
       "      <td>1.0</td>\n",
       "      <td>NaN</td>\n",
       "    </tr>\n",
       "    <tr>\n",
       "      <th>3</th>\n",
       "      <td>31800</td>\n",
       "      <td>2023-03-10</td>\n",
       "      <td>NaN</td>\n",
       "      <td>Crazy Cabin</td>\n",
       "      <td>Madrid</td>\n",
       "      <td>Músico</td>\n",
       "      <td>Madrid</td>\n",
       "      <td>250.0</td>\n",
       "      <td>dentro</td>\n",
       "      <td>1.0</td>\n",
       "      <td>Solista</td>\n",
       "      <td>528</td>\n",
       "      <td>NaN</td>\n",
       "      <td>16158.0</td>\n",
       "      <td>2.0</td>\n",
       "      <td>NaN</td>\n",
       "    </tr>\n",
       "    <tr>\n",
       "      <th>4</th>\n",
       "      <td>31801</td>\n",
       "      <td>2023-03-10</td>\n",
       "      <td>Mensaje de  a Serotonina</td>\n",
       "      <td>Serotonina</td>\n",
       "      <td>NaN</td>\n",
       "      <td>NaN</td>\n",
       "      <td>NaN</td>\n",
       "      <td>NaN</td>\n",
       "      <td>NaN</td>\n",
       "      <td>NaN</td>\n",
       "      <td>NaN</td>\n",
       "      <td>NaN</td>\n",
       "      <td>NaN</td>\n",
       "      <td>NaN</td>\n",
       "      <td>NaN</td>\n",
       "      <td>NaN</td>\n",
       "    </tr>\n",
       "    <tr>\n",
       "      <th>...</th>\n",
       "      <td>...</td>\n",
       "      <td>...</td>\n",
       "      <td>...</td>\n",
       "      <td>...</td>\n",
       "      <td>...</td>\n",
       "      <td>...</td>\n",
       "      <td>...</td>\n",
       "      <td>...</td>\n",
       "      <td>...</td>\n",
       "      <td>...</td>\n",
       "      <td>...</td>\n",
       "      <td>...</td>\n",
       "      <td>...</td>\n",
       "      <td>...</td>\n",
       "      <td>...</td>\n",
       "      <td>...</td>\n",
       "    </tr>\n",
       "    <tr>\n",
       "      <th>542</th>\n",
       "      <td>44696</td>\n",
       "      <td>2023-06-20</td>\n",
       "      <td>Reserva - Arre-Molke</td>\n",
       "      <td>Arre-Molke</td>\n",
       "      <td>Zamora</td>\n",
       "      <td>Músico</td>\n",
       "      <td>Zamora</td>\n",
       "      <td>20.0</td>\n",
       "      <td>dentro</td>\n",
       "      <td>2.0</td>\n",
       "      <td>Banda con batería</td>\n",
       "      <td>1200</td>\n",
       "      <td>NaN</td>\n",
       "      <td>44683.0</td>\n",
       "      <td>2.0</td>\n",
       "      <td>presupuesto_calculado</td>\n",
       "    </tr>\n",
       "    <tr>\n",
       "      <th>543</th>\n",
       "      <td>44697</td>\n",
       "      <td>2023-06-20</td>\n",
       "      <td>Reserva - Arre-Molke</td>\n",
       "      <td>Arre-Molke</td>\n",
       "      <td>Zamora</td>\n",
       "      <td>Músico</td>\n",
       "      <td>Zamora</td>\n",
       "      <td>20.0</td>\n",
       "      <td>dentro</td>\n",
       "      <td>1.0</td>\n",
       "      <td>Banda con batería</td>\n",
       "      <td>960</td>\n",
       "      <td>NaN</td>\n",
       "      <td>44683.0</td>\n",
       "      <td>2.0</td>\n",
       "      <td>presupuesto_calculado</td>\n",
       "    </tr>\n",
       "    <tr>\n",
       "      <th>544</th>\n",
       "      <td>44734</td>\n",
       "      <td>2023-06-20</td>\n",
       "      <td>Reserva - Arde la calle</td>\n",
       "      <td>Arde la calle</td>\n",
       "      <td>Madrid</td>\n",
       "      <td>Músico</td>\n",
       "      <td>Ávila</td>\n",
       "      <td>50.0</td>\n",
       "      <td>aire</td>\n",
       "      <td>3.0</td>\n",
       "      <td>Dúo</td>\n",
       "      <td>632</td>\n",
       "      <td>2023-08-05</td>\n",
       "      <td>11405.0</td>\n",
       "      <td>3.0</td>\n",
       "      <td>amedias</td>\n",
       "    </tr>\n",
       "    <tr>\n",
       "      <th>545</th>\n",
       "      <td>44762</td>\n",
       "      <td>2023-06-21</td>\n",
       "      <td>Reserva - DZayasMusic</td>\n",
       "      <td>DZayasMusic</td>\n",
       "      <td>Madrid</td>\n",
       "      <td>Músico</td>\n",
       "      <td>Madrid</td>\n",
       "      <td>100.0</td>\n",
       "      <td>dentro</td>\n",
       "      <td>2.0</td>\n",
       "      <td>Solista</td>\n",
       "      <td>420</td>\n",
       "      <td>NaN</td>\n",
       "      <td>5382.0</td>\n",
       "      <td>2.0</td>\n",
       "      <td>presupuesto_calculado</td>\n",
       "    </tr>\n",
       "    <tr>\n",
       "      <th>546</th>\n",
       "      <td>44921</td>\n",
       "      <td>2023-06-21</td>\n",
       "      <td>Reserva - CAPITAN NEMO COVER BAND</td>\n",
       "      <td>CAPITAN NEMO COVER BAND</td>\n",
       "      <td>Murcia</td>\n",
       "      <td>Músico</td>\n",
       "      <td>Murcia</td>\n",
       "      <td>100.0</td>\n",
       "      <td>aire</td>\n",
       "      <td>2.0</td>\n",
       "      <td>Dúo</td>\n",
       "      <td>840</td>\n",
       "      <td>NaN</td>\n",
       "      <td>10878.0</td>\n",
       "      <td>2.0</td>\n",
       "      <td>presupuesto_calculado</td>\n",
       "    </tr>\n",
       "  </tbody>\n",
       "</table>\n",
       "<p>547 rows × 16 columns</p>\n",
       "</div>"
      ],
      "text/plain": [
       "        id        Date                              Title  \\\n",
       "0    31796  2023-03-10                                NaN   \n",
       "1    31798  2023-03-10                                NaN   \n",
       "2    31799  2023-03-10                                NaN   \n",
       "3    31800  2023-03-10                                NaN   \n",
       "4    31801  2023-03-10           Mensaje de  a Serotonina   \n",
       "..     ...         ...                                ...   \n",
       "542  44696  2023-06-20               Reserva - Arre-Molke   \n",
       "543  44697  2023-06-20               Reserva - Arre-Molke   \n",
       "544  44734  2023-06-20            Reserva - Arde la calle   \n",
       "545  44762  2023-06-21              Reserva - DZayasMusic   \n",
       "546  44921  2023-06-21  Reserva - CAPITAN NEMO COVER BAND   \n",
       "\n",
       "    calculadora_musico_nombre_artistico calculadora_musico_provincia  \\\n",
       "0                              Eva Páez                          NaN   \n",
       "1                              Spin Off                          NaN   \n",
       "2                        Kilometro cero                          NaN   \n",
       "3                           Crazy Cabin                       Madrid   \n",
       "4                            Serotonina                          NaN   \n",
       "..                                  ...                          ...   \n",
       "542                          Arre-Molke                       Zamora   \n",
       "543                          Arre-Molke                       Zamora   \n",
       "544                       Arde la calle                       Madrid   \n",
       "545                         DZayasMusic                       Madrid   \n",
       "546             CAPITAN NEMO COVER BAND                       Murcia   \n",
       "\n",
       "    calculadora_musico_tipo calculadora_provincia_evento  \\\n",
       "0                    Músico                          NaN   \n",
       "1                    Músico                          NaN   \n",
       "2                    Músico                          NaN   \n",
       "3                    Músico                       Madrid   \n",
       "4                       NaN                          NaN   \n",
       "..                      ...                          ...   \n",
       "542                  Músico                       Zamora   \n",
       "543                  Músico                       Zamora   \n",
       "544                  Músico                        Ávila   \n",
       "545                  Músico                       Madrid   \n",
       "546                  Músico                       Murcia   \n",
       "\n",
       "     calculadora_numero_invitados calculadora_espacio_evento  \\\n",
       "0                             NaN                        NaN   \n",
       "1                             NaN                        NaN   \n",
       "2                             NaN                        NaN   \n",
       "3                           250.0                     dentro   \n",
       "4                             NaN                        NaN   \n",
       "..                            ...                        ...   \n",
       "542                          20.0                     dentro   \n",
       "543                          20.0                     dentro   \n",
       "544                          50.0                       aire   \n",
       "545                         100.0                     dentro   \n",
       "546                         100.0                       aire   \n",
       "\n",
       "     calculadora_horas_actuacion calculadora_formato_musico  \\\n",
       "0                            NaN                        NaN   \n",
       "1                            NaN                        NaN   \n",
       "2                            NaN                        NaN   \n",
       "3                            1.0                    Solista   \n",
       "4                            NaN                        NaN   \n",
       "..                           ...                        ...   \n",
       "542                          2.0          Banda con batería   \n",
       "543                          1.0          Banda con batería   \n",
       "544                          3.0                        Dúo   \n",
       "545                          2.0                    Solista   \n",
       "546                          2.0                        Dúo   \n",
       "\n",
       "    estimacionPrecioTotal fech_evento  calculadora_id_musico  \\\n",
       "0                     NaN         NaN                10989.0   \n",
       "1                     NaN         NaN                 8279.0   \n",
       "2                     NaN         NaN                 9421.0   \n",
       "3                     528         NaN                16158.0   \n",
       "4                     NaN         NaN                    NaN   \n",
       "..                    ...         ...                    ...   \n",
       "542                  1200         NaN                44683.0   \n",
       "543                   960         NaN                44683.0   \n",
       "544                   632  2023-08-05                11405.0   \n",
       "545                   420         NaN                 5382.0   \n",
       "546                   840         NaN                10878.0   \n",
       "\n",
       "     solicitud_calculada_paso       estado_solicitud  \n",
       "0                         1.0                    NaN  \n",
       "1                         1.0                    NaN  \n",
       "2                         1.0                    NaN  \n",
       "3                         2.0                    NaN  \n",
       "4                         NaN                    NaN  \n",
       "..                        ...                    ...  \n",
       "542                       2.0  presupuesto_calculado  \n",
       "543                       2.0  presupuesto_calculado  \n",
       "544                       3.0                amedias  \n",
       "545                       2.0  presupuesto_calculado  \n",
       "546                       2.0  presupuesto_calculado  \n",
       "\n",
       "[547 rows x 16 columns]"
      ]
     },
     "execution_count": 157,
     "metadata": {},
     "output_type": "execute_result"
    }
   ],
   "source": [
    "sol_musicos"
   ]
  },
  {
   "cell_type": "code",
   "execution_count": 158,
   "metadata": {},
   "outputs": [
    {
     "data": {
      "text/plain": [
       "calculadora_musico_nombre_artistico\n",
       "Guilan                   21\n",
       "Rústica                  18\n",
       "Rock-Olas                17\n",
       "aitor_musico             14\n",
       "Arde la calle            10\n",
       "                         ..\n",
       "FONTÁN                    1\n",
       "Mai Prieto Violinista     1\n",
       "Cocktel Flamenkito        1\n",
       "Daniel Gómez              1\n",
       "Alejandro Rosa            1\n",
       "Name: count, Length: 69, dtype: int64"
      ]
     },
     "execution_count": 158,
     "metadata": {},
     "output_type": "execute_result"
    }
   ],
   "source": [
    "musicos_mad = sol_musicos[sol_musicos['calculadora_musico_provincia'] == 'Madrid']\n",
    "musicos_mad['calculadora_musico_nombre_artistico'].value_counts()"
   ]
  },
  {
   "cell_type": "code",
   "execution_count": 159,
   "metadata": {},
   "outputs": [
    {
     "data": {
      "text/plain": [
       "estado_solicitud\n",
       "False               397\n",
       "True                150\n",
       "Name: count, dtype: int64"
      ]
     },
     "execution_count": 159,
     "metadata": {},
     "output_type": "execute_result"
    }
   ],
   "source": [
    "sol_musicos[['estado_solicitud']].isna().value_counts()"
   ]
  },
  {
   "cell_type": "code",
   "execution_count": 160,
   "metadata": {},
   "outputs": [
    {
     "data": {
      "text/plain": [
       "calculadora_musico_tipo\n",
       "Músico    False\n",
       "DJ        False\n",
       "Name: count, dtype: bool"
      ]
     },
     "execution_count": 160,
     "metadata": {},
     "output_type": "execute_result"
    }
   ],
   "source": [
    "\n",
    "\n",
    "sol_musicos['calculadora_musico_tipo'].value_counts().isna()"
   ]
  },
  {
   "cell_type": "code",
   "execution_count": 161,
   "metadata": {},
   "outputs": [
    {
     "data": {
      "text/plain": [
       "(0.0, 500.0)"
      ]
     },
     "execution_count": 161,
     "metadata": {},
     "output_type": "execute_result"
    },
    {
     "data": {
      "image/png": "[encoded data removed]",
      "text/plain": [
       "<Figure size 1000x500 with 1 Axes>"
      ]
     },
     "metadata": {},
     "output_type": "display_data"
    }
   ],
   "source": [
    "import matplotlib.pyplot as plot\n",
    "dj = sol_musicos[sol_musicos['calculadora_musico_tipo'] == 'DJ']\n",
    "mus = sol_musicos[sol_musicos['calculadora_musico_tipo'] == 'Músico']   \n",
    "mus_dj = pd.merge(dj, mus, how = 'outer')\n",
    "\n",
    "\n",
    "fig = plot.figure(figsize = (10,5))\n",
    "sns.histplot(data = mus_dj, x = 'calculadora_musico_tipo' , \n",
    "             hue = 'calculadora_musico_tipo', \n",
    "             multiple = 'stack', legend = False\n",
    ")\n",
    "\n",
    "plt.xlabel('Tipo de Musico'),\n",
    "plt.ylabel('Cantidad de solicitudes')\n",
    "plt.ylim(0,500)"
   ]
  },
  {
   "cell_type": "code",
   "execution_count": 162,
   "metadata": {},
   "outputs": [
    {
     "data": {
      "text/html": [
       "<div>\n",
       "<style scoped>\n",
       "    .dataframe tbody tr th:only-of-type {\n",
       "        vertical-align: middle;\n",
       "    }\n",
       "\n",
       "    .dataframe tbody tr th {\n",
       "        vertical-align: top;\n",
       "    }\n",
       "\n",
       "    .dataframe thead th {\n",
       "        text-align: right;\n",
       "    }\n",
       "</style>\n",
       "<table border=\"1\" class=\"dataframe\">\n",
       "  <thead>\n",
       "    <tr style=\"text-align: right;\">\n",
       "      <th></th>\n",
       "      <th>calculadora_musico_tipo</th>\n",
       "      <th>calculadora_provincia_evento</th>\n",
       "      <th>estimacionPrecioTotal</th>\n",
       "      <th>calculadora_numero_invitados</th>\n",
       "      <th>calculadora_espacio_evento</th>\n",
       "      <th>calculadora_horas_actuacion</th>\n",
       "      <th>calculadora_formato_musico</th>\n",
       "      <th>estado_solicitud</th>\n",
       "    </tr>\n",
       "  </thead>\n",
       "  <tbody>\n",
       "    <tr>\n",
       "      <th>3</th>\n",
       "      <td>DJ</td>\n",
       "      <td>Vizcaya</td>\n",
       "      <td>942</td>\n",
       "      <td>1.0</td>\n",
       "      <td>aire</td>\n",
       "      <td>4.0</td>\n",
       "      <td>NaN</td>\n",
       "      <td>NaN</td>\n",
       "    </tr>\n",
       "    <tr>\n",
       "      <th>4</th>\n",
       "      <td>DJ</td>\n",
       "      <td>Teruel</td>\n",
       "      <td>1200</td>\n",
       "      <td>100.0</td>\n",
       "      <td>dentro</td>\n",
       "      <td>16.0</td>\n",
       "      <td>NaN</td>\n",
       "      <td>NaN</td>\n",
       "    </tr>\n",
       "    <tr>\n",
       "      <th>5</th>\n",
       "      <td>DJ</td>\n",
       "      <td>Zaragoza</td>\n",
       "      <td>510</td>\n",
       "      <td>100.0</td>\n",
       "      <td>aire</td>\n",
       "      <td>4.0</td>\n",
       "      <td>NaN</td>\n",
       "      <td>NaN</td>\n",
       "    </tr>\n",
       "    <tr>\n",
       "      <th>6</th>\n",
       "      <td>DJ</td>\n",
       "      <td>Barcelona</td>\n",
       "      <td>276</td>\n",
       "      <td>100.0</td>\n",
       "      <td>dentro</td>\n",
       "      <td>1.0</td>\n",
       "      <td>NaN</td>\n",
       "      <td>NaN</td>\n",
       "    </tr>\n",
       "    <tr>\n",
       "      <th>7</th>\n",
       "      <td>DJ</td>\n",
       "      <td>Barcelona</td>\n",
       "      <td>456</td>\n",
       "      <td>100.0</td>\n",
       "      <td>dentro</td>\n",
       "      <td>4.0</td>\n",
       "      <td>NaN</td>\n",
       "      <td>NaN</td>\n",
       "    </tr>\n",
       "    <tr>\n",
       "      <th>...</th>\n",
       "      <td>...</td>\n",
       "      <td>...</td>\n",
       "      <td>...</td>\n",
       "      <td>...</td>\n",
       "      <td>...</td>\n",
       "      <td>...</td>\n",
       "      <td>...</td>\n",
       "      <td>...</td>\n",
       "    </tr>\n",
       "    <tr>\n",
       "      <th>528</th>\n",
       "      <td>Músico</td>\n",
       "      <td>Zamora</td>\n",
       "      <td>1200</td>\n",
       "      <td>20.0</td>\n",
       "      <td>dentro</td>\n",
       "      <td>2.0</td>\n",
       "      <td>Banda con batería</td>\n",
       "      <td>presupuesto_calculado</td>\n",
       "    </tr>\n",
       "    <tr>\n",
       "      <th>529</th>\n",
       "      <td>Músico</td>\n",
       "      <td>Zamora</td>\n",
       "      <td>960</td>\n",
       "      <td>20.0</td>\n",
       "      <td>dentro</td>\n",
       "      <td>1.0</td>\n",
       "      <td>Banda con batería</td>\n",
       "      <td>presupuesto_calculado</td>\n",
       "    </tr>\n",
       "    <tr>\n",
       "      <th>530</th>\n",
       "      <td>Músico</td>\n",
       "      <td>Ávila</td>\n",
       "      <td>632</td>\n",
       "      <td>50.0</td>\n",
       "      <td>aire</td>\n",
       "      <td>3.0</td>\n",
       "      <td>Dúo</td>\n",
       "      <td>amedias</td>\n",
       "    </tr>\n",
       "    <tr>\n",
       "      <th>531</th>\n",
       "      <td>Músico</td>\n",
       "      <td>Madrid</td>\n",
       "      <td>420</td>\n",
       "      <td>100.0</td>\n",
       "      <td>dentro</td>\n",
       "      <td>2.0</td>\n",
       "      <td>Solista</td>\n",
       "      <td>presupuesto_calculado</td>\n",
       "    </tr>\n",
       "    <tr>\n",
       "      <th>532</th>\n",
       "      <td>Músico</td>\n",
       "      <td>Murcia</td>\n",
       "      <td>840</td>\n",
       "      <td>100.0</td>\n",
       "      <td>aire</td>\n",
       "      <td>2.0</td>\n",
       "      <td>Dúo</td>\n",
       "      <td>presupuesto_calculado</td>\n",
       "    </tr>\n",
       "  </tbody>\n",
       "</table>\n",
       "<p>530 rows × 8 columns</p>\n",
       "</div>"
      ],
      "text/plain": [
       "    calculadora_musico_tipo calculadora_provincia_evento  \\\n",
       "3                        DJ                      Vizcaya   \n",
       "4                        DJ                       Teruel   \n",
       "5                        DJ                     Zaragoza   \n",
       "6                        DJ                    Barcelona   \n",
       "7                        DJ                    Barcelona   \n",
       "..                      ...                          ...   \n",
       "528                  Músico                       Zamora   \n",
       "529                  Músico                       Zamora   \n",
       "530                  Músico                        Ávila   \n",
       "531                  Músico                       Madrid   \n",
       "532                  Músico                       Murcia   \n",
       "\n",
       "    estimacionPrecioTotal  calculadora_numero_invitados  \\\n",
       "3                     942                           1.0   \n",
       "4                    1200                         100.0   \n",
       "5                     510                         100.0   \n",
       "6                     276                         100.0   \n",
       "7                     456                         100.0   \n",
       "..                    ...                           ...   \n",
       "528                  1200                          20.0   \n",
       "529                   960                          20.0   \n",
       "530                   632                          50.0   \n",
       "531                   420                         100.0   \n",
       "532                   840                         100.0   \n",
       "\n",
       "    calculadora_espacio_evento  calculadora_horas_actuacion  \\\n",
       "3                         aire                          4.0   \n",
       "4                       dentro                         16.0   \n",
       "5                         aire                          4.0   \n",
       "6                       dentro                          1.0   \n",
       "7                       dentro                          4.0   \n",
       "..                         ...                          ...   \n",
       "528                     dentro                          2.0   \n",
       "529                     dentro                          1.0   \n",
       "530                       aire                          3.0   \n",
       "531                     dentro                          2.0   \n",
       "532                       aire                          2.0   \n",
       "\n",
       "    calculadora_formato_musico       estado_solicitud  \n",
       "3                          NaN                    NaN  \n",
       "4                          NaN                    NaN  \n",
       "5                          NaN                    NaN  \n",
       "6                          NaN                    NaN  \n",
       "7                          NaN                    NaN  \n",
       "..                         ...                    ...  \n",
       "528          Banda con batería  presupuesto_calculado  \n",
       "529          Banda con batería  presupuesto_calculado  \n",
       "530                        Dúo                amedias  \n",
       "531                    Solista  presupuesto_calculado  \n",
       "532                        Dúo  presupuesto_calculado  \n",
       "\n",
       "[530 rows x 8 columns]"
      ]
     },
     "execution_count": 162,
     "metadata": {},
     "output_type": "execute_result"
    }
   ],
   "source": [
    "mus_dj = mus_dj[['calculadora_musico_tipo','calculadora_provincia_evento','estimacionPrecioTotal','calculadora_numero_invitados','calculadora_espacio_evento','calculadora_horas_actuacion','calculadora_formato_musico','estado_solicitud']]\n",
    "mus_dj = mus_dj.iloc[3:,]\n",
    "mus_dj"
   ]
  },
  {
   "cell_type": "code",
   "execution_count": 163,
   "metadata": {},
   "outputs": [
    {
     "data": {
      "text/html": [
       "<div>\n",
       "<style scoped>\n",
       "    .dataframe tbody tr th:only-of-type {\n",
       "        vertical-align: middle;\n",
       "    }\n",
       "\n",
       "    .dataframe tbody tr th {\n",
       "        vertical-align: top;\n",
       "    }\n",
       "\n",
       "    .dataframe thead th {\n",
       "        text-align: right;\n",
       "    }\n",
       "</style>\n",
       "<table border=\"1\" class=\"dataframe\">\n",
       "  <thead>\n",
       "    <tr style=\"text-align: right;\">\n",
       "      <th></th>\n",
       "      <th>calculadora_musico_provincia</th>\n",
       "      <th>estimacionPrecioTotal</th>\n",
       "    </tr>\n",
       "  </thead>\n",
       "  <tbody>\n",
       "    <tr>\n",
       "      <th>0</th>\n",
       "      <td>Baleares</td>\n",
       "      <td>180 + desplazamiento</td>\n",
       "    </tr>\n",
       "    <tr>\n",
       "      <th>1</th>\n",
       "      <td>Baleares</td>\n",
       "      <td>180 + desplazamiento</td>\n",
       "    </tr>\n",
       "    <tr>\n",
       "      <th>2</th>\n",
       "      <td>Baleares</td>\n",
       "      <td>540 + desplazamiento</td>\n",
       "    </tr>\n",
       "    <tr>\n",
       "      <th>3</th>\n",
       "      <td>Baleares</td>\n",
       "      <td>480 + desplazamiento</td>\n",
       "    </tr>\n",
       "    <tr>\n",
       "      <th>4</th>\n",
       "      <td>Baleares</td>\n",
       "      <td>480 + desplazamiento</td>\n",
       "    </tr>\n",
       "    <tr>\n",
       "      <th>5</th>\n",
       "      <td>Baleares</td>\n",
       "      <td>480 + desplazamiento</td>\n",
       "    </tr>\n",
       "    <tr>\n",
       "      <th>6</th>\n",
       "      <td>Baleares</td>\n",
       "      <td>690 + desplazamiento</td>\n",
       "    </tr>\n",
       "    <tr>\n",
       "      <th>7</th>\n",
       "      <td>Las Palmas</td>\n",
       "      <td>300 + desplazamiento</td>\n",
       "    </tr>\n",
       "    <tr>\n",
       "      <th>8</th>\n",
       "      <td>Las Palmas</td>\n",
       "      <td>480 + desplazamiento</td>\n",
       "    </tr>\n",
       "  </tbody>\n",
       "</table>\n",
       "</div>"
      ],
      "text/plain": [
       "  calculadora_musico_provincia  estimacionPrecioTotal\n",
       "0                     Baleares  180 + desplazamiento\n",
       "1                     Baleares  180 + desplazamiento\n",
       "2                     Baleares  540 + desplazamiento\n",
       "3                     Baleares  480 + desplazamiento\n",
       "4                     Baleares  480 + desplazamiento\n",
       "5                     Baleares  480 + desplazamiento\n",
       "6                     Baleares  690 + desplazamiento\n",
       "7                   Las Palmas  300 + desplazamiento\n",
       "8                   Las Palmas  480 + desplazamiento"
      ]
     },
     "execution_count": 163,
     "metadata": {},
     "output_type": "execute_result"
    }
   ],
   "source": [
    "baleares_musicos = sol_musicos[sol_musicos['calculadora_musico_provincia']=='Baleares']\n",
    "palma_musicos = sol_musicos[sol_musicos['calculadora_musico_provincia']=='Las Palmas']\n",
    "musicos_despl = baleares_musicos.merge(palma_musicos,how='outer')\n",
    "musicos_despl.loc[:,['calculadora_musico_provincia','estimacionPrecioTotal']]\n"
   ]
  },
  {
   "attachments": {},
   "cell_type": "markdown",
   "metadata": {},
   "source": [
    "Aquí elimino strings que molestaban a la hora de calcular. Tener en cuenta que Baleares y Canarias, faltan datos de desplazamiento."
   ]
  },
  {
   "cell_type": "code",
   "execution_count": 164,
   "metadata": {},
   "outputs": [
    {
     "name": "stdout",
     "output_type": "stream",
     "text": [
      "180 + desplazamiento\n",
      "180\n",
      "180 + desplazamiento\n",
      "180\n",
      "300 + desplazamiento\n",
      "300\n",
      "540 + desplazamiento\n",
      "540\n",
      "480 + desplazamiento\n",
      "480\n",
      "480 + desplazamiento\n",
      "480\n",
      "480 + desplazamiento\n",
      "480\n",
      "480 + desplazamiento\n",
      "480\n",
      "690 + desplazamiento\n",
      "690\n"
     ]
    }
   ],
   "source": [
    "for i in mus_dj['estimacionPrecioTotal']:\n",
    "    if len(str(i)) > len('+ desplazamiento'):\n",
    "        print(i)\n",
    "        mus_dj['estimacionPrecioTotal'] = mus_dj['estimacionPrecioTotal'].replace(i, i[:3])\n",
    "        print(i[:3])"
   ]
  },
  {
   "cell_type": "code",
   "execution_count": 165,
   "metadata": {},
   "outputs": [
    {
     "data": {
      "text/plain": [
       "count     511.000000\n",
       "mean      506.185910\n",
       "std       490.839607\n",
       "min        30.000000\n",
       "25%       240.000000\n",
       "50%       360.000000\n",
       "75%       600.000000\n",
       "max      6624.000000\n",
       "Name: estimacionPrecioTotal, dtype: float64"
      ]
     },
     "execution_count": 165,
     "metadata": {},
     "output_type": "execute_result"
    }
   ],
   "source": [
    "\n",
    "mus_dj['estimacionPrecioTotal'] =mus_dj['estimacionPrecioTotal'].dropna()\n",
    "mus_dj['estimacionPrecioTotal'] = mus_dj['estimacionPrecioTotal'].astype(float)\n",
    "\n",
    "mus_dj['estimacionPrecioTotal'].describe()\n"
   ]
  },
  {
   "cell_type": "code",
   "execution_count": 166,
   "metadata": {},
   "outputs": [
    {
     "data": {
      "text/plain": [
       "0    180.0\n",
       "Name: estimacionPrecioTotal, dtype: float64"
      ]
     },
     "execution_count": 166,
     "metadata": {},
     "output_type": "execute_result"
    }
   ],
   "source": [
    "mus_dj['estimacionPrecioTotal'].dropna().mode()\n"
   ]
  },
  {
   "cell_type": "code",
   "execution_count": 167,
   "metadata": {},
   "outputs": [
    {
     "data": {
      "text/plain": [
       "360.0"
      ]
     },
     "execution_count": 167,
     "metadata": {},
     "output_type": "execute_result"
    }
   ],
   "source": [
    "mus_dj['estimacionPrecioTotal'].dropna().median()"
   ]
  },
  {
   "attachments": {},
   "cell_type": "markdown",
   "metadata": {},
   "source": [
    "Voy a identificar los outliers min y max de Músico y DJ."
   ]
  },
  {
   "cell_type": "code",
   "execution_count": 168,
   "metadata": {},
   "outputs": [],
   "source": [
    "dj = mus_dj[mus_dj['calculadora_musico_tipo'] == 'DJ']\n",
    "mus = mus_dj[mus_dj['calculadora_musico_tipo'] == 'Músico']\n"
   ]
  },
  {
   "attachments": {},
   "cell_type": "markdown",
   "metadata": {},
   "source": [
    "En cuanto a los Músicos, se puede observar que las dos primeras muestras, se calculan a partir de parámetros fuera de lo común. 90 y 50 h, además son presupuestos calculados, pero no completados, por lo que es posible que estas solicitudes fueran de prueba por parte de restaurantes, artistas curiosos, curiosos, o simplemente alguien troleando."
   ]
  },
  {
   "cell_type": "code",
   "execution_count": 169,
   "metadata": {},
   "outputs": [
    {
     "data": {
      "text/html": [
       "<div>\n",
       "<style scoped>\n",
       "    .dataframe tbody tr th:only-of-type {\n",
       "        vertical-align: middle;\n",
       "    }\n",
       "\n",
       "    .dataframe tbody tr th {\n",
       "        vertical-align: top;\n",
       "    }\n",
       "\n",
       "    .dataframe thead th {\n",
       "        text-align: right;\n",
       "    }\n",
       "</style>\n",
       "<table border=\"1\" class=\"dataframe\">\n",
       "  <thead>\n",
       "    <tr style=\"text-align: right;\">\n",
       "      <th></th>\n",
       "      <th>estimacionPrecioTotal</th>\n",
       "      <th>calculadora_horas_actuacion</th>\n",
       "      <th>estado_solicitud</th>\n",
       "      <th>calculadora_numero_invitados</th>\n",
       "      <th>calculadora_formato_musico</th>\n",
       "      <th>calculadora_provincia_evento</th>\n",
       "    </tr>\n",
       "  </thead>\n",
       "  <tbody>\n",
       "    <tr>\n",
       "      <th>452</th>\n",
       "      <td>6624.0</td>\n",
       "      <td>90.0</td>\n",
       "      <td>presupuesto_calculado</td>\n",
       "      <td>30.0</td>\n",
       "      <td>Solista</td>\n",
       "      <td>Vizcaya</td>\n",
       "    </tr>\n",
       "    <tr>\n",
       "      <th>234</th>\n",
       "      <td>3120.0</td>\n",
       "      <td>50.0</td>\n",
       "      <td>presupuesto_calculado</td>\n",
       "      <td>20.0</td>\n",
       "      <td>Solista</td>\n",
       "      <td>Cantabria</td>\n",
       "    </tr>\n",
       "    <tr>\n",
       "      <th>401</th>\n",
       "      <td>2280.0</td>\n",
       "      <td>1.0</td>\n",
       "      <td>completa</td>\n",
       "      <td>2.0</td>\n",
       "      <td>Trío</td>\n",
       "      <td>Almería</td>\n",
       "    </tr>\n",
       "    <tr>\n",
       "      <th>476</th>\n",
       "      <td>2280.0</td>\n",
       "      <td>2.0</td>\n",
       "      <td>amedias</td>\n",
       "      <td>20.0</td>\n",
       "      <td>Banda con batería</td>\n",
       "      <td>Madrid</td>\n",
       "    </tr>\n",
       "    <tr>\n",
       "      <th>216</th>\n",
       "      <td>2160.0</td>\n",
       "      <td>4.0</td>\n",
       "      <td>completa</td>\n",
       "      <td>100.0</td>\n",
       "      <td>Banda con batería</td>\n",
       "      <td>Vizcaya</td>\n",
       "    </tr>\n",
       "    <tr>\n",
       "      <th>...</th>\n",
       "      <td>...</td>\n",
       "      <td>...</td>\n",
       "      <td>...</td>\n",
       "      <td>...</td>\n",
       "      <td>...</td>\n",
       "      <td>...</td>\n",
       "    </tr>\n",
       "    <tr>\n",
       "      <th>394</th>\n",
       "      <td>120.0</td>\n",
       "      <td>1.0</td>\n",
       "      <td>completa</td>\n",
       "      <td>20.0</td>\n",
       "      <td>Dúo</td>\n",
       "      <td>Granada</td>\n",
       "    </tr>\n",
       "    <tr>\n",
       "      <th>313</th>\n",
       "      <td>120.0</td>\n",
       "      <td>1.0</td>\n",
       "      <td>presupuesto_calculado</td>\n",
       "      <td>20.0</td>\n",
       "      <td>Solista</td>\n",
       "      <td>Valencia</td>\n",
       "    </tr>\n",
       "    <tr>\n",
       "      <th>360</th>\n",
       "      <td>120.0</td>\n",
       "      <td>1.0</td>\n",
       "      <td>presupuesto_calculado</td>\n",
       "      <td>20.0</td>\n",
       "      <td>Solista</td>\n",
       "      <td>Madrid</td>\n",
       "    </tr>\n",
       "    <tr>\n",
       "      <th>347</th>\n",
       "      <td>84.0</td>\n",
       "      <td>1.0</td>\n",
       "      <td>completa</td>\n",
       "      <td>20.0</td>\n",
       "      <td>Solista</td>\n",
       "      <td>Madrid</td>\n",
       "    </tr>\n",
       "    <tr>\n",
       "      <th>197</th>\n",
       "      <td>30.0</td>\n",
       "      <td>1.0</td>\n",
       "      <td>presupuesto_calculado</td>\n",
       "      <td>20.0</td>\n",
       "      <td>Solista</td>\n",
       "      <td>Álava</td>\n",
       "    </tr>\n",
       "  </tbody>\n",
       "</table>\n",
       "<p>355 rows × 6 columns</p>\n",
       "</div>"
      ],
      "text/plain": [
       "     estimacionPrecioTotal  calculadora_horas_actuacion  \\\n",
       "452                 6624.0                         90.0   \n",
       "234                 3120.0                         50.0   \n",
       "401                 2280.0                          1.0   \n",
       "476                 2280.0                          2.0   \n",
       "216                 2160.0                          4.0   \n",
       "..                     ...                          ...   \n",
       "394                  120.0                          1.0   \n",
       "313                  120.0                          1.0   \n",
       "360                  120.0                          1.0   \n",
       "347                   84.0                          1.0   \n",
       "197                   30.0                          1.0   \n",
       "\n",
       "          estado_solicitud  calculadora_numero_invitados  \\\n",
       "452  presupuesto_calculado                          30.0   \n",
       "234  presupuesto_calculado                          20.0   \n",
       "401               completa                           2.0   \n",
       "476                amedias                          20.0   \n",
       "216               completa                         100.0   \n",
       "..                     ...                           ...   \n",
       "394               completa                          20.0   \n",
       "313  presupuesto_calculado                          20.0   \n",
       "360  presupuesto_calculado                          20.0   \n",
       "347               completa                          20.0   \n",
       "197  presupuesto_calculado                          20.0   \n",
       "\n",
       "    calculadora_formato_musico calculadora_provincia_evento  \n",
       "452                    Solista                      Vizcaya  \n",
       "234                    Solista                    Cantabria  \n",
       "401                       Trío                      Almería  \n",
       "476          Banda con batería                       Madrid  \n",
       "216          Banda con batería                      Vizcaya  \n",
       "..                         ...                          ...  \n",
       "394                        Dúo                      Granada  \n",
       "313                    Solista                     Valencia  \n",
       "360                    Solista                       Madrid  \n",
       "347                    Solista                       Madrid  \n",
       "197                    Solista                        Álava  \n",
       "\n",
       "[355 rows x 6 columns]"
      ]
     },
     "execution_count": 169,
     "metadata": {},
     "output_type": "execute_result"
    }
   ],
   "source": [
    "mus_max = mus.sort_values(by = 'estimacionPrecioTotal',ascending=False)\n",
    "mus_max[['estimacionPrecioTotal', 'calculadora_horas_actuacion','estado_solicitud','calculadora_numero_invitados','calculadora_formato_musico','calculadora_provincia_evento']].dropna()"
   ]
  },
  {
   "cell_type": "code",
   "execution_count": 170,
   "metadata": {},
   "outputs": [
    {
     "data": {
      "text/html": [
       "<div>\n",
       "<style scoped>\n",
       "    .dataframe tbody tr th:only-of-type {\n",
       "        vertical-align: middle;\n",
       "    }\n",
       "\n",
       "    .dataframe tbody tr th {\n",
       "        vertical-align: top;\n",
       "    }\n",
       "\n",
       "    .dataframe thead th {\n",
       "        text-align: right;\n",
       "    }\n",
       "</style>\n",
       "<table border=\"1\" class=\"dataframe\">\n",
       "  <thead>\n",
       "    <tr style=\"text-align: right;\">\n",
       "      <th></th>\n",
       "      <th>estimacionPrecioTotal</th>\n",
       "      <th>calculadora_horas_actuacion</th>\n",
       "      <th>estado_solicitud</th>\n",
       "      <th>calculadora_numero_invitados</th>\n",
       "      <th>calculadora_formato_musico</th>\n",
       "      <th>calculadora_provincia_evento</th>\n",
       "    </tr>\n",
       "  </thead>\n",
       "  <tbody>\n",
       "    <tr>\n",
       "      <th>401</th>\n",
       "      <td>2280.0</td>\n",
       "      <td>1.0</td>\n",
       "      <td>completa</td>\n",
       "      <td>2.0</td>\n",
       "      <td>Trío</td>\n",
       "      <td>Almería</td>\n",
       "    </tr>\n",
       "    <tr>\n",
       "      <th>476</th>\n",
       "      <td>2280.0</td>\n",
       "      <td>2.0</td>\n",
       "      <td>amedias</td>\n",
       "      <td>20.0</td>\n",
       "      <td>Banda con batería</td>\n",
       "      <td>Madrid</td>\n",
       "    </tr>\n",
       "    <tr>\n",
       "      <th>216</th>\n",
       "      <td>2160.0</td>\n",
       "      <td>4.0</td>\n",
       "      <td>completa</td>\n",
       "      <td>100.0</td>\n",
       "      <td>Banda con batería</td>\n",
       "      <td>Vizcaya</td>\n",
       "    </tr>\n",
       "    <tr>\n",
       "      <th>475</th>\n",
       "      <td>1980.0</td>\n",
       "      <td>1.0</td>\n",
       "      <td>presupuesto_calculado</td>\n",
       "      <td>40.0</td>\n",
       "      <td>Banda con batería</td>\n",
       "      <td>Madrid</td>\n",
       "    </tr>\n",
       "    <tr>\n",
       "      <th>370</th>\n",
       "      <td>1875.0</td>\n",
       "      <td>3.0</td>\n",
       "      <td>presupuesto_calculado</td>\n",
       "      <td>300.0</td>\n",
       "      <td>Banda con batería</td>\n",
       "      <td>Alicante</td>\n",
       "    </tr>\n",
       "    <tr>\n",
       "      <th>...</th>\n",
       "      <td>...</td>\n",
       "      <td>...</td>\n",
       "      <td>...</td>\n",
       "      <td>...</td>\n",
       "      <td>...</td>\n",
       "      <td>...</td>\n",
       "    </tr>\n",
       "    <tr>\n",
       "      <th>394</th>\n",
       "      <td>120.0</td>\n",
       "      <td>1.0</td>\n",
       "      <td>completa</td>\n",
       "      <td>20.0</td>\n",
       "      <td>Dúo</td>\n",
       "      <td>Granada</td>\n",
       "    </tr>\n",
       "    <tr>\n",
       "      <th>313</th>\n",
       "      <td>120.0</td>\n",
       "      <td>1.0</td>\n",
       "      <td>presupuesto_calculado</td>\n",
       "      <td>20.0</td>\n",
       "      <td>Solista</td>\n",
       "      <td>Valencia</td>\n",
       "    </tr>\n",
       "    <tr>\n",
       "      <th>360</th>\n",
       "      <td>120.0</td>\n",
       "      <td>1.0</td>\n",
       "      <td>presupuesto_calculado</td>\n",
       "      <td>20.0</td>\n",
       "      <td>Solista</td>\n",
       "      <td>Madrid</td>\n",
       "    </tr>\n",
       "    <tr>\n",
       "      <th>347</th>\n",
       "      <td>84.0</td>\n",
       "      <td>1.0</td>\n",
       "      <td>completa</td>\n",
       "      <td>20.0</td>\n",
       "      <td>Solista</td>\n",
       "      <td>Madrid</td>\n",
       "    </tr>\n",
       "    <tr>\n",
       "      <th>197</th>\n",
       "      <td>30.0</td>\n",
       "      <td>1.0</td>\n",
       "      <td>presupuesto_calculado</td>\n",
       "      <td>20.0</td>\n",
       "      <td>Solista</td>\n",
       "      <td>Álava</td>\n",
       "    </tr>\n",
       "  </tbody>\n",
       "</table>\n",
       "<p>353 rows × 6 columns</p>\n",
       "</div>"
      ],
      "text/plain": [
       "     estimacionPrecioTotal  calculadora_horas_actuacion  \\\n",
       "401                 2280.0                          1.0   \n",
       "476                 2280.0                          2.0   \n",
       "216                 2160.0                          4.0   \n",
       "475                 1980.0                          1.0   \n",
       "370                 1875.0                          3.0   \n",
       "..                     ...                          ...   \n",
       "394                  120.0                          1.0   \n",
       "313                  120.0                          1.0   \n",
       "360                  120.0                          1.0   \n",
       "347                   84.0                          1.0   \n",
       "197                   30.0                          1.0   \n",
       "\n",
       "          estado_solicitud  calculadora_numero_invitados  \\\n",
       "401               completa                           2.0   \n",
       "476                amedias                          20.0   \n",
       "216               completa                         100.0   \n",
       "475  presupuesto_calculado                          40.0   \n",
       "370  presupuesto_calculado                         300.0   \n",
       "..                     ...                           ...   \n",
       "394               completa                          20.0   \n",
       "313  presupuesto_calculado                          20.0   \n",
       "360  presupuesto_calculado                          20.0   \n",
       "347               completa                          20.0   \n",
       "197  presupuesto_calculado                          20.0   \n",
       "\n",
       "    calculadora_formato_musico calculadora_provincia_evento  \n",
       "401                       Trío                      Almería  \n",
       "476          Banda con batería                       Madrid  \n",
       "216          Banda con batería                      Vizcaya  \n",
       "475          Banda con batería                       Madrid  \n",
       "370          Banda con batería                     Alicante  \n",
       "..                         ...                          ...  \n",
       "394                        Dúo                      Granada  \n",
       "313                    Solista                     Valencia  \n",
       "360                    Solista                       Madrid  \n",
       "347                    Solista                       Madrid  \n",
       "197                    Solista                        Álava  \n",
       "\n",
       "[353 rows x 6 columns]"
      ]
     },
     "execution_count": 170,
     "metadata": {},
     "output_type": "execute_result"
    }
   ],
   "source": [
    "mus_max = mus_max.iloc[2:,]\n",
    "mus_max = mus_max[['estimacionPrecioTotal', 'calculadora_horas_actuacion','estado_solicitud','calculadora_numero_invitados','calculadora_formato_musico','calculadora_provincia_evento']].dropna()\n",
    "mus_max"
   ]
  },
  {
   "attachments": {},
   "cell_type": "markdown",
   "metadata": {},
   "source": [
    "Aquí abajo, quito 1 linea que era un outlier de minimo, 30€ de precio total y presupuesto estimado, como no se completó lo elimino por los motivos de antes. Puede ser una prueba o una consulta, sin más."
   ]
  },
  {
   "cell_type": "code",
   "execution_count": 171,
   "metadata": {},
   "outputs": [
    {
     "data": {
      "text/html": [
       "<div>\n",
       "<style scoped>\n",
       "    .dataframe tbody tr th:only-of-type {\n",
       "        vertical-align: middle;\n",
       "    }\n",
       "\n",
       "    .dataframe tbody tr th {\n",
       "        vertical-align: top;\n",
       "    }\n",
       "\n",
       "    .dataframe thead th {\n",
       "        text-align: right;\n",
       "    }\n",
       "</style>\n",
       "<table border=\"1\" class=\"dataframe\">\n",
       "  <thead>\n",
       "    <tr style=\"text-align: right;\">\n",
       "      <th></th>\n",
       "      <th>estimacionPrecioTotal</th>\n",
       "      <th>calculadora_horas_actuacion</th>\n",
       "      <th>estado_solicitud</th>\n",
       "      <th>calculadora_numero_invitados</th>\n",
       "      <th>calculadora_formato_musico</th>\n",
       "      <th>calculadora_provincia_evento</th>\n",
       "    </tr>\n",
       "  </thead>\n",
       "  <tbody>\n",
       "    <tr>\n",
       "      <th>347</th>\n",
       "      <td>84.0</td>\n",
       "      <td>1.0</td>\n",
       "      <td>completa</td>\n",
       "      <td>20.0</td>\n",
       "      <td>Solista</td>\n",
       "      <td>Madrid</td>\n",
       "    </tr>\n",
       "    <tr>\n",
       "      <th>313</th>\n",
       "      <td>120.0</td>\n",
       "      <td>1.0</td>\n",
       "      <td>presupuesto_calculado</td>\n",
       "      <td>20.0</td>\n",
       "      <td>Solista</td>\n",
       "      <td>Valencia</td>\n",
       "    </tr>\n",
       "    <tr>\n",
       "      <th>394</th>\n",
       "      <td>120.0</td>\n",
       "      <td>1.0</td>\n",
       "      <td>completa</td>\n",
       "      <td>20.0</td>\n",
       "      <td>Dúo</td>\n",
       "      <td>Granada</td>\n",
       "    </tr>\n",
       "    <tr>\n",
       "      <th>402</th>\n",
       "      <td>120.0</td>\n",
       "      <td>1.0</td>\n",
       "      <td>completa</td>\n",
       "      <td>40.0</td>\n",
       "      <td>Solista</td>\n",
       "      <td>Madrid</td>\n",
       "    </tr>\n",
       "    <tr>\n",
       "      <th>403</th>\n",
       "      <td>120.0</td>\n",
       "      <td>1.0</td>\n",
       "      <td>amedias</td>\n",
       "      <td>40.0</td>\n",
       "      <td>Solista</td>\n",
       "      <td>Madrid</td>\n",
       "    </tr>\n",
       "    <tr>\n",
       "      <th>...</th>\n",
       "      <td>...</td>\n",
       "      <td>...</td>\n",
       "      <td>...</td>\n",
       "      <td>...</td>\n",
       "      <td>...</td>\n",
       "      <td>...</td>\n",
       "    </tr>\n",
       "    <tr>\n",
       "      <th>370</th>\n",
       "      <td>1875.0</td>\n",
       "      <td>3.0</td>\n",
       "      <td>presupuesto_calculado</td>\n",
       "      <td>300.0</td>\n",
       "      <td>Banda con batería</td>\n",
       "      <td>Alicante</td>\n",
       "    </tr>\n",
       "    <tr>\n",
       "      <th>475</th>\n",
       "      <td>1980.0</td>\n",
       "      <td>1.0</td>\n",
       "      <td>presupuesto_calculado</td>\n",
       "      <td>40.0</td>\n",
       "      <td>Banda con batería</td>\n",
       "      <td>Madrid</td>\n",
       "    </tr>\n",
       "    <tr>\n",
       "      <th>216</th>\n",
       "      <td>2160.0</td>\n",
       "      <td>4.0</td>\n",
       "      <td>completa</td>\n",
       "      <td>100.0</td>\n",
       "      <td>Banda con batería</td>\n",
       "      <td>Vizcaya</td>\n",
       "    </tr>\n",
       "    <tr>\n",
       "      <th>476</th>\n",
       "      <td>2280.0</td>\n",
       "      <td>2.0</td>\n",
       "      <td>amedias</td>\n",
       "      <td>20.0</td>\n",
       "      <td>Banda con batería</td>\n",
       "      <td>Madrid</td>\n",
       "    </tr>\n",
       "    <tr>\n",
       "      <th>401</th>\n",
       "      <td>2280.0</td>\n",
       "      <td>1.0</td>\n",
       "      <td>completa</td>\n",
       "      <td>2.0</td>\n",
       "      <td>Trío</td>\n",
       "      <td>Almería</td>\n",
       "    </tr>\n",
       "  </tbody>\n",
       "</table>\n",
       "<p>352 rows × 6 columns</p>\n",
       "</div>"
      ],
      "text/plain": [
       "     estimacionPrecioTotal  calculadora_horas_actuacion  \\\n",
       "347                   84.0                          1.0   \n",
       "313                  120.0                          1.0   \n",
       "394                  120.0                          1.0   \n",
       "402                  120.0                          1.0   \n",
       "403                  120.0                          1.0   \n",
       "..                     ...                          ...   \n",
       "370                 1875.0                          3.0   \n",
       "475                 1980.0                          1.0   \n",
       "216                 2160.0                          4.0   \n",
       "476                 2280.0                          2.0   \n",
       "401                 2280.0                          1.0   \n",
       "\n",
       "          estado_solicitud  calculadora_numero_invitados  \\\n",
       "347               completa                          20.0   \n",
       "313  presupuesto_calculado                          20.0   \n",
       "394               completa                          20.0   \n",
       "402               completa                          40.0   \n",
       "403                amedias                          40.0   \n",
       "..                     ...                           ...   \n",
       "370  presupuesto_calculado                         300.0   \n",
       "475  presupuesto_calculado                          40.0   \n",
       "216               completa                         100.0   \n",
       "476                amedias                          20.0   \n",
       "401               completa                           2.0   \n",
       "\n",
       "    calculadora_formato_musico calculadora_provincia_evento  \n",
       "347                    Solista                       Madrid  \n",
       "313                    Solista                     Valencia  \n",
       "394                        Dúo                      Granada  \n",
       "402                    Solista                       Madrid  \n",
       "403                    Solista                       Madrid  \n",
       "..                         ...                          ...  \n",
       "370          Banda con batería                     Alicante  \n",
       "475          Banda con batería                       Madrid  \n",
       "216          Banda con batería                      Vizcaya  \n",
       "476          Banda con batería                       Madrid  \n",
       "401                       Trío                      Almería  \n",
       "\n",
       "[352 rows x 6 columns]"
      ]
     },
     "execution_count": 171,
     "metadata": {},
     "output_type": "execute_result"
    }
   ],
   "source": [
    "mus_max = mus_max.sort_values(by = 'estimacionPrecioTotal')\n",
    "\n",
    "mus_max = mus_max.iloc[1:,:].dropna()\n",
    "mus_max"
   ]
  },
  {
   "cell_type": "code",
   "execution_count": 172,
   "metadata": {},
   "outputs": [
    {
     "data": {
      "application/vnd.plotly.v1+json": {
       "config": {
        "plotlyServerURL": "https://plot.ly"
       },
       "data": [
        {
         "alignmentgroup": "True",
         "bingroup": "x",
         "hovertemplate": "Estado de solicitud=completa<br>Precio Total=%{x}<br>count=%{y}<extra></extra>",
         "legendgroup": "completa",
         "marker": {
          "color": "#636efa",
          "pattern": {
           "shape": ""
          }
         },
         "name": "completa",
         "offsetgroup": "completa",
         "orientation": "v",
         "showlegend": true,
         "type": "histogram",
         "x": [
          84,
          120,
          120,
          141,
          168,
          180,
          180,
          180,
          180,
          180,
          180,
          180,
          180,
          180,
          180,
          180,
          180,
          180,
          180,
          180,
          180,
          180,
          180,
          180,
          180,
          180,
          180,
          180,
          180,
          180,
          180,
          180,
          180,
          180,
          180,
          180,
          180,
          180,
          180,
          180,
          180,
          192,
          192,
          208,
          216,
          240,
          240,
          240,
          240,
          240,
          240,
          240,
          240,
          240,
          240,
          240,
          240,
          240,
          240,
          240,
          240,
          240,
          240,
          240,
          240,
          240,
          249,
          264,
          282,
          288,
          288,
          300,
          300,
          300,
          300,
          306,
          312,
          330,
          334,
          336,
          336,
          336,
          336,
          342,
          346,
          346,
          348,
          360,
          360,
          360,
          360,
          360,
          360,
          360,
          372,
          396,
          396,
          402,
          408,
          420,
          420,
          420,
          420,
          429,
          456,
          466,
          480,
          480,
          480,
          480,
          480,
          480,
          480,
          480,
          504,
          504,
          516,
          540,
          540,
          540,
          540,
          549,
          550,
          552,
          576,
          585,
          600,
          600,
          600,
          600,
          636,
          636,
          645,
          660,
          660,
          660,
          660,
          678,
          696,
          756,
          780,
          804,
          840,
          840,
          849,
          897,
          900,
          909,
          936,
          936,
          948,
          960,
          986,
          1056,
          1176,
          1176,
          1500,
          1554,
          1656,
          1680,
          1800,
          1848,
          2160,
          2280
         ],
         "xaxis": "x",
         "yaxis": "y"
        },
        {
         "alignmentgroup": "True",
         "bingroup": "x",
         "hovertemplate": "Estado de solicitud=presupuesto_calculado<br>Precio Total=%{x}<br>count=%{y}<extra></extra>",
         "legendgroup": "presupuesto_calculado",
         "marker": {
          "color": "#EF553B",
          "pattern": {
           "shape": ""
          }
         },
         "name": "presupuesto_calculado",
         "offsetgroup": "presupuesto_calculado",
         "orientation": "v",
         "showlegend": true,
         "type": "histogram",
         "x": [
          120,
          120,
          144,
          144,
          180,
          180,
          180,
          180,
          180,
          180,
          180,
          180,
          180,
          180,
          180,
          180,
          180,
          180,
          180,
          180,
          180,
          180,
          180,
          180,
          180,
          180,
          180,
          216,
          216,
          240,
          240,
          240,
          240,
          240,
          240,
          240,
          240,
          240,
          240,
          240,
          240,
          240,
          249,
          264,
          264,
          276,
          288,
          300,
          300,
          300,
          300,
          300,
          306,
          324,
          346,
          346,
          351,
          354,
          360,
          360,
          360,
          360,
          360,
          360,
          360,
          360,
          360,
          360,
          360,
          402,
          420,
          420,
          420,
          420,
          420,
          420,
          420,
          420,
          420,
          420,
          420,
          456,
          480,
          480,
          480,
          480,
          480,
          480,
          504,
          507,
          516,
          540,
          540,
          540,
          552,
          576,
          583,
          600,
          600,
          600,
          600,
          600,
          600,
          600,
          600,
          600,
          612,
          648,
          648,
          660,
          690,
          720,
          720,
          720,
          720,
          720,
          751,
          756,
          768,
          780,
          780,
          780,
          780,
          840,
          840,
          840,
          840,
          840,
          840,
          849,
          900,
          936,
          960,
          960,
          960,
          960,
          972,
          1020,
          1080,
          1080,
          1188,
          1200,
          1215,
          1320,
          1320,
          1320,
          1416,
          1428,
          1500,
          1800,
          1800,
          1800,
          1875,
          1980
         ],
         "xaxis": "x",
         "yaxis": "y"
        },
        {
         "alignmentgroup": "True",
         "bingroup": "x",
         "hovertemplate": "Estado de solicitud=amedias<br>Precio Total=%{x}<br>count=%{y}<extra></extra>",
         "legendgroup": "amedias",
         "marker": {
          "color": "#00cc96",
          "pattern": {
           "shape": ""
          }
         },
         "name": "amedias",
         "offsetgroup": "amedias",
         "orientation": "v",
         "showlegend": true,
         "type": "histogram",
         "x": [
          120,
          180,
          180,
          180,
          180,
          216,
          240,
          240,
          240,
          240,
          240,
          240,
          312,
          351,
          360,
          362,
          420,
          480,
          480,
          540,
          540,
          540,
          540,
          585,
          600,
          632,
          720,
          729,
          756,
          780,
          804,
          912,
          1776,
          2280
         ],
         "xaxis": "x",
         "yaxis": "y"
        }
       ],
       "layout": {
        "barmode": "relative",
        "legend": {
         "title": {
          "text": "Estado de solicitud"
         },
         "tracegroupgap": 0
        },
        "template": {
         "data": {
          "bar": [
           {
            "error_x": {
             "color": "#2a3f5f"
            },
            "error_y": {
             "color": "#2a3f5f"
            },
            "marker": {
             "line": {
              "color": "#E5ECF6",
              "width": 0.5
             },
             "pattern": {
              "fillmode": "overlay",
              "size": 10,
              "solidity": 0.2
             }
            },
            "type": "bar"
           }
          ],
          "barpolar": [
           {
            "marker": {
             "line": {
              "color": "#E5ECF6",
              "width": 0.5
             },
             "pattern": {
              "fillmode": "overlay",
              "size": 10,
              "solidity": 0.2
             }
            },
            "type": "barpolar"
           }
          ],
          "carpet": [
           {
            "aaxis": {
             "endlinecolor": "#2a3f5f",
             "gridcolor": "white",
             "linecolor": "white",
             "minorgridcolor": "white",
             "startlinecolor": "#2a3f5f"
            },
            "baxis": {
             "endlinecolor": "#2a3f5f",
             "gridcolor": "white",
             "linecolor": "white",
             "minorgridcolor": "white",
             "startlinecolor": "#2a3f5f"
            },
            "type": "carpet"
           }
          ],
          "choropleth": [
           {
            "colorbar": {
             "outlinewidth": 0,
             "ticks": ""
            },
            "type": "choropleth"
           }
          ],
          "contour": [
           {
            "colorbar": {
             "outlinewidth": 0,
             "ticks": ""
            },
            "colorscale": [
             [
              0,
              "#0d0887"
             ],
             [
              0.1111111111111111,
              "#46039f"
             ],
             [
              0.2222222222222222,
              "#7201a8"
             ],
             [
              0.3333333333333333,
              "#9c179e"
             ],
             [
              0.4444444444444444,
              "#bd3786"
             ],
             [
              0.5555555555555556,
              "#d8576b"
             ],
             [
              0.6666666666666666,
              "#ed7953"
             ],
             [
              0.7777777777777778,
              "#fb9f3a"
             ],
             [
              0.8888888888888888,
              "#fdca26"
             ],
             [
              1,
              "#f0f921"
             ]
            ],
            "type": "contour"
           }
          ],
          "contourcarpet": [
           {
            "colorbar": {
             "outlinewidth": 0,
             "ticks": ""
            },
            "type": "contourcarpet"
           }
          ],
          "heatmap": [
           {
            "colorbar": {
             "outlinewidth": 0,
             "ticks": ""
            },
            "colorscale": [
             [
              0,
              "#0d0887"
             ],
             [
              0.1111111111111111,
              "#46039f"
             ],
             [
              0.2222222222222222,
              "#7201a8"
             ],
             [
              0.3333333333333333,
              "#9c179e"
             ],
             [
              0.4444444444444444,
              "#bd3786"
             ],
             [
              0.5555555555555556,
              "#d8576b"
             ],
             [
              0.6666666666666666,
              "#ed7953"
             ],
             [
              0.7777777777777778,
              "#fb9f3a"
             ],
             [
              0.8888888888888888,
              "#fdca26"
             ],
             [
              1,
              "#f0f921"
             ]
            ],
            "type": "heatmap"
           }
          ],
          "heatmapgl": [
           {
            "colorbar": {
             "outlinewidth": 0,
             "ticks": ""
            },
            "colorscale": [
             [
              0,
              "#0d0887"
             ],
             [
              0.1111111111111111,
              "#46039f"
             ],
             [
              0.2222222222222222,
              "#7201a8"
             ],
             [
              0.3333333333333333,
              "#9c179e"
             ],
             [
              0.4444444444444444,
              "#bd3786"
             ],
             [
              0.5555555555555556,
              "#d8576b"
             ],
             [
              0.6666666666666666,
              "#ed7953"
             ],
             [
              0.7777777777777778,
              "#fb9f3a"
             ],
             [
              0.8888888888888888,
              "#fdca26"
             ],
             [
              1,
              "#f0f921"
             ]
            ],
            "type": "heatmapgl"
           }
          ],
          "histogram": [
           {
            "marker": {
             "pattern": {
              "fillmode": "overlay",
              "size": 10,
              "solidity": 0.2
             }
            },
            "type": "histogram"
           }
          ],
          "histogram2d": [
           {
            "colorbar": {
             "outlinewidth": 0,
             "ticks": ""
            },
            "colorscale": [
             [
              0,
              "#0d0887"
             ],
             [
              0.1111111111111111,
              "#46039f"
             ],
             [
              0.2222222222222222,
              "#7201a8"
             ],
             [
              0.3333333333333333,
              "#9c179e"
             ],
             [
              0.4444444444444444,
              "#bd3786"
             ],
             [
              0.5555555555555556,
              "#d8576b"
             ],
             [
              0.6666666666666666,
              "#ed7953"
             ],
             [
              0.7777777777777778,
              "#fb9f3a"
             ],
             [
              0.8888888888888888,
              "#fdca26"
             ],
             [
              1,
              "#f0f921"
             ]
            ],
            "type": "histogram2d"
           }
          ],
          "histogram2dcontour": [
           {
            "colorbar": {
             "outlinewidth": 0,
             "ticks": ""
            },
            "colorscale": [
             [
              0,
              "#0d0887"
             ],
             [
              0.1111111111111111,
              "#46039f"
             ],
             [
              0.2222222222222222,
              "#7201a8"
             ],
             [
              0.3333333333333333,
              "#9c179e"
             ],
             [
              0.4444444444444444,
              "#bd3786"
             ],
             [
              0.5555555555555556,
              "#d8576b"
             ],
             [
              0.6666666666666666,
              "#ed7953"
             ],
             [
              0.7777777777777778,
              "#fb9f3a"
             ],
             [
              0.8888888888888888,
              "#fdca26"
             ],
             [
              1,
              "#f0f921"
             ]
            ],
            "type": "histogram2dcontour"
           }
          ],
          "mesh3d": [
           {
            "colorbar": {
             "outlinewidth": 0,
             "ticks": ""
            },
            "type": "mesh3d"
           }
          ],
          "parcoords": [
           {
            "line": {
             "colorbar": {
              "outlinewidth": 0,
              "ticks": ""
             }
            },
            "type": "parcoords"
           }
          ],
          "pie": [
           {
            "automargin": true,
            "type": "pie"
           }
          ],
          "scatter": [
           {
            "fillpattern": {
             "fillmode": "overlay",
             "size": 10,
             "solidity": 0.2
            },
            "type": "scatter"
           }
          ],
          "scatter3d": [
           {
            "line": {
             "colorbar": {
              "outlinewidth": 0,
              "ticks": ""
             }
            },
            "marker": {
             "colorbar": {
              "outlinewidth": 0,
              "ticks": ""
             }
            },
            "type": "scatter3d"
           }
          ],
          "scattercarpet": [
           {
            "marker": {
             "colorbar": {
              "outlinewidth": 0,
              "ticks": ""
             }
            },
            "type": "scattercarpet"
           }
          ],
          "scattergeo": [
           {
            "marker": {
             "colorbar": {
              "outlinewidth": 0,
              "ticks": ""
             }
            },
            "type": "scattergeo"
           }
          ],
          "scattergl": [
           {
            "marker": {
             "colorbar": {
              "outlinewidth": 0,
              "ticks": ""
             }
            },
            "type": "scattergl"
           }
          ],
          "scattermapbox": [
           {
            "marker": {
             "colorbar": {
              "outlinewidth": 0,
              "ticks": ""
             }
            },
            "type": "scattermapbox"
           }
          ],
          "scatterpolar": [
           {
            "marker": {
             "colorbar": {
              "outlinewidth": 0,
              "ticks": ""
             }
            },
            "type": "scatterpolar"
           }
          ],
          "scatterpolargl": [
           {
            "marker": {
             "colorbar": {
              "outlinewidth": 0,
              "ticks": ""
             }
            },
            "type": "scatterpolargl"
           }
          ],
          "scatterternary": [
           {
            "marker": {
             "colorbar": {
              "outlinewidth": 0,
              "ticks": ""
             }
            },
            "type": "scatterternary"
           }
          ],
          "surface": [
           {
            "colorbar": {
             "outlinewidth": 0,
             "ticks": ""
            },
            "colorscale": [
             [
              0,
              "#0d0887"
             ],
             [
              0.1111111111111111,
              "#46039f"
             ],
             [
              0.2222222222222222,
              "#7201a8"
             ],
             [
              0.3333333333333333,
              "#9c179e"
             ],
             [
              0.4444444444444444,
              "#bd3786"
             ],
             [
              0.5555555555555556,
              "#d8576b"
             ],
             [
              0.6666666666666666,
              "#ed7953"
             ],
             [
              0.7777777777777778,
              "#fb9f3a"
             ],
             [
              0.8888888888888888,
              "#fdca26"
             ],
             [
              1,
              "#f0f921"
             ]
            ],
            "type": "surface"
           }
          ],
          "table": [
           {
            "cells": {
             "fill": {
              "color": "#EBF0F8"
             },
             "line": {
              "color": "white"
             }
            },
            "header": {
             "fill": {
              "color": "#C8D4E3"
             },
             "line": {
              "color": "white"
             }
            },
            "type": "table"
           }
          ]
         },
         "layout": {
          "annotationdefaults": {
           "arrowcolor": "#2a3f5f",
           "arrowhead": 0,
           "arrowwidth": 1
          },
          "autotypenumbers": "strict",
          "coloraxis": {
           "colorbar": {
            "outlinewidth": 0,
            "ticks": ""
           }
          },
          "colorscale": {
           "diverging": [
            [
             0,
             "#8e0152"
            ],
            [
             0.1,
             "#c51b7d"
            ],
            [
             0.2,
             "#de77ae"
            ],
            [
             0.3,
             "#f1b6da"
            ],
            [
             0.4,
             "#fde0ef"
            ],
            [
             0.5,
             "#f7f7f7"
            ],
            [
             0.6,
             "#e6f5d0"
            ],
            [
             0.7,
             "#b8e186"
            ],
            [
             0.8,
             "#7fbc41"
            ],
            [
             0.9,
             "#4d9221"
            ],
            [
             1,
             "#276419"
            ]
           ],
           "sequential": [
            [
             0,
             "#0d0887"
            ],
            [
             0.1111111111111111,
             "#46039f"
            ],
            [
             0.2222222222222222,
             "#7201a8"
            ],
            [
             0.3333333333333333,
             "#9c179e"
            ],
            [
             0.4444444444444444,
             "#bd3786"
            ],
            [
             0.5555555555555556,
             "#d8576b"
            ],
            [
             0.6666666666666666,
             "#ed7953"
            ],
            [
             0.7777777777777778,
             "#fb9f3a"
            ],
            [
             0.8888888888888888,
             "#fdca26"
            ],
            [
             1,
             "#f0f921"
            ]
           ],
           "sequentialminus": [
            [
             0,
             "#0d0887"
            ],
            [
             0.1111111111111111,
             "#46039f"
            ],
            [
             0.2222222222222222,
             "#7201a8"
            ],
            [
             0.3333333333333333,
             "#9c179e"
            ],
            [
             0.4444444444444444,
             "#bd3786"
            ],
            [
             0.5555555555555556,
             "#d8576b"
            ],
            [
             0.6666666666666666,
             "#ed7953"
            ],
            [
             0.7777777777777778,
             "#fb9f3a"
            ],
            [
             0.8888888888888888,
             "#fdca26"
            ],
            [
             1,
             "#f0f921"
            ]
           ]
          },
          "colorway": [
           "#636efa",
           "#EF553B",
           "#00cc96",
           "#ab63fa",
           "#FFA15A",
           "#19d3f3",
           "#FF6692",
           "#B6E880",
           "#FF97FF",
           "#FECB52"
          ],
          "font": {
           "color": "#2a3f5f"
          },
          "geo": {
           "bgcolor": "white",
           "lakecolor": "white",
           "landcolor": "#E5ECF6",
           "showlakes": true,
           "showland": true,
           "subunitcolor": "white"
          },
          "hoverlabel": {
           "align": "left"
          },
          "hovermode": "closest",
          "mapbox": {
           "style": "light"
          },
          "paper_bgcolor": "white",
          "plot_bgcolor": "#E5ECF6",
          "polar": {
           "angularaxis": {
            "gridcolor": "white",
            "linecolor": "white",
            "ticks": ""
           },
           "bgcolor": "#E5ECF6",
           "radialaxis": {
            "gridcolor": "white",
            "linecolor": "white",
            "ticks": ""
           }
          },
          "scene": {
           "xaxis": {
            "backgroundcolor": "#E5ECF6",
            "gridcolor": "white",
            "gridwidth": 2,
            "linecolor": "white",
            "showbackground": true,
            "ticks": "",
            "zerolinecolor": "white"
           },
           "yaxis": {
            "backgroundcolor": "#E5ECF6",
            "gridcolor": "white",
            "gridwidth": 2,
            "linecolor": "white",
            "showbackground": true,
            "ticks": "",
            "zerolinecolor": "white"
           },
           "zaxis": {
            "backgroundcolor": "#E5ECF6",
            "gridcolor": "white",
            "gridwidth": 2,
            "linecolor": "white",
            "showbackground": true,
            "ticks": "",
            "zerolinecolor": "white"
           }
          },
          "shapedefaults": {
           "line": {
            "color": "#2a3f5f"
           }
          },
          "ternary": {
           "aaxis": {
            "gridcolor": "white",
            "linecolor": "white",
            "ticks": ""
           },
           "baxis": {
            "gridcolor": "white",
            "linecolor": "white",
            "ticks": ""
           },
           "bgcolor": "#E5ECF6",
           "caxis": {
            "gridcolor": "white",
            "linecolor": "white",
            "ticks": ""
           }
          },
          "title": {
           "x": 0.05
          },
          "xaxis": {
           "automargin": true,
           "gridcolor": "white",
           "linecolor": "white",
           "ticks": "",
           "title": {
            "standoff": 15
           },
           "zerolinecolor": "white",
           "zerolinewidth": 2
          },
          "yaxis": {
           "automargin": true,
           "gridcolor": "white",
           "linecolor": "white",
           "ticks": "",
           "title": {
            "standoff": 15
           },
           "zerolinecolor": "white",
           "zerolinewidth": 2
          }
         }
        },
        "title": {
         "text": "Rangos de precio según estado de solicitud"
        },
        "xaxis": {
         "anchor": "y",
         "domain": [
          0,
          1
         ],
         "title": {
          "text": "Precio Total"
         }
        },
        "yaxis": {
         "anchor": "x",
         "domain": [
          0,
          1
         ],
         "title": {
          "text": "count"
         }
        }
       }
      }
     },
     "metadata": {},
     "output_type": "display_data"
    }
   ],
   "source": [
    "px.histogram(mus_max, x='estimacionPrecioTotal', \n",
    "          #  y = 'calculadora_horas_actuacion',\n",
    "             color='estado_solicitud',\n",
    "             title=\"Rangos de precio según estado de solicitud\", \n",
    "             labels={'estado_solicitud': 'Estado de solicitud', 'calculadora_horas_actuacion':' ', 'estimacionPrecioTotal': 'Precio Total'}\n",
    "             )"
   ]
  },
  {
   "attachments": {},
   "cell_type": "markdown",
   "metadata": {},
   "source": [
    "### ¿Qué formatos son los más solicitados? (solista, dúo, trío...)."
   ]
  },
  {
   "cell_type": "code",
   "execution_count": 173,
   "metadata": {},
   "outputs": [
    {
     "data": {
      "image/png": "[encoded data removed]",
      "text/plain": [
       "<Figure size 1000x600 with 1 Axes>"
      ]
     },
     "metadata": {},
     "output_type": "display_data"
    }
   ],
   "source": [
    "plt.figure(figsize=(10,6))\n",
    "ax =sns.histplot(mus_max, x = 'calculadora_formato_musico',hue= 'calculadora_formato_musico',legend=False)\n",
    "plt.xticks(rotation=60)\n",
    "custom_labels = ['Solista',' Dúo','Cuarteto','Trío', 'Banda batería', 'Banda batería NO']\n",
    "\n",
    "plt.xticks(range(len(custom_labels)), custom_labels)\n",
    "plt.xlabel(' ')\n",
    "plt.ylabel(' ')\n",
    "plt.title('Formatos más solicitados')\n",
    "# Bucle para poner numeros encima de las barras\n",
    "for p in ax.patches:\n",
    "    height = p.get_height()\n",
    "    if height > 0:  # Para borrar unos 0 que aparecían en la cepa de las barras.\n",
    "        ax.text(p.get_x() + p.get_width() / 2., height + 2, f'{int(height)}', ha=\"center\")\n",
    "\n",
    "\n",
    "plt.show()"
   ]
  },
  {
   "attachments": {},
   "cell_type": "markdown",
   "metadata": {},
   "source": [
    "### Rango de precios por tipo de formato"
   ]
  },
  {
   "cell_type": "code",
   "execution_count": 174,
   "metadata": {},
   "outputs": [
    {
     "data": {
      "image/png": "[encoded data removed]",
      "text/plain": [
       "<Figure size 640x480 with 1 Axes>"
      ]
     },
     "metadata": {},
     "output_type": "display_data"
    }
   ],
   "source": [
    "sns.boxplot(mus_max, x = 'estimacionPrecioTotal', y = 'calculadora_formato_musico')\n",
    "plt.yticks(range(len(custom_labels)), custom_labels)\n",
    "plt.xlabel('Precio Total')\n",
    "plt.ylabel(' ');"
   ]
  },
  {
   "cell_type": "code",
   "execution_count": 175,
   "metadata": {},
   "outputs": [
    {
     "data": {
      "application/vnd.plotly.v1+json": {
       "config": {
        "plotlyServerURL": "https://plot.ly"
       },
       "data": [
        {
         "alignmentgroup": "True",
         "hovertemplate": "calculadora_formato_musico=%{y}<br>estimacionPrecioTotal=%{x}<extra></extra>",
         "legendgroup": "Solista",
         "marker": {
          "color": "#636efa"
         },
         "name": "Solista",
         "notched": false,
         "offsetgroup": "Solista",
         "orientation": "h",
         "showlegend": true,
         "type": "box",
         "x": [
          84,
          120,
          120,
          120,
          120,
          141,
          144,
          144,
          168,
          180,
          180,
          180,
          180,
          180,
          180,
          180,
          180,
          180,
          180,
          180,
          180,
          180,
          180,
          180,
          180,
          180,
          180,
          180,
          180,
          180,
          180,
          180,
          180,
          180,
          180,
          180,
          180,
          180,
          180,
          180,
          180,
          180,
          180,
          180,
          180,
          180,
          180,
          180,
          180,
          180,
          180,
          180,
          180,
          180,
          180,
          180,
          180,
          180,
          180,
          180,
          180,
          180,
          180,
          180,
          180,
          180,
          180,
          180,
          180,
          192,
          192,
          208,
          216,
          216,
          216,
          240,
          240,
          240,
          240,
          240,
          240,
          240,
          240,
          240,
          240,
          240,
          240,
          240,
          240,
          240,
          240,
          240,
          240,
          240,
          240,
          240,
          240,
          240,
          240,
          249,
          249,
          276,
          282,
          288,
          300,
          300,
          300,
          300,
          300,
          300,
          300,
          300,
          306,
          306,
          312,
          330,
          342,
          348,
          351,
          360,
          360,
          360,
          360,
          360,
          360,
          360,
          360,
          360,
          360,
          372,
          402,
          402,
          420,
          420,
          420,
          420,
          420,
          420,
          480,
          480,
          480,
          480,
          549,
          552,
          600,
          720,
          840,
          840
         ],
         "x0": " ",
         "xaxis": "x",
         "y": [
          "Solista",
          "Solista",
          "Solista",
          "Solista",
          "Solista",
          "Solista",
          "Solista",
          "Solista",
          "Solista",
          "Solista",
          "Solista",
          "Solista",
          "Solista",
          "Solista",
          "Solista",
          "Solista",
          "Solista",
          "Solista",
          "Solista",
          "Solista",
          "Solista",
          "Solista",
          "Solista",
          "Solista",
          "Solista",
          "Solista",
          "Solista",
          "Solista",
          "Solista",
          "Solista",
          "Solista",
          "Solista",
          "Solista",
          "Solista",
          "Solista",
          "Solista",
          "Solista",
          "Solista",
          "Solista",
          "Solista",
          "Solista",
          "Solista",
          "Solista",
          "Solista",
          "Solista",
          "Solista",
          "Solista",
          "Solista",
          "Solista",
          "Solista",
          "Solista",
          "Solista",
          "Solista",
          "Solista",
          "Solista",
          "Solista",
          "Solista",
          "Solista",
          "Solista",
          "Solista",
          "Solista",
          "Solista",
          "Solista",
          "Solista",
          "Solista",
          "Solista",
          "Solista",
          "Solista",
          "Solista",
          "Solista",
          "Solista",
          "Solista",
          "Solista",
          "Solista",
          "Solista",
          "Solista",
          "Solista",
          "Solista",
          "Solista",
          "Solista",
          "Solista",
          "Solista",
          "Solista",
          "Solista",
          "Solista",
          "Solista",
          "Solista",
          "Solista",
          "Solista",
          "Solista",
          "Solista",
          "Solista",
          "Solista",
          "Solista",
          "Solista",
          "Solista",
          "Solista",
          "Solista",
          "Solista",
          "Solista",
          "Solista",
          "Solista",
          "Solista",
          "Solista",
          "Solista",
          "Solista",
          "Solista",
          "Solista",
          "Solista",
          "Solista",
          "Solista",
          "Solista",
          "Solista",
          "Solista",
          "Solista",
          "Solista",
          "Solista",
          "Solista",
          "Solista",
          "Solista",
          "Solista",
          "Solista",
          "Solista",
          "Solista",
          "Solista",
          "Solista",
          "Solista",
          "Solista",
          "Solista",
          "Solista",
          "Solista",
          "Solista",
          "Solista",
          "Solista",
          "Solista",
          "Solista",
          "Solista",
          "Solista",
          "Solista",
          "Solista",
          "Solista",
          "Solista",
          "Solista",
          "Solista",
          "Solista",
          "Solista",
          "Solista",
          "Solista"
         ],
         "y0": " ",
         "yaxis": "y"
        },
        {
         "alignmentgroup": "True",
         "hovertemplate": "calculadora_formato_musico=%{y}<br>estimacionPrecioTotal=%{x}<extra></extra>",
         "legendgroup": "Dúo",
         "marker": {
          "color": "#EF553B"
         },
         "name": "Dúo",
         "notched": false,
         "offsetgroup": "Dúo",
         "orientation": "h",
         "showlegend": true,
         "type": "box",
         "x": [
          120,
          180,
          180,
          180,
          216,
          240,
          240,
          240,
          240,
          240,
          240,
          240,
          240,
          240,
          240,
          240,
          240,
          240,
          240,
          240,
          240,
          264,
          264,
          264,
          288,
          288,
          300,
          324,
          334,
          336,
          336,
          336,
          336,
          346,
          351,
          354,
          360,
          360,
          360,
          360,
          360,
          360,
          360,
          362,
          396,
          396,
          408,
          420,
          420,
          420,
          420,
          420,
          420,
          420,
          429,
          456,
          456,
          480,
          480,
          480,
          480,
          480,
          480,
          480,
          480,
          480,
          516,
          516,
          540,
          540,
          540,
          540,
          552,
          576,
          585,
          585,
          600,
          600,
          632,
          636,
          636,
          645,
          660,
          660,
          690,
          696,
          729,
          768,
          780,
          780,
          804,
          840,
          840,
          849,
          897,
          909,
          936,
          948,
          972,
          1020
         ],
         "x0": " ",
         "xaxis": "x",
         "y": [
          "Dúo",
          "Dúo",
          "Dúo",
          "Dúo",
          "Dúo",
          "Dúo",
          "Dúo",
          "Dúo",
          "Dúo",
          "Dúo",
          "Dúo",
          "Dúo",
          "Dúo",
          "Dúo",
          "Dúo",
          "Dúo",
          "Dúo",
          "Dúo",
          "Dúo",
          "Dúo",
          "Dúo",
          "Dúo",
          "Dúo",
          "Dúo",
          "Dúo",
          "Dúo",
          "Dúo",
          "Dúo",
          "Dúo",
          "Dúo",
          "Dúo",
          "Dúo",
          "Dúo",
          "Dúo",
          "Dúo",
          "Dúo",
          "Dúo",
          "Dúo",
          "Dúo",
          "Dúo",
          "Dúo",
          "Dúo",
          "Dúo",
          "Dúo",
          "Dúo",
          "Dúo",
          "Dúo",
          "Dúo",
          "Dúo",
          "Dúo",
          "Dúo",
          "Dúo",
          "Dúo",
          "Dúo",
          "Dúo",
          "Dúo",
          "Dúo",
          "Dúo",
          "Dúo",
          "Dúo",
          "Dúo",
          "Dúo",
          "Dúo",
          "Dúo",
          "Dúo",
          "Dúo",
          "Dúo",
          "Dúo",
          "Dúo",
          "Dúo",
          "Dúo",
          "Dúo",
          "Dúo",
          "Dúo",
          "Dúo",
          "Dúo",
          "Dúo",
          "Dúo",
          "Dúo",
          "Dúo",
          "Dúo",
          "Dúo",
          "Dúo",
          "Dúo",
          "Dúo",
          "Dúo",
          "Dúo",
          "Dúo",
          "Dúo",
          "Dúo",
          "Dúo",
          "Dúo",
          "Dúo",
          "Dúo",
          "Dúo",
          "Dúo",
          "Dúo",
          "Dúo",
          "Dúo",
          "Dúo"
         ],
         "y0": " ",
         "yaxis": "y"
        },
        {
         "alignmentgroup": "True",
         "hovertemplate": "calculadora_formato_musico=%{y}<br>estimacionPrecioTotal=%{x}<extra></extra>",
         "legendgroup": "Cuarteto",
         "marker": {
          "color": "#00cc96"
         },
         "name": "Cuarteto",
         "notched": false,
         "offsetgroup": "Cuarteto",
         "orientation": "h",
         "showlegend": true,
         "type": "box",
         "x": [
          312,
          480,
          600,
          751,
          756,
          936,
          986
         ],
         "x0": " ",
         "xaxis": "x",
         "y": [
          "Cuarteto",
          "Cuarteto",
          "Cuarteto",
          "Cuarteto",
          "Cuarteto",
          "Cuarteto",
          "Cuarteto"
         ],
         "y0": " ",
         "yaxis": "y"
        },
        {
         "alignmentgroup": "True",
         "hovertemplate": "calculadora_formato_musico=%{y}<br>estimacionPrecioTotal=%{x}<extra></extra>",
         "legendgroup": "Trío",
         "marker": {
          "color": "#ab63fa"
         },
         "name": "Trío",
         "notched": false,
         "offsetgroup": "Trío",
         "orientation": "h",
         "showlegend": true,
         "type": "box",
         "x": [
          346,
          346,
          346,
          360,
          420,
          420,
          420,
          466,
          480,
          504,
          507,
          540,
          540,
          550,
          576,
          583,
          600,
          600,
          600,
          612,
          648,
          660,
          660,
          660,
          720,
          720,
          720,
          756,
          780,
          780,
          804,
          849,
          900,
          936,
          2280
         ],
         "x0": " ",
         "xaxis": "x",
         "y": [
          "Trío",
          "Trío",
          "Trío",
          "Trío",
          "Trío",
          "Trío",
          "Trío",
          "Trío",
          "Trío",
          "Trío",
          "Trío",
          "Trío",
          "Trío",
          "Trío",
          "Trío",
          "Trío",
          "Trío",
          "Trío",
          "Trío",
          "Trío",
          "Trío",
          "Trío",
          "Trío",
          "Trío",
          "Trío",
          "Trío",
          "Trío",
          "Trío",
          "Trío",
          "Trío",
          "Trío",
          "Trío",
          "Trío",
          "Trío",
          "Trío"
         ],
         "y0": " ",
         "yaxis": "y"
        },
        {
         "alignmentgroup": "True",
         "hovertemplate": "calculadora_formato_musico=%{y}<br>estimacionPrecioTotal=%{x}<extra></extra>",
         "legendgroup": "Banda con batería",
         "marker": {
          "color": "#FFA15A"
         },
         "name": "Banda con batería",
         "notched": false,
         "offsetgroup": "Banda con batería",
         "orientation": "h",
         "showlegend": true,
         "type": "box",
         "x": [
          360,
          504,
          504,
          540,
          540,
          540,
          540,
          540,
          600,
          600,
          600,
          600,
          600,
          600,
          600,
          648,
          678,
          720,
          720,
          756,
          780,
          780,
          840,
          840,
          840,
          840,
          900,
          960,
          960,
          960,
          960,
          960,
          1056,
          1080,
          1080,
          1176,
          1176,
          1188,
          1200,
          1215,
          1320,
          1320,
          1320,
          1416,
          1428,
          1500,
          1500,
          1554,
          1656,
          1776,
          1800,
          1800,
          1800,
          1800,
          1848,
          1875,
          1980,
          2160,
          2280
         ],
         "x0": " ",
         "xaxis": "x",
         "y": [
          "Banda con batería",
          "Banda con batería",
          "Banda con batería",
          "Banda con batería",
          "Banda con batería",
          "Banda con batería",
          "Banda con batería",
          "Banda con batería",
          "Banda con batería",
          "Banda con batería",
          "Banda con batería",
          "Banda con batería",
          "Banda con batería",
          "Banda con batería",
          "Banda con batería",
          "Banda con batería",
          "Banda con batería",
          "Banda con batería",
          "Banda con batería",
          "Banda con batería",
          "Banda con batería",
          "Banda con batería",
          "Banda con batería",
          "Banda con batería",
          "Banda con batería",
          "Banda con batería",
          "Banda con batería",
          "Banda con batería",
          "Banda con batería",
          "Banda con batería",
          "Banda con batería",
          "Banda con batería",
          "Banda con batería",
          "Banda con batería",
          "Banda con batería",
          "Banda con batería",
          "Banda con batería",
          "Banda con batería",
          "Banda con batería",
          "Banda con batería",
          "Banda con batería",
          "Banda con batería",
          "Banda con batería",
          "Banda con batería",
          "Banda con batería",
          "Banda con batería",
          "Banda con batería",
          "Banda con batería",
          "Banda con batería",
          "Banda con batería",
          "Banda con batería",
          "Banda con batería",
          "Banda con batería",
          "Banda con batería",
          "Banda con batería",
          "Banda con batería",
          "Banda con batería",
          "Banda con batería",
          "Banda con batería"
         ],
         "y0": " ",
         "yaxis": "y"
        },
        {
         "alignmentgroup": "True",
         "hovertemplate": "calculadora_formato_musico=%{y}<br>estimacionPrecioTotal=%{x}<extra></extra>",
         "legendgroup": "Banda/Conjunto sin batería",
         "marker": {
          "color": "#19d3f3"
         },
         "name": "Banda/Conjunto sin batería",
         "notched": false,
         "offsetgroup": "Banda/Conjunto sin batería",
         "orientation": "h",
         "showlegend": true,
         "type": "box",
         "x": [
          480,
          912,
          1680
         ],
         "x0": " ",
         "xaxis": "x",
         "y": [
          "Banda/Conjunto sin batería",
          "Banda/Conjunto sin batería",
          "Banda/Conjunto sin batería"
         ],
         "y0": " ",
         "yaxis": "y"
        }
       ],
       "layout": {
        "boxmode": "overlay",
        "legend": {
         "title": {
          "text": "calculadora_formato_musico"
         },
         "tracegroupgap": 0
        },
        "margin": {
         "t": 60
        },
        "showlegend": false,
        "template": {
         "data": {
          "bar": [
           {
            "error_x": {
             "color": "#2a3f5f"
            },
            "error_y": {
             "color": "#2a3f5f"
            },
            "marker": {
             "line": {
              "color": "#E5ECF6",
              "width": 0.5
             },
             "pattern": {
              "fillmode": "overlay",
              "size": 10,
              "solidity": 0.2
             }
            },
            "type": "bar"
           }
          ],
          "barpolar": [
           {
            "marker": {
             "line": {
              "color": "#E5ECF6",
              "width": 0.5
             },
             "pattern": {
              "fillmode": "overlay",
              "size": 10,
              "solidity": 0.2
             }
            },
            "type": "barpolar"
           }
          ],
          "carpet": [
           {
            "aaxis": {
             "endlinecolor": "#2a3f5f",
             "gridcolor": "white",
             "linecolor": "white",
             "minorgridcolor": "white",
             "startlinecolor": "#2a3f5f"
            },
            "baxis": {
             "endlinecolor": "#2a3f5f",
             "gridcolor": "white",
             "linecolor": "white",
             "minorgridcolor": "white",
             "startlinecolor": "#2a3f5f"
            },
            "type": "carpet"
           }
          ],
          "choropleth": [
           {
            "colorbar": {
             "outlinewidth": 0,
             "ticks": ""
            },
            "type": "choropleth"
           }
          ],
          "contour": [
           {
            "colorbar": {
             "outlinewidth": 0,
             "ticks": ""
            },
            "colorscale": [
             [
              0,
              "#0d0887"
             ],
             [
              0.1111111111111111,
              "#46039f"
             ],
             [
              0.2222222222222222,
              "#7201a8"
             ],
             [
              0.3333333333333333,
              "#9c179e"
             ],
             [
              0.4444444444444444,
              "#bd3786"
             ],
             [
              0.5555555555555556,
              "#d8576b"
             ],
             [
              0.6666666666666666,
              "#ed7953"
             ],
             [
              0.7777777777777778,
              "#fb9f3a"
             ],
             [
              0.8888888888888888,
              "#fdca26"
             ],
             [
              1,
              "#f0f921"
             ]
            ],
            "type": "contour"
           }
          ],
          "contourcarpet": [
           {
            "colorbar": {
             "outlinewidth": 0,
             "ticks": ""
            },
            "type": "contourcarpet"
           }
          ],
          "heatmap": [
           {
            "colorbar": {
             "outlinewidth": 0,
             "ticks": ""
            },
            "colorscale": [
             [
              0,
              "#0d0887"
             ],
             [
              0.1111111111111111,
              "#46039f"
             ],
             [
              0.2222222222222222,
              "#7201a8"
             ],
             [
              0.3333333333333333,
              "#9c179e"
             ],
             [
              0.4444444444444444,
              "#bd3786"
             ],
             [
              0.5555555555555556,
              "#d8576b"
             ],
             [
              0.6666666666666666,
              "#ed7953"
             ],
             [
              0.7777777777777778,
              "#fb9f3a"
             ],
             [
              0.8888888888888888,
              "#fdca26"
             ],
             [
              1,
              "#f0f921"
             ]
            ],
            "type": "heatmap"
           }
          ],
          "heatmapgl": [
           {
            "colorbar": {
             "outlinewidth": 0,
             "ticks": ""
            },
            "colorscale": [
             [
              0,
              "#0d0887"
             ],
             [
              0.1111111111111111,
              "#46039f"
             ],
             [
              0.2222222222222222,
              "#7201a8"
             ],
             [
              0.3333333333333333,
              "#9c179e"
             ],
             [
              0.4444444444444444,
              "#bd3786"
             ],
             [
              0.5555555555555556,
              "#d8576b"
             ],
             [
              0.6666666666666666,
              "#ed7953"
             ],
             [
              0.7777777777777778,
              "#fb9f3a"
             ],
             [
              0.8888888888888888,
              "#fdca26"
             ],
             [
              1,
              "#f0f921"
             ]
            ],
            "type": "heatmapgl"
           }
          ],
          "histogram": [
           {
            "marker": {
             "pattern": {
              "fillmode": "overlay",
              "size": 10,
              "solidity": 0.2
             }
            },
            "type": "histogram"
           }
          ],
          "histogram2d": [
           {
            "colorbar": {
             "outlinewidth": 0,
             "ticks": ""
            },
            "colorscale": [
             [
              0,
              "#0d0887"
             ],
             [
              0.1111111111111111,
              "#46039f"
             ],
             [
              0.2222222222222222,
              "#7201a8"
             ],
             [
              0.3333333333333333,
              "#9c179e"
             ],
             [
              0.4444444444444444,
              "#bd3786"
             ],
             [
              0.5555555555555556,
              "#d8576b"
             ],
             [
              0.6666666666666666,
              "#ed7953"
             ],
             [
              0.7777777777777778,
              "#fb9f3a"
             ],
             [
              0.8888888888888888,
              "#fdca26"
             ],
             [
              1,
              "#f0f921"
             ]
            ],
            "type": "histogram2d"
           }
          ],
          "histogram2dcontour": [
           {
            "colorbar": {
             "outlinewidth": 0,
             "ticks": ""
            },
            "colorscale": [
             [
              0,
              "#0d0887"
             ],
             [
              0.1111111111111111,
              "#46039f"
             ],
             [
              0.2222222222222222,
              "#7201a8"
             ],
             [
              0.3333333333333333,
              "#9c179e"
             ],
             [
              0.4444444444444444,
              "#bd3786"
             ],
             [
              0.5555555555555556,
              "#d8576b"
             ],
             [
              0.6666666666666666,
              "#ed7953"
             ],
             [
              0.7777777777777778,
              "#fb9f3a"
             ],
             [
              0.8888888888888888,
              "#fdca26"
             ],
             [
              1,
              "#f0f921"
             ]
            ],
            "type": "histogram2dcontour"
           }
          ],
          "mesh3d": [
           {
            "colorbar": {
             "outlinewidth": 0,
             "ticks": ""
            },
            "type": "mesh3d"
           }
          ],
          "parcoords": [
           {
            "line": {
             "colorbar": {
              "outlinewidth": 0,
              "ticks": ""
             }
            },
            "type": "parcoords"
           }
          ],
          "pie": [
           {
            "automargin": true,
            "type": "pie"
           }
          ],
          "scatter": [
           {
            "fillpattern": {
             "fillmode": "overlay",
             "size": 10,
             "solidity": 0.2
            },
            "type": "scatter"
           }
          ],
          "scatter3d": [
           {
            "line": {
             "colorbar": {
              "outlinewidth": 0,
              "ticks": ""
             }
            },
            "marker": {
             "colorbar": {
              "outlinewidth": 0,
              "ticks": ""
             }
            },
            "type": "scatter3d"
           }
          ],
          "scattercarpet": [
           {
            "marker": {
             "colorbar": {
              "outlinewidth": 0,
              "ticks": ""
             }
            },
            "type": "scattercarpet"
           }
          ],
          "scattergeo": [
           {
            "marker": {
             "colorbar": {
              "outlinewidth": 0,
              "ticks": ""
             }
            },
            "type": "scattergeo"
           }
          ],
          "scattergl": [
           {
            "marker": {
             "colorbar": {
              "outlinewidth": 0,
              "ticks": ""
             }
            },
            "type": "scattergl"
           }
          ],
          "scattermapbox": [
           {
            "marker": {
             "colorbar": {
              "outlinewidth": 0,
              "ticks": ""
             }
            },
            "type": "scattermapbox"
           }
          ],
          "scatterpolar": [
           {
            "marker": {
             "colorbar": {
              "outlinewidth": 0,
              "ticks": ""
             }
            },
            "type": "scatterpolar"
           }
          ],
          "scatterpolargl": [
           {
            "marker": {
             "colorbar": {
              "outlinewidth": 0,
              "ticks": ""
             }
            },
            "type": "scatterpolargl"
           }
          ],
          "scatterternary": [
           {
            "marker": {
             "colorbar": {
              "outlinewidth": 0,
              "ticks": ""
             }
            },
            "type": "scatterternary"
           }
          ],
          "surface": [
           {
            "colorbar": {
             "outlinewidth": 0,
             "ticks": ""
            },
            "colorscale": [
             [
              0,
              "#0d0887"
             ],
             [
              0.1111111111111111,
              "#46039f"
             ],
             [
              0.2222222222222222,
              "#7201a8"
             ],
             [
              0.3333333333333333,
              "#9c179e"
             ],
             [
              0.4444444444444444,
              "#bd3786"
             ],
             [
              0.5555555555555556,
              "#d8576b"
             ],
             [
              0.6666666666666666,
              "#ed7953"
             ],
             [
              0.7777777777777778,
              "#fb9f3a"
             ],
             [
              0.8888888888888888,
              "#fdca26"
             ],
             [
              1,
              "#f0f921"
             ]
            ],
            "type": "surface"
           }
          ],
          "table": [
           {
            "cells": {
             "fill": {
              "color": "#EBF0F8"
             },
             "line": {
              "color": "white"
             }
            },
            "header": {
             "fill": {
              "color": "#C8D4E3"
             },
             "line": {
              "color": "white"
             }
            },
            "type": "table"
           }
          ]
         },
         "layout": {
          "annotationdefaults": {
           "arrowcolor": "#2a3f5f",
           "arrowhead": 0,
           "arrowwidth": 1
          },
          "autotypenumbers": "strict",
          "coloraxis": {
           "colorbar": {
            "outlinewidth": 0,
            "ticks": ""
           }
          },
          "colorscale": {
           "diverging": [
            [
             0,
             "#8e0152"
            ],
            [
             0.1,
             "#c51b7d"
            ],
            [
             0.2,
             "#de77ae"
            ],
            [
             0.3,
             "#f1b6da"
            ],
            [
             0.4,
             "#fde0ef"
            ],
            [
             0.5,
             "#f7f7f7"
            ],
            [
             0.6,
             "#e6f5d0"
            ],
            [
             0.7,
             "#b8e186"
            ],
            [
             0.8,
             "#7fbc41"
            ],
            [
             0.9,
             "#4d9221"
            ],
            [
             1,
             "#276419"
            ]
           ],
           "sequential": [
            [
             0,
             "#0d0887"
            ],
            [
             0.1111111111111111,
             "#46039f"
            ],
            [
             0.2222222222222222,
             "#7201a8"
            ],
            [
             0.3333333333333333,
             "#9c179e"
            ],
            [
             0.4444444444444444,
             "#bd3786"
            ],
            [
             0.5555555555555556,
             "#d8576b"
            ],
            [
             0.6666666666666666,
             "#ed7953"
            ],
            [
             0.7777777777777778,
             "#fb9f3a"
            ],
            [
             0.8888888888888888,
             "#fdca26"
            ],
            [
             1,
             "#f0f921"
            ]
           ],
           "sequentialminus": [
            [
             0,
             "#0d0887"
            ],
            [
             0.1111111111111111,
             "#46039f"
            ],
            [
             0.2222222222222222,
             "#7201a8"
            ],
            [
             0.3333333333333333,
             "#9c179e"
            ],
            [
             0.4444444444444444,
             "#bd3786"
            ],
            [
             0.5555555555555556,
             "#d8576b"
            ],
            [
             0.6666666666666666,
             "#ed7953"
            ],
            [
             0.7777777777777778,
             "#fb9f3a"
            ],
            [
             0.8888888888888888,
             "#fdca26"
            ],
            [
             1,
             "#f0f921"
            ]
           ]
          },
          "colorway": [
           "#636efa",
           "#EF553B",
           "#00cc96",
           "#ab63fa",
           "#FFA15A",
           "#19d3f3",
           "#FF6692",
           "#B6E880",
           "#FF97FF",
           "#FECB52"
          ],
          "font": {
           "color": "#2a3f5f"
          },
          "geo": {
           "bgcolor": "white",
           "lakecolor": "white",
           "landcolor": "#E5ECF6",
           "showlakes": true,
           "showland": true,
           "subunitcolor": "white"
          },
          "hoverlabel": {
           "align": "left"
          },
          "hovermode": "closest",
          "mapbox": {
           "style": "light"
          },
          "paper_bgcolor": "white",
          "plot_bgcolor": "#E5ECF6",
          "polar": {
           "angularaxis": {
            "gridcolor": "white",
            "linecolor": "white",
            "ticks": ""
           },
           "bgcolor": "#E5ECF6",
           "radialaxis": {
            "gridcolor": "white",
            "linecolor": "white",
            "ticks": ""
           }
          },
          "scene": {
           "xaxis": {
            "backgroundcolor": "#E5ECF6",
            "gridcolor": "white",
            "gridwidth": 2,
            "linecolor": "white",
            "showbackground": true,
            "ticks": "",
            "zerolinecolor": "white"
           },
           "yaxis": {
            "backgroundcolor": "#E5ECF6",
            "gridcolor": "white",
            "gridwidth": 2,
            "linecolor": "white",
            "showbackground": true,
            "ticks": "",
            "zerolinecolor": "white"
           },
           "zaxis": {
            "backgroundcolor": "#E5ECF6",
            "gridcolor": "white",
            "gridwidth": 2,
            "linecolor": "white",
            "showbackground": true,
            "ticks": "",
            "zerolinecolor": "white"
           }
          },
          "shapedefaults": {
           "line": {
            "color": "#2a3f5f"
           }
          },
          "ternary": {
           "aaxis": {
            "gridcolor": "white",
            "linecolor": "white",
            "ticks": ""
           },
           "baxis": {
            "gridcolor": "white",
            "linecolor": "white",
            "ticks": ""
           },
           "bgcolor": "#E5ECF6",
           "caxis": {
            "gridcolor": "white",
            "linecolor": "white",
            "ticks": ""
           }
          },
          "title": {
           "x": 0.05
          },
          "xaxis": {
           "automargin": true,
           "gridcolor": "white",
           "linecolor": "white",
           "ticks": "",
           "title": {
            "standoff": 15
           },
           "zerolinecolor": "white",
           "zerolinewidth": 2
          },
          "yaxis": {
           "automargin": true,
           "gridcolor": "white",
           "linecolor": "white",
           "ticks": "",
           "title": {
            "standoff": 15
           },
           "zerolinecolor": "white",
           "zerolinewidth": 2
          }
         }
        },
        "title": {
         "text": "Precio total por formato de banda"
        },
        "xaxis": {
         "anchor": "y",
         "domain": [
          0,
          1
         ],
         "title": {
          "text": "Precio total"
         }
        },
        "yaxis": {
         "anchor": "x",
         "categoryarray": [
          "Banda/Conjunto sin batería",
          "Banda con batería",
          "Trío",
          "Cuarteto",
          "Dúo",
          "Solista"
         ],
         "categoryorder": "array",
         "domain": [
          0,
          1
         ],
         "title": {
          "text": " "
         }
        }
       }
      }
     },
     "metadata": {},
     "output_type": "display_data"
    },
    {
     "name": "stdout",
     "output_type": "stream",
     "text": [
      "[\"El rango de precios solicitados de 'Banda con batería' está entre 624.0 y 1422.0.\", \"El rango de precios solicitados de 'Banda/Conjunto sin batería' está entre 696.0 y 1296.0.\", \"El rango de precios solicitados de 'Cuarteto' está entre 540.0 y 846.0.\", \"El rango de precios solicitados de 'Dúo' está entre 288.0 y 585.0.\", \"El rango de precios solicitados de 'Solista' está entre 180.0 y 300.0.\", \"El rango de precios solicitados de 'Trío' está entre 492.0 y 720.0.\"]\n"
     ]
    }
   ],
   "source": [
    "fig = px.box(mus_max, x='estimacionPrecioTotal', y='calculadora_formato_musico',\n",
    "             color='calculadora_formato_musico',\n",
    "             boxmode='overlay')\n",
    "\n",
    "fig.update_layout(\n",
    "    title=\"Precio total por formato de banda\",  \n",
    "    xaxis_title=\"Precio total\", \n",
    "    yaxis_title=\" \",  \n",
    "    showlegend=False \n",
    ")\n",
    "\n",
    "# Percentiles, mediana, y media por cada formato de banda\n",
    "grouped_data = mus_max.groupby('calculadora_formato_musico')['estimacionPrecioTotal']\n",
    "annotations = []\n",
    "for name, group in grouped_data:\n",
    "    q1 = group.quantile(0.25)\n",
    "    q3 = group.quantile(0.75)\n",
    "    text = f\"El rango de precios solicitados de '{name}' está entre {q1} y {q3}.\"\n",
    "    annotations.append(text)\n",
    "fig.show()\n",
    "print(annotations)"
   ]
  },
  {
   "attachments": {},
   "cell_type": "markdown",
   "metadata": {},
   "source": [
    "## Análisis para DJ's"
   ]
  },
  {
   "cell_type": "code",
   "execution_count": 176,
   "metadata": {},
   "outputs": [
    {
     "data": {
      "text/html": [
       "<div>\n",
       "<style scoped>\n",
       "    .dataframe tbody tr th:only-of-type {\n",
       "        vertical-align: middle;\n",
       "    }\n",
       "\n",
       "    .dataframe tbody tr th {\n",
       "        vertical-align: top;\n",
       "    }\n",
       "\n",
       "    .dataframe thead th {\n",
       "        text-align: right;\n",
       "    }\n",
       "</style>\n",
       "<table border=\"1\" class=\"dataframe\">\n",
       "  <thead>\n",
       "    <tr style=\"text-align: right;\">\n",
       "      <th></th>\n",
       "      <th>calculadora_musico_tipo</th>\n",
       "      <th>calculadora_provincia_evento</th>\n",
       "      <th>estimacionPrecioTotal</th>\n",
       "      <th>calculadora_numero_invitados</th>\n",
       "      <th>calculadora_espacio_evento</th>\n",
       "      <th>calculadora_horas_actuacion</th>\n",
       "      <th>calculadora_formato_musico</th>\n",
       "      <th>estado_solicitud</th>\n",
       "    </tr>\n",
       "  </thead>\n",
       "  <tbody>\n",
       "    <tr>\n",
       "      <th>60</th>\n",
       "      <td>DJ</td>\n",
       "      <td>Valencia</td>\n",
       "      <td>3000.0</td>\n",
       "      <td>50.0</td>\n",
       "      <td>aire</td>\n",
       "      <td>3.0</td>\n",
       "      <td>NaN</td>\n",
       "      <td>presupuesto_calculado</td>\n",
       "    </tr>\n",
       "    <tr>\n",
       "      <th>4</th>\n",
       "      <td>DJ</td>\n",
       "      <td>Teruel</td>\n",
       "      <td>1200.0</td>\n",
       "      <td>100.0</td>\n",
       "      <td>dentro</td>\n",
       "      <td>16.0</td>\n",
       "      <td>NaN</td>\n",
       "      <td>NaN</td>\n",
       "    </tr>\n",
       "    <tr>\n",
       "      <th>3</th>\n",
       "      <td>DJ</td>\n",
       "      <td>Vizcaya</td>\n",
       "      <td>942.0</td>\n",
       "      <td>1.0</td>\n",
       "      <td>aire</td>\n",
       "      <td>4.0</td>\n",
       "      <td>NaN</td>\n",
       "      <td>NaN</td>\n",
       "    </tr>\n",
       "    <tr>\n",
       "      <th>20</th>\n",
       "      <td>DJ</td>\n",
       "      <td>Almería</td>\n",
       "      <td>720.0</td>\n",
       "      <td>150.0</td>\n",
       "      <td>aire</td>\n",
       "      <td>5.0</td>\n",
       "      <td>NaN</td>\n",
       "      <td>NaN</td>\n",
       "    </tr>\n",
       "    <tr>\n",
       "      <th>43</th>\n",
       "      <td>DJ</td>\n",
       "      <td>Valencia</td>\n",
       "      <td>600.0</td>\n",
       "      <td>50.0</td>\n",
       "      <td>aire</td>\n",
       "      <td>6.0</td>\n",
       "      <td>NaN</td>\n",
       "      <td>presupuesto_calculado</td>\n",
       "    </tr>\n",
       "    <tr>\n",
       "      <th>56</th>\n",
       "      <td>DJ</td>\n",
       "      <td>Orense</td>\n",
       "      <td>600.0</td>\n",
       "      <td>100.0</td>\n",
       "      <td>aire</td>\n",
       "      <td>4.0</td>\n",
       "      <td>NaN</td>\n",
       "      <td>amedias</td>\n",
       "    </tr>\n",
       "    <tr>\n",
       "      <th>55</th>\n",
       "      <td>DJ</td>\n",
       "      <td>Madrid</td>\n",
       "      <td>600.0</td>\n",
       "      <td>200.0</td>\n",
       "      <td>aire</td>\n",
       "      <td>4.0</td>\n",
       "      <td>NaN</td>\n",
       "      <td>presupuesto_calculado</td>\n",
       "    </tr>\n",
       "    <tr>\n",
       "      <th>11</th>\n",
       "      <td>DJ</td>\n",
       "      <td>Sevilla</td>\n",
       "      <td>540.0</td>\n",
       "      <td>100.0</td>\n",
       "      <td>aire</td>\n",
       "      <td>3.0</td>\n",
       "      <td>NaN</td>\n",
       "      <td>NaN</td>\n",
       "    </tr>\n",
       "    <tr>\n",
       "      <th>5</th>\n",
       "      <td>DJ</td>\n",
       "      <td>Zaragoza</td>\n",
       "      <td>510.0</td>\n",
       "      <td>100.0</td>\n",
       "      <td>aire</td>\n",
       "      <td>4.0</td>\n",
       "      <td>NaN</td>\n",
       "      <td>NaN</td>\n",
       "    </tr>\n",
       "    <tr>\n",
       "      <th>22</th>\n",
       "      <td>DJ</td>\n",
       "      <td>Almería</td>\n",
       "      <td>480.0</td>\n",
       "      <td>50.0</td>\n",
       "      <td>aire</td>\n",
       "      <td>3.0</td>\n",
       "      <td>NaN</td>\n",
       "      <td>presupuesto_calculado</td>\n",
       "    </tr>\n",
       "  </tbody>\n",
       "</table>\n",
       "</div>"
      ],
      "text/plain": [
       "   calculadora_musico_tipo calculadora_provincia_evento  \\\n",
       "60                      DJ                     Valencia   \n",
       "4                       DJ                       Teruel   \n",
       "3                       DJ                      Vizcaya   \n",
       "20                      DJ                      Almería   \n",
       "43                      DJ                     Valencia   \n",
       "56                      DJ                       Orense   \n",
       "55                      DJ                       Madrid   \n",
       "11                      DJ                      Sevilla   \n",
       "5                       DJ                     Zaragoza   \n",
       "22                      DJ                      Almería   \n",
       "\n",
       "    estimacionPrecioTotal  calculadora_numero_invitados  \\\n",
       "60                 3000.0                          50.0   \n",
       "4                  1200.0                         100.0   \n",
       "3                   942.0                           1.0   \n",
       "20                  720.0                         150.0   \n",
       "43                  600.0                          50.0   \n",
       "56                  600.0                         100.0   \n",
       "55                  600.0                         200.0   \n",
       "11                  540.0                         100.0   \n",
       "5                   510.0                         100.0   \n",
       "22                  480.0                          50.0   \n",
       "\n",
       "   calculadora_espacio_evento  calculadora_horas_actuacion  \\\n",
       "60                       aire                          3.0   \n",
       "4                      dentro                         16.0   \n",
       "3                        aire                          4.0   \n",
       "20                       aire                          5.0   \n",
       "43                       aire                          6.0   \n",
       "56                       aire                          4.0   \n",
       "55                       aire                          4.0   \n",
       "11                       aire                          3.0   \n",
       "5                        aire                          4.0   \n",
       "22                       aire                          3.0   \n",
       "\n",
       "   calculadora_formato_musico       estado_solicitud  \n",
       "60                        NaN  presupuesto_calculado  \n",
       "4                         NaN                    NaN  \n",
       "3                         NaN                    NaN  \n",
       "20                        NaN                    NaN  \n",
       "43                        NaN  presupuesto_calculado  \n",
       "56                        NaN                amedias  \n",
       "55                        NaN  presupuesto_calculado  \n",
       "11                        NaN                    NaN  \n",
       "5                         NaN                    NaN  \n",
       "22                        NaN  presupuesto_calculado  "
      ]
     },
     "execution_count": 176,
     "metadata": {},
     "output_type": "execute_result"
    }
   ],
   "source": [
    "dj_max = dj.sort_values(by = 'estimacionPrecioTotal',ascending=False)\n",
    "dj_max.head(10)"
   ]
  },
  {
   "cell_type": "code",
   "execution_count": 177,
   "metadata": {},
   "outputs": [
    {
     "data": {
      "text/html": [
       "<div>\n",
       "<style scoped>\n",
       "    .dataframe tbody tr th:only-of-type {\n",
       "        vertical-align: middle;\n",
       "    }\n",
       "\n",
       "    .dataframe tbody tr th {\n",
       "        vertical-align: top;\n",
       "    }\n",
       "\n",
       "    .dataframe thead th {\n",
       "        text-align: right;\n",
       "    }\n",
       "</style>\n",
       "<table border=\"1\" class=\"dataframe\">\n",
       "  <thead>\n",
       "    <tr style=\"text-align: right;\">\n",
       "      <th></th>\n",
       "      <th>estimacionPrecioTotal</th>\n",
       "      <th>calculadora_numero_invitados</th>\n",
       "      <th>calculadora_horas_actuacion</th>\n",
       "    </tr>\n",
       "  </thead>\n",
       "  <tbody>\n",
       "    <tr>\n",
       "      <th>count</th>\n",
       "      <td>59.000000</td>\n",
       "      <td>60.000000</td>\n",
       "      <td>60.000000</td>\n",
       "    </tr>\n",
       "    <tr>\n",
       "      <th>mean</th>\n",
       "      <td>338.389831</td>\n",
       "      <td>48.800000</td>\n",
       "      <td>2.950000</td>\n",
       "    </tr>\n",
       "    <tr>\n",
       "      <th>std</th>\n",
       "      <td>412.933326</td>\n",
       "      <td>45.477057</td>\n",
       "      <td>2.150483</td>\n",
       "    </tr>\n",
       "    <tr>\n",
       "      <th>min</th>\n",
       "      <td>60.000000</td>\n",
       "      <td>1.000000</td>\n",
       "      <td>1.000000</td>\n",
       "    </tr>\n",
       "    <tr>\n",
       "      <th>25%</th>\n",
       "      <td>174.000000</td>\n",
       "      <td>20.000000</td>\n",
       "      <td>2.000000</td>\n",
       "    </tr>\n",
       "    <tr>\n",
       "      <th>50%</th>\n",
       "      <td>240.000000</td>\n",
       "      <td>30.000000</td>\n",
       "      <td>3.000000</td>\n",
       "    </tr>\n",
       "    <tr>\n",
       "      <th>75%</th>\n",
       "      <td>390.000000</td>\n",
       "      <td>52.500000</td>\n",
       "      <td>4.000000</td>\n",
       "    </tr>\n",
       "    <tr>\n",
       "      <th>max</th>\n",
       "      <td>3000.000000</td>\n",
       "      <td>207.000000</td>\n",
       "      <td>16.000000</td>\n",
       "    </tr>\n",
       "  </tbody>\n",
       "</table>\n",
       "</div>"
      ],
      "text/plain": [
       "       estimacionPrecioTotal  calculadora_numero_invitados  \\\n",
       "count              59.000000                     60.000000   \n",
       "mean              338.389831                     48.800000   \n",
       "std               412.933326                     45.477057   \n",
       "min                60.000000                      1.000000   \n",
       "25%               174.000000                     20.000000   \n",
       "50%               240.000000                     30.000000   \n",
       "75%               390.000000                     52.500000   \n",
       "max              3000.000000                    207.000000   \n",
       "\n",
       "       calculadora_horas_actuacion  \n",
       "count                    60.000000  \n",
       "mean                      2.950000  \n",
       "std                       2.150483  \n",
       "min                       1.000000  \n",
       "25%                       2.000000  \n",
       "50%                       3.000000  \n",
       "75%                       4.000000  \n",
       "max                      16.000000  "
      ]
     },
     "execution_count": 177,
     "metadata": {},
     "output_type": "execute_result"
    }
   ],
   "source": [
    "dj_max.describe()"
   ]
  },
  {
   "cell_type": "code",
   "execution_count": 178,
   "metadata": {},
   "outputs": [
    {
     "data": {
      "application/vnd.plotly.v1+json": {
       "config": {
        "plotlyServerURL": "https://plot.ly"
       },
       "data": [
        {
         "alignmentgroup": "True",
         "bingroup": "x",
         "hovertemplate": "Estado solicitud=presupuesto_calculado<br>Precio Total=%{x}<br>count=%{y}<extra></extra>",
         "legendgroup": "presupuesto_calculado",
         "marker": {
          "color": "#636efa",
          "pattern": {
           "shape": ""
          }
         },
         "name": "presupuesto_calculado",
         "nbinsx": 10,
         "offsetgroup": "presupuesto_calculado",
         "orientation": "v",
         "showlegend": true,
         "type": "histogram",
         "x": [
          3000,
          600,
          600,
          480,
          456,
          300,
          300,
          240,
          216,
          204,
          144,
          120,
          120,
          120,
          96,
          96,
          60,
          60,
          null
         ],
         "xaxis": "x",
         "yaxis": "y"
        },
        {
         "alignmentgroup": "True",
         "bingroup": "x",
         "hovertemplate": "Estado solicitud=amedias<br>Precio Total=%{x}<br>count=%{y}<extra></extra>",
         "legendgroup": "amedias",
         "marker": {
          "color": "#00cc96",
          "pattern": {
           "shape": ""
          }
         },
         "name": "amedias",
         "nbinsx": 10,
         "offsetgroup": "amedias",
         "orientation": "v",
         "showlegend": true,
         "type": "histogram",
         "x": [
          600,
          240,
          180,
          60
         ],
         "xaxis": "x",
         "yaxis": "y"
        },
        {
         "alignmentgroup": "True",
         "bingroup": "x",
         "hovertemplate": "Estado solicitud=completa<br>Precio Total=%{x}<br>count=%{y}<extra></extra>",
         "legendgroup": "completa",
         "marker": {
          "color": "#ab63fa",
          "pattern": {
           "shape": ""
          }
         },
         "name": "completa",
         "nbinsx": 10,
         "offsetgroup": "completa",
         "orientation": "v",
         "showlegend": true,
         "type": "histogram",
         "x": [
          360,
          360,
          360,
          300,
          252,
          240,
          240,
          240,
          240,
          180,
          180,
          180,
          180,
          180,
          156,
          141,
          120,
          120,
          60
         ],
         "xaxis": "x",
         "yaxis": "y"
        }
       ],
       "layout": {
        "barmode": "relative",
        "legend": {
         "title": {
          "text": "Estado solicitud"
         },
         "tracegroupgap": 0
        },
        "template": {
         "data": {
          "bar": [
           {
            "error_x": {
             "color": "#2a3f5f"
            },
            "error_y": {
             "color": "#2a3f5f"
            },
            "marker": {
             "line": {
              "color": "#E5ECF6",
              "width": 0.5
             },
             "pattern": {
              "fillmode": "overlay",
              "size": 10,
              "solidity": 0.2
             }
            },
            "type": "bar"
           }
          ],
          "barpolar": [
           {
            "marker": {
             "line": {
              "color": "#E5ECF6",
              "width": 0.5
             },
             "pattern": {
              "fillmode": "overlay",
              "size": 10,
              "solidity": 0.2
             }
            },
            "type": "barpolar"
           }
          ],
          "carpet": [
           {
            "aaxis": {
             "endlinecolor": "#2a3f5f",
             "gridcolor": "white",
             "linecolor": "white",
             "minorgridcolor": "white",
             "startlinecolor": "#2a3f5f"
            },
            "baxis": {
             "endlinecolor": "#2a3f5f",
             "gridcolor": "white",
             "linecolor": "white",
             "minorgridcolor": "white",
             "startlinecolor": "#2a3f5f"
            },
            "type": "carpet"
           }
          ],
          "choropleth": [
           {
            "colorbar": {
             "outlinewidth": 0,
             "ticks": ""
            },
            "type": "choropleth"
           }
          ],
          "contour": [
           {
            "colorbar": {
             "outlinewidth": 0,
             "ticks": ""
            },
            "colorscale": [
             [
              0,
              "#0d0887"
             ],
             [
              0.1111111111111111,
              "#46039f"
             ],
             [
              0.2222222222222222,
              "#7201a8"
             ],
             [
              0.3333333333333333,
              "#9c179e"
             ],
             [
              0.4444444444444444,
              "#bd3786"
             ],
             [
              0.5555555555555556,
              "#d8576b"
             ],
             [
              0.6666666666666666,
              "#ed7953"
             ],
             [
              0.7777777777777778,
              "#fb9f3a"
             ],
             [
              0.8888888888888888,
              "#fdca26"
             ],
             [
              1,
              "#f0f921"
             ]
            ],
            "type": "contour"
           }
          ],
          "contourcarpet": [
           {
            "colorbar": {
             "outlinewidth": 0,
             "ticks": ""
            },
            "type": "contourcarpet"
           }
          ],
          "heatmap": [
           {
            "colorbar": {
             "outlinewidth": 0,
             "ticks": ""
            },
            "colorscale": [
             [
              0,
              "#0d0887"
             ],
             [
              0.1111111111111111,
              "#46039f"
             ],
             [
              0.2222222222222222,
              "#7201a8"
             ],
             [
              0.3333333333333333,
              "#9c179e"
             ],
             [
              0.4444444444444444,
              "#bd3786"
             ],
             [
              0.5555555555555556,
              "#d8576b"
             ],
             [
              0.6666666666666666,
              "#ed7953"
             ],
             [
              0.7777777777777778,
              "#fb9f3a"
             ],
             [
              0.8888888888888888,
              "#fdca26"
             ],
             [
              1,
              "#f0f921"
             ]
            ],
            "type": "heatmap"
           }
          ],
          "heatmapgl": [
           {
            "colorbar": {
             "outlinewidth": 0,
             "ticks": ""
            },
            "colorscale": [
             [
              0,
              "#0d0887"
             ],
             [
              0.1111111111111111,
              "#46039f"
             ],
             [
              0.2222222222222222,
              "#7201a8"
             ],
             [
              0.3333333333333333,
              "#9c179e"
             ],
             [
              0.4444444444444444,
              "#bd3786"
             ],
             [
              0.5555555555555556,
              "#d8576b"
             ],
             [
              0.6666666666666666,
              "#ed7953"
             ],
             [
              0.7777777777777778,
              "#fb9f3a"
             ],
             [
              0.8888888888888888,
              "#fdca26"
             ],
             [
              1,
              "#f0f921"
             ]
            ],
            "type": "heatmapgl"
           }
          ],
          "histogram": [
           {
            "marker": {
             "pattern": {
              "fillmode": "overlay",
              "size": 10,
              "solidity": 0.2
             }
            },
            "type": "histogram"
           }
          ],
          "histogram2d": [
           {
            "colorbar": {
             "outlinewidth": 0,
             "ticks": ""
            },
            "colorscale": [
             [
              0,
              "#0d0887"
             ],
             [
              0.1111111111111111,
              "#46039f"
             ],
             [
              0.2222222222222222,
              "#7201a8"
             ],
             [
              0.3333333333333333,
              "#9c179e"
             ],
             [
              0.4444444444444444,
              "#bd3786"
             ],
             [
              0.5555555555555556,
              "#d8576b"
             ],
             [
              0.6666666666666666,
              "#ed7953"
             ],
             [
              0.7777777777777778,
              "#fb9f3a"
             ],
             [
              0.8888888888888888,
              "#fdca26"
             ],
             [
              1,
              "#f0f921"
             ]
            ],
            "type": "histogram2d"
           }
          ],
          "histogram2dcontour": [
           {
            "colorbar": {
             "outlinewidth": 0,
             "ticks": ""
            },
            "colorscale": [
             [
              0,
              "#0d0887"
             ],
             [
              0.1111111111111111,
              "#46039f"
             ],
             [
              0.2222222222222222,
              "#7201a8"
             ],
             [
              0.3333333333333333,
              "#9c179e"
             ],
             [
              0.4444444444444444,
              "#bd3786"
             ],
             [
              0.5555555555555556,
              "#d8576b"
             ],
             [
              0.6666666666666666,
              "#ed7953"
             ],
             [
              0.7777777777777778,
              "#fb9f3a"
             ],
             [
              0.8888888888888888,
              "#fdca26"
             ],
             [
              1,
              "#f0f921"
             ]
            ],
            "type": "histogram2dcontour"
           }
          ],
          "mesh3d": [
           {
            "colorbar": {
             "outlinewidth": 0,
             "ticks": ""
            },
            "type": "mesh3d"
           }
          ],
          "parcoords": [
           {
            "line": {
             "colorbar": {
              "outlinewidth": 0,
              "ticks": ""
             }
            },
            "type": "parcoords"
           }
          ],
          "pie": [
           {
            "automargin": true,
            "type": "pie"
           }
          ],
          "scatter": [
           {
            "fillpattern": {
             "fillmode": "overlay",
             "size": 10,
             "solidity": 0.2
            },
            "type": "scatter"
           }
          ],
          "scatter3d": [
           {
            "line": {
             "colorbar": {
              "outlinewidth": 0,
              "ticks": ""
             }
            },
            "marker": {
             "colorbar": {
              "outlinewidth": 0,
              "ticks": ""
             }
            },
            "type": "scatter3d"
           }
          ],
          "scattercarpet": [
           {
            "marker": {
             "colorbar": {
              "outlinewidth": 0,
              "ticks": ""
             }
            },
            "type": "scattercarpet"
           }
          ],
          "scattergeo": [
           {
            "marker": {
             "colorbar": {
              "outlinewidth": 0,
              "ticks": ""
             }
            },
            "type": "scattergeo"
           }
          ],
          "scattergl": [
           {
            "marker": {
             "colorbar": {
              "outlinewidth": 0,
              "ticks": ""
             }
            },
            "type": "scattergl"
           }
          ],
          "scattermapbox": [
           {
            "marker": {
             "colorbar": {
              "outlinewidth": 0,
              "ticks": ""
             }
            },
            "type": "scattermapbox"
           }
          ],
          "scatterpolar": [
           {
            "marker": {
             "colorbar": {
              "outlinewidth": 0,
              "ticks": ""
             }
            },
            "type": "scatterpolar"
           }
          ],
          "scatterpolargl": [
           {
            "marker": {
             "colorbar": {
              "outlinewidth": 0,
              "ticks": ""
             }
            },
            "type": "scatterpolargl"
           }
          ],
          "scatterternary": [
           {
            "marker": {
             "colorbar": {
              "outlinewidth": 0,
              "ticks": ""
             }
            },
            "type": "scatterternary"
           }
          ],
          "surface": [
           {
            "colorbar": {
             "outlinewidth": 0,
             "ticks": ""
            },
            "colorscale": [
             [
              0,
              "#0d0887"
             ],
             [
              0.1111111111111111,
              "#46039f"
             ],
             [
              0.2222222222222222,
              "#7201a8"
             ],
             [
              0.3333333333333333,
              "#9c179e"
             ],
             [
              0.4444444444444444,
              "#bd3786"
             ],
             [
              0.5555555555555556,
              "#d8576b"
             ],
             [
              0.6666666666666666,
              "#ed7953"
             ],
             [
              0.7777777777777778,
              "#fb9f3a"
             ],
             [
              0.8888888888888888,
              "#fdca26"
             ],
             [
              1,
              "#f0f921"
             ]
            ],
            "type": "surface"
           }
          ],
          "table": [
           {
            "cells": {
             "fill": {
              "color": "#EBF0F8"
             },
             "line": {
              "color": "white"
             }
            },
            "header": {
             "fill": {
              "color": "#C8D4E3"
             },
             "line": {
              "color": "white"
             }
            },
            "type": "table"
           }
          ]
         },
         "layout": {
          "annotationdefaults": {
           "arrowcolor": "#2a3f5f",
           "arrowhead": 0,
           "arrowwidth": 1
          },
          "autotypenumbers": "strict",
          "coloraxis": {
           "colorbar": {
            "outlinewidth": 0,
            "ticks": ""
           }
          },
          "colorscale": {
           "diverging": [
            [
             0,
             "#8e0152"
            ],
            [
             0.1,
             "#c51b7d"
            ],
            [
             0.2,
             "#de77ae"
            ],
            [
             0.3,
             "#f1b6da"
            ],
            [
             0.4,
             "#fde0ef"
            ],
            [
             0.5,
             "#f7f7f7"
            ],
            [
             0.6,
             "#e6f5d0"
            ],
            [
             0.7,
             "#b8e186"
            ],
            [
             0.8,
             "#7fbc41"
            ],
            [
             0.9,
             "#4d9221"
            ],
            [
             1,
             "#276419"
            ]
           ],
           "sequential": [
            [
             0,
             "#0d0887"
            ],
            [
             0.1111111111111111,
             "#46039f"
            ],
            [
             0.2222222222222222,
             "#7201a8"
            ],
            [
             0.3333333333333333,
             "#9c179e"
            ],
            [
             0.4444444444444444,
             "#bd3786"
            ],
            [
             0.5555555555555556,
             "#d8576b"
            ],
            [
             0.6666666666666666,
             "#ed7953"
            ],
            [
             0.7777777777777778,
             "#fb9f3a"
            ],
            [
             0.8888888888888888,
             "#fdca26"
            ],
            [
             1,
             "#f0f921"
            ]
           ],
           "sequentialminus": [
            [
             0,
             "#0d0887"
            ],
            [
             0.1111111111111111,
             "#46039f"
            ],
            [
             0.2222222222222222,
             "#7201a8"
            ],
            [
             0.3333333333333333,
             "#9c179e"
            ],
            [
             0.4444444444444444,
             "#bd3786"
            ],
            [
             0.5555555555555556,
             "#d8576b"
            ],
            [
             0.6666666666666666,
             "#ed7953"
            ],
            [
             0.7777777777777778,
             "#fb9f3a"
            ],
            [
             0.8888888888888888,
             "#fdca26"
            ],
            [
             1,
             "#f0f921"
            ]
           ]
          },
          "colorway": [
           "#636efa",
           "#EF553B",
           "#00cc96",
           "#ab63fa",
           "#FFA15A",
           "#19d3f3",
           "#FF6692",
           "#B6E880",
           "#FF97FF",
           "#FECB52"
          ],
          "font": {
           "color": "#2a3f5f"
          },
          "geo": {
           "bgcolor": "white",
           "lakecolor": "white",
           "landcolor": "#E5ECF6",
           "showlakes": true,
           "showland": true,
           "subunitcolor": "white"
          },
          "hoverlabel": {
           "align": "left"
          },
          "hovermode": "closest",
          "mapbox": {
           "style": "light"
          },
          "paper_bgcolor": "white",
          "plot_bgcolor": "#E5ECF6",
          "polar": {
           "angularaxis": {
            "gridcolor": "white",
            "linecolor": "white",
            "ticks": ""
           },
           "bgcolor": "#E5ECF6",
           "radialaxis": {
            "gridcolor": "white",
            "linecolor": "white",
            "ticks": ""
           }
          },
          "scene": {
           "xaxis": {
            "backgroundcolor": "#E5ECF6",
            "gridcolor": "white",
            "gridwidth": 2,
            "linecolor": "white",
            "showbackground": true,
            "ticks": "",
            "zerolinecolor": "white"
           },
           "yaxis": {
            "backgroundcolor": "#E5ECF6",
            "gridcolor": "white",
            "gridwidth": 2,
            "linecolor": "white",
            "showbackground": true,
            "ticks": "",
            "zerolinecolor": "white"
           },
           "zaxis": {
            "backgroundcolor": "#E5ECF6",
            "gridcolor": "white",
            "gridwidth": 2,
            "linecolor": "white",
            "showbackground": true,
            "ticks": "",
            "zerolinecolor": "white"
           }
          },
          "shapedefaults": {
           "line": {
            "color": "#2a3f5f"
           }
          },
          "ternary": {
           "aaxis": {
            "gridcolor": "white",
            "linecolor": "white",
            "ticks": ""
           },
           "baxis": {
            "gridcolor": "white",
            "linecolor": "white",
            "ticks": ""
           },
           "bgcolor": "#E5ECF6",
           "caxis": {
            "gridcolor": "white",
            "linecolor": "white",
            "ticks": ""
           }
          },
          "title": {
           "x": 0.05
          },
          "xaxis": {
           "automargin": true,
           "gridcolor": "white",
           "linecolor": "white",
           "ticks": "",
           "title": {
            "standoff": 15
           },
           "zerolinecolor": "white",
           "zerolinewidth": 2
          },
          "yaxis": {
           "automargin": true,
           "gridcolor": "white",
           "linecolor": "white",
           "ticks": "",
           "title": {
            "standoff": 15
           },
           "zerolinecolor": "white",
           "zerolinewidth": 2
          }
         }
        },
        "title": {
         "text": "Cantidad de solicitudes por estado de solicitud y precio total"
        },
        "xaxis": {
         "anchor": "y",
         "domain": [
          0,
          1
         ],
         "title": {
          "text": "Precio Total"
         }
        },
        "yaxis": {
         "anchor": "x",
         "domain": [
          0,
          1
         ],
         "title": {
          "text": "count"
         }
        }
       }
      }
     },
     "metadata": {},
     "output_type": "display_data"
    }
   ],
   "source": [
    "\n",
    "px.histogram(dj_max, x='estimacionPrecioTotal', \n",
    "             color='estado_solicitud',\n",
    "             title=\"Cantidad de solicitudes por estado de solicitud y precio total\", \n",
    "             labels={'estado_solicitud': 'Estado solicitud','estimacionPrecioTotal': 'Precio Total'},\n",
    "             nbins = 10\n",
    "             )\n"
   ]
  },
  {
   "cell_type": "code",
   "execution_count": 179,
   "metadata": {},
   "outputs": [
    {
     "data": {
      "text/html": [
       "<div>\n",
       "<style scoped>\n",
       "    .dataframe tbody tr th:only-of-type {\n",
       "        vertical-align: middle;\n",
       "    }\n",
       "\n",
       "    .dataframe tbody tr th {\n",
       "        vertical-align: top;\n",
       "    }\n",
       "\n",
       "    .dataframe thead th {\n",
       "        text-align: right;\n",
       "    }\n",
       "</style>\n",
       "<table border=\"1\" class=\"dataframe\">\n",
       "  <thead>\n",
       "    <tr style=\"text-align: right;\">\n",
       "      <th></th>\n",
       "      <th>estimacionPrecioTotal</th>\n",
       "      <th>calculadora_horas_actuacion</th>\n",
       "      <th>calculadora_numero_invitados</th>\n",
       "      <th>estado_solicitud</th>\n",
       "    </tr>\n",
       "  </thead>\n",
       "  <tbody>\n",
       "    <tr>\n",
       "      <th>43</th>\n",
       "      <td>600.0</td>\n",
       "      <td>6.0</td>\n",
       "      <td>50.0</td>\n",
       "      <td>presupuesto_calculado</td>\n",
       "    </tr>\n",
       "    <tr>\n",
       "      <th>56</th>\n",
       "      <td>600.0</td>\n",
       "      <td>4.0</td>\n",
       "      <td>100.0</td>\n",
       "      <td>amedias</td>\n",
       "    </tr>\n",
       "    <tr>\n",
       "      <th>55</th>\n",
       "      <td>600.0</td>\n",
       "      <td>4.0</td>\n",
       "      <td>200.0</td>\n",
       "      <td>presupuesto_calculado</td>\n",
       "    </tr>\n",
       "    <tr>\n",
       "      <th>22</th>\n",
       "      <td>480.0</td>\n",
       "      <td>3.0</td>\n",
       "      <td>50.0</td>\n",
       "      <td>presupuesto_calculado</td>\n",
       "    </tr>\n",
       "    <tr>\n",
       "      <th>25</th>\n",
       "      <td>456.0</td>\n",
       "      <td>3.0</td>\n",
       "      <td>130.0</td>\n",
       "      <td>presupuesto_calculado</td>\n",
       "    </tr>\n",
       "  </tbody>\n",
       "</table>\n",
       "</div>"
      ],
      "text/plain": [
       "    estimacionPrecioTotal  calculadora_horas_actuacion  \\\n",
       "43                  600.0                          6.0   \n",
       "56                  600.0                          4.0   \n",
       "55                  600.0                          4.0   \n",
       "22                  480.0                          3.0   \n",
       "25                  456.0                          3.0   \n",
       "\n",
       "    calculadora_numero_invitados       estado_solicitud  \n",
       "43                          50.0  presupuesto_calculado  \n",
       "56                         100.0                amedias  \n",
       "55                         200.0  presupuesto_calculado  \n",
       "22                          50.0  presupuesto_calculado  \n",
       "25                         130.0  presupuesto_calculado  "
      ]
     },
     "execution_count": 179,
     "metadata": {},
     "output_type": "execute_result"
    }
   ],
   "source": [
    "dj_max = dj_max.iloc[1:,]\n",
    "dj_max = dj_max[['estimacionPrecioTotal', 'calculadora_horas_actuacion','calculadora_numero_invitados','estado_solicitud','calculadora_provincia_evento','calculadora_espacio_evento']].dropna()\n",
    "dj_max.iloc[:,:4].head()"
   ]
  },
  {
   "cell_type": "code",
   "execution_count": 180,
   "metadata": {},
   "outputs": [
    {
     "data": {
      "application/vnd.plotly.v1+json": {
       "config": {
        "plotlyServerURL": "https://plot.ly"
       },
       "data": [
        {
         "alignmentgroup": "True",
         "bingroup": "x",
         "hovertemplate": "Estado solicitud=presupuesto_calculado<br>Precio Total=%{x}<br>count=%{y}<extra></extra>",
         "legendgroup": "presupuesto_calculado",
         "marker": {
          "color": "#636efa",
          "pattern": {
           "shape": ""
          }
         },
         "name": "presupuesto_calculado",
         "nbinsx": 10,
         "offsetgroup": "presupuesto_calculado",
         "orientation": "v",
         "showlegend": true,
         "type": "histogram",
         "x": [
          600,
          600,
          480,
          456,
          300,
          300,
          240,
          216,
          204,
          144,
          120,
          120,
          120,
          96,
          96,
          60,
          60
         ],
         "xaxis": "x",
         "yaxis": "y"
        },
        {
         "alignmentgroup": "True",
         "bingroup": "x",
         "hovertemplate": "Estado solicitud=amedias<br>Precio Total=%{x}<br>count=%{y}<extra></extra>",
         "legendgroup": "amedias",
         "marker": {
          "color": "#EF553B",
          "pattern": {
           "shape": ""
          }
         },
         "name": "amedias",
         "nbinsx": 10,
         "offsetgroup": "amedias",
         "orientation": "v",
         "showlegend": true,
         "type": "histogram",
         "x": [
          600,
          240,
          180,
          60
         ],
         "xaxis": "x",
         "yaxis": "y"
        },
        {
         "alignmentgroup": "True",
         "bingroup": "x",
         "hovertemplate": "Estado solicitud=completa<br>Precio Total=%{x}<br>count=%{y}<extra></extra>",
         "legendgroup": "completa",
         "marker": {
          "color": "#00cc96",
          "pattern": {
           "shape": ""
          }
         },
         "name": "completa",
         "nbinsx": 10,
         "offsetgroup": "completa",
         "orientation": "v",
         "showlegend": true,
         "type": "histogram",
         "x": [
          360,
          360,
          360,
          300,
          252,
          240,
          240,
          240,
          240,
          180,
          180,
          180,
          180,
          180,
          156,
          141,
          120,
          120,
          60
         ],
         "xaxis": "x",
         "yaxis": "y"
        }
       ],
       "layout": {
        "barmode": "relative",
        "legend": {
         "title": {
          "text": "Estado solicitud"
         },
         "tracegroupgap": 0
        },
        "template": {
         "data": {
          "bar": [
           {
            "error_x": {
             "color": "#2a3f5f"
            },
            "error_y": {
             "color": "#2a3f5f"
            },
            "marker": {
             "line": {
              "color": "#E5ECF6",
              "width": 0.5
             },
             "pattern": {
              "fillmode": "overlay",
              "size": 10,
              "solidity": 0.2
             }
            },
            "type": "bar"
           }
          ],
          "barpolar": [
           {
            "marker": {
             "line": {
              "color": "#E5ECF6",
              "width": 0.5
             },
             "pattern": {
              "fillmode": "overlay",
              "size": 10,
              "solidity": 0.2
             }
            },
            "type": "barpolar"
           }
          ],
          "carpet": [
           {
            "aaxis": {
             "endlinecolor": "#2a3f5f",
             "gridcolor": "white",
             "linecolor": "white",
             "minorgridcolor": "white",
             "startlinecolor": "#2a3f5f"
            },
            "baxis": {
             "endlinecolor": "#2a3f5f",
             "gridcolor": "white",
             "linecolor": "white",
             "minorgridcolor": "white",
             "startlinecolor": "#2a3f5f"
            },
            "type": "carpet"
           }
          ],
          "choropleth": [
           {
            "colorbar": {
             "outlinewidth": 0,
             "ticks": ""
            },
            "type": "choropleth"
           }
          ],
          "contour": [
           {
            "colorbar": {
             "outlinewidth": 0,
             "ticks": ""
            },
            "colorscale": [
             [
              0,
              "#0d0887"
             ],
             [
              0.1111111111111111,
              "#46039f"
             ],
             [
              0.2222222222222222,
              "#7201a8"
             ],
             [
              0.3333333333333333,
              "#9c179e"
             ],
             [
              0.4444444444444444,
              "#bd3786"
             ],
             [
              0.5555555555555556,
              "#d8576b"
             ],
             [
              0.6666666666666666,
              "#ed7953"
             ],
             [
              0.7777777777777778,
              "#fb9f3a"
             ],
             [
              0.8888888888888888,
              "#fdca26"
             ],
             [
              1,
              "#f0f921"
             ]
            ],
            "type": "contour"
           }
          ],
          "contourcarpet": [
           {
            "colorbar": {
             "outlinewidth": 0,
             "ticks": ""
            },
            "type": "contourcarpet"
           }
          ],
          "heatmap": [
           {
            "colorbar": {
             "outlinewidth": 0,
             "ticks": ""
            },
            "colorscale": [
             [
              0,
              "#0d0887"
             ],
             [
              0.1111111111111111,
              "#46039f"
             ],
             [
              0.2222222222222222,
              "#7201a8"
             ],
             [
              0.3333333333333333,
              "#9c179e"
             ],
             [
              0.4444444444444444,
              "#bd3786"
             ],
             [
              0.5555555555555556,
              "#d8576b"
             ],
             [
              0.6666666666666666,
              "#ed7953"
             ],
             [
              0.7777777777777778,
              "#fb9f3a"
             ],
             [
              0.8888888888888888,
              "#fdca26"
             ],
             [
              1,
              "#f0f921"
             ]
            ],
            "type": "heatmap"
           }
          ],
          "heatmapgl": [
           {
            "colorbar": {
             "outlinewidth": 0,
             "ticks": ""
            },
            "colorscale": [
             [
              0,
              "#0d0887"
             ],
             [
              0.1111111111111111,
              "#46039f"
             ],
             [
              0.2222222222222222,
              "#7201a8"
             ],
             [
              0.3333333333333333,
              "#9c179e"
             ],
             [
              0.4444444444444444,
              "#bd3786"
             ],
             [
              0.5555555555555556,
              "#d8576b"
             ],
             [
              0.6666666666666666,
              "#ed7953"
             ],
             [
              0.7777777777777778,
              "#fb9f3a"
             ],
             [
              0.8888888888888888,
              "#fdca26"
             ],
             [
              1,
              "#f0f921"
             ]
            ],
            "type": "heatmapgl"
           }
          ],
          "histogram": [
           {
            "marker": {
             "pattern": {
              "fillmode": "overlay",
              "size": 10,
              "solidity": 0.2
             }
            },
            "type": "histogram"
           }
          ],
          "histogram2d": [
           {
            "colorbar": {
             "outlinewidth": 0,
             "ticks": ""
            },
            "colorscale": [
             [
              0,
              "#0d0887"
             ],
             [
              0.1111111111111111,
              "#46039f"
             ],
             [
              0.2222222222222222,
              "#7201a8"
             ],
             [
              0.3333333333333333,
              "#9c179e"
             ],
             [
              0.4444444444444444,
              "#bd3786"
             ],
             [
              0.5555555555555556,
              "#d8576b"
             ],
             [
              0.6666666666666666,
              "#ed7953"
             ],
             [
              0.7777777777777778,
              "#fb9f3a"
             ],
             [
              0.8888888888888888,
              "#fdca26"
             ],
             [
              1,
              "#f0f921"
             ]
            ],
            "type": "histogram2d"
           }
          ],
          "histogram2dcontour": [
           {
            "colorbar": {
             "outlinewidth": 0,
             "ticks": ""
            },
            "colorscale": [
             [
              0,
              "#0d0887"
             ],
             [
              0.1111111111111111,
              "#46039f"
             ],
             [
              0.2222222222222222,
              "#7201a8"
             ],
             [
              0.3333333333333333,
              "#9c179e"
             ],
             [
              0.4444444444444444,
              "#bd3786"
             ],
             [
              0.5555555555555556,
              "#d8576b"
             ],
             [
              0.6666666666666666,
              "#ed7953"
             ],
             [
              0.7777777777777778,
              "#fb9f3a"
             ],
             [
              0.8888888888888888,
              "#fdca26"
             ],
             [
              1,
              "#f0f921"
             ]
            ],
            "type": "histogram2dcontour"
           }
          ],
          "mesh3d": [
           {
            "colorbar": {
             "outlinewidth": 0,
             "ticks": ""
            },
            "type": "mesh3d"
           }
          ],
          "parcoords": [
           {
            "line": {
             "colorbar": {
              "outlinewidth": 0,
              "ticks": ""
             }
            },
            "type": "parcoords"
           }
          ],
          "pie": [
           {
            "automargin": true,
            "type": "pie"
           }
          ],
          "scatter": [
           {
            "fillpattern": {
             "fillmode": "overlay",
             "size": 10,
             "solidity": 0.2
            },
            "type": "scatter"
           }
          ],
          "scatter3d": [
           {
            "line": {
             "colorbar": {
              "outlinewidth": 0,
              "ticks": ""
             }
            },
            "marker": {
             "colorbar": {
              "outlinewidth": 0,
              "ticks": ""
             }
            },
            "type": "scatter3d"
           }
          ],
          "scattercarpet": [
           {
            "marker": {
             "colorbar": {
              "outlinewidth": 0,
              "ticks": ""
             }
            },
            "type": "scattercarpet"
           }
          ],
          "scattergeo": [
           {
            "marker": {
             "colorbar": {
              "outlinewidth": 0,
              "ticks": ""
             }
            },
            "type": "scattergeo"
           }
          ],
          "scattergl": [
           {
            "marker": {
             "colorbar": {
              "outlinewidth": 0,
              "ticks": ""
             }
            },
            "type": "scattergl"
           }
          ],
          "scattermapbox": [
           {
            "marker": {
             "colorbar": {
              "outlinewidth": 0,
              "ticks": ""
             }
            },
            "type": "scattermapbox"
           }
          ],
          "scatterpolar": [
           {
            "marker": {
             "colorbar": {
              "outlinewidth": 0,
              "ticks": ""
             }
            },
            "type": "scatterpolar"
           }
          ],
          "scatterpolargl": [
           {
            "marker": {
             "colorbar": {
              "outlinewidth": 0,
              "ticks": ""
             }
            },
            "type": "scatterpolargl"
           }
          ],
          "scatterternary": [
           {
            "marker": {
             "colorbar": {
              "outlinewidth": 0,
              "ticks": ""
             }
            },
            "type": "scatterternary"
           }
          ],
          "surface": [
           {
            "colorbar": {
             "outlinewidth": 0,
             "ticks": ""
            },
            "colorscale": [
             [
              0,
              "#0d0887"
             ],
             [
              0.1111111111111111,
              "#46039f"
             ],
             [
              0.2222222222222222,
              "#7201a8"
             ],
             [
              0.3333333333333333,
              "#9c179e"
             ],
             [
              0.4444444444444444,
              "#bd3786"
             ],
             [
              0.5555555555555556,
              "#d8576b"
             ],
             [
              0.6666666666666666,
              "#ed7953"
             ],
             [
              0.7777777777777778,
              "#fb9f3a"
             ],
             [
              0.8888888888888888,
              "#fdca26"
             ],
             [
              1,
              "#f0f921"
             ]
            ],
            "type": "surface"
           }
          ],
          "table": [
           {
            "cells": {
             "fill": {
              "color": "#EBF0F8"
             },
             "line": {
              "color": "white"
             }
            },
            "header": {
             "fill": {
              "color": "#C8D4E3"
             },
             "line": {
              "color": "white"
             }
            },
            "type": "table"
           }
          ]
         },
         "layout": {
          "annotationdefaults": {
           "arrowcolor": "#2a3f5f",
           "arrowhead": 0,
           "arrowwidth": 1
          },
          "autotypenumbers": "strict",
          "coloraxis": {
           "colorbar": {
            "outlinewidth": 0,
            "ticks": ""
           }
          },
          "colorscale": {
           "diverging": [
            [
             0,
             "#8e0152"
            ],
            [
             0.1,
             "#c51b7d"
            ],
            [
             0.2,
             "#de77ae"
            ],
            [
             0.3,
             "#f1b6da"
            ],
            [
             0.4,
             "#fde0ef"
            ],
            [
             0.5,
             "#f7f7f7"
            ],
            [
             0.6,
             "#e6f5d0"
            ],
            [
             0.7,
             "#b8e186"
            ],
            [
             0.8,
             "#7fbc41"
            ],
            [
             0.9,
             "#4d9221"
            ],
            [
             1,
             "#276419"
            ]
           ],
           "sequential": [
            [
             0,
             "#0d0887"
            ],
            [
             0.1111111111111111,
             "#46039f"
            ],
            [
             0.2222222222222222,
             "#7201a8"
            ],
            [
             0.3333333333333333,
             "#9c179e"
            ],
            [
             0.4444444444444444,
             "#bd3786"
            ],
            [
             0.5555555555555556,
             "#d8576b"
            ],
            [
             0.6666666666666666,
             "#ed7953"
            ],
            [
             0.7777777777777778,
             "#fb9f3a"
            ],
            [
             0.8888888888888888,
             "#fdca26"
            ],
            [
             1,
             "#f0f921"
            ]
           ],
           "sequentialminus": [
            [
             0,
             "#0d0887"
            ],
            [
             0.1111111111111111,
             "#46039f"
            ],
            [
             0.2222222222222222,
             "#7201a8"
            ],
            [
             0.3333333333333333,
             "#9c179e"
            ],
            [
             0.4444444444444444,
             "#bd3786"
            ],
            [
             0.5555555555555556,
             "#d8576b"
            ],
            [
             0.6666666666666666,
             "#ed7953"
            ],
            [
             0.7777777777777778,
             "#fb9f3a"
            ],
            [
             0.8888888888888888,
             "#fdca26"
            ],
            [
             1,
             "#f0f921"
            ]
           ]
          },
          "colorway": [
           "#636efa",
           "#EF553B",
           "#00cc96",
           "#ab63fa",
           "#FFA15A",
           "#19d3f3",
           "#FF6692",
           "#B6E880",
           "#FF97FF",
           "#FECB52"
          ],
          "font": {
           "color": "#2a3f5f"
          },
          "geo": {
           "bgcolor": "white",
           "lakecolor": "white",
           "landcolor": "#E5ECF6",
           "showlakes": true,
           "showland": true,
           "subunitcolor": "white"
          },
          "hoverlabel": {
           "align": "left"
          },
          "hovermode": "closest",
          "mapbox": {
           "style": "light"
          },
          "paper_bgcolor": "white",
          "plot_bgcolor": "#E5ECF6",
          "polar": {
           "angularaxis": {
            "gridcolor": "white",
            "linecolor": "white",
            "ticks": ""
           },
           "bgcolor": "#E5ECF6",
           "radialaxis": {
            "gridcolor": "white",
            "linecolor": "white",
            "ticks": ""
           }
          },
          "scene": {
           "xaxis": {
            "backgroundcolor": "#E5ECF6",
            "gridcolor": "white",
            "gridwidth": 2,
            "linecolor": "white",
            "showbackground": true,
            "ticks": "",
            "zerolinecolor": "white"
           },
           "yaxis": {
            "backgroundcolor": "#E5ECF6",
            "gridcolor": "white",
            "gridwidth": 2,
            "linecolor": "white",
            "showbackground": true,
            "ticks": "",
            "zerolinecolor": "white"
           },
           "zaxis": {
            "backgroundcolor": "#E5ECF6",
            "gridcolor": "white",
            "gridwidth": 2,
            "linecolor": "white",
            "showbackground": true,
            "ticks": "",
            "zerolinecolor": "white"
           }
          },
          "shapedefaults": {
           "line": {
            "color": "#2a3f5f"
           }
          },
          "ternary": {
           "aaxis": {
            "gridcolor": "white",
            "linecolor": "white",
            "ticks": ""
           },
           "baxis": {
            "gridcolor": "white",
            "linecolor": "white",
            "ticks": ""
           },
           "bgcolor": "#E5ECF6",
           "caxis": {
            "gridcolor": "white",
            "linecolor": "white",
            "ticks": ""
           }
          },
          "title": {
           "x": 0.05
          },
          "xaxis": {
           "automargin": true,
           "gridcolor": "white",
           "linecolor": "white",
           "ticks": "",
           "title": {
            "standoff": 15
           },
           "zerolinecolor": "white",
           "zerolinewidth": 2
          },
          "yaxis": {
           "automargin": true,
           "gridcolor": "white",
           "linecolor": "white",
           "ticks": "",
           "title": {
            "standoff": 15
           },
           "zerolinecolor": "white",
           "zerolinewidth": 2
          }
         }
        },
        "title": {
         "text": "Cantidad de solicitudes por estado de solicitud y precio total"
        },
        "xaxis": {
         "anchor": "y",
         "domain": [
          0,
          1
         ],
         "title": {
          "text": "Precio Total"
         }
        },
        "yaxis": {
         "anchor": "x",
         "domain": [
          0,
          1
         ],
         "title": {
          "text": "count"
         }
        }
       }
      }
     },
     "metadata": {},
     "output_type": "display_data"
    }
   ],
   "source": [
    "px.histogram(dj_max, x='estimacionPrecioTotal', \n",
    "             color='estado_solicitud',\n",
    "             title=\"Cantidad de solicitudes por estado de solicitud y precio total\", \n",
    "             labels={'estado_solicitud': 'Estado solicitud','estimacionPrecioTotal': 'Precio Total'},\n",
    "             nbins = 10\n",
    ")"
   ]
  },
  {
   "attachments": {},
   "cell_type": "markdown",
   "metadata": {},
   "source": [
    "El rango de precios más solicitado de DJ está entre 120 y 300.\n"
   ]
  },
  {
   "cell_type": "code",
   "execution_count": 181,
   "metadata": {},
   "outputs": [
    {
     "data": {
      "text/plain": [
       "114"
      ]
     },
     "execution_count": 181,
     "metadata": {},
     "output_type": "execute_result"
    }
   ],
   "source": [
    "\n",
    "dj_comp = dj_max[dj_max['estado_solicitud'] == 'completa']\n",
    "dj_comp.size"
   ]
  },
  {
   "cell_type": "code",
   "execution_count": 182,
   "metadata": {},
   "outputs": [
    {
     "data": {
      "application/vnd.plotly.v1+json": {
       "config": {
        "plotlyServerURL": "https://plot.ly"
       },
       "data": [
        {
         "alignmentgroup": "True",
         "hovertemplate": "estado_solicitud=%{y}<br>estimacionPrecioTotal=%{x}<extra></extra>",
         "legendgroup": "presupuesto_calculado",
         "marker": {
          "color": "#636efa"
         },
         "name": "presupuesto_calculado",
         "notched": false,
         "offsetgroup": "presupuesto_calculado",
         "orientation": "h",
         "showlegend": true,
         "type": "box",
         "x": [
          600,
          600,
          480,
          456,
          300,
          300,
          240,
          216,
          204,
          144,
          120,
          120,
          120,
          96,
          96,
          60,
          60
         ],
         "x0": " ",
         "xaxis": "x",
         "y": [
          "presupuesto_calculado",
          "presupuesto_calculado",
          "presupuesto_calculado",
          "presupuesto_calculado",
          "presupuesto_calculado",
          "presupuesto_calculado",
          "presupuesto_calculado",
          "presupuesto_calculado",
          "presupuesto_calculado",
          "presupuesto_calculado",
          "presupuesto_calculado",
          "presupuesto_calculado",
          "presupuesto_calculado",
          "presupuesto_calculado",
          "presupuesto_calculado",
          "presupuesto_calculado",
          "presupuesto_calculado"
         ],
         "y0": " ",
         "yaxis": "y"
        },
        {
         "alignmentgroup": "True",
         "hovertemplate": "estado_solicitud=%{y}<br>estimacionPrecioTotal=%{x}<extra></extra>",
         "legendgroup": "amedias",
         "marker": {
          "color": "#EF553B"
         },
         "name": "amedias",
         "notched": false,
         "offsetgroup": "amedias",
         "orientation": "h",
         "showlegend": true,
         "type": "box",
         "x": [
          600,
          240,
          180,
          60
         ],
         "x0": " ",
         "xaxis": "x",
         "y": [
          "amedias",
          "amedias",
          "amedias",
          "amedias"
         ],
         "y0": " ",
         "yaxis": "y"
        },
        {
         "alignmentgroup": "True",
         "hovertemplate": "estado_solicitud=%{y}<br>estimacionPrecioTotal=%{x}<extra></extra>",
         "legendgroup": "completa",
         "marker": {
          "color": "#00cc96"
         },
         "name": "completa",
         "notched": false,
         "offsetgroup": "completa",
         "orientation": "h",
         "showlegend": true,
         "type": "box",
         "x": [
          360,
          360,
          360,
          300,
          252,
          240,
          240,
          240,
          240,
          180,
          180,
          180,
          180,
          180,
          156,
          141,
          120,
          120,
          60
         ],
         "x0": " ",
         "xaxis": "x",
         "y": [
          "completa",
          "completa",
          "completa",
          "completa",
          "completa",
          "completa",
          "completa",
          "completa",
          "completa",
          "completa",
          "completa",
          "completa",
          "completa",
          "completa",
          "completa",
          "completa",
          "completa",
          "completa",
          "completa"
         ],
         "y0": " ",
         "yaxis": "y"
        }
       ],
       "layout": {
        "boxmode": "overlay",
        "legend": {
         "title": {
          "text": "estado_solicitud"
         },
         "tracegroupgap": 0
        },
        "margin": {
         "t": 60
        },
        "showlegend": false,
        "template": {
         "data": {
          "bar": [
           {
            "error_x": {
             "color": "#2a3f5f"
            },
            "error_y": {
             "color": "#2a3f5f"
            },
            "marker": {
             "line": {
              "color": "#E5ECF6",
              "width": 0.5
             },
             "pattern": {
              "fillmode": "overlay",
              "size": 10,
              "solidity": 0.2
             }
            },
            "type": "bar"
           }
          ],
          "barpolar": [
           {
            "marker": {
             "line": {
              "color": "#E5ECF6",
              "width": 0.5
             },
             "pattern": {
              "fillmode": "overlay",
              "size": 10,
              "solidity": 0.2
             }
            },
            "type": "barpolar"
           }
          ],
          "carpet": [
           {
            "aaxis": {
             "endlinecolor": "#2a3f5f",
             "gridcolor": "white",
             "linecolor": "white",
             "minorgridcolor": "white",
             "startlinecolor": "#2a3f5f"
            },
            "baxis": {
             "endlinecolor": "#2a3f5f",
             "gridcolor": "white",
             "linecolor": "white",
             "minorgridcolor": "white",
             "startlinecolor": "#2a3f5f"
            },
            "type": "carpet"
           }
          ],
          "choropleth": [
           {
            "colorbar": {
             "outlinewidth": 0,
             "ticks": ""
            },
            "type": "choropleth"
           }
          ],
          "contour": [
           {
            "colorbar": {
             "outlinewidth": 0,
             "ticks": ""
            },
            "colorscale": [
             [
              0,
              "#0d0887"
             ],
             [
              0.1111111111111111,
              "#46039f"
             ],
             [
              0.2222222222222222,
              "#7201a8"
             ],
             [
              0.3333333333333333,
              "#9c179e"
             ],
             [
              0.4444444444444444,
              "#bd3786"
             ],
             [
              0.5555555555555556,
              "#d8576b"
             ],
             [
              0.6666666666666666,
              "#ed7953"
             ],
             [
              0.7777777777777778,
              "#fb9f3a"
             ],
             [
              0.8888888888888888,
              "#fdca26"
             ],
             [
              1,
              "#f0f921"
             ]
            ],
            "type": "contour"
           }
          ],
          "contourcarpet": [
           {
            "colorbar": {
             "outlinewidth": 0,
             "ticks": ""
            },
            "type": "contourcarpet"
           }
          ],
          "heatmap": [
           {
            "colorbar": {
             "outlinewidth": 0,
             "ticks": ""
            },
            "colorscale": [
             [
              0,
              "#0d0887"
             ],
             [
              0.1111111111111111,
              "#46039f"
             ],
             [
              0.2222222222222222,
              "#7201a8"
             ],
             [
              0.3333333333333333,
              "#9c179e"
             ],
             [
              0.4444444444444444,
              "#bd3786"
             ],
             [
              0.5555555555555556,
              "#d8576b"
             ],
             [
              0.6666666666666666,
              "#ed7953"
             ],
             [
              0.7777777777777778,
              "#fb9f3a"
             ],
             [
              0.8888888888888888,
              "#fdca26"
             ],
             [
              1,
              "#f0f921"
             ]
            ],
            "type": "heatmap"
           }
          ],
          "heatmapgl": [
           {
            "colorbar": {
             "outlinewidth": 0,
             "ticks": ""
            },
            "colorscale": [
             [
              0,
              "#0d0887"
             ],
             [
              0.1111111111111111,
              "#46039f"
             ],
             [
              0.2222222222222222,
              "#7201a8"
             ],
             [
              0.3333333333333333,
              "#9c179e"
             ],
             [
              0.4444444444444444,
              "#bd3786"
             ],
             [
              0.5555555555555556,
              "#d8576b"
             ],
             [
              0.6666666666666666,
              "#ed7953"
             ],
             [
              0.7777777777777778,
              "#fb9f3a"
             ],
             [
              0.8888888888888888,
              "#fdca26"
             ],
             [
              1,
              "#f0f921"
             ]
            ],
            "type": "heatmapgl"
           }
          ],
          "histogram": [
           {
            "marker": {
             "pattern": {
              "fillmode": "overlay",
              "size": 10,
              "solidity": 0.2
             }
            },
            "type": "histogram"
           }
          ],
          "histogram2d": [
           {
            "colorbar": {
             "outlinewidth": 0,
             "ticks": ""
            },
            "colorscale": [
             [
              0,
              "#0d0887"
             ],
             [
              0.1111111111111111,
              "#46039f"
             ],
             [
              0.2222222222222222,
              "#7201a8"
             ],
             [
              0.3333333333333333,
              "#9c179e"
             ],
             [
              0.4444444444444444,
              "#bd3786"
             ],
             [
              0.5555555555555556,
              "#d8576b"
             ],
             [
              0.6666666666666666,
              "#ed7953"
             ],
             [
              0.7777777777777778,
              "#fb9f3a"
             ],
             [
              0.8888888888888888,
              "#fdca26"
             ],
             [
              1,
              "#f0f921"
             ]
            ],
            "type": "histogram2d"
           }
          ],
          "histogram2dcontour": [
           {
            "colorbar": {
             "outlinewidth": 0,
             "ticks": ""
            },
            "colorscale": [
             [
              0,
              "#0d0887"
             ],
             [
              0.1111111111111111,
              "#46039f"
             ],
             [
              0.2222222222222222,
              "#7201a8"
             ],
             [
              0.3333333333333333,
              "#9c179e"
             ],
             [
              0.4444444444444444,
              "#bd3786"
             ],
             [
              0.5555555555555556,
              "#d8576b"
             ],
             [
              0.6666666666666666,
              "#ed7953"
             ],
             [
              0.7777777777777778,
              "#fb9f3a"
             ],
             [
              0.8888888888888888,
              "#fdca26"
             ],
             [
              1,
              "#f0f921"
             ]
            ],
            "type": "histogram2dcontour"
           }
          ],
          "mesh3d": [
           {
            "colorbar": {
             "outlinewidth": 0,
             "ticks": ""
            },
            "type": "mesh3d"
           }
          ],
          "parcoords": [
           {
            "line": {
             "colorbar": {
              "outlinewidth": 0,
              "ticks": ""
             }
            },
            "type": "parcoords"
           }
          ],
          "pie": [
           {
            "automargin": true,
            "type": "pie"
           }
          ],
          "scatter": [
           {
            "fillpattern": {
             "fillmode": "overlay",
             "size": 10,
             "solidity": 0.2
            },
            "type": "scatter"
           }
          ],
          "scatter3d": [
           {
            "line": {
             "colorbar": {
              "outlinewidth": 0,
              "ticks": ""
             }
            },
            "marker": {
             "colorbar": {
              "outlinewidth": 0,
              "ticks": ""
             }
            },
            "type": "scatter3d"
           }
          ],
          "scattercarpet": [
           {
            "marker": {
             "colorbar": {
              "outlinewidth": 0,
              "ticks": ""
             }
            },
            "type": "scattercarpet"
           }
          ],
          "scattergeo": [
           {
            "marker": {
             "colorbar": {
              "outlinewidth": 0,
              "ticks": ""
             }
            },
            "type": "scattergeo"
           }
          ],
          "scattergl": [
           {
            "marker": {
             "colorbar": {
              "outlinewidth": 0,
              "ticks": ""
             }
            },
            "type": "scattergl"
           }
          ],
          "scattermapbox": [
           {
            "marker": {
             "colorbar": {
              "outlinewidth": 0,
              "ticks": ""
             }
            },
            "type": "scattermapbox"
           }
          ],
          "scatterpolar": [
           {
            "marker": {
             "colorbar": {
              "outlinewidth": 0,
              "ticks": ""
             }
            },
            "type": "scatterpolar"
           }
          ],
          "scatterpolargl": [
           {
            "marker": {
             "colorbar": {
              "outlinewidth": 0,
              "ticks": ""
             }
            },
            "type": "scatterpolargl"
           }
          ],
          "scatterternary": [
           {
            "marker": {
             "colorbar": {
              "outlinewidth": 0,
              "ticks": ""
             }
            },
            "type": "scatterternary"
           }
          ],
          "surface": [
           {
            "colorbar": {
             "outlinewidth": 0,
             "ticks": ""
            },
            "colorscale": [
             [
              0,
              "#0d0887"
             ],
             [
              0.1111111111111111,
              "#46039f"
             ],
             [
              0.2222222222222222,
              "#7201a8"
             ],
             [
              0.3333333333333333,
              "#9c179e"
             ],
             [
              0.4444444444444444,
              "#bd3786"
             ],
             [
              0.5555555555555556,
              "#d8576b"
             ],
             [
              0.6666666666666666,
              "#ed7953"
             ],
             [
              0.7777777777777778,
              "#fb9f3a"
             ],
             [
              0.8888888888888888,
              "#fdca26"
             ],
             [
              1,
              "#f0f921"
             ]
            ],
            "type": "surface"
           }
          ],
          "table": [
           {
            "cells": {
             "fill": {
              "color": "#EBF0F8"
             },
             "line": {
              "color": "white"
             }
            },
            "header": {
             "fill": {
              "color": "#C8D4E3"
             },
             "line": {
              "color": "white"
             }
            },
            "type": "table"
           }
          ]
         },
         "layout": {
          "annotationdefaults": {
           "arrowcolor": "#2a3f5f",
           "arrowhead": 0,
           "arrowwidth": 1
          },
          "autotypenumbers": "strict",
          "coloraxis": {
           "colorbar": {
            "outlinewidth": 0,
            "ticks": ""
           }
          },
          "colorscale": {
           "diverging": [
            [
             0,
             "#8e0152"
            ],
            [
             0.1,
             "#c51b7d"
            ],
            [
             0.2,
             "#de77ae"
            ],
            [
             0.3,
             "#f1b6da"
            ],
            [
             0.4,
             "#fde0ef"
            ],
            [
             0.5,
             "#f7f7f7"
            ],
            [
             0.6,
             "#e6f5d0"
            ],
            [
             0.7,
             "#b8e186"
            ],
            [
             0.8,
             "#7fbc41"
            ],
            [
             0.9,
             "#4d9221"
            ],
            [
             1,
             "#276419"
            ]
           ],
           "sequential": [
            [
             0,
             "#0d0887"
            ],
            [
             0.1111111111111111,
             "#46039f"
            ],
            [
             0.2222222222222222,
             "#7201a8"
            ],
            [
             0.3333333333333333,
             "#9c179e"
            ],
            [
             0.4444444444444444,
             "#bd3786"
            ],
            [
             0.5555555555555556,
             "#d8576b"
            ],
            [
             0.6666666666666666,
             "#ed7953"
            ],
            [
             0.7777777777777778,
             "#fb9f3a"
            ],
            [
             0.8888888888888888,
             "#fdca26"
            ],
            [
             1,
             "#f0f921"
            ]
           ],
           "sequentialminus": [
            [
             0,
             "#0d0887"
            ],
            [
             0.1111111111111111,
             "#46039f"
            ],
            [
             0.2222222222222222,
             "#7201a8"
            ],
            [
             0.3333333333333333,
             "#9c179e"
            ],
            [
             0.4444444444444444,
             "#bd3786"
            ],
            [
             0.5555555555555556,
             "#d8576b"
            ],
            [
             0.6666666666666666,
             "#ed7953"
            ],
            [
             0.7777777777777778,
             "#fb9f3a"
            ],
            [
             0.8888888888888888,
             "#fdca26"
            ],
            [
             1,
             "#f0f921"
            ]
           ]
          },
          "colorway": [
           "#636efa",
           "#EF553B",
           "#00cc96",
           "#ab63fa",
           "#FFA15A",
           "#19d3f3",
           "#FF6692",
           "#B6E880",
           "#FF97FF",
           "#FECB52"
          ],
          "font": {
           "color": "#2a3f5f"
          },
          "geo": {
           "bgcolor": "white",
           "lakecolor": "white",
           "landcolor": "#E5ECF6",
           "showlakes": true,
           "showland": true,
           "subunitcolor": "white"
          },
          "hoverlabel": {
           "align": "left"
          },
          "hovermode": "closest",
          "mapbox": {
           "style": "light"
          },
          "paper_bgcolor": "white",
          "plot_bgcolor": "#E5ECF6",
          "polar": {
           "angularaxis": {
            "gridcolor": "white",
            "linecolor": "white",
            "ticks": ""
           },
           "bgcolor": "#E5ECF6",
           "radialaxis": {
            "gridcolor": "white",
            "linecolor": "white",
            "ticks": ""
           }
          },
          "scene": {
           "xaxis": {
            "backgroundcolor": "#E5ECF6",
            "gridcolor": "white",
            "gridwidth": 2,
            "linecolor": "white",
            "showbackground": true,
            "ticks": "",
            "zerolinecolor": "white"
           },
           "yaxis": {
            "backgroundcolor": "#E5ECF6",
            "gridcolor": "white",
            "gridwidth": 2,
            "linecolor": "white",
            "showbackground": true,
            "ticks": "",
            "zerolinecolor": "white"
           },
           "zaxis": {
            "backgroundcolor": "#E5ECF6",
            "gridcolor": "white",
            "gridwidth": 2,
            "linecolor": "white",
            "showbackground": true,
            "ticks": "",
            "zerolinecolor": "white"
           }
          },
          "shapedefaults": {
           "line": {
            "color": "#2a3f5f"
           }
          },
          "ternary": {
           "aaxis": {
            "gridcolor": "white",
            "linecolor": "white",
            "ticks": ""
           },
           "baxis": {
            "gridcolor": "white",
            "linecolor": "white",
            "ticks": ""
           },
           "bgcolor": "#E5ECF6",
           "caxis": {
            "gridcolor": "white",
            "linecolor": "white",
            "ticks": ""
           }
          },
          "title": {
           "x": 0.05
          },
          "xaxis": {
           "automargin": true,
           "gridcolor": "white",
           "linecolor": "white",
           "ticks": "",
           "title": {
            "standoff": 15
           },
           "zerolinecolor": "white",
           "zerolinewidth": 2
          },
          "yaxis": {
           "automargin": true,
           "gridcolor": "white",
           "linecolor": "white",
           "ticks": "",
           "title": {
            "standoff": 15
           },
           "zerolinecolor": "white",
           "zerolinewidth": 2
          }
         }
        },
        "title": {
         "text": "Precio total por estado de solicitud"
        },
        "xaxis": {
         "anchor": "y",
         "domain": [
          0,
          1
         ],
         "title": {
          "text": "Precio total"
         }
        },
        "yaxis": {
         "anchor": "x",
         "categoryarray": [
          "completa",
          "amedias",
          "presupuesto_calculado"
         ],
         "categoryorder": "array",
         "domain": [
          0,
          1
         ],
         "title": {
          "text": " "
         }
        }
       }
      }
     },
     "metadata": {},
     "output_type": "display_data"
    },
    {
     "name": "stdout",
     "output_type": "stream",
     "text": [
      "[\"El rango de precios solicitados de 'amedias' está entre 150.0 y 330.0.\", \"El rango de precios solicitados de 'completa' está entre 168.0 y 246.0.\", \"El rango de precios solicitados de 'presupuesto_calculado' está entre 120.0 y 300.0.\"]\n"
     ]
    }
   ],
   "source": [
    "fig = px.box(dj_max, x='estimacionPrecioTotal',\n",
    "             y='estado_solicitud',\n",
    "             color='estado_solicitud',\n",
    "             boxmode='overlay')\n",
    "\n",
    "fig.update_layout(\n",
    "    title=\"Precio total por estado de solicitud\",  \n",
    "    xaxis_title=\"Precio total\", \n",
    "    yaxis_title=\" \",  \n",
    "    showlegend=False \n",
    ")\n",
    "\n",
    "# Percentiles, mediana, y media por estado de solicitud\n",
    "grouped_data = dj_max.groupby('estado_solicitud')['estimacionPrecioTotal']\n",
    "annotations = []\n",
    "for name, group in grouped_data:\n",
    "    q1 = group.quantile(0.25)\n",
    "    q3 = group.quantile(0.75)\n",
    "    text = f\"El rango de precios solicitados de '{name}' está entre {q1} y {q3}.\"\n",
    "    annotations.append(text)\n",
    "fig.show()\n",
    "print(annotations)"
   ]
  },
  {
   "cell_type": "code",
   "execution_count": 183,
   "metadata": {},
   "outputs": [
    {
     "data": {
      "image/png": "[encoded data removed]",
      "text/plain": [
       "<Figure size 709.375x500 with 1 Axes>"
      ]
     },
     "metadata": {},
     "output_type": "display_data"
    }
   ],
   "source": [
    "sns.catplot(x='calculadora_formato_musico', y= 'estimacionPrecioTotal', hue=\"estado_solicitud\", data=mus_max);"
   ]
  },
  {
   "cell_type": "code",
   "execution_count": 184,
   "metadata": {},
   "outputs": [
    {
     "data": {
      "image/png": "[encoded data removed]",
      "text/plain": [
       "<Figure size 709.375x500 with 1 Axes>"
      ]
     },
     "metadata": {},
     "output_type": "display_data"
    }
   ],
   "source": [
    "sns.catplot(x='calculadora_formato_musico', \n",
    "            y='estimacionPrecioTotal', \n",
    "            hue='estado_solicitud', \n",
    "            data=mus_max,\n",
    "            )\n",
    "plt.title('Dispersión de precios por formato de músico')\n",
    "plt.xlabel('Formato')\n",
    "plt.ylabel('Precio total')\n",
    "plt.xticks(range(len(custom_labels)), custom_labels,rotation=30)\n",
    "\n",
    "\n",
    "plt.show()\n",
    "\n"
   ]
  },
  {
   "cell_type": "code",
   "execution_count": null,
   "metadata": {},
   "outputs": [],
   "source": []
  },
  {
   "cell_type": "code",
   "execution_count": 185,
   "metadata": {},
   "outputs": [
    {
     "data": {
      "image/png": "[encoded data removed]",
      "text/plain": [
       "<Figure size 640x480 with 1 Axes>"
      ]
     },
     "metadata": {},
     "output_type": "display_data"
    }
   ],
   "source": [
    "\n",
    "sns.countplot(dj_max,\n",
    "            x='estado_solicitud',  \n",
    "            hue='estado_solicitud', \n",
    "            \n",
    "            )\n",
    "plt.title('Dispersión de precios por formato de músico')\n",
    "plt.xlabel('Estado solicitud')\n",
    "plt.ylabel('Precio total')\n",
    "\n",
    "\n",
    "\n",
    "plt.show()"
   ]
  },
  {
   "cell_type": "code",
   "execution_count": 186,
   "metadata": {},
   "outputs": [
    {
     "data": {
      "text/html": [
       "<div>\n",
       "<style scoped>\n",
       "    .dataframe tbody tr th:only-of-type {\n",
       "        vertical-align: middle;\n",
       "    }\n",
       "\n",
       "    .dataframe tbody tr th {\n",
       "        vertical-align: top;\n",
       "    }\n",
       "\n",
       "    .dataframe thead th {\n",
       "        text-align: right;\n",
       "    }\n",
       "</style>\n",
       "<table border=\"1\" class=\"dataframe\">\n",
       "  <thead>\n",
       "    <tr style=\"text-align: right;\">\n",
       "      <th></th>\n",
       "      <th>estimacionPrecioTotal</th>\n",
       "      <th>calculadora_horas_actuacion</th>\n",
       "      <th>estado_solicitud</th>\n",
       "      <th>calculadora_numero_invitados</th>\n",
       "      <th>calculadora_formato_musico</th>\n",
       "      <th>calculadora_provincia_evento</th>\n",
       "    </tr>\n",
       "  </thead>\n",
       "  <tbody>\n",
       "    <tr>\n",
       "      <th>347</th>\n",
       "      <td>84.0</td>\n",
       "      <td>1.0</td>\n",
       "      <td>completa</td>\n",
       "      <td>20.0</td>\n",
       "      <td>Solista</td>\n",
       "      <td>Madrid</td>\n",
       "    </tr>\n",
       "  </tbody>\n",
       "</table>\n",
       "</div>"
      ],
      "text/plain": [
       "     estimacionPrecioTotal  calculadora_horas_actuacion estado_solicitud  \\\n",
       "347                   84.0                          1.0         completa   \n",
       "\n",
       "     calculadora_numero_invitados calculadora_formato_musico  \\\n",
       "347                          20.0                    Solista   \n",
       "\n",
       "    calculadora_provincia_evento  \n",
       "347                       Madrid  "
      ]
     },
     "execution_count": 186,
     "metadata": {},
     "output_type": "execute_result"
    }
   ],
   "source": [
    "mus_max.head(1)"
   ]
  },
  {
   "attachments": {},
   "cell_type": "markdown",
   "metadata": {},
   "source": [
    "### ¿Qué músicos son los más solicitados?"
   ]
  },
  {
   "cell_type": "code",
   "execution_count": 187,
   "metadata": {},
   "outputs": [],
   "source": [
    "dj = sol_musicos[sol_musicos['calculadora_musico_tipo'] == 'DJ']\n",
    "mus = sol_musicos[sol_musicos['calculadora_musico_tipo'] == 'Músico']  "
   ]
  },
  {
   "cell_type": "code",
   "execution_count": 188,
   "metadata": {},
   "outputs": [
    {
     "data": {
      "text/html": [
       "<div>\n",
       "<style scoped>\n",
       "    .dataframe tbody tr th:only-of-type {\n",
       "        vertical-align: middle;\n",
       "    }\n",
       "\n",
       "    .dataframe tbody tr th {\n",
       "        vertical-align: top;\n",
       "    }\n",
       "\n",
       "    .dataframe thead th {\n",
       "        text-align: right;\n",
       "    }\n",
       "</style>\n",
       "<table border=\"1\" class=\"dataframe\">\n",
       "  <thead>\n",
       "    <tr style=\"text-align: right;\">\n",
       "      <th></th>\n",
       "      <th>calculadora_musico_provincia</th>\n",
       "      <th>calculadora_musico_nombre_artistico</th>\n",
       "      <th>count</th>\n",
       "    </tr>\n",
       "  </thead>\n",
       "  <tbody>\n",
       "    <tr>\n",
       "      <th>0</th>\n",
       "      <td>Albacete</td>\n",
       "      <td>aitor_musico</td>\n",
       "      <td>9</td>\n",
       "    </tr>\n",
       "    <tr>\n",
       "      <th>1</th>\n",
       "      <td>Albacete</td>\n",
       "      <td>Julia Martínez</td>\n",
       "      <td>3</td>\n",
       "    </tr>\n",
       "    <tr>\n",
       "      <th>2</th>\n",
       "      <td>Albacete</td>\n",
       "      <td>Kalifornia Party band</td>\n",
       "      <td>1</td>\n",
       "    </tr>\n",
       "    <tr>\n",
       "      <th>3</th>\n",
       "      <td>Alicante</td>\n",
       "      <td>DOCTOR JAVA</td>\n",
       "      <td>4</td>\n",
       "    </tr>\n",
       "    <tr>\n",
       "      <th>4</th>\n",
       "      <td>Alicante</td>\n",
       "      <td>The Zlyppers</td>\n",
       "      <td>3</td>\n",
       "    </tr>\n",
       "    <tr>\n",
       "      <th>...</th>\n",
       "      <td>...</td>\n",
       "      <td>...</td>\n",
       "      <td>...</td>\n",
       "    </tr>\n",
       "    <tr>\n",
       "      <th>211</th>\n",
       "      <td>Zaragoza</td>\n",
       "      <td>ALEXIA PARRA</td>\n",
       "      <td>1</td>\n",
       "    </tr>\n",
       "    <tr>\n",
       "      <th>212</th>\n",
       "      <td>Zaragoza</td>\n",
       "      <td>La Buena Onda con Jadey</td>\n",
       "      <td>1</td>\n",
       "    </tr>\n",
       "    <tr>\n",
       "      <th>213</th>\n",
       "      <td>Álava</td>\n",
       "      <td>KRN</td>\n",
       "      <td>1</td>\n",
       "    </tr>\n",
       "    <tr>\n",
       "      <th>214</th>\n",
       "      <td>Ávila</td>\n",
       "      <td>LUNA LLENA</td>\n",
       "      <td>1</td>\n",
       "    </tr>\n",
       "    <tr>\n",
       "      <th>215</th>\n",
       "      <td>Ávila</td>\n",
       "      <td>Minkee</td>\n",
       "      <td>1</td>\n",
       "    </tr>\n",
       "  </tbody>\n",
       "</table>\n",
       "<p>216 rows × 3 columns</p>\n",
       "</div>"
      ],
      "text/plain": [
       "    calculadora_musico_provincia calculadora_musico_nombre_artistico  count\n",
       "0                       Albacete                        aitor_musico      9\n",
       "1                       Albacete                      Julia Martínez      3\n",
       "2                       Albacete               Kalifornia Party band      1\n",
       "3                       Alicante                         DOCTOR JAVA      4\n",
       "4                       Alicante                        The Zlyppers      3\n",
       "..                           ...                                 ...    ...\n",
       "211                     Zaragoza                        ALEXIA PARRA      1\n",
       "212                     Zaragoza             La Buena Onda con Jadey      1\n",
       "213                        Álava                                 KRN      1\n",
       "214                        Ávila                          LUNA LLENA      1\n",
       "215                        Ávila                              Minkee      1\n",
       "\n",
       "[216 rows x 3 columns]"
      ]
     },
     "execution_count": 188,
     "metadata": {},
     "output_type": "execute_result"
    }
   ],
   "source": [
    "mus_count = mus.groupby('calculadora_musico_provincia',as_index=False)[['calculadora_musico_nombre_artistico']].value_counts()\n",
    "mus_count"
   ]
  },
  {
   "cell_type": "code",
   "execution_count": 191,
   "metadata": {},
   "outputs": [
    {
     "data": {
      "application/vnd.plotly.v1+json": {
       "config": {
        "plotlyServerURL": "https://plot.ly"
       },
       "data": [
        {
         "alignmentgroup": "True",
         "bingroup": "x",
         "histfunc": "sum",
         "hovertemplate": "calculadora_musico_provincia=Albacete<br>calculadora_musico_nombre_artistico=%{x}<br>sum of count=%{y}<extra></extra>",
         "legendgroup": "Albacete",
         "marker": {
          "color": "#636efa",
          "pattern": {
           "shape": ""
          }
         },
         "name": "Albacete",
         "offsetgroup": "Albacete",
         "orientation": "v",
         "showlegend": true,
         "type": "histogram",
         "x": [
          "aitor_musico"
         ],
         "xaxis": "x",
         "y": [
          9
         ],
         "yaxis": "y"
        },
        {
         "alignmentgroup": "True",
         "bingroup": "x",
         "histfunc": "sum",
         "hovertemplate": "calculadora_musico_provincia=Alicante<br>calculadora_musico_nombre_artistico=%{x}<br>sum of count=%{y}<extra></extra>",
         "legendgroup": "Alicante",
         "marker": {
          "color": "#EF553B",
          "pattern": {
           "shape": ""
          }
         },
         "name": "Alicante",
         "offsetgroup": "Alicante",
         "orientation": "v",
         "showlegend": true,
         "type": "histogram",
         "x": [
          "DOCTOR JAVA"
         ],
         "xaxis": "x",
         "y": [
          4
         ],
         "yaxis": "y"
        },
        {
         "alignmentgroup": "True",
         "bingroup": "x",
         "histfunc": "sum",
         "hovertemplate": "calculadora_musico_provincia=Barcelona<br>calculadora_musico_nombre_artistico=%{x}<br>sum of count=%{y}<extra></extra>",
         "legendgroup": "Barcelona",
         "marker": {
          "color": "#00cc96",
          "pattern": {
           "shape": ""
          }
         },
         "name": "Barcelona",
         "offsetgroup": "Barcelona",
         "orientation": "v",
         "showlegend": true,
         "type": "histogram",
         "x": [
          "LA CHICA DE AYER",
          "Leen Loud Music",
          "Nathalia"
         ],
         "xaxis": "x",
         "y": [
          6,
          4,
          4
         ],
         "yaxis": "y"
        },
        {
         "alignmentgroup": "True",
         "bingroup": "x",
         "histfunc": "sum",
         "hovertemplate": "calculadora_musico_provincia=León<br>calculadora_musico_nombre_artistico=%{x}<br>sum of count=%{y}<extra></extra>",
         "legendgroup": "León",
         "marker": {
          "color": "#ab63fa",
          "pattern": {
           "shape": ""
          }
         },
         "name": "León",
         "offsetgroup": "León",
         "orientation": "v",
         "showlegend": true,
         "type": "histogram",
         "x": [
          "Eco & Éle"
         ],
         "xaxis": "x",
         "y": [
          5
         ],
         "yaxis": "y"
        },
        {
         "alignmentgroup": "True",
         "bingroup": "x",
         "histfunc": "sum",
         "hovertemplate": "calculadora_musico_provincia=Madrid<br>calculadora_musico_nombre_artistico=%{x}<br>sum of count=%{y}<extra></extra>",
         "legendgroup": "Madrid",
         "marker": {
          "color": "#FFA15A",
          "pattern": {
           "shape": ""
          }
         },
         "name": "Madrid",
         "offsetgroup": "Madrid",
         "orientation": "v",
         "showlegend": true,
         "type": "histogram",
         "x": [
          "Guilan",
          "Rústica",
          "Rock-Olas",
          "aitor_musico",
          "Arde la calle",
          "DZayasMusic",
          "RUMBITELS",
          "Joey Alonso",
          "JdV Co.",
          "Cada Loco con su Tema",
          "Spin Off",
          "Rober Marccu",
          "De la Huerta"
         ],
         "xaxis": "x",
         "y": [
          21,
          18,
          17,
          14,
          10,
          10,
          9,
          7,
          5,
          5,
          5,
          5,
          4
         ],
         "yaxis": "y"
        },
        {
         "alignmentgroup": "True",
         "bingroup": "x",
         "histfunc": "sum",
         "hovertemplate": "calculadora_musico_provincia=Murcia<br>calculadora_musico_nombre_artistico=%{x}<br>sum of count=%{y}<extra></extra>",
         "legendgroup": "Murcia",
         "marker": {
          "color": "#19d3f3",
          "pattern": {
           "shape": ""
          }
         },
         "name": "Murcia",
         "offsetgroup": "Murcia",
         "orientation": "v",
         "showlegend": true,
         "type": "histogram",
         "x": [
          "RetroCD Rock Band"
         ],
         "xaxis": "x",
         "y": [
          4
         ],
         "yaxis": "y"
        },
        {
         "alignmentgroup": "True",
         "bingroup": "x",
         "histfunc": "sum",
         "hovertemplate": "calculadora_musico_provincia=Pontevedra<br>calculadora_musico_nombre_artistico=%{x}<br>sum of count=%{y}<extra></extra>",
         "legendgroup": "Pontevedra",
         "marker": {
          "color": "#FF6692",
          "pattern": {
           "shape": ""
          }
         },
         "name": "Pontevedra",
         "offsetgroup": "Pontevedra",
         "orientation": "v",
         "showlegend": true,
         "type": "histogram",
         "x": [
          "Blacklabel Duo"
         ],
         "xaxis": "x",
         "y": [
          4
         ],
         "yaxis": "y"
        },
        {
         "alignmentgroup": "True",
         "bingroup": "x",
         "histfunc": "sum",
         "hovertemplate": "calculadora_musico_provincia=Valencia<br>calculadora_musico_nombre_artistico=%{x}<br>sum of count=%{y}<extra></extra>",
         "legendgroup": "Valencia",
         "marker": {
          "color": "#B6E880",
          "pattern": {
           "shape": ""
          }
         },
         "name": "Valencia",
         "offsetgroup": "Valencia",
         "orientation": "v",
         "showlegend": true,
         "type": "histogram",
         "x": [
          "BOLA 80",
          "DRELO"
         ],
         "xaxis": "x",
         "y": [
          5,
          4
         ],
         "yaxis": "y"
        }
       ],
       "layout": {
        "barmode": "relative",
        "legend": {
         "title": {
          "text": "calculadora_musico_provincia"
         },
         "tracegroupgap": 0
        },
        "margin": {
         "t": 60
        },
        "template": {
         "data": {
          "bar": [
           {
            "error_x": {
             "color": "#2a3f5f"
            },
            "error_y": {
             "color": "#2a3f5f"
            },
            "marker": {
             "line": {
              "color": "#E5ECF6",
              "width": 0.5
             },
             "pattern": {
              "fillmode": "overlay",
              "size": 10,
              "solidity": 0.2
             }
            },
            "type": "bar"
           }
          ],
          "barpolar": [
           {
            "marker": {
             "line": {
              "color": "#E5ECF6",
              "width": 0.5
             },
             "pattern": {
              "fillmode": "overlay",
              "size": 10,
              "solidity": 0.2
             }
            },
            "type": "barpolar"
           }
          ],
          "carpet": [
           {
            "aaxis": {
             "endlinecolor": "#2a3f5f",
             "gridcolor": "white",
             "linecolor": "white",
             "minorgridcolor": "white",
             "startlinecolor": "#2a3f5f"
            },
            "baxis": {
             "endlinecolor": "#2a3f5f",
             "gridcolor": "white",
             "linecolor": "white",
             "minorgridcolor": "white",
             "startlinecolor": "#2a3f5f"
            },
            "type": "carpet"
           }
          ],
          "choropleth": [
           {
            "colorbar": {
             "outlinewidth": 0,
             "ticks": ""
            },
            "type": "choropleth"
           }
          ],
          "contour": [
           {
            "colorbar": {
             "outlinewidth": 0,
             "ticks": ""
            },
            "colorscale": [
             [
              0,
              "#0d0887"
             ],
             [
              0.1111111111111111,
              "#46039f"
             ],
             [
              0.2222222222222222,
              "#7201a8"
             ],
             [
              0.3333333333333333,
              "#9c179e"
             ],
             [
              0.4444444444444444,
              "#bd3786"
             ],
             [
              0.5555555555555556,
              "#d8576b"
             ],
             [
              0.6666666666666666,
              "#ed7953"
             ],
             [
              0.7777777777777778,
              "#fb9f3a"
             ],
             [
              0.8888888888888888,
              "#fdca26"
             ],
             [
              1,
              "#f0f921"
             ]
            ],
            "type": "contour"
           }
          ],
          "contourcarpet": [
           {
            "colorbar": {
             "outlinewidth": 0,
             "ticks": ""
            },
            "type": "contourcarpet"
           }
          ],
          "heatmap": [
           {
            "colorbar": {
             "outlinewidth": 0,
             "ticks": ""
            },
            "colorscale": [
             [
              0,
              "#0d0887"
             ],
             [
              0.1111111111111111,
              "#46039f"
             ],
             [
              0.2222222222222222,
              "#7201a8"
             ],
             [
              0.3333333333333333,
              "#9c179e"
             ],
             [
              0.4444444444444444,
              "#bd3786"
             ],
             [
              0.5555555555555556,
              "#d8576b"
             ],
             [
              0.6666666666666666,
              "#ed7953"
             ],
             [
              0.7777777777777778,
              "#fb9f3a"
             ],
             [
              0.8888888888888888,
              "#fdca26"
             ],
             [
              1,
              "#f0f921"
             ]
            ],
            "type": "heatmap"
           }
          ],
          "heatmapgl": [
           {
            "colorbar": {
             "outlinewidth": 0,
             "ticks": ""
            },
            "colorscale": [
             [
              0,
              "#0d0887"
             ],
             [
              0.1111111111111111,
              "#46039f"
             ],
             [
              0.2222222222222222,
              "#7201a8"
             ],
             [
              0.3333333333333333,
              "#9c179e"
             ],
             [
              0.4444444444444444,
              "#bd3786"
             ],
             [
              0.5555555555555556,
              "#d8576b"
             ],
             [
              0.6666666666666666,
              "#ed7953"
             ],
             [
              0.7777777777777778,
              "#fb9f3a"
             ],
             [
              0.8888888888888888,
              "#fdca26"
             ],
             [
              1,
              "#f0f921"
             ]
            ],
            "type": "heatmapgl"
           }
          ],
          "histogram": [
           {
            "marker": {
             "pattern": {
              "fillmode": "overlay",
              "size": 10,
              "solidity": 0.2
             }
            },
            "type": "histogram"
           }
          ],
          "histogram2d": [
           {
            "colorbar": {
             "outlinewidth": 0,
             "ticks": ""
            },
            "colorscale": [
             [
              0,
              "#0d0887"
             ],
             [
              0.1111111111111111,
              "#46039f"
             ],
             [
              0.2222222222222222,
              "#7201a8"
             ],
             [
              0.3333333333333333,
              "#9c179e"
             ],
             [
              0.4444444444444444,
              "#bd3786"
             ],
             [
              0.5555555555555556,
              "#d8576b"
             ],
             [
              0.6666666666666666,
              "#ed7953"
             ],
             [
              0.7777777777777778,
              "#fb9f3a"
             ],
             [
              0.8888888888888888,
              "#fdca26"
             ],
             [
              1,
              "#f0f921"
             ]
            ],
            "type": "histogram2d"
           }
          ],
          "histogram2dcontour": [
           {
            "colorbar": {
             "outlinewidth": 0,
             "ticks": ""
            },
            "colorscale": [
             [
              0,
              "#0d0887"
             ],
             [
              0.1111111111111111,
              "#46039f"
             ],
             [
              0.2222222222222222,
              "#7201a8"
             ],
             [
              0.3333333333333333,
              "#9c179e"
             ],
             [
              0.4444444444444444,
              "#bd3786"
             ],
             [
              0.5555555555555556,
              "#d8576b"
             ],
             [
              0.6666666666666666,
              "#ed7953"
             ],
             [
              0.7777777777777778,
              "#fb9f3a"
             ],
             [
              0.8888888888888888,
              "#fdca26"
             ],
             [
              1,
              "#f0f921"
             ]
            ],
            "type": "histogram2dcontour"
           }
          ],
          "mesh3d": [
           {
            "colorbar": {
             "outlinewidth": 0,
             "ticks": ""
            },
            "type": "mesh3d"
           }
          ],
          "parcoords": [
           {
            "line": {
             "colorbar": {
              "outlinewidth": 0,
              "ticks": ""
             }
            },
            "type": "parcoords"
           }
          ],
          "pie": [
           {
            "automargin": true,
            "type": "pie"
           }
          ],
          "scatter": [
           {
            "fillpattern": {
             "fillmode": "overlay",
             "size": 10,
             "solidity": 0.2
            },
            "type": "scatter"
           }
          ],
          "scatter3d": [
           {
            "line": {
             "colorbar": {
              "outlinewidth": 0,
              "ticks": ""
             }
            },
            "marker": {
             "colorbar": {
              "outlinewidth": 0,
              "ticks": ""
             }
            },
            "type": "scatter3d"
           }
          ],
          "scattercarpet": [
           {
            "marker": {
             "colorbar": {
              "outlinewidth": 0,
              "ticks": ""
             }
            },
            "type": "scattercarpet"
           }
          ],
          "scattergeo": [
           {
            "marker": {
             "colorbar": {
              "outlinewidth": 0,
              "ticks": ""
             }
            },
            "type": "scattergeo"
           }
          ],
          "scattergl": [
           {
            "marker": {
             "colorbar": {
              "outlinewidth": 0,
              "ticks": ""
             }
            },
            "type": "scattergl"
           }
          ],
          "scattermapbox": [
           {
            "marker": {
             "colorbar": {
              "outlinewidth": 0,
              "ticks": ""
             }
            },
            "type": "scattermapbox"
           }
          ],
          "scatterpolar": [
           {
            "marker": {
             "colorbar": {
              "outlinewidth": 0,
              "ticks": ""
             }
            },
            "type": "scatterpolar"
           }
          ],
          "scatterpolargl": [
           {
            "marker": {
             "colorbar": {
              "outlinewidth": 0,
              "ticks": ""
             }
            },
            "type": "scatterpolargl"
           }
          ],
          "scatterternary": [
           {
            "marker": {
             "colorbar": {
              "outlinewidth": 0,
              "ticks": ""
             }
            },
            "type": "scatterternary"
           }
          ],
          "surface": [
           {
            "colorbar": {
             "outlinewidth": 0,
             "ticks": ""
            },
            "colorscale": [
             [
              0,
              "#0d0887"
             ],
             [
              0.1111111111111111,
              "#46039f"
             ],
             [
              0.2222222222222222,
              "#7201a8"
             ],
             [
              0.3333333333333333,
              "#9c179e"
             ],
             [
              0.4444444444444444,
              "#bd3786"
             ],
             [
              0.5555555555555556,
              "#d8576b"
             ],
             [
              0.6666666666666666,
              "#ed7953"
             ],
             [
              0.7777777777777778,
              "#fb9f3a"
             ],
             [
              0.8888888888888888,
              "#fdca26"
             ],
             [
              1,
              "#f0f921"
             ]
            ],
            "type": "surface"
           }
          ],
          "table": [
           {
            "cells": {
             "fill": {
              "color": "#EBF0F8"
             },
             "line": {
              "color": "white"
             }
            },
            "header": {
             "fill": {
              "color": "#C8D4E3"
             },
             "line": {
              "color": "white"
             }
            },
            "type": "table"
           }
          ]
         },
         "layout": {
          "annotationdefaults": {
           "arrowcolor": "#2a3f5f",
           "arrowhead": 0,
           "arrowwidth": 1
          },
          "autotypenumbers": "strict",
          "coloraxis": {
           "colorbar": {
            "outlinewidth": 0,
            "ticks": ""
           }
          },
          "colorscale": {
           "diverging": [
            [
             0,
             "#8e0152"
            ],
            [
             0.1,
             "#c51b7d"
            ],
            [
             0.2,
             "#de77ae"
            ],
            [
             0.3,
             "#f1b6da"
            ],
            [
             0.4,
             "#fde0ef"
            ],
            [
             0.5,
             "#f7f7f7"
            ],
            [
             0.6,
             "#e6f5d0"
            ],
            [
             0.7,
             "#b8e186"
            ],
            [
             0.8,
             "#7fbc41"
            ],
            [
             0.9,
             "#4d9221"
            ],
            [
             1,
             "#276419"
            ]
           ],
           "sequential": [
            [
             0,
             "#0d0887"
            ],
            [
             0.1111111111111111,
             "#46039f"
            ],
            [
             0.2222222222222222,
             "#7201a8"
            ],
            [
             0.3333333333333333,
             "#9c179e"
            ],
            [
             0.4444444444444444,
             "#bd3786"
            ],
            [
             0.5555555555555556,
             "#d8576b"
            ],
            [
             0.6666666666666666,
             "#ed7953"
            ],
            [
             0.7777777777777778,
             "#fb9f3a"
            ],
            [
             0.8888888888888888,
             "#fdca26"
            ],
            [
             1,
             "#f0f921"
            ]
           ],
           "sequentialminus": [
            [
             0,
             "#0d0887"
            ],
            [
             0.1111111111111111,
             "#46039f"
            ],
            [
             0.2222222222222222,
             "#7201a8"
            ],
            [
             0.3333333333333333,
             "#9c179e"
            ],
            [
             0.4444444444444444,
             "#bd3786"
            ],
            [
             0.5555555555555556,
             "#d8576b"
            ],
            [
             0.6666666666666666,
             "#ed7953"
            ],
            [
             0.7777777777777778,
             "#fb9f3a"
            ],
            [
             0.8888888888888888,
             "#fdca26"
            ],
            [
             1,
             "#f0f921"
            ]
           ]
          },
          "colorway": [
           "#636efa",
           "#EF553B",
           "#00cc96",
           "#ab63fa",
           "#FFA15A",
           "#19d3f3",
           "#FF6692",
           "#B6E880",
           "#FF97FF",
           "#FECB52"
          ],
          "font": {
           "color": "#2a3f5f"
          },
          "geo": {
           "bgcolor": "white",
           "lakecolor": "white",
           "landcolor": "#E5ECF6",
           "showlakes": true,
           "showland": true,
           "subunitcolor": "white"
          },
          "hoverlabel": {
           "align": "left"
          },
          "hovermode": "closest",
          "mapbox": {
           "style": "light"
          },
          "paper_bgcolor": "white",
          "plot_bgcolor": "#E5ECF6",
          "polar": {
           "angularaxis": {
            "gridcolor": "white",
            "linecolor": "white",
            "ticks": ""
           },
           "bgcolor": "#E5ECF6",
           "radialaxis": {
            "gridcolor": "white",
            "linecolor": "white",
            "ticks": ""
           }
          },
          "scene": {
           "xaxis": {
            "backgroundcolor": "#E5ECF6",
            "gridcolor": "white",
            "gridwidth": 2,
            "linecolor": "white",
            "showbackground": true,
            "ticks": "",
            "zerolinecolor": "white"
           },
           "yaxis": {
            "backgroundcolor": "#E5ECF6",
            "gridcolor": "white",
            "gridwidth": 2,
            "linecolor": "white",
            "showbackground": true,
            "ticks": "",
            "zerolinecolor": "white"
           },
           "zaxis": {
            "backgroundcolor": "#E5ECF6",
            "gridcolor": "white",
            "gridwidth": 2,
            "linecolor": "white",
            "showbackground": true,
            "ticks": "",
            "zerolinecolor": "white"
           }
          },
          "shapedefaults": {
           "line": {
            "color": "#2a3f5f"
           }
          },
          "ternary": {
           "aaxis": {
            "gridcolor": "white",
            "linecolor": "white",
            "ticks": ""
           },
           "baxis": {
            "gridcolor": "white",
            "linecolor": "white",
            "ticks": ""
           },
           "bgcolor": "#E5ECF6",
           "caxis": {
            "gridcolor": "white",
            "linecolor": "white",
            "ticks": ""
           }
          },
          "title": {
           "x": 0.05
          },
          "xaxis": {
           "automargin": true,
           "gridcolor": "white",
           "linecolor": "white",
           "ticks": "",
           "title": {
            "standoff": 15
           },
           "zerolinecolor": "white",
           "zerolinewidth": 2
          },
          "yaxis": {
           "automargin": true,
           "gridcolor": "white",
           "linecolor": "white",
           "ticks": "",
           "title": {
            "standoff": 15
           },
           "zerolinecolor": "white",
           "zerolinewidth": 2
          }
         }
        },
        "xaxis": {
         "anchor": "y",
         "domain": [
          0,
          1
         ],
         "title": {
          "text": "calculadora_musico_nombre_artistico"
         }
        },
        "yaxis": {
         "anchor": "x",
         "domain": [
          0,
          1
         ],
         "title": {
          "text": "sum of count"
         }
        }
       }
      }
     },
     "metadata": {},
     "output_type": "display_data"
    }
   ],
   "source": [
    "mus_count = mus_count[mus_count['count'] > 3]\n",
    "\n",
    "\n",
    "fig = px.histogram(mus_count, \n",
    "                   x=\"calculadora_musico_nombre_artistico\", \n",
    "                   y = 'count', \n",
    "                   color='calculadora_musico_provincia')\n",
    "\n",
    "# fig.update_yaxes(range=[10, None])\n",
    "\n",
    "\n",
    "fig.show()"
   ]
  },
  {
   "cell_type": "code",
   "execution_count": 113,
   "metadata": {},
   "outputs": [
    {
     "data": {
      "text/html": [
       "<div>\n",
       "<style scoped>\n",
       "    .dataframe tbody tr th:only-of-type {\n",
       "        vertical-align: middle;\n",
       "    }\n",
       "\n",
       "    .dataframe tbody tr th {\n",
       "        vertical-align: top;\n",
       "    }\n",
       "\n",
       "    .dataframe thead th {\n",
       "        text-align: right;\n",
       "    }\n",
       "</style>\n",
       "<table border=\"1\" class=\"dataframe\">\n",
       "  <thead>\n",
       "    <tr style=\"text-align: right;\">\n",
       "      <th></th>\n",
       "      <th>calculadora_musico_provincia</th>\n",
       "      <th>calculadora_musico_nombre_artistico</th>\n",
       "      <th>count</th>\n",
       "    </tr>\n",
       "  </thead>\n",
       "  <tbody>\n",
       "    <tr>\n",
       "      <th>0</th>\n",
       "      <td>Albacete</td>\n",
       "      <td>aitor_musico</td>\n",
       "      <td>9</td>\n",
       "    </tr>\n",
       "    <tr>\n",
       "      <th>1</th>\n",
       "      <td>Albacete</td>\n",
       "      <td>Julia Martínez</td>\n",
       "      <td>3</td>\n",
       "    </tr>\n",
       "    <tr>\n",
       "      <th>3</th>\n",
       "      <td>Alicante</td>\n",
       "      <td>DOCTOR JAVA</td>\n",
       "      <td>4</td>\n",
       "    </tr>\n",
       "    <tr>\n",
       "      <th>4</th>\n",
       "      <td>Alicante</td>\n",
       "      <td>The Zlyppers</td>\n",
       "      <td>3</td>\n",
       "    </tr>\n",
       "    <tr>\n",
       "      <th>5</th>\n",
       "      <td>Alicante</td>\n",
       "      <td>The Latín Experience</td>\n",
       "      <td>2</td>\n",
       "    </tr>\n",
       "    <tr>\n",
       "      <th>...</th>\n",
       "      <td>...</td>\n",
       "      <td>...</td>\n",
       "      <td>...</td>\n",
       "    </tr>\n",
       "    <tr>\n",
       "      <th>204</th>\n",
       "      <td>Vizcaya</td>\n",
       "      <td>Meteorito J</td>\n",
       "      <td>3</td>\n",
       "    </tr>\n",
       "    <tr>\n",
       "      <th>205</th>\n",
       "      <td>Vizcaya</td>\n",
       "      <td>Kilometro cero</td>\n",
       "      <td>2</td>\n",
       "    </tr>\n",
       "    <tr>\n",
       "      <th>206</th>\n",
       "      <td>Vizcaya</td>\n",
       "      <td>TUTUKÁ</td>\n",
       "      <td>2</td>\n",
       "    </tr>\n",
       "    <tr>\n",
       "      <th>208</th>\n",
       "      <td>Zamora</td>\n",
       "      <td>Arre-Molke</td>\n",
       "      <td>2</td>\n",
       "    </tr>\n",
       "    <tr>\n",
       "      <th>209</th>\n",
       "      <td>Zaragoza</td>\n",
       "      <td>Alicia Zalis</td>\n",
       "      <td>2</td>\n",
       "    </tr>\n",
       "  </tbody>\n",
       "</table>\n",
       "<p>82 rows × 3 columns</p>\n",
       "</div>"
      ],
      "text/plain": [
       "    calculadora_musico_provincia calculadora_musico_nombre_artistico  count\n",
       "0                       Albacete                        aitor_musico      9\n",
       "1                       Albacete                      Julia Martínez      3\n",
       "3                       Alicante                         DOCTOR JAVA      4\n",
       "4                       Alicante                        The Zlyppers      3\n",
       "5                       Alicante                The Latín Experience      2\n",
       "..                           ...                                 ...    ...\n",
       "204                      Vizcaya                         Meteorito J      3\n",
       "205                      Vizcaya                      Kilometro cero      2\n",
       "206                      Vizcaya                              TUTUKÁ      2\n",
       "208                       Zamora                          Arre-Molke      2\n",
       "209                     Zaragoza                        Alicia Zalis      2\n",
       "\n",
       "[82 rows x 3 columns]"
      ]
     },
     "execution_count": 113,
     "metadata": {},
     "output_type": "execute_result"
    }
   ],
   "source": [
    "mus_count"
   ]
  }
 ],
 "metadata": {
  "kernelspec": {
   "display_name": "eda3",
   "language": "python",
   "name": "python3"
  },
  "language_info": {
   "codemirror_mode": {
    "name": "ipython",
    "version": 3
   },
   "file_extension": ".py",
   "mimetype": "text/x-python",
   "name": "python",
   "nbconvert_exporter": "python",
   "pygments_lexer": "ipython3",
   "version": "3.9.16"
  },
  "orig_nbformat": 4
 },
 "nbformat": 4,
 "nbformat_minor": 2
}
