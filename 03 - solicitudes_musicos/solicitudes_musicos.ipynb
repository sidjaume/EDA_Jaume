{
 "cells": [
  {
   "cell_type": "code",
   "execution_count": 134,
   "metadata": {},
   "outputs": [],
   "source": [
    "import pandas as pd\n",
    "import numpy as np\n",
    "import seaborn as sns\n",
    "import matplotlib.pyplot as plt\n",
    "import plotly.express as px\n",
    "import plotly.graph_objects as go\n",
    "import mplcyberpunk as pnk"
   ]
  },
  {
   "cell_type": "code",
   "execution_count": 135,
   "metadata": {},
   "outputs": [
    {
     "name": "stdout",
     "output_type": "stream",
     "text": [
      "<class 'pandas.core.frame.DataFrame'>\n",
      "RangeIndex: 547 entries, 0 to 546\n",
      "Data columns (total 16 columns):\n",
      " #   Column                               Non-Null Count  Dtype  \n",
      "---  ------                               --------------  -----  \n",
      " 0   id                                   547 non-null    int64  \n",
      " 1   Date                                 547 non-null    object \n",
      " 2   Title                                506 non-null    object \n",
      " 3   calculadora_musico_nombre_artistico  547 non-null    object \n",
      " 4   calculadora_musico_provincia         512 non-null    object \n",
      " 5   calculadora_musico_tipo              533 non-null    object \n",
      " 6   calculadora_provincia_evento         512 non-null    object \n",
      " 7   calculadora_numero_invitados         512 non-null    float64\n",
      " 8   calculadora_espacio_evento           512 non-null    object \n",
      " 9   calculadora_horas_actuacion          512 non-null    float64\n",
      " 10  calculadora_formato_musico           452 non-null    object \n",
      " 11  estimacionPrecioTotal                511 non-null    object \n",
      " 12  fech_evento                          335 non-null    object \n",
      " 13  calculadora_id_musico                418 non-null    float64\n",
      " 14  solicitud_calculada_paso             418 non-null    float64\n",
      " 15  estado_solicitud                     397 non-null    object \n",
      "dtypes: float64(4), int64(1), object(11)\n",
      "memory usage: 68.5+ KB\n"
     ]
    }
   ],
   "source": [
    "sol_musicos = pd.read_csv(r'E:\\OneDrive\\Data Science Bootcamp 2023\\jaume_eda\\03 - solicitudes_musicos\\solicitudes_musicos.csv',encoding='latin-1')\n",
    "sol_musicos.info()"
   ]
  },
  {
   "cell_type": "code",
   "execution_count": 136,
   "metadata": {},
   "outputs": [
    {
     "data": {
      "text/html": [
       "<div>\n",
       "<style scoped>\n",
       "    .dataframe tbody tr th:only-of-type {\n",
       "        vertical-align: middle;\n",
       "    }\n",
       "\n",
       "    .dataframe tbody tr th {\n",
       "        vertical-align: top;\n",
       "    }\n",
       "\n",
       "    .dataframe thead th {\n",
       "        text-align: right;\n",
       "    }\n",
       "</style>\n",
       "<table border=\"1\" class=\"dataframe\">\n",
       "  <thead>\n",
       "    <tr style=\"text-align: right;\">\n",
       "      <th></th>\n",
       "      <th>id</th>\n",
       "      <th>Date</th>\n",
       "      <th>Title</th>\n",
       "      <th>calculadora_musico_nombre_artistico</th>\n",
       "      <th>calculadora_musico_provincia</th>\n",
       "      <th>calculadora_musico_tipo</th>\n",
       "      <th>calculadora_provincia_evento</th>\n",
       "      <th>calculadora_numero_invitados</th>\n",
       "      <th>calculadora_espacio_evento</th>\n",
       "      <th>calculadora_horas_actuacion</th>\n",
       "      <th>calculadora_formato_musico</th>\n",
       "      <th>estimacionPrecioTotal</th>\n",
       "      <th>fech_evento</th>\n",
       "      <th>calculadora_id_musico</th>\n",
       "      <th>solicitud_calculada_paso</th>\n",
       "      <th>estado_solicitud</th>\n",
       "    </tr>\n",
       "  </thead>\n",
       "  <tbody>\n",
       "    <tr>\n",
       "      <th>0</th>\n",
       "      <td>31796</td>\n",
       "      <td>2023-03-10</td>\n",
       "      <td>NaN</td>\n",
       "      <td>Eva Páez</td>\n",
       "      <td>NaN</td>\n",
       "      <td>Músico</td>\n",
       "      <td>NaN</td>\n",
       "      <td>NaN</td>\n",
       "      <td>NaN</td>\n",
       "      <td>NaN</td>\n",
       "      <td>NaN</td>\n",
       "      <td>NaN</td>\n",
       "      <td>NaN</td>\n",
       "      <td>10989.0</td>\n",
       "      <td>1.0</td>\n",
       "      <td>NaN</td>\n",
       "    </tr>\n",
       "    <tr>\n",
       "      <th>1</th>\n",
       "      <td>31798</td>\n",
       "      <td>2023-03-10</td>\n",
       "      <td>NaN</td>\n",
       "      <td>Spin Off</td>\n",
       "      <td>NaN</td>\n",
       "      <td>Músico</td>\n",
       "      <td>NaN</td>\n",
       "      <td>NaN</td>\n",
       "      <td>NaN</td>\n",
       "      <td>NaN</td>\n",
       "      <td>NaN</td>\n",
       "      <td>NaN</td>\n",
       "      <td>NaN</td>\n",
       "      <td>8279.0</td>\n",
       "      <td>1.0</td>\n",
       "      <td>NaN</td>\n",
       "    </tr>\n",
       "    <tr>\n",
       "      <th>2</th>\n",
       "      <td>31799</td>\n",
       "      <td>2023-03-10</td>\n",
       "      <td>NaN</td>\n",
       "      <td>Kilometro cero</td>\n",
       "      <td>NaN</td>\n",
       "      <td>Músico</td>\n",
       "      <td>NaN</td>\n",
       "      <td>NaN</td>\n",
       "      <td>NaN</td>\n",
       "      <td>NaN</td>\n",
       "      <td>NaN</td>\n",
       "      <td>NaN</td>\n",
       "      <td>NaN</td>\n",
       "      <td>9421.0</td>\n",
       "      <td>1.0</td>\n",
       "      <td>NaN</td>\n",
       "    </tr>\n",
       "    <tr>\n",
       "      <th>3</th>\n",
       "      <td>31800</td>\n",
       "      <td>2023-03-10</td>\n",
       "      <td>NaN</td>\n",
       "      <td>Crazy Cabin</td>\n",
       "      <td>Madrid</td>\n",
       "      <td>Músico</td>\n",
       "      <td>Madrid</td>\n",
       "      <td>250.0</td>\n",
       "      <td>dentro</td>\n",
       "      <td>1.0</td>\n",
       "      <td>Solista</td>\n",
       "      <td>528</td>\n",
       "      <td>NaN</td>\n",
       "      <td>16158.0</td>\n",
       "      <td>2.0</td>\n",
       "      <td>NaN</td>\n",
       "    </tr>\n",
       "    <tr>\n",
       "      <th>4</th>\n",
       "      <td>31801</td>\n",
       "      <td>2023-03-10</td>\n",
       "      <td>Mensaje de  a Serotonina</td>\n",
       "      <td>Serotonina</td>\n",
       "      <td>NaN</td>\n",
       "      <td>NaN</td>\n",
       "      <td>NaN</td>\n",
       "      <td>NaN</td>\n",
       "      <td>NaN</td>\n",
       "      <td>NaN</td>\n",
       "      <td>NaN</td>\n",
       "      <td>NaN</td>\n",
       "      <td>NaN</td>\n",
       "      <td>NaN</td>\n",
       "      <td>NaN</td>\n",
       "      <td>NaN</td>\n",
       "    </tr>\n",
       "    <tr>\n",
       "      <th>...</th>\n",
       "      <td>...</td>\n",
       "      <td>...</td>\n",
       "      <td>...</td>\n",
       "      <td>...</td>\n",
       "      <td>...</td>\n",
       "      <td>...</td>\n",
       "      <td>...</td>\n",
       "      <td>...</td>\n",
       "      <td>...</td>\n",
       "      <td>...</td>\n",
       "      <td>...</td>\n",
       "      <td>...</td>\n",
       "      <td>...</td>\n",
       "      <td>...</td>\n",
       "      <td>...</td>\n",
       "      <td>...</td>\n",
       "    </tr>\n",
       "    <tr>\n",
       "      <th>542</th>\n",
       "      <td>44696</td>\n",
       "      <td>2023-06-20</td>\n",
       "      <td>Reserva - Arre-Molke</td>\n",
       "      <td>Arre-Molke</td>\n",
       "      <td>Zamora</td>\n",
       "      <td>Músico</td>\n",
       "      <td>Zamora</td>\n",
       "      <td>20.0</td>\n",
       "      <td>dentro</td>\n",
       "      <td>2.0</td>\n",
       "      <td>Banda con batería</td>\n",
       "      <td>1200</td>\n",
       "      <td>NaN</td>\n",
       "      <td>44683.0</td>\n",
       "      <td>2.0</td>\n",
       "      <td>presupuesto_calculado</td>\n",
       "    </tr>\n",
       "    <tr>\n",
       "      <th>543</th>\n",
       "      <td>44697</td>\n",
       "      <td>2023-06-20</td>\n",
       "      <td>Reserva - Arre-Molke</td>\n",
       "      <td>Arre-Molke</td>\n",
       "      <td>Zamora</td>\n",
       "      <td>Músico</td>\n",
       "      <td>Zamora</td>\n",
       "      <td>20.0</td>\n",
       "      <td>dentro</td>\n",
       "      <td>1.0</td>\n",
       "      <td>Banda con batería</td>\n",
       "      <td>960</td>\n",
       "      <td>NaN</td>\n",
       "      <td>44683.0</td>\n",
       "      <td>2.0</td>\n",
       "      <td>presupuesto_calculado</td>\n",
       "    </tr>\n",
       "    <tr>\n",
       "      <th>544</th>\n",
       "      <td>44734</td>\n",
       "      <td>2023-06-20</td>\n",
       "      <td>Reserva - Arde la calle</td>\n",
       "      <td>Arde la calle</td>\n",
       "      <td>Madrid</td>\n",
       "      <td>Músico</td>\n",
       "      <td>Ávila</td>\n",
       "      <td>50.0</td>\n",
       "      <td>aire</td>\n",
       "      <td>3.0</td>\n",
       "      <td>Dúo</td>\n",
       "      <td>632</td>\n",
       "      <td>2023-08-05</td>\n",
       "      <td>11405.0</td>\n",
       "      <td>3.0</td>\n",
       "      <td>amedias</td>\n",
       "    </tr>\n",
       "    <tr>\n",
       "      <th>545</th>\n",
       "      <td>44762</td>\n",
       "      <td>2023-06-21</td>\n",
       "      <td>Reserva - DZayasMusic</td>\n",
       "      <td>DZayasMusic</td>\n",
       "      <td>Madrid</td>\n",
       "      <td>Músico</td>\n",
       "      <td>Madrid</td>\n",
       "      <td>100.0</td>\n",
       "      <td>dentro</td>\n",
       "      <td>2.0</td>\n",
       "      <td>Solista</td>\n",
       "      <td>420</td>\n",
       "      <td>NaN</td>\n",
       "      <td>5382.0</td>\n",
       "      <td>2.0</td>\n",
       "      <td>presupuesto_calculado</td>\n",
       "    </tr>\n",
       "    <tr>\n",
       "      <th>546</th>\n",
       "      <td>44921</td>\n",
       "      <td>2023-06-21</td>\n",
       "      <td>Reserva - CAPITAN NEMO COVER BAND</td>\n",
       "      <td>CAPITAN NEMO COVER BAND</td>\n",
       "      <td>Murcia</td>\n",
       "      <td>Músico</td>\n",
       "      <td>Murcia</td>\n",
       "      <td>100.0</td>\n",
       "      <td>aire</td>\n",
       "      <td>2.0</td>\n",
       "      <td>Dúo</td>\n",
       "      <td>840</td>\n",
       "      <td>NaN</td>\n",
       "      <td>10878.0</td>\n",
       "      <td>2.0</td>\n",
       "      <td>presupuesto_calculado</td>\n",
       "    </tr>\n",
       "  </tbody>\n",
       "</table>\n",
       "<p>547 rows × 16 columns</p>\n",
       "</div>"
      ],
      "text/plain": [
       "        id        Date                              Title  \\\n",
       "0    31796  2023-03-10                                NaN   \n",
       "1    31798  2023-03-10                                NaN   \n",
       "2    31799  2023-03-10                                NaN   \n",
       "3    31800  2023-03-10                                NaN   \n",
       "4    31801  2023-03-10           Mensaje de  a Serotonina   \n",
       "..     ...         ...                                ...   \n",
       "542  44696  2023-06-20               Reserva - Arre-Molke   \n",
       "543  44697  2023-06-20               Reserva - Arre-Molke   \n",
       "544  44734  2023-06-20            Reserva - Arde la calle   \n",
       "545  44762  2023-06-21              Reserva - DZayasMusic   \n",
       "546  44921  2023-06-21  Reserva - CAPITAN NEMO COVER BAND   \n",
       "\n",
       "    calculadora_musico_nombre_artistico calculadora_musico_provincia  \\\n",
       "0                              Eva Páez                          NaN   \n",
       "1                              Spin Off                          NaN   \n",
       "2                        Kilometro cero                          NaN   \n",
       "3                           Crazy Cabin                       Madrid   \n",
       "4                            Serotonina                          NaN   \n",
       "..                                  ...                          ...   \n",
       "542                          Arre-Molke                       Zamora   \n",
       "543                          Arre-Molke                       Zamora   \n",
       "544                       Arde la calle                       Madrid   \n",
       "545                         DZayasMusic                       Madrid   \n",
       "546             CAPITAN NEMO COVER BAND                       Murcia   \n",
       "\n",
       "    calculadora_musico_tipo calculadora_provincia_evento  \\\n",
       "0                    Músico                          NaN   \n",
       "1                    Músico                          NaN   \n",
       "2                    Músico                          NaN   \n",
       "3                    Músico                       Madrid   \n",
       "4                       NaN                          NaN   \n",
       "..                      ...                          ...   \n",
       "542                  Músico                       Zamora   \n",
       "543                  Músico                       Zamora   \n",
       "544                  Músico                        Ávila   \n",
       "545                  Músico                       Madrid   \n",
       "546                  Músico                       Murcia   \n",
       "\n",
       "     calculadora_numero_invitados calculadora_espacio_evento  \\\n",
       "0                             NaN                        NaN   \n",
       "1                             NaN                        NaN   \n",
       "2                             NaN                        NaN   \n",
       "3                           250.0                     dentro   \n",
       "4                             NaN                        NaN   \n",
       "..                            ...                        ...   \n",
       "542                          20.0                     dentro   \n",
       "543                          20.0                     dentro   \n",
       "544                          50.0                       aire   \n",
       "545                         100.0                     dentro   \n",
       "546                         100.0                       aire   \n",
       "\n",
       "     calculadora_horas_actuacion calculadora_formato_musico  \\\n",
       "0                            NaN                        NaN   \n",
       "1                            NaN                        NaN   \n",
       "2                            NaN                        NaN   \n",
       "3                            1.0                    Solista   \n",
       "4                            NaN                        NaN   \n",
       "..                           ...                        ...   \n",
       "542                          2.0          Banda con batería   \n",
       "543                          1.0          Banda con batería   \n",
       "544                          3.0                        Dúo   \n",
       "545                          2.0                    Solista   \n",
       "546                          2.0                        Dúo   \n",
       "\n",
       "    estimacionPrecioTotal fech_evento  calculadora_id_musico  \\\n",
       "0                     NaN         NaN                10989.0   \n",
       "1                     NaN         NaN                 8279.0   \n",
       "2                     NaN         NaN                 9421.0   \n",
       "3                     528         NaN                16158.0   \n",
       "4                     NaN         NaN                    NaN   \n",
       "..                    ...         ...                    ...   \n",
       "542                  1200         NaN                44683.0   \n",
       "543                   960         NaN                44683.0   \n",
       "544                   632  2023-08-05                11405.0   \n",
       "545                   420         NaN                 5382.0   \n",
       "546                   840         NaN                10878.0   \n",
       "\n",
       "     solicitud_calculada_paso       estado_solicitud  \n",
       "0                         1.0                    NaN  \n",
       "1                         1.0                    NaN  \n",
       "2                         1.0                    NaN  \n",
       "3                         2.0                    NaN  \n",
       "4                         NaN                    NaN  \n",
       "..                        ...                    ...  \n",
       "542                       2.0  presupuesto_calculado  \n",
       "543                       2.0  presupuesto_calculado  \n",
       "544                       3.0                amedias  \n",
       "545                       2.0  presupuesto_calculado  \n",
       "546                       2.0  presupuesto_calculado  \n",
       "\n",
       "[547 rows x 16 columns]"
      ]
     },
     "execution_count": 136,
     "metadata": {},
     "output_type": "execute_result"
    }
   ],
   "source": [
    "sol_musicos"
   ]
  },
  {
   "cell_type": "code",
   "execution_count": 137,
   "metadata": {},
   "outputs": [
    {
     "data": {
      "text/plain": [
       "calculadora_musico_nombre_artistico\n",
       "Guilan                   21\n",
       "Rústica                  18\n",
       "Rock-Olas                17\n",
       "aitor_musico             14\n",
       "Arde la calle            10\n",
       "                         ..\n",
       "FONTÁN                    1\n",
       "Mai Prieto Violinista     1\n",
       "Cocktel Flamenkito        1\n",
       "Daniel Gómez              1\n",
       "Alejandro Rosa            1\n",
       "Name: count, Length: 69, dtype: int64"
      ]
     },
     "execution_count": 137,
     "metadata": {},
     "output_type": "execute_result"
    }
   ],
   "source": [
    "musicos_mad = sol_musicos[sol_musicos['calculadora_musico_provincia'] == 'Madrid']\n",
    "musicos_mad['calculadora_musico_nombre_artistico'].value_counts()"
   ]
  },
  {
   "cell_type": "code",
   "execution_count": 138,
   "metadata": {},
   "outputs": [
    {
     "data": {
      "text/plain": [
       "estado_solicitud\n",
       "False               397\n",
       "True                150\n",
       "Name: count, dtype: int64"
      ]
     },
     "execution_count": 138,
     "metadata": {},
     "output_type": "execute_result"
    }
   ],
   "source": [
    "sol_musicos[['estado_solicitud']].isna().value_counts()"
   ]
  },
  {
   "cell_type": "code",
   "execution_count": 139,
   "metadata": {},
   "outputs": [
    {
     "data": {
      "text/plain": [
       "calculadora_musico_tipo\n",
       "Músico    False\n",
       "DJ        False\n",
       "Name: count, dtype: bool"
      ]
     },
     "execution_count": 139,
     "metadata": {},
     "output_type": "execute_result"
    }
   ],
   "source": [
    "\n",
    "\n",
    "sol_musicos['calculadora_musico_tipo'].value_counts().isna()"
   ]
  },
  {
   "cell_type": "code",
   "execution_count": 140,
   "metadata": {},
   "outputs": [
    {
     "data": {
      "text/plain": [
       "(0.0, 500.0)"
      ]
     },
     "execution_count": 140,
     "metadata": {},
     "output_type": "execute_result"
    },
    {
     "data": {
      "image/png": "[encoded data removed]",
      "text/plain": [
       "<Figure size 1000x500 with 1 Axes>"
      ]
     },
     "metadata": {},
     "output_type": "display_data"
    }
   ],
   "source": [
    "import matplotlib.pyplot as plot\n",
    "dj = sol_musicos[sol_musicos['calculadora_musico_tipo'] == 'DJ']\n",
    "mus = sol_musicos[sol_musicos['calculadora_musico_tipo'] == 'Músico']   \n",
    "mus_dj = pd.merge(dj, mus, how = 'outer')\n",
    "\n",
    "\n",
    "fig = plot.figure(figsize = (10,5))\n",
    "sns.histplot(data = mus_dj, x = 'calculadora_musico_tipo' , \n",
    "             hue = 'calculadora_musico_tipo', \n",
    "             multiple = 'stack', legend = False\n",
    ")\n",
    "\n",
    "plt.xlabel('Tipo de Musico'),\n",
    "plt.ylabel('Cantidad de solicitudes')\n",
    "plt.ylim(0,500)"
   ]
  },
  {
   "cell_type": "code",
   "execution_count": 141,
   "metadata": {},
   "outputs": [
    {
     "data": {
      "text/html": [
       "<div>\n",
       "<style scoped>\n",
       "    .dataframe tbody tr th:only-of-type {\n",
       "        vertical-align: middle;\n",
       "    }\n",
       "\n",
       "    .dataframe tbody tr th {\n",
       "        vertical-align: top;\n",
       "    }\n",
       "\n",
       "    .dataframe thead th {\n",
       "        text-align: right;\n",
       "    }\n",
       "</style>\n",
       "<table border=\"1\" class=\"dataframe\">\n",
       "  <thead>\n",
       "    <tr style=\"text-align: right;\">\n",
       "      <th></th>\n",
       "      <th>calculadora_musico_tipo</th>\n",
       "      <th>calculadora_provincia_evento</th>\n",
       "      <th>estimacionPrecioTotal</th>\n",
       "      <th>calculadora_numero_invitados</th>\n",
       "      <th>calculadora_espacio_evento</th>\n",
       "      <th>calculadora_horas_actuacion</th>\n",
       "      <th>calculadora_formato_musico</th>\n",
       "      <th>estado_solicitud</th>\n",
       "    </tr>\n",
       "  </thead>\n",
       "  <tbody>\n",
       "    <tr>\n",
       "      <th>3</th>\n",
       "      <td>DJ</td>\n",
       "      <td>Vizcaya</td>\n",
       "      <td>942</td>\n",
       "      <td>1.0</td>\n",
       "      <td>aire</td>\n",
       "      <td>4.0</td>\n",
       "      <td>NaN</td>\n",
       "      <td>NaN</td>\n",
       "    </tr>\n",
       "    <tr>\n",
       "      <th>4</th>\n",
       "      <td>DJ</td>\n",
       "      <td>Teruel</td>\n",
       "      <td>1200</td>\n",
       "      <td>100.0</td>\n",
       "      <td>dentro</td>\n",
       "      <td>16.0</td>\n",
       "      <td>NaN</td>\n",
       "      <td>NaN</td>\n",
       "    </tr>\n",
       "    <tr>\n",
       "      <th>5</th>\n",
       "      <td>DJ</td>\n",
       "      <td>Zaragoza</td>\n",
       "      <td>510</td>\n",
       "      <td>100.0</td>\n",
       "      <td>aire</td>\n",
       "      <td>4.0</td>\n",
       "      <td>NaN</td>\n",
       "      <td>NaN</td>\n",
       "    </tr>\n",
       "    <tr>\n",
       "      <th>6</th>\n",
       "      <td>DJ</td>\n",
       "      <td>Barcelona</td>\n",
       "      <td>276</td>\n",
       "      <td>100.0</td>\n",
       "      <td>dentro</td>\n",
       "      <td>1.0</td>\n",
       "      <td>NaN</td>\n",
       "      <td>NaN</td>\n",
       "    </tr>\n",
       "    <tr>\n",
       "      <th>7</th>\n",
       "      <td>DJ</td>\n",
       "      <td>Barcelona</td>\n",
       "      <td>456</td>\n",
       "      <td>100.0</td>\n",
       "      <td>dentro</td>\n",
       "      <td>4.0</td>\n",
       "      <td>NaN</td>\n",
       "      <td>NaN</td>\n",
       "    </tr>\n",
       "    <tr>\n",
       "      <th>...</th>\n",
       "      <td>...</td>\n",
       "      <td>...</td>\n",
       "      <td>...</td>\n",
       "      <td>...</td>\n",
       "      <td>...</td>\n",
       "      <td>...</td>\n",
       "      <td>...</td>\n",
       "      <td>...</td>\n",
       "    </tr>\n",
       "    <tr>\n",
       "      <th>528</th>\n",
       "      <td>Músico</td>\n",
       "      <td>Zamora</td>\n",
       "      <td>1200</td>\n",
       "      <td>20.0</td>\n",
       "      <td>dentro</td>\n",
       "      <td>2.0</td>\n",
       "      <td>Banda con batería</td>\n",
       "      <td>presupuesto_calculado</td>\n",
       "    </tr>\n",
       "    <tr>\n",
       "      <th>529</th>\n",
       "      <td>Músico</td>\n",
       "      <td>Zamora</td>\n",
       "      <td>960</td>\n",
       "      <td>20.0</td>\n",
       "      <td>dentro</td>\n",
       "      <td>1.0</td>\n",
       "      <td>Banda con batería</td>\n",
       "      <td>presupuesto_calculado</td>\n",
       "    </tr>\n",
       "    <tr>\n",
       "      <th>530</th>\n",
       "      <td>Músico</td>\n",
       "      <td>Ávila</td>\n",
       "      <td>632</td>\n",
       "      <td>50.0</td>\n",
       "      <td>aire</td>\n",
       "      <td>3.0</td>\n",
       "      <td>Dúo</td>\n",
       "      <td>amedias</td>\n",
       "    </tr>\n",
       "    <tr>\n",
       "      <th>531</th>\n",
       "      <td>Músico</td>\n",
       "      <td>Madrid</td>\n",
       "      <td>420</td>\n",
       "      <td>100.0</td>\n",
       "      <td>dentro</td>\n",
       "      <td>2.0</td>\n",
       "      <td>Solista</td>\n",
       "      <td>presupuesto_calculado</td>\n",
       "    </tr>\n",
       "    <tr>\n",
       "      <th>532</th>\n",
       "      <td>Músico</td>\n",
       "      <td>Murcia</td>\n",
       "      <td>840</td>\n",
       "      <td>100.0</td>\n",
       "      <td>aire</td>\n",
       "      <td>2.0</td>\n",
       "      <td>Dúo</td>\n",
       "      <td>presupuesto_calculado</td>\n",
       "    </tr>\n",
       "  </tbody>\n",
       "</table>\n",
       "<p>530 rows × 8 columns</p>\n",
       "</div>"
      ],
      "text/plain": [
       "    calculadora_musico_tipo calculadora_provincia_evento  \\\n",
       "3                        DJ                      Vizcaya   \n",
       "4                        DJ                       Teruel   \n",
       "5                        DJ                     Zaragoza   \n",
       "6                        DJ                    Barcelona   \n",
       "7                        DJ                    Barcelona   \n",
       "..                      ...                          ...   \n",
       "528                  Músico                       Zamora   \n",
       "529                  Músico                       Zamora   \n",
       "530                  Músico                        Ávila   \n",
       "531                  Músico                       Madrid   \n",
       "532                  Músico                       Murcia   \n",
       "\n",
       "    estimacionPrecioTotal  calculadora_numero_invitados  \\\n",
       "3                     942                           1.0   \n",
       "4                    1200                         100.0   \n",
       "5                     510                         100.0   \n",
       "6                     276                         100.0   \n",
       "7                     456                         100.0   \n",
       "..                    ...                           ...   \n",
       "528                  1200                          20.0   \n",
       "529                   960                          20.0   \n",
       "530                   632                          50.0   \n",
       "531                   420                         100.0   \n",
       "532                   840                         100.0   \n",
       "\n",
       "    calculadora_espacio_evento  calculadora_horas_actuacion  \\\n",
       "3                         aire                          4.0   \n",
       "4                       dentro                         16.0   \n",
       "5                         aire                          4.0   \n",
       "6                       dentro                          1.0   \n",
       "7                       dentro                          4.0   \n",
       "..                         ...                          ...   \n",
       "528                     dentro                          2.0   \n",
       "529                     dentro                          1.0   \n",
       "530                       aire                          3.0   \n",
       "531                     dentro                          2.0   \n",
       "532                       aire                          2.0   \n",
       "\n",
       "    calculadora_formato_musico       estado_solicitud  \n",
       "3                          NaN                    NaN  \n",
       "4                          NaN                    NaN  \n",
       "5                          NaN                    NaN  \n",
       "6                          NaN                    NaN  \n",
       "7                          NaN                    NaN  \n",
       "..                         ...                    ...  \n",
       "528          Banda con batería  presupuesto_calculado  \n",
       "529          Banda con batería  presupuesto_calculado  \n",
       "530                        Dúo                amedias  \n",
       "531                    Solista  presupuesto_calculado  \n",
       "532                        Dúo  presupuesto_calculado  \n",
       "\n",
       "[530 rows x 8 columns]"
      ]
     },
     "execution_count": 141,
     "metadata": {},
     "output_type": "execute_result"
    }
   ],
   "source": [
    "mus_dj = mus_dj[['calculadora_musico_tipo','calculadora_provincia_evento','estimacionPrecioTotal','calculadora_numero_invitados','calculadora_espacio_evento','calculadora_horas_actuacion','calculadora_formato_musico','estado_solicitud']]\n",
    "mus_dj = mus_dj.iloc[3:,]\n",
    "mus_dj"
   ]
  },
  {
   "cell_type": "code",
   "execution_count": 142,
   "metadata": {},
   "outputs": [
    {
     "data": {
      "text/html": [
       "<div>\n",
       "<style scoped>\n",
       "    .dataframe tbody tr th:only-of-type {\n",
       "        vertical-align: middle;\n",
       "    }\n",
       "\n",
       "    .dataframe tbody tr th {\n",
       "        vertical-align: top;\n",
       "    }\n",
       "\n",
       "    .dataframe thead th {\n",
       "        text-align: right;\n",
       "    }\n",
       "</style>\n",
       "<table border=\"1\" class=\"dataframe\">\n",
       "  <thead>\n",
       "    <tr style=\"text-align: right;\">\n",
       "      <th></th>\n",
       "      <th>calculadora_musico_provincia</th>\n",
       "      <th>estimacionPrecioTotal</th>\n",
       "    </tr>\n",
       "  </thead>\n",
       "  <tbody>\n",
       "    <tr>\n",
       "      <th>0</th>\n",
       "      <td>Baleares</td>\n",
       "      <td>180 + desplazamiento</td>\n",
       "    </tr>\n",
       "    <tr>\n",
       "      <th>1</th>\n",
       "      <td>Baleares</td>\n",
       "      <td>180 + desplazamiento</td>\n",
       "    </tr>\n",
       "    <tr>\n",
       "      <th>2</th>\n",
       "      <td>Baleares</td>\n",
       "      <td>540 + desplazamiento</td>\n",
       "    </tr>\n",
       "    <tr>\n",
       "      <th>3</th>\n",
       "      <td>Baleares</td>\n",
       "      <td>480 + desplazamiento</td>\n",
       "    </tr>\n",
       "    <tr>\n",
       "      <th>4</th>\n",
       "      <td>Baleares</td>\n",
       "      <td>480 + desplazamiento</td>\n",
       "    </tr>\n",
       "    <tr>\n",
       "      <th>5</th>\n",
       "      <td>Baleares</td>\n",
       "      <td>480 + desplazamiento</td>\n",
       "    </tr>\n",
       "    <tr>\n",
       "      <th>6</th>\n",
       "      <td>Baleares</td>\n",
       "      <td>690 + desplazamiento</td>\n",
       "    </tr>\n",
       "    <tr>\n",
       "      <th>7</th>\n",
       "      <td>Las Palmas</td>\n",
       "      <td>300 + desplazamiento</td>\n",
       "    </tr>\n",
       "    <tr>\n",
       "      <th>8</th>\n",
       "      <td>Las Palmas</td>\n",
       "      <td>480 + desplazamiento</td>\n",
       "    </tr>\n",
       "  </tbody>\n",
       "</table>\n",
       "</div>"
      ],
      "text/plain": [
       "  calculadora_musico_provincia  estimacionPrecioTotal\n",
       "0                     Baleares  180 + desplazamiento\n",
       "1                     Baleares  180 + desplazamiento\n",
       "2                     Baleares  540 + desplazamiento\n",
       "3                     Baleares  480 + desplazamiento\n",
       "4                     Baleares  480 + desplazamiento\n",
       "5                     Baleares  480 + desplazamiento\n",
       "6                     Baleares  690 + desplazamiento\n",
       "7                   Las Palmas  300 + desplazamiento\n",
       "8                   Las Palmas  480 + desplazamiento"
      ]
     },
     "execution_count": 142,
     "metadata": {},
     "output_type": "execute_result"
    }
   ],
   "source": [
    "baleares_musicos = sol_musicos[sol_musicos['calculadora_musico_provincia']=='Baleares']\n",
    "palma_musicos = sol_musicos[sol_musicos['calculadora_musico_provincia']=='Las Palmas']\n",
    "musicos_despl = baleares_musicos.merge(palma_musicos,how='outer')\n",
    "musicos_despl.loc[:,['calculadora_musico_provincia','estimacionPrecioTotal']]\n"
   ]
  },
  {
   "attachments": {},
   "cell_type": "markdown",
   "metadata": {},
   "source": [
    "Aquí elimino strings que molestaban a la hora de calcular. Tener en cuenta que Baleares y Canarias, faltan datos de desplazamiento."
   ]
  },
  {
   "cell_type": "code",
   "execution_count": 143,
   "metadata": {},
   "outputs": [
    {
     "name": "stdout",
     "output_type": "stream",
     "text": [
      "180 + desplazamiento\n",
      "180\n",
      "180 + desplazamiento\n",
      "180\n",
      "300 + desplazamiento\n",
      "300\n",
      "540 + desplazamiento\n",
      "540\n",
      "480 + desplazamiento\n",
      "480\n",
      "480 + desplazamiento\n",
      "480\n",
      "480 + desplazamiento\n",
      "480\n",
      "480 + desplazamiento\n",
      "480\n",
      "690 + desplazamiento\n",
      "690\n"
     ]
    }
   ],
   "source": [
    "for i in mus_dj['estimacionPrecioTotal']:\n",
    "    if len(str(i)) > len('+ desplazamiento'):\n",
    "        print(i)\n",
    "        mus_dj['estimacionPrecioTotal'] = mus_dj['estimacionPrecioTotal'].replace(i, i[:3])\n",
    "        print(i[:3])"
   ]
  },
  {
   "cell_type": "code",
   "execution_count": 144,
   "metadata": {},
   "outputs": [
    {
     "data": {
      "text/plain": [
       "count     511.000000\n",
       "mean      506.185910\n",
       "std       490.839607\n",
       "min        30.000000\n",
       "25%       240.000000\n",
       "50%       360.000000\n",
       "75%       600.000000\n",
       "max      6624.000000\n",
       "Name: estimacionPrecioTotal, dtype: float64"
      ]
     },
     "execution_count": 144,
     "metadata": {},
     "output_type": "execute_result"
    }
   ],
   "source": [
    "\n",
    "mus_dj['estimacionPrecioTotal'] =mus_dj['estimacionPrecioTotal'].dropna()\n",
    "mus_dj['estimacionPrecioTotal'] = mus_dj['estimacionPrecioTotal'].astype(float)\n",
    "\n",
    "mus_dj['estimacionPrecioTotal'].describe()\n"
   ]
  },
  {
   "cell_type": "code",
   "execution_count": 145,
   "metadata": {},
   "outputs": [
    {
     "data": {
      "text/plain": [
       "0    180.0\n",
       "Name: estimacionPrecioTotal, dtype: float64"
      ]
     },
     "execution_count": 145,
     "metadata": {},
     "output_type": "execute_result"
    }
   ],
   "source": [
    "mus_dj['estimacionPrecioTotal'].dropna().mode()\n"
   ]
  },
  {
   "cell_type": "code",
   "execution_count": 146,
   "metadata": {},
   "outputs": [
    {
     "data": {
      "text/plain": [
       "360.0"
      ]
     },
     "execution_count": 146,
     "metadata": {},
     "output_type": "execute_result"
    }
   ],
   "source": [
    "mus_dj['estimacionPrecioTotal'].dropna().median()"
   ]
  },
  {
   "attachments": {},
   "cell_type": "markdown",
   "metadata": {},
   "source": [
    "Voy a identificar los outliers min y max de Músico y DJ."
   ]
  },
  {
   "cell_type": "code",
   "execution_count": 147,
   "metadata": {},
   "outputs": [],
   "source": [
    "dj = mus_dj[mus_dj['calculadora_musico_tipo'] == 'DJ']\n",
    "mus = mus_dj[mus_dj['calculadora_musico_tipo'] == 'Músico']\n"
   ]
  },
  {
   "attachments": {},
   "cell_type": "markdown",
   "metadata": {},
   "source": [
    "En cuanto a los Músicos, se puede observar que las dos primeras muestras, se calculan a partir de parámetros fuera de lo común. 90 y 50 h, además son presupuestos calculados, pero no completados, por lo que es posible que estas solicitudes fueran de prueba por parte de restaurantes, artistas curiosos, curiosos, o simplemente alguien troleando."
   ]
  },
  {
   "cell_type": "code",
   "execution_count": 148,
   "metadata": {},
   "outputs": [
    {
     "data": {
      "text/html": [
       "<div>\n",
       "<style scoped>\n",
       "    .dataframe tbody tr th:only-of-type {\n",
       "        vertical-align: middle;\n",
       "    }\n",
       "\n",
       "    .dataframe tbody tr th {\n",
       "        vertical-align: top;\n",
       "    }\n",
       "\n",
       "    .dataframe thead th {\n",
       "        text-align: right;\n",
       "    }\n",
       "</style>\n",
       "<table border=\"1\" class=\"dataframe\">\n",
       "  <thead>\n",
       "    <tr style=\"text-align: right;\">\n",
       "      <th></th>\n",
       "      <th>estimacionPrecioTotal</th>\n",
       "      <th>calculadora_horas_actuacion</th>\n",
       "      <th>estado_solicitud</th>\n",
       "      <th>calculadora_numero_invitados</th>\n",
       "      <th>calculadora_formato_musico</th>\n",
       "      <th>calculadora_provincia_evento</th>\n",
       "    </tr>\n",
       "  </thead>\n",
       "  <tbody>\n",
       "    <tr>\n",
       "      <th>452</th>\n",
       "      <td>6624.0</td>\n",
       "      <td>90.0</td>\n",
       "      <td>presupuesto_calculado</td>\n",
       "      <td>30.0</td>\n",
       "      <td>Solista</td>\n",
       "      <td>Vizcaya</td>\n",
       "    </tr>\n",
       "    <tr>\n",
       "      <th>234</th>\n",
       "      <td>3120.0</td>\n",
       "      <td>50.0</td>\n",
       "      <td>presupuesto_calculado</td>\n",
       "      <td>20.0</td>\n",
       "      <td>Solista</td>\n",
       "      <td>Cantabria</td>\n",
       "    </tr>\n",
       "    <tr>\n",
       "      <th>401</th>\n",
       "      <td>2280.0</td>\n",
       "      <td>1.0</td>\n",
       "      <td>completa</td>\n",
       "      <td>2.0</td>\n",
       "      <td>Trío</td>\n",
       "      <td>Almería</td>\n",
       "    </tr>\n",
       "    <tr>\n",
       "      <th>476</th>\n",
       "      <td>2280.0</td>\n",
       "      <td>2.0</td>\n",
       "      <td>amedias</td>\n",
       "      <td>20.0</td>\n",
       "      <td>Banda con batería</td>\n",
       "      <td>Madrid</td>\n",
       "    </tr>\n",
       "    <tr>\n",
       "      <th>216</th>\n",
       "      <td>2160.0</td>\n",
       "      <td>4.0</td>\n",
       "      <td>completa</td>\n",
       "      <td>100.0</td>\n",
       "      <td>Banda con batería</td>\n",
       "      <td>Vizcaya</td>\n",
       "    </tr>\n",
       "    <tr>\n",
       "      <th>...</th>\n",
       "      <td>...</td>\n",
       "      <td>...</td>\n",
       "      <td>...</td>\n",
       "      <td>...</td>\n",
       "      <td>...</td>\n",
       "      <td>...</td>\n",
       "    </tr>\n",
       "    <tr>\n",
       "      <th>394</th>\n",
       "      <td>120.0</td>\n",
       "      <td>1.0</td>\n",
       "      <td>completa</td>\n",
       "      <td>20.0</td>\n",
       "      <td>Dúo</td>\n",
       "      <td>Granada</td>\n",
       "    </tr>\n",
       "    <tr>\n",
       "      <th>313</th>\n",
       "      <td>120.0</td>\n",
       "      <td>1.0</td>\n",
       "      <td>presupuesto_calculado</td>\n",
       "      <td>20.0</td>\n",
       "      <td>Solista</td>\n",
       "      <td>Valencia</td>\n",
       "    </tr>\n",
       "    <tr>\n",
       "      <th>360</th>\n",
       "      <td>120.0</td>\n",
       "      <td>1.0</td>\n",
       "      <td>presupuesto_calculado</td>\n",
       "      <td>20.0</td>\n",
       "      <td>Solista</td>\n",
       "      <td>Madrid</td>\n",
       "    </tr>\n",
       "    <tr>\n",
       "      <th>347</th>\n",
       "      <td>84.0</td>\n",
       "      <td>1.0</td>\n",
       "      <td>completa</td>\n",
       "      <td>20.0</td>\n",
       "      <td>Solista</td>\n",
       "      <td>Madrid</td>\n",
       "    </tr>\n",
       "    <tr>\n",
       "      <th>197</th>\n",
       "      <td>30.0</td>\n",
       "      <td>1.0</td>\n",
       "      <td>presupuesto_calculado</td>\n",
       "      <td>20.0</td>\n",
       "      <td>Solista</td>\n",
       "      <td>Álava</td>\n",
       "    </tr>\n",
       "  </tbody>\n",
       "</table>\n",
       "<p>355 rows × 6 columns</p>\n",
       "</div>"
      ],
      "text/plain": [
       "     estimacionPrecioTotal  calculadora_horas_actuacion  \\\n",
       "452                 6624.0                         90.0   \n",
       "234                 3120.0                         50.0   \n",
       "401                 2280.0                          1.0   \n",
       "476                 2280.0                          2.0   \n",
       "216                 2160.0                          4.0   \n",
       "..                     ...                          ...   \n",
       "394                  120.0                          1.0   \n",
       "313                  120.0                          1.0   \n",
       "360                  120.0                          1.0   \n",
       "347                   84.0                          1.0   \n",
       "197                   30.0                          1.0   \n",
       "\n",
       "          estado_solicitud  calculadora_numero_invitados  \\\n",
       "452  presupuesto_calculado                          30.0   \n",
       "234  presupuesto_calculado                          20.0   \n",
       "401               completa                           2.0   \n",
       "476                amedias                          20.0   \n",
       "216               completa                         100.0   \n",
       "..                     ...                           ...   \n",
       "394               completa                          20.0   \n",
       "313  presupuesto_calculado                          20.0   \n",
       "360  presupuesto_calculado                          20.0   \n",
       "347               completa                          20.0   \n",
       "197  presupuesto_calculado                          20.0   \n",
       "\n",
       "    calculadora_formato_musico calculadora_provincia_evento  \n",
       "452                    Solista                      Vizcaya  \n",
       "234                    Solista                    Cantabria  \n",
       "401                       Trío                      Almería  \n",
       "476          Banda con batería                       Madrid  \n",
       "216          Banda con batería                      Vizcaya  \n",
       "..                         ...                          ...  \n",
       "394                        Dúo                      Granada  \n",
       "313                    Solista                     Valencia  \n",
       "360                    Solista                       Madrid  \n",
       "347                    Solista                       Madrid  \n",
       "197                    Solista                        Álava  \n",
       "\n",
       "[355 rows x 6 columns]"
      ]
     },
     "execution_count": 148,
     "metadata": {},
     "output_type": "execute_result"
    }
   ],
   "source": [
    "mus_max = mus.sort_values(by = 'estimacionPrecioTotal',ascending=False)\n",
    "mus_max[['estimacionPrecioTotal', 'calculadora_horas_actuacion','estado_solicitud','calculadora_numero_invitados','calculadora_formato_musico','calculadora_provincia_evento']].dropna()"
   ]
  },
  {
   "cell_type": "code",
   "execution_count": 149,
   "metadata": {},
   "outputs": [
    {
     "data": {
      "text/html": [
       "<div>\n",
       "<style scoped>\n",
       "    .dataframe tbody tr th:only-of-type {\n",
       "        vertical-align: middle;\n",
       "    }\n",
       "\n",
       "    .dataframe tbody tr th {\n",
       "        vertical-align: top;\n",
       "    }\n",
       "\n",
       "    .dataframe thead th {\n",
       "        text-align: right;\n",
       "    }\n",
       "</style>\n",
       "<table border=\"1\" class=\"dataframe\">\n",
       "  <thead>\n",
       "    <tr style=\"text-align: right;\">\n",
       "      <th></th>\n",
       "      <th>estimacionPrecioTotal</th>\n",
       "      <th>calculadora_horas_actuacion</th>\n",
       "      <th>estado_solicitud</th>\n",
       "      <th>calculadora_numero_invitados</th>\n",
       "      <th>calculadora_formato_musico</th>\n",
       "      <th>calculadora_provincia_evento</th>\n",
       "    </tr>\n",
       "  </thead>\n",
       "  <tbody>\n",
       "    <tr>\n",
       "      <th>401</th>\n",
       "      <td>2280.0</td>\n",
       "      <td>1.0</td>\n",
       "      <td>completa</td>\n",
       "      <td>2.0</td>\n",
       "      <td>Trío</td>\n",
       "      <td>Almería</td>\n",
       "    </tr>\n",
       "    <tr>\n",
       "      <th>476</th>\n",
       "      <td>2280.0</td>\n",
       "      <td>2.0</td>\n",
       "      <td>amedias</td>\n",
       "      <td>20.0</td>\n",
       "      <td>Banda con batería</td>\n",
       "      <td>Madrid</td>\n",
       "    </tr>\n",
       "    <tr>\n",
       "      <th>216</th>\n",
       "      <td>2160.0</td>\n",
       "      <td>4.0</td>\n",
       "      <td>completa</td>\n",
       "      <td>100.0</td>\n",
       "      <td>Banda con batería</td>\n",
       "      <td>Vizcaya</td>\n",
       "    </tr>\n",
       "    <tr>\n",
       "      <th>475</th>\n",
       "      <td>1980.0</td>\n",
       "      <td>1.0</td>\n",
       "      <td>presupuesto_calculado</td>\n",
       "      <td>40.0</td>\n",
       "      <td>Banda con batería</td>\n",
       "      <td>Madrid</td>\n",
       "    </tr>\n",
       "    <tr>\n",
       "      <th>370</th>\n",
       "      <td>1875.0</td>\n",
       "      <td>3.0</td>\n",
       "      <td>presupuesto_calculado</td>\n",
       "      <td>300.0</td>\n",
       "      <td>Banda con batería</td>\n",
       "      <td>Alicante</td>\n",
       "    </tr>\n",
       "    <tr>\n",
       "      <th>...</th>\n",
       "      <td>...</td>\n",
       "      <td>...</td>\n",
       "      <td>...</td>\n",
       "      <td>...</td>\n",
       "      <td>...</td>\n",
       "      <td>...</td>\n",
       "    </tr>\n",
       "    <tr>\n",
       "      <th>394</th>\n",
       "      <td>120.0</td>\n",
       "      <td>1.0</td>\n",
       "      <td>completa</td>\n",
       "      <td>20.0</td>\n",
       "      <td>Dúo</td>\n",
       "      <td>Granada</td>\n",
       "    </tr>\n",
       "    <tr>\n",
       "      <th>313</th>\n",
       "      <td>120.0</td>\n",
       "      <td>1.0</td>\n",
       "      <td>presupuesto_calculado</td>\n",
       "      <td>20.0</td>\n",
       "      <td>Solista</td>\n",
       "      <td>Valencia</td>\n",
       "    </tr>\n",
       "    <tr>\n",
       "      <th>360</th>\n",
       "      <td>120.0</td>\n",
       "      <td>1.0</td>\n",
       "      <td>presupuesto_calculado</td>\n",
       "      <td>20.0</td>\n",
       "      <td>Solista</td>\n",
       "      <td>Madrid</td>\n",
       "    </tr>\n",
       "    <tr>\n",
       "      <th>347</th>\n",
       "      <td>84.0</td>\n",
       "      <td>1.0</td>\n",
       "      <td>completa</td>\n",
       "      <td>20.0</td>\n",
       "      <td>Solista</td>\n",
       "      <td>Madrid</td>\n",
       "    </tr>\n",
       "    <tr>\n",
       "      <th>197</th>\n",
       "      <td>30.0</td>\n",
       "      <td>1.0</td>\n",
       "      <td>presupuesto_calculado</td>\n",
       "      <td>20.0</td>\n",
       "      <td>Solista</td>\n",
       "      <td>Álava</td>\n",
       "    </tr>\n",
       "  </tbody>\n",
       "</table>\n",
       "<p>353 rows × 6 columns</p>\n",
       "</div>"
      ],
      "text/plain": [
       "     estimacionPrecioTotal  calculadora_horas_actuacion  \\\n",
       "401                 2280.0                          1.0   \n",
       "476                 2280.0                          2.0   \n",
       "216                 2160.0                          4.0   \n",
       "475                 1980.0                          1.0   \n",
       "370                 1875.0                          3.0   \n",
       "..                     ...                          ...   \n",
       "394                  120.0                          1.0   \n",
       "313                  120.0                          1.0   \n",
       "360                  120.0                          1.0   \n",
       "347                   84.0                          1.0   \n",
       "197                   30.0                          1.0   \n",
       "\n",
       "          estado_solicitud  calculadora_numero_invitados  \\\n",
       "401               completa                           2.0   \n",
       "476                amedias                          20.0   \n",
       "216               completa                         100.0   \n",
       "475  presupuesto_calculado                          40.0   \n",
       "370  presupuesto_calculado                         300.0   \n",
       "..                     ...                           ...   \n",
       "394               completa                          20.0   \n",
       "313  presupuesto_calculado                          20.0   \n",
       "360  presupuesto_calculado                          20.0   \n",
       "347               completa                          20.0   \n",
       "197  presupuesto_calculado                          20.0   \n",
       "\n",
       "    calculadora_formato_musico calculadora_provincia_evento  \n",
       "401                       Trío                      Almería  \n",
       "476          Banda con batería                       Madrid  \n",
       "216          Banda con batería                      Vizcaya  \n",
       "475          Banda con batería                       Madrid  \n",
       "370          Banda con batería                     Alicante  \n",
       "..                         ...                          ...  \n",
       "394                        Dúo                      Granada  \n",
       "313                    Solista                     Valencia  \n",
       "360                    Solista                       Madrid  \n",
       "347                    Solista                       Madrid  \n",
       "197                    Solista                        Álava  \n",
       "\n",
       "[353 rows x 6 columns]"
      ]
     },
     "execution_count": 149,
     "metadata": {},
     "output_type": "execute_result"
    }
   ],
   "source": [
    "mus_max = mus_max.iloc[2:,]\n",
    "mus_max = mus_max[['estimacionPrecioTotal', 'calculadora_horas_actuacion','estado_solicitud','calculadora_numero_invitados','calculadora_formato_musico','calculadora_provincia_evento']].dropna()\n",
    "mus_max"
   ]
  },
  {
   "attachments": {},
   "cell_type": "markdown",
   "metadata": {},
   "source": [
    "Aquí abajo, quito 1 linea que era un outlier de minimo, 30€ de precio total y presupuesto estimado, como no se completó lo elimino por los motivos de antes. Puede ser una prueba o una consulta, sin más."
   ]
  },
  {
   "cell_type": "code",
   "execution_count": 150,
   "metadata": {},
   "outputs": [
    {
     "data": {
      "text/html": [
       "<div>\n",
       "<style scoped>\n",
       "    .dataframe tbody tr th:only-of-type {\n",
       "        vertical-align: middle;\n",
       "    }\n",
       "\n",
       "    .dataframe tbody tr th {\n",
       "        vertical-align: top;\n",
       "    }\n",
       "\n",
       "    .dataframe thead th {\n",
       "        text-align: right;\n",
       "    }\n",
       "</style>\n",
       "<table border=\"1\" class=\"dataframe\">\n",
       "  <thead>\n",
       "    <tr style=\"text-align: right;\">\n",
       "      <th></th>\n",
       "      <th>estimacionPrecioTotal</th>\n",
       "      <th>calculadora_horas_actuacion</th>\n",
       "      <th>estado_solicitud</th>\n",
       "      <th>calculadora_numero_invitados</th>\n",
       "      <th>calculadora_formato_musico</th>\n",
       "      <th>calculadora_provincia_evento</th>\n",
       "    </tr>\n",
       "  </thead>\n",
       "  <tbody>\n",
       "    <tr>\n",
       "      <th>347</th>\n",
       "      <td>84.0</td>\n",
       "      <td>1.0</td>\n",
       "      <td>completa</td>\n",
       "      <td>20.0</td>\n",
       "      <td>Solista</td>\n",
       "      <td>Madrid</td>\n",
       "    </tr>\n",
       "    <tr>\n",
       "      <th>313</th>\n",
       "      <td>120.0</td>\n",
       "      <td>1.0</td>\n",
       "      <td>presupuesto_calculado</td>\n",
       "      <td>20.0</td>\n",
       "      <td>Solista</td>\n",
       "      <td>Valencia</td>\n",
       "    </tr>\n",
       "    <tr>\n",
       "      <th>394</th>\n",
       "      <td>120.0</td>\n",
       "      <td>1.0</td>\n",
       "      <td>completa</td>\n",
       "      <td>20.0</td>\n",
       "      <td>Dúo</td>\n",
       "      <td>Granada</td>\n",
       "    </tr>\n",
       "    <tr>\n",
       "      <th>402</th>\n",
       "      <td>120.0</td>\n",
       "      <td>1.0</td>\n",
       "      <td>completa</td>\n",
       "      <td>40.0</td>\n",
       "      <td>Solista</td>\n",
       "      <td>Madrid</td>\n",
       "    </tr>\n",
       "    <tr>\n",
       "      <th>403</th>\n",
       "      <td>120.0</td>\n",
       "      <td>1.0</td>\n",
       "      <td>amedias</td>\n",
       "      <td>40.0</td>\n",
       "      <td>Solista</td>\n",
       "      <td>Madrid</td>\n",
       "    </tr>\n",
       "    <tr>\n",
       "      <th>...</th>\n",
       "      <td>...</td>\n",
       "      <td>...</td>\n",
       "      <td>...</td>\n",
       "      <td>...</td>\n",
       "      <td>...</td>\n",
       "      <td>...</td>\n",
       "    </tr>\n",
       "    <tr>\n",
       "      <th>370</th>\n",
       "      <td>1875.0</td>\n",
       "      <td>3.0</td>\n",
       "      <td>presupuesto_calculado</td>\n",
       "      <td>300.0</td>\n",
       "      <td>Banda con batería</td>\n",
       "      <td>Alicante</td>\n",
       "    </tr>\n",
       "    <tr>\n",
       "      <th>475</th>\n",
       "      <td>1980.0</td>\n",
       "      <td>1.0</td>\n",
       "      <td>presupuesto_calculado</td>\n",
       "      <td>40.0</td>\n",
       "      <td>Banda con batería</td>\n",
       "      <td>Madrid</td>\n",
       "    </tr>\n",
       "    <tr>\n",
       "      <th>216</th>\n",
       "      <td>2160.0</td>\n",
       "      <td>4.0</td>\n",
       "      <td>completa</td>\n",
       "      <td>100.0</td>\n",
       "      <td>Banda con batería</td>\n",
       "      <td>Vizcaya</td>\n",
       "    </tr>\n",
       "    <tr>\n",
       "      <th>476</th>\n",
       "      <td>2280.0</td>\n",
       "      <td>2.0</td>\n",
       "      <td>amedias</td>\n",
       "      <td>20.0</td>\n",
       "      <td>Banda con batería</td>\n",
       "      <td>Madrid</td>\n",
       "    </tr>\n",
       "    <tr>\n",
       "      <th>401</th>\n",
       "      <td>2280.0</td>\n",
       "      <td>1.0</td>\n",
       "      <td>completa</td>\n",
       "      <td>2.0</td>\n",
       "      <td>Trío</td>\n",
       "      <td>Almería</td>\n",
       "    </tr>\n",
       "  </tbody>\n",
       "</table>\n",
       "<p>352 rows × 6 columns</p>\n",
       "</div>"
      ],
      "text/plain": [
       "     estimacionPrecioTotal  calculadora_horas_actuacion  \\\n",
       "347                   84.0                          1.0   \n",
       "313                  120.0                          1.0   \n",
       "394                  120.0                          1.0   \n",
       "402                  120.0                          1.0   \n",
       "403                  120.0                          1.0   \n",
       "..                     ...                          ...   \n",
       "370                 1875.0                          3.0   \n",
       "475                 1980.0                          1.0   \n",
       "216                 2160.0                          4.0   \n",
       "476                 2280.0                          2.0   \n",
       "401                 2280.0                          1.0   \n",
       "\n",
       "          estado_solicitud  calculadora_numero_invitados  \\\n",
       "347               completa                          20.0   \n",
       "313  presupuesto_calculado                          20.0   \n",
       "394               completa                          20.0   \n",
       "402               completa                          40.0   \n",
       "403                amedias                          40.0   \n",
       "..                     ...                           ...   \n",
       "370  presupuesto_calculado                         300.0   \n",
       "475  presupuesto_calculado                          40.0   \n",
       "216               completa                         100.0   \n",
       "476                amedias                          20.0   \n",
       "401               completa                           2.0   \n",
       "\n",
       "    calculadora_formato_musico calculadora_provincia_evento  \n",
       "347                    Solista                       Madrid  \n",
       "313                    Solista                     Valencia  \n",
       "394                        Dúo                      Granada  \n",
       "402                    Solista                       Madrid  \n",
       "403                    Solista                       Madrid  \n",
       "..                         ...                          ...  \n",
       "370          Banda con batería                     Alicante  \n",
       "475          Banda con batería                       Madrid  \n",
       "216          Banda con batería                      Vizcaya  \n",
       "476          Banda con batería                       Madrid  \n",
       "401                       Trío                      Almería  \n",
       "\n",
       "[352 rows x 6 columns]"
      ]
     },
     "execution_count": 150,
     "metadata": {},
     "output_type": "execute_result"
    }
   ],
   "source": [
    "mus_max = mus_max.sort_values(by = 'estimacionPrecioTotal')\n",
    "\n",
    "mus_max = mus_max.iloc[1:,:].dropna()\n",
    "mus_max"
   ]
  },
  {
   "cell_type": "code",
   "execution_count": 151,
   "metadata": {},
   "outputs": [
    {
     "data": {
      "application/vnd.plotly.v1+json": {
       "config": {
        "plotlyServerURL": "https://plot.ly"
       },
       "data": [
        {
         "alignmentgroup": "True",
         "bingroup": "x",
         "hovertemplate": "Estado de solicitud=completa<br>Precio Total=%{x}<br>count=%{y}<extra></extra>",
         "legendgroup": "completa",
         "marker": {
          "color": "#636efa",
          "pattern": {
           "shape": ""
          }
         },
         "name": "completa",
         "offsetgroup": "completa",
         "orientation": "v",
         "showlegend": true,
         "type": "histogram",
         "x": [
          84,
          120,
          120,
          141,
          168,
          180,
          180,
          180,
          180,
          180,
          180,
          180,
          180,
          180,
          180,
          180,
          180,
          180,
          180,
          180,
          180,
          180,
          180,
          180,
          180,
          180,
          180,
          180,
          180,
          180,
          180,
          180,
          180,
          180,
          180,
          180,
          180,
          180,
          180,
          180,
          180,
          192,
          192,
          208,
          216,
          240,
          240,
          240,
          240,
          240,
          240,
          240,
          240,
          240,
          240,
          240,
          240,
          240,
          240,
          240,
          240,
          240,
          240,
          240,
          240,
          240,
          249,
          264,
          282,
          288,
          288,
          300,
          300,
          300,
          300,
          306,
          312,
          330,
          334,
          336,
          336,
          336,
          336,
          342,
          346,
          346,
          348,
          360,
          360,
          360,
          360,
          360,
          360,
          360,
          372,
          396,
          396,
          402,
          408,
          420,
          420,
          420,
          420,
          429,
          456,
          466,
          480,
          480,
          480,
          480,
          480,
          480,
          480,
          480,
          504,
          504,
          516,
          540,
          540,
          540,
          540,
          549,
          550,
          552,
          576,
          585,
          600,
          600,
          600,
          600,
          636,
          636,
          645,
          660,
          660,
          660,
          660,
          678,
          696,
          756,
          780,
          804,
          840,
          840,
          849,
          897,
          900,
          909,
          936,
          936,
          948,
          960,
          986,
          1056,
          1176,
          1176,
          1500,
          1554,
          1656,
          1680,
          1800,
          1848,
          2160,
          2280
         ],
         "xaxis": "x",
         "yaxis": "y"
        },
        {
         "alignmentgroup": "True",
         "bingroup": "x",
         "hovertemplate": "Estado de solicitud=presupuesto_calculado<br>Precio Total=%{x}<br>count=%{y}<extra></extra>",
         "legendgroup": "presupuesto_calculado",
         "marker": {
          "color": "#EF553B",
          "pattern": {
           "shape": ""
          }
         },
         "name": "presupuesto_calculado",
         "offsetgroup": "presupuesto_calculado",
         "orientation": "v",
         "showlegend": true,
         "type": "histogram",
         "x": [
          120,
          120,
          144,
          144,
          180,
          180,
          180,
          180,
          180,
          180,
          180,
          180,
          180,
          180,
          180,
          180,
          180,
          180,
          180,
          180,
          180,
          180,
          180,
          180,
          180,
          180,
          180,
          216,
          216,
          240,
          240,
          240,
          240,
          240,
          240,
          240,
          240,
          240,
          240,
          240,
          240,
          240,
          249,
          264,
          264,
          276,
          288,
          300,
          300,
          300,
          300,
          300,
          306,
          324,
          346,
          346,
          351,
          354,
          360,
          360,
          360,
          360,
          360,
          360,
          360,
          360,
          360,
          360,
          360,
          402,
          420,
          420,
          420,
          420,
          420,
          420,
          420,
          420,
          420,
          420,
          420,
          456,
          480,
          480,
          480,
          480,
          480,
          480,
          504,
          507,
          516,
          540,
          540,
          540,
          552,
          576,
          583,
          600,
          600,
          600,
          600,
          600,
          600,
          600,
          600,
          600,
          612,
          648,
          648,
          660,
          690,
          720,
          720,
          720,
          720,
          720,
          751,
          756,
          768,
          780,
          780,
          780,
          780,
          840,
          840,
          840,
          840,
          840,
          840,
          849,
          900,
          936,
          960,
          960,
          960,
          960,
          972,
          1020,
          1080,
          1080,
          1188,
          1200,
          1215,
          1320,
          1320,
          1320,
          1416,
          1428,
          1500,
          1800,
          1800,
          1800,
          1875,
          1980
         ],
         "xaxis": "x",
         "yaxis": "y"
        },
        {
         "alignmentgroup": "True",
         "bingroup": "x",
         "hovertemplate": "Estado de solicitud=amedias<br>Precio Total=%{x}<br>count=%{y}<extra></extra>",
         "legendgroup": "amedias",
         "marker": {
          "color": "#00cc96",
          "pattern": {
           "shape": ""
          }
         },
         "name": "amedias",
         "offsetgroup": "amedias",
         "orientation": "v",
         "showlegend": true,
         "type": "histogram",
         "x": [
          120,
          180,
          180,
          180,
          180,
          216,
          240,
          240,
          240,
          240,
          240,
          240,
          312,
          351,
          360,
          362,
          420,
          480,
          480,
          540,
          540,
          540,
          540,
          585,
          600,
          632,
          720,
          729,
          756,
          780,
          804,
          912,
          1776,
          2280
         ],
         "xaxis": "x",
         "yaxis": "y"
        }
       ],
       "layout": {
        "barmode": "relative",
        "legend": {
         "title": {
          "text": "Estado de solicitud"
         },
         "tracegroupgap": 0
        },
        "template": {
         "data": {
          "bar": [
           {
            "error_x": {
             "color": "#2a3f5f"
            },
            "error_y": {
             "color": "#2a3f5f"
            },
            "marker": {
             "line": {
              "color": "#E5ECF6",
              "width": 0.5
             },
             "pattern": {
              "fillmode": "overlay",
              "size": 10,
              "solidity": 0.2
             }
            },
            "type": "bar"
           }
          ],
          "barpolar": [
           {
            "marker": {
             "line": {
              "color": "#E5ECF6",
              "width": 0.5
             },
             "pattern": {
              "fillmode": "overlay",
              "size": 10,
              "solidity": 0.2
             }
            },
            "type": "barpolar"
           }
          ],
          "carpet": [
           {
            "aaxis": {
             "endlinecolor": "#2a3f5f",
             "gridcolor": "white",
             "linecolor": "white",
             "minorgridcolor": "white",
             "startlinecolor": "#2a3f5f"
            },
            "baxis": {
             "endlinecolor": "#2a3f5f",
             "gridcolor": "white",
             "linecolor": "white",
             "minorgridcolor": "white",
             "startlinecolor": "#2a3f5f"
            },
            "type": "carpet"
           }
          ],
          "choropleth": [
           {
            "colorbar": {
             "outlinewidth": 0,
             "ticks": ""
            },
            "type": "choropleth"
           }
          ],
          "contour": [
           {
            "colorbar": {
             "outlinewidth": 0,
             "ticks": ""
            },
            "colorscale": [
             [
              0,
              "#0d0887"
             ],
             [
              0.1111111111111111,
              "#46039f"
             ],
             [
              0.2222222222222222,
              "#7201a8"
             ],
             [
              0.3333333333333333,
              "#9c179e"
             ],
             [
              0.4444444444444444,
              "#bd3786"
             ],
             [
              0.5555555555555556,
              "#d8576b"
             ],
             [
              0.6666666666666666,
              "#ed7953"
             ],
             [
              0.7777777777777778,
              "#fb9f3a"
             ],
             [
              0.8888888888888888,
              "#fdca26"
             ],
             [
              1,
              "#f0f921"
             ]
            ],
            "type": "contour"
           }
          ],
          "contourcarpet": [
           {
            "colorbar": {
             "outlinewidth": 0,
             "ticks": ""
            },
            "type": "contourcarpet"
           }
          ],
          "heatmap": [
           {
            "colorbar": {
             "outlinewidth": 0,
             "ticks": ""
            },
            "colorscale": [
             [
              0,
              "#0d0887"
             ],
             [
              0.1111111111111111,
              "#46039f"
             ],
             [
              0.2222222222222222,
              "#7201a8"
             ],
             [
              0.3333333333333333,
              "#9c179e"
             ],
             [
              0.4444444444444444,
              "#bd3786"
             ],
             [
              0.5555555555555556,
              "#d8576b"
             ],
             [
              0.6666666666666666,
              "#ed7953"
             ],
             [
              0.7777777777777778,
              "#fb9f3a"
             ],
             [
              0.8888888888888888,
              "#fdca26"
             ],
             [
              1,
              "#f0f921"
             ]
            ],
            "type": "heatmap"
           }
          ],
          "heatmapgl": [
           {
            "colorbar": {
             "outlinewidth": 0,
             "ticks": ""
            },
            "colorscale": [
             [
              0,
              "#0d0887"
             ],
             [
              0.1111111111111111,
              "#46039f"
             ],
             [
              0.2222222222222222,
              "#7201a8"
             ],
             [
              0.3333333333333333,
              "#9c179e"
             ],
             [
              0.4444444444444444,
              "#bd3786"
             ],
             [
              0.5555555555555556,
              "#d8576b"
             ],
             [
              0.6666666666666666,
              "#ed7953"
             ],
             [
              0.7777777777777778,
              "#fb9f3a"
             ],
             [
              0.8888888888888888,
              "#fdca26"
             ],
             [
              1,
              "#f0f921"
             ]
            ],
            "type": "heatmapgl"
           }
          ],
          "histogram": [
           {
            "marker": {
             "pattern": {
              "fillmode": "overlay",
              "size": 10,
              "solidity": 0.2
             }
            },
            "type": "histogram"
           }
          ],
          "histogram2d": [
           {
            "colorbar": {
             "outlinewidth": 0,
             "ticks": ""
            },
            "colorscale": [
             [
              0,
              "#0d0887"
             ],
             [
              0.1111111111111111,
              "#46039f"
             ],
             [
              0.2222222222222222,
              "#7201a8"
             ],
             [
              0.3333333333333333,
              "#9c179e"
             ],
             [
              0.4444444444444444,
              "#bd3786"
             ],
             [
              0.5555555555555556,
              "#d8576b"
             ],
             [
              0.6666666666666666,
              "#ed7953"
             ],
             [
              0.7777777777777778,
              "#fb9f3a"
             ],
             [
              0.8888888888888888,
              "#fdca26"
             ],
             [
              1,
              "#f0f921"
             ]
            ],
            "type": "histogram2d"
           }
          ],
          "histogram2dcontour": [
           {
            "colorbar": {
             "outlinewidth": 0,
             "ticks": ""
            },
            "colorscale": [
             [
              0,
              "#0d0887"
             ],
             [
              0.1111111111111111,
              "#46039f"
             ],
             [
              0.2222222222222222,
              "#7201a8"
             ],
             [
              0.3333333333333333,
              "#9c179e"
             ],
             [
              0.4444444444444444,
              "#bd3786"
             ],
             [
              0.5555555555555556,
              "#d8576b"
             ],
             [
              0.6666666666666666,
              "#ed7953"
             ],
             [
              0.7777777777777778,
              "#fb9f3a"
             ],
             [
              0.8888888888888888,
              "#fdca26"
             ],
             [
              1,
              "#f0f921"
             ]
            ],
            "type": "histogram2dcontour"
           }
          ],
          "mesh3d": [
           {
            "colorbar": {
             "outlinewidth": 0,
             "ticks": ""
            },
            "type": "mesh3d"
           }
          ],
          "parcoords": [
           {
            "line": {
             "colorbar": {
              "outlinewidth": 0,
              "ticks": ""
             }
            },
            "type": "parcoords"
           }
          ],
          "pie": [
           {
            "automargin": true,
            "type": "pie"
           }
          ],
          "scatter": [
           {
            "fillpattern": {
             "fillmode": "overlay",
             "size": 10,
             "solidity": 0.2
            },
            "type": "scatter"
           }
          ],
          "scatter3d": [
           {
            "line": {
             "colorbar": {
              "outlinewidth": 0,
              "ticks": ""
             }
            },
            "marker": {
             "colorbar": {
              "outlinewidth": 0,
              "ticks": ""
             }
            },
            "type": "scatter3d"
           }
          ],
          "scattercarpet": [
           {
            "marker": {
             "colorbar": {
              "outlinewidth": 0,
              "ticks": ""
             }
            },
            "type": "scattercarpet"
           }
          ],
          "scattergeo": [
           {
            "marker": {
             "colorbar": {
              "outlinewidth": 0,
              "ticks": ""
             }
            },
            "type": "scattergeo"
           }
          ],
          "scattergl": [
           {
            "marker": {
             "colorbar": {
              "outlinewidth": 0,
              "ticks": ""
             }
            },
            "type": "scattergl"
           }
          ],
          "scattermapbox": [
           {
            "marker": {
             "colorbar": {
              "outlinewidth": 0,
              "ticks": ""
             }
            },
            "type": "scattermapbox"
           }
          ],
          "scatterpolar": [
           {
            "marker": {
             "colorbar": {
              "outlinewidth": 0,
              "ticks": ""
             }
            },
            "type": "scatterpolar"
           }
          ],
          "scatterpolargl": [
           {
            "marker": {
             "colorbar": {
              "outlinewidth": 0,
              "ticks": ""
             }
            },
            "type": "scatterpolargl"
           }
          ],
          "scatterternary": [
           {
            "marker": {
             "colorbar": {
              "outlinewidth": 0,
              "ticks": ""
             }
            },
            "type": "scatterternary"
           }
          ],
          "surface": [
           {
            "colorbar": {
             "outlinewidth": 0,
             "ticks": ""
            },
            "colorscale": [
             [
              0,
              "#0d0887"
             ],
             [
              0.1111111111111111,
              "#46039f"
             ],
             [
              0.2222222222222222,
              "#7201a8"
             ],
             [
              0.3333333333333333,
              "#9c179e"
             ],
             [
              0.4444444444444444,
              "#bd3786"
             ],
             [
              0.5555555555555556,
              "#d8576b"
             ],
             [
              0.6666666666666666,
              "#ed7953"
             ],
             [
              0.7777777777777778,
              "#fb9f3a"
             ],
             [
              0.8888888888888888,
              "#fdca26"
             ],
             [
              1,
              "#f0f921"
             ]
            ],
            "type": "surface"
           }
          ],
          "table": [
           {
            "cells": {
             "fill": {
              "color": "#EBF0F8"
             },
             "line": {
              "color": "white"
             }
            },
            "header": {
             "fill": {
              "color": "#C8D4E3"
             },
             "line": {
              "color": "white"
             }
            },
            "type": "table"
           }
          ]
         },
         "layout": {
          "annotationdefaults": {
           "arrowcolor": "#2a3f5f",
           "arrowhead": 0,
           "arrowwidth": 1
          },
          "autotypenumbers": "strict",
          "coloraxis": {
           "colorbar": {
            "outlinewidth": 0,
            "ticks": ""
           }
          },
          "colorscale": {
           "diverging": [
            [
             0,
             "#8e0152"
            ],
            [
             0.1,
             "#c51b7d"
            ],
            [
             0.2,
             "#de77ae"
            ],
            [
             0.3,
             "#f1b6da"
            ],
            [
             0.4,
             "#fde0ef"
            ],
            [
             0.5,
             "#f7f7f7"
            ],
            [
             0.6,
             "#e6f5d0"
            ],
            [
             0.7,
             "#b8e186"
            ],
            [
             0.8,
             "#7fbc41"
            ],
            [
             0.9,
             "#4d9221"
            ],
            [
             1,
             "#276419"
            ]
           ],
           "sequential": [
            [
             0,
             "#0d0887"
            ],
            [
             0.1111111111111111,
             "#46039f"
            ],
            [
             0.2222222222222222,
             "#7201a8"
            ],
            [
             0.3333333333333333,
             "#9c179e"
            ],
            [
             0.4444444444444444,
             "#bd3786"
            ],
            [
             0.5555555555555556,
             "#d8576b"
            ],
            [
             0.6666666666666666,
             "#ed7953"
            ],
            [
             0.7777777777777778,
             "#fb9f3a"
            ],
            [
             0.8888888888888888,
             "#fdca26"
            ],
            [
             1,
             "#f0f921"
            ]
           ],
           "sequentialminus": [
            [
             0,
             "#0d0887"
            ],
            [
             0.1111111111111111,
             "#46039f"
            ],
            [
             0.2222222222222222,
             "#7201a8"
            ],
            [
             0.3333333333333333,
             "#9c179e"
            ],
            [
             0.4444444444444444,
             "#bd3786"
            ],
            [
             0.5555555555555556,
             "#d8576b"
            ],
            [
             0.6666666666666666,
             "#ed7953"
            ],
            [
             0.7777777777777778,
             "#fb9f3a"
            ],
            [
             0.8888888888888888,
             "#fdca26"
            ],
            [
             1,
             "#f0f921"
            ]
           ]
          },
          "colorway": [
           "#636efa",
           "#EF553B",
           "#00cc96",
           "#ab63fa",
           "#FFA15A",
           "#19d3f3",
           "#FF6692",
           "#B6E880",
           "#FF97FF",
           "#FECB52"
          ],
          "font": {
           "color": "#2a3f5f"
          },
          "geo": {
           "bgcolor": "white",
           "lakecolor": "white",
           "landcolor": "#E5ECF6",
           "showlakes": true,
           "showland": true,
           "subunitcolor": "white"
          },
          "hoverlabel": {
           "align": "left"
          },
          "hovermode": "closest",
          "mapbox": {
           "style": "light"
          },
          "paper_bgcolor": "white",
          "plot_bgcolor": "#E5ECF6",
          "polar": {
           "angularaxis": {
            "gridcolor": "white",
            "linecolor": "white",
            "ticks": ""
           },
           "bgcolor": "#E5ECF6",
           "radialaxis": {
            "gridcolor": "white",
            "linecolor": "white",
            "ticks": ""
           }
          },
          "scene": {
           "xaxis": {
            "backgroundcolor": "#E5ECF6",
            "gridcolor": "white",
            "gridwidth": 2,
            "linecolor": "white",
            "showbackground": true,
            "ticks": "",
            "zerolinecolor": "white"
           },
           "yaxis": {
            "backgroundcolor": "#E5ECF6",
            "gridcolor": "white",
            "gridwidth": 2,
            "linecolor": "white",
            "showbackground": true,
            "ticks": "",
            "zerolinecolor": "white"
           },
           "zaxis": {
            "backgroundcolor": "#E5ECF6",
            "gridcolor": "white",
            "gridwidth": 2,
            "linecolor": "white",
            "showbackground": true,
            "ticks": "",
            "zerolinecolor": "white"
           }
          },
          "shapedefaults": {
           "line": {
            "color": "#2a3f5f"
           }
          },
          "ternary": {
           "aaxis": {
            "gridcolor": "white",
            "linecolor": "white",
            "ticks": ""
           },
           "baxis": {
            "gridcolor": "white",
            "linecolor": "white",
            "ticks": ""
           },
           "bgcolor": "#E5ECF6",
           "caxis": {
            "gridcolor": "white",
            "linecolor": "white",
            "ticks": ""
           }
          },
          "title": {
           "x": 0.05
          },
          "xaxis": {
           "automargin": true,
           "gridcolor": "white",
           "linecolor": "white",
           "ticks": "",
           "title": {
            "standoff": 15
           },
           "zerolinecolor": "white",
           "zerolinewidth": 2
          },
          "yaxis": {
           "automargin": true,
           "gridcolor": "white",
           "linecolor": "white",
           "ticks": "",
           "title": {
            "standoff": 15
           },
           "zerolinecolor": "white",
           "zerolinewidth": 2
          }
         }
        },
        "title": {
         "text": "Rangos de precio según estado de solicitud"
        },
        "xaxis": {
         "anchor": "y",
         "domain": [
          0,
          1
         ],
         "title": {
          "text": "Precio Total"
         }
        },
        "yaxis": {
         "anchor": "x",
         "domain": [
          0,
          1
         ],
         "title": {
          "text": "count"
         }
        }
       }
      }
     },
     "metadata": {},
     "output_type": "display_data"
    }
   ],
   "source": [
    "px.histogram(mus_max, x='estimacionPrecioTotal', \n",
    "          #  y = 'calculadora_horas_actuacion',\n",
    "             color='estado_solicitud',\n",
    "             title=\"Rangos de precio según estado de solicitud\", \n",
    "             labels={'estado_solicitud': 'Estado de solicitud', 'calculadora_horas_actuacion':' ', 'estimacionPrecioTotal': 'Precio Total'}\n",
    "             )"
   ]
  },
  {
   "attachments": {},
   "cell_type": "markdown",
   "metadata": {},
   "source": [
    "### ¿Qué formatos son los más solicitados? (solista, dúo, trío...)."
   ]
  },
  {
   "cell_type": "code",
   "execution_count": 152,
   "metadata": {},
   "outputs": [
    {
     "data": {
      "image/png": "[encoded data removed]",
      "text/plain": [
       "<Figure size 1000x600 with 1 Axes>"
      ]
     },
     "metadata": {},
     "output_type": "display_data"
    }
   ],
   "source": [
    "plt.figure(figsize=(10,6))\n",
    "ax =sns.histplot(mus_max, x = 'calculadora_formato_musico',hue= 'calculadora_formato_musico',legend=False)\n",
    "plt.xticks(rotation=60)\n",
    "custom_labels = ['Solista',' Dúo','Cuarteto','Trío', 'Banda batería', 'Banda batería NO']\n",
    "\n",
    "plt.xticks(range(len(custom_labels)), custom_labels)\n",
    "plt.xlabel(' ')\n",
    "plt.ylabel(' ')\n",
    "plt.title('Formatos más solicitados')\n",
    "# Bucle para poner numeros encima de las barras\n",
    "for p in ax.patches:\n",
    "    height = p.get_height()\n",
    "    if height > 0:  # Para borrar unos 0 que aparecían en la cepa de las barras.\n",
    "        ax.text(p.get_x() + p.get_width() / 2., height + 2, f'{int(height)}', ha=\"center\")\n",
    "\n",
    "\n",
    "plt.show()"
   ]
  },
  {
   "attachments": {},
   "cell_type": "markdown",
   "metadata": {},
   "source": [
    "### Rango de precios por tipo de formato"
   ]
  },
  {
   "cell_type": "code",
   "execution_count": 153,
   "metadata": {},
   "outputs": [
    {
     "data": {
      "image/png": "[encoded data removed]",
      "text/plain": [
       "<Figure size 640x480 with 1 Axes>"
      ]
     },
     "metadata": {},
     "output_type": "display_data"
    }
   ],
   "source": [
    "sns.boxplot(mus_max, x = 'estimacionPrecioTotal', y = 'calculadora_formato_musico')\n",
    "plt.yticks(range(len(custom_labels)), custom_labels)\n",
    "plt.xlabel('Precio Total')\n",
    "plt.ylabel(' ');"
   ]
  },
  {
   "cell_type": "code",
   "execution_count": 154,
   "metadata": {},
   "outputs": [
    {
     "data": {
      "application/vnd.plotly.v1+json": {
       "config": {
        "plotlyServerURL": "https://plot.ly"
       },
       "data": [
        {
         "alignmentgroup": "True",
         "hovertemplate": "calculadora_formato_musico=%{y}<br>estimacionPrecioTotal=%{x}<extra></extra>",
         "legendgroup": "Solista",
         "marker": {
          "color": "#636efa"
         },
         "name": "Solista",
         "notched": false,
         "offsetgroup": "Solista",
         "orientation": "h",
         "showlegend": true,
         "type": "box",
         "x": [
          84,
          120,
          120,
          120,
          120,
          141,
          144,
          144,
          168,
          180,
          180,
          180,
          180,
          180,
          180,
          180,
          180,
          180,
          180,
          180,
          180,
          180,
          180,
          180,
          180,
          180,
          180,
          180,
          180,
          180,
          180,
          180,
          180,
          180,
          180,
          180,
          180,
          180,
          180,
          180,
          180,
          180,
          180,
          180,
          180,
          180,
          180,
          180,
          180,
          180,
          180,
          180,
          180,
          180,
          180,
          180,
          180,
          180,
          180,
          180,
          180,
          180,
          180,
          180,
          180,
          180,
          180,
          180,
          180,
          192,
          192,
          208,
          216,
          216,
          216,
          240,
          240,
          240,
          240,
          240,
          240,
          240,
          240,
          240,
          240,
          240,
          240,
          240,
          240,
          240,
          240,
          240,
          240,
          240,
          240,
          240,
          240,
          240,
          240,
          249,
          249,
          276,
          282,
          288,
          300,
          300,
          300,
          300,
          300,
          300,
          300,
          300,
          306,
          306,
          312,
          330,
          342,
          348,
          351,
          360,
          360,
          360,
          360,
          360,
          360,
          360,
          360,
          360,
          360,
          372,
          402,
          402,
          420,
          420,
          420,
          420,
          420,
          420,
          480,
          480,
          480,
          480,
          549,
          552,
          600,
          720,
          840,
          840
         ],
         "x0": " ",
         "xaxis": "x",
         "y": [
          "Solista",
          "Solista",
          "Solista",
          "Solista",
          "Solista",
          "Solista",
          "Solista",
          "Solista",
          "Solista",
          "Solista",
          "Solista",
          "Solista",
          "Solista",
          "Solista",
          "Solista",
          "Solista",
          "Solista",
          "Solista",
          "Solista",
          "Solista",
          "Solista",
          "Solista",
          "Solista",
          "Solista",
          "Solista",
          "Solista",
          "Solista",
          "Solista",
          "Solista",
          "Solista",
          "Solista",
          "Solista",
          "Solista",
          "Solista",
          "Solista",
          "Solista",
          "Solista",
          "Solista",
          "Solista",
          "Solista",
          "Solista",
          "Solista",
          "Solista",
          "Solista",
          "Solista",
          "Solista",
          "Solista",
          "Solista",
          "Solista",
          "Solista",
          "Solista",
          "Solista",
          "Solista",
          "Solista",
          "Solista",
          "Solista",
          "Solista",
          "Solista",
          "Solista",
          "Solista",
          "Solista",
          "Solista",
          "Solista",
          "Solista",
          "Solista",
          "Solista",
          "Solista",
          "Solista",
          "Solista",
          "Solista",
          "Solista",
          "Solista",
          "Solista",
          "Solista",
          "Solista",
          "Solista",
          "Solista",
          "Solista",
          "Solista",
          "Solista",
          "Solista",
          "Solista",
          "Solista",
          "Solista",
          "Solista",
          "Solista",
          "Solista",
          "Solista",
          "Solista",
          "Solista",
          "Solista",
          "Solista",
          "Solista",
          "Solista",
          "Solista",
          "Solista",
          "Solista",
          "Solista",
          "Solista",
          "Solista",
          "Solista",
          "Solista",
          "Solista",
          "Solista",
          "Solista",
          "Solista",
          "Solista",
          "Solista",
          "Solista",
          "Solista",
          "Solista",
          "Solista",
          "Solista",
          "Solista",
          "Solista",
          "Solista",
          "Solista",
          "Solista",
          "Solista",
          "Solista",
          "Solista",
          "Solista",
          "Solista",
          "Solista",
          "Solista",
          "Solista",
          "Solista",
          "Solista",
          "Solista",
          "Solista",
          "Solista",
          "Solista",
          "Solista",
          "Solista",
          "Solista",
          "Solista",
          "Solista",
          "Solista",
          "Solista",
          "Solista",
          "Solista",
          "Solista",
          "Solista",
          "Solista",
          "Solista",
          "Solista",
          "Solista",
          "Solista"
         ],
         "y0": " ",
         "yaxis": "y"
        },
        {
         "alignmentgroup": "True",
         "hovertemplate": "calculadora_formato_musico=%{y}<br>estimacionPrecioTotal=%{x}<extra></extra>",
         "legendgroup": "Dúo",
         "marker": {
          "color": "#EF553B"
         },
         "name": "Dúo",
         "notched": false,
         "offsetgroup": "Dúo",
         "orientation": "h",
         "showlegend": true,
         "type": "box",
         "x": [
          120,
          180,
          180,
          180,
          216,
          240,
          240,
          240,
          240,
          240,
          240,
          240,
          240,
          240,
          240,
          240,
          240,
          240,
          240,
          240,
          240,
          264,
          264,
          264,
          288,
          288,
          300,
          324,
          334,
          336,
          336,
          336,
          336,
          346,
          351,
          354,
          360,
          360,
          360,
          360,
          360,
          360,
          360,
          362,
          396,
          396,
          408,
          420,
          420,
          420,
          420,
          420,
          420,
          420,
          429,
          456,
          456,
          480,
          480,
          480,
          480,
          480,
          480,
          480,
          480,
          480,
          516,
          516,
          540,
          540,
          540,
          540,
          552,
          576,
          585,
          585,
          600,
          600,
          632,
          636,
          636,
          645,
          660,
          660,
          690,
          696,
          729,
          768,
          780,
          780,
          804,
          840,
          840,
          849,
          897,
          909,
          936,
          948,
          972,
          1020
         ],
         "x0": " ",
         "xaxis": "x",
         "y": [
          "Dúo",
          "Dúo",
          "Dúo",
          "Dúo",
          "Dúo",
          "Dúo",
          "Dúo",
          "Dúo",
          "Dúo",
          "Dúo",
          "Dúo",
          "Dúo",
          "Dúo",
          "Dúo",
          "Dúo",
          "Dúo",
          "Dúo",
          "Dúo",
          "Dúo",
          "Dúo",
          "Dúo",
          "Dúo",
          "Dúo",
          "Dúo",
          "Dúo",
          "Dúo",
          "Dúo",
          "Dúo",
          "Dúo",
          "Dúo",
          "Dúo",
          "Dúo",
          "Dúo",
          "Dúo",
          "Dúo",
          "Dúo",
          "Dúo",
          "Dúo",
          "Dúo",
          "Dúo",
          "Dúo",
          "Dúo",
          "Dúo",
          "Dúo",
          "Dúo",
          "Dúo",
          "Dúo",
          "Dúo",
          "Dúo",
          "Dúo",
          "Dúo",
          "Dúo",
          "Dúo",
          "Dúo",
          "Dúo",
          "Dúo",
          "Dúo",
          "Dúo",
          "Dúo",
          "Dúo",
          "Dúo",
          "Dúo",
          "Dúo",
          "Dúo",
          "Dúo",
          "Dúo",
          "Dúo",
          "Dúo",
          "Dúo",
          "Dúo",
          "Dúo",
          "Dúo",
          "Dúo",
          "Dúo",
          "Dúo",
          "Dúo",
          "Dúo",
          "Dúo",
          "Dúo",
          "Dúo",
          "Dúo",
          "Dúo",
          "Dúo",
          "Dúo",
          "Dúo",
          "Dúo",
          "Dúo",
          "Dúo",
          "Dúo",
          "Dúo",
          "Dúo",
          "Dúo",
          "Dúo",
          "Dúo",
          "Dúo",
          "Dúo",
          "Dúo",
          "Dúo",
          "Dúo",
          "Dúo"
         ],
         "y0": " ",
         "yaxis": "y"
        },
        {
         "alignmentgroup": "True",
         "hovertemplate": "calculadora_formato_musico=%{y}<br>estimacionPrecioTotal=%{x}<extra></extra>",
         "legendgroup": "Cuarteto",
         "marker": {
          "color": "#00cc96"
         },
         "name": "Cuarteto",
         "notched": false,
         "offsetgroup": "Cuarteto",
         "orientation": "h",
         "showlegend": true,
         "type": "box",
         "x": [
          312,
          480,
          600,
          751,
          756,
          936,
          986
         ],
         "x0": " ",
         "xaxis": "x",
         "y": [
          "Cuarteto",
          "Cuarteto",
          "Cuarteto",
          "Cuarteto",
          "Cuarteto",
          "Cuarteto",
          "Cuarteto"
         ],
         "y0": " ",
         "yaxis": "y"
        },
        {
         "alignmentgroup": "True",
         "hovertemplate": "calculadora_formato_musico=%{y}<br>estimacionPrecioTotal=%{x}<extra></extra>",
         "legendgroup": "Trío",
         "marker": {
          "color": "#ab63fa"
         },
         "name": "Trío",
         "notched": false,
         "offsetgroup": "Trío",
         "orientation": "h",
         "showlegend": true,
         "type": "box",
         "x": [
          346,
          346,
          346,
          360,
          420,
          420,
          420,
          466,
          480,
          504,
          507,
          540,
          540,
          550,
          576,
          583,
          600,
          600,
          600,
          612,
          648,
          660,
          660,
          660,
          720,
          720,
          720,
          756,
          780,
          780,
          804,
          849,
          900,
          936,
          2280
         ],
         "x0": " ",
         "xaxis": "x",
         "y": [
          "Trío",
          "Trío",
          "Trío",
          "Trío",
          "Trío",
          "Trío",
          "Trío",
          "Trío",
          "Trío",
          "Trío",
          "Trío",
          "Trío",
          "Trío",
          "Trío",
          "Trío",
          "Trío",
          "Trío",
          "Trío",
          "Trío",
          "Trío",
          "Trío",
          "Trío",
          "Trío",
          "Trío",
          "Trío",
          "Trío",
          "Trío",
          "Trío",
          "Trío",
          "Trío",
          "Trío",
          "Trío",
          "Trío",
          "Trío",
          "Trío"
         ],
         "y0": " ",
         "yaxis": "y"
        },
        {
         "alignmentgroup": "True",
         "hovertemplate": "calculadora_formato_musico=%{y}<br>estimacionPrecioTotal=%{x}<extra></extra>",
         "legendgroup": "Banda con batería",
         "marker": {
          "color": "#FFA15A"
         },
         "name": "Banda con batería",
         "notched": false,
         "offsetgroup": "Banda con batería",
         "orientation": "h",
         "showlegend": true,
         "type": "box",
         "x": [
          360,
          504,
          504,
          540,
          540,
          540,
          540,
          540,
          600,
          600,
          600,
          600,
          600,
          600,
          600,
          648,
          678,
          720,
          720,
          756,
          780,
          780,
          840,
          840,
          840,
          840,
          900,
          960,
          960,
          960,
          960,
          960,
          1056,
          1080,
          1080,
          1176,
          1176,
          1188,
          1200,
          1215,
          1320,
          1320,
          1320,
          1416,
          1428,
          1500,
          1500,
          1554,
          1656,
          1776,
          1800,
          1800,
          1800,
          1800,
          1848,
          1875,
          1980,
          2160,
          2280
         ],
         "x0": " ",
         "xaxis": "x",
         "y": [
          "Banda con batería",
          "Banda con batería",
          "Banda con batería",
          "Banda con batería",
          "Banda con batería",
          "Banda con batería",
          "Banda con batería",
          "Banda con batería",
          "Banda con batería",
          "Banda con batería",
          "Banda con batería",
          "Banda con batería",
          "Banda con batería",
          "Banda con batería",
          "Banda con batería",
          "Banda con batería",
          "Banda con batería",
          "Banda con batería",
          "Banda con batería",
          "Banda con batería",
          "Banda con batería",
          "Banda con batería",
          "Banda con batería",
          "Banda con batería",
          "Banda con batería",
          "Banda con batería",
          "Banda con batería",
          "Banda con batería",
          "Banda con batería",
          "Banda con batería",
          "Banda con batería",
          "Banda con batería",
          "Banda con batería",
          "Banda con batería",
          "Banda con batería",
          "Banda con batería",
          "Banda con batería",
          "Banda con batería",
          "Banda con batería",
          "Banda con batería",
          "Banda con batería",
          "Banda con batería",
          "Banda con batería",
          "Banda con batería",
          "Banda con batería",
          "Banda con batería",
          "Banda con batería",
          "Banda con batería",
          "Banda con batería",
          "Banda con batería",
          "Banda con batería",
          "Banda con batería",
          "Banda con batería",
          "Banda con batería",
          "Banda con batería",
          "Banda con batería",
          "Banda con batería",
          "Banda con batería",
          "Banda con batería"
         ],
         "y0": " ",
         "yaxis": "y"
        },
        {
         "alignmentgroup": "True",
         "hovertemplate": "calculadora_formato_musico=%{y}<br>estimacionPrecioTotal=%{x}<extra></extra>",
         "legendgroup": "Banda/Conjunto sin batería",
         "marker": {
          "color": "#19d3f3"
         },
         "name": "Banda/Conjunto sin batería",
         "notched": false,
         "offsetgroup": "Banda/Conjunto sin batería",
         "orientation": "h",
         "showlegend": true,
         "type": "box",
         "x": [
          480,
          912,
          1680
         ],
         "x0": " ",
         "xaxis": "x",
         "y": [
          "Banda/Conjunto sin batería",
          "Banda/Conjunto sin batería",
          "Banda/Conjunto sin batería"
         ],
         "y0": " ",
         "yaxis": "y"
        }
       ],
       "layout": {
        "boxmode": "overlay",
        "legend": {
         "title": {
          "text": "calculadora_formato_musico"
         },
         "tracegroupgap": 0
        },
        "margin": {
         "t": 60
        },
        "showlegend": false,
        "template": {
         "data": {
          "bar": [
           {
            "error_x": {
             "color": "#2a3f5f"
            },
            "error_y": {
             "color": "#2a3f5f"
            },
            "marker": {
             "line": {
              "color": "#E5ECF6",
              "width": 0.5
             },
             "pattern": {
              "fillmode": "overlay",
              "size": 10,
              "solidity": 0.2
             }
            },
            "type": "bar"
           }
          ],
          "barpolar": [
           {
            "marker": {
             "line": {
              "color": "#E5ECF6",
              "width": 0.5
             },
             "pattern": {
              "fillmode": "overlay",
              "size": 10,
              "solidity": 0.2
             }
            },
            "type": "barpolar"
           }
          ],
          "carpet": [
           {
            "aaxis": {
             "endlinecolor": "#2a3f5f",
             "gridcolor": "white",
             "linecolor": "white",
             "minorgridcolor": "white",
             "startlinecolor": "#2a3f5f"
            },
            "baxis": {
             "endlinecolor": "#2a3f5f",
             "gridcolor": "white",
             "linecolor": "white",
             "minorgridcolor": "white",
             "startlinecolor": "#2a3f5f"
            },
            "type": "carpet"
           }
          ],
          "choropleth": [
           {
            "colorbar": {
             "outlinewidth": 0,
             "ticks": ""
            },
            "type": "choropleth"
           }
          ],
          "contour": [
           {
            "colorbar": {
             "outlinewidth": 0,
             "ticks": ""
            },
            "colorscale": [
             [
              0,
              "#0d0887"
             ],
             [
              0.1111111111111111,
              "#46039f"
             ],
             [
              0.2222222222222222,
              "#7201a8"
             ],
             [
              0.3333333333333333,
              "#9c179e"
             ],
             [
              0.4444444444444444,
              "#bd3786"
             ],
             [
              0.5555555555555556,
              "#d8576b"
             ],
             [
              0.6666666666666666,
              "#ed7953"
             ],
             [
              0.7777777777777778,
              "#fb9f3a"
             ],
             [
              0.8888888888888888,
              "#fdca26"
             ],
             [
              1,
              "#f0f921"
             ]
            ],
            "type": "contour"
           }
          ],
          "contourcarpet": [
           {
            "colorbar": {
             "outlinewidth": 0,
             "ticks": ""
            },
            "type": "contourcarpet"
           }
          ],
          "heatmap": [
           {
            "colorbar": {
             "outlinewidth": 0,
             "ticks": ""
            },
            "colorscale": [
             [
              0,
              "#0d0887"
             ],
             [
              0.1111111111111111,
              "#46039f"
             ],
             [
              0.2222222222222222,
              "#7201a8"
             ],
             [
              0.3333333333333333,
              "#9c179e"
             ],
             [
              0.4444444444444444,
              "#bd3786"
             ],
             [
              0.5555555555555556,
              "#d8576b"
             ],
             [
              0.6666666666666666,
              "#ed7953"
             ],
             [
              0.7777777777777778,
              "#fb9f3a"
             ],
             [
              0.8888888888888888,
              "#fdca26"
             ],
             [
              1,
              "#f0f921"
             ]
            ],
            "type": "heatmap"
           }
          ],
          "heatmapgl": [
           {
            "colorbar": {
             "outlinewidth": 0,
             "ticks": ""
            },
            "colorscale": [
             [
              0,
              "#0d0887"
             ],
             [
              0.1111111111111111,
              "#46039f"
             ],
             [
              0.2222222222222222,
              "#7201a8"
             ],
             [
              0.3333333333333333,
              "#9c179e"
             ],
             [
              0.4444444444444444,
              "#bd3786"
             ],
             [
              0.5555555555555556,
              "#d8576b"
             ],
             [
              0.6666666666666666,
              "#ed7953"
             ],
             [
              0.7777777777777778,
              "#fb9f3a"
             ],
             [
              0.8888888888888888,
              "#fdca26"
             ],
             [
              1,
              "#f0f921"
             ]
            ],
            "type": "heatmapgl"
           }
          ],
          "histogram": [
           {
            "marker": {
             "pattern": {
              "fillmode": "overlay",
              "size": 10,
              "solidity": 0.2
             }
            },
            "type": "histogram"
           }
          ],
          "histogram2d": [
           {
            "colorbar": {
             "outlinewidth": 0,
             "ticks": ""
            },
            "colorscale": [
             [
              0,
              "#0d0887"
             ],
             [
              0.1111111111111111,
              "#46039f"
             ],
             [
              0.2222222222222222,
              "#7201a8"
             ],
             [
              0.3333333333333333,
              "#9c179e"
             ],
             [
              0.4444444444444444,
              "#bd3786"
             ],
             [
              0.5555555555555556,
              "#d8576b"
             ],
             [
              0.6666666666666666,
              "#ed7953"
             ],
             [
              0.7777777777777778,
              "#fb9f3a"
             ],
             [
              0.8888888888888888,
              "#fdca26"
             ],
             [
              1,
              "#f0f921"
             ]
            ],
            "type": "histogram2d"
           }
          ],
          "histogram2dcontour": [
           {
            "colorbar": {
             "outlinewidth": 0,
             "ticks": ""
            },
            "colorscale": [
             [
              0,
              "#0d0887"
             ],
             [
              0.1111111111111111,
              "#46039f"
             ],
             [
              0.2222222222222222,
              "#7201a8"
             ],
             [
              0.3333333333333333,
              "#9c179e"
             ],
             [
              0.4444444444444444,
              "#bd3786"
             ],
             [
              0.5555555555555556,
              "#d8576b"
             ],
             [
              0.6666666666666666,
              "#ed7953"
             ],
             [
              0.7777777777777778,
              "#fb9f3a"
             ],
             [
              0.8888888888888888,
              "#fdca26"
             ],
             [
              1,
              "#f0f921"
             ]
            ],
            "type": "histogram2dcontour"
           }
          ],
          "mesh3d": [
           {
            "colorbar": {
             "outlinewidth": 0,
             "ticks": ""
            },
            "type": "mesh3d"
           }
          ],
          "parcoords": [
           {
            "line": {
             "colorbar": {
              "outlinewidth": 0,
              "ticks": ""
             }
            },
            "type": "parcoords"
           }
          ],
          "pie": [
           {
            "automargin": true,
            "type": "pie"
           }
          ],
          "scatter": [
           {
            "fillpattern": {
             "fillmode": "overlay",
             "size": 10,
             "solidity": 0.2
            },
            "type": "scatter"
           }
          ],
          "scatter3d": [
           {
            "line": {
             "colorbar": {
              "outlinewidth": 0,
              "ticks": ""
             }
            },
            "marker": {
             "colorbar": {
              "outlinewidth": 0,
              "ticks": ""
             }
            },
            "type": "scatter3d"
           }
          ],
          "scattercarpet": [
           {
            "marker": {
             "colorbar": {
              "outlinewidth": 0,
              "ticks": ""
             }
            },
            "type": "scattercarpet"
           }
          ],
          "scattergeo": [
           {
            "marker": {
             "colorbar": {
              "outlinewidth": 0,
              "ticks": ""
             }
            },
            "type": "scattergeo"
           }
          ],
          "scattergl": [
           {
            "marker": {
             "colorbar": {
              "outlinewidth": 0,
              "ticks": ""
             }
            },
            "type": "scattergl"
           }
          ],
          "scattermapbox": [
           {
            "marker": {
             "colorbar": {
              "outlinewidth": 0,
              "ticks": ""
             }
            },
            "type": "scattermapbox"
           }
          ],
          "scatterpolar": [
           {
            "marker": {
             "colorbar": {
              "outlinewidth": 0,
              "ticks": ""
             }
            },
            "type": "scatterpolar"
           }
          ],
          "scatterpolargl": [
           {
            "marker": {
             "colorbar": {
              "outlinewidth": 0,
              "ticks": ""
             }
            },
            "type": "scatterpolargl"
           }
          ],
          "scatterternary": [
           {
            "marker": {
             "colorbar": {
              "outlinewidth": 0,
              "ticks": ""
             }
            },
            "type": "scatterternary"
           }
          ],
          "surface": [
           {
            "colorbar": {
             "outlinewidth": 0,
             "ticks": ""
            },
            "colorscale": [
             [
              0,
              "#0d0887"
             ],
             [
              0.1111111111111111,
              "#46039f"
             ],
             [
              0.2222222222222222,
              "#7201a8"
             ],
             [
              0.3333333333333333,
              "#9c179e"
             ],
             [
              0.4444444444444444,
              "#bd3786"
             ],
             [
              0.5555555555555556,
              "#d8576b"
             ],
             [
              0.6666666666666666,
              "#ed7953"
             ],
             [
              0.7777777777777778,
              "#fb9f3a"
             ],
             [
              0.8888888888888888,
              "#fdca26"
             ],
             [
              1,
              "#f0f921"
             ]
            ],
            "type": "surface"
           }
          ],
          "table": [
           {
            "cells": {
             "fill": {
              "color": "#EBF0F8"
             },
             "line": {
              "color": "white"
             }
            },
            "header": {
             "fill": {
              "color": "#C8D4E3"
             },
             "line": {
              "color": "white"
             }
            },
            "type": "table"
           }
          ]
         },
         "layout": {
          "annotationdefaults": {
           "arrowcolor": "#2a3f5f",
           "arrowhead": 0,
           "arrowwidth": 1
          },
          "autotypenumbers": "strict",
          "coloraxis": {
           "colorbar": {
            "outlinewidth": 0,
            "ticks": ""
           }
          },
          "colorscale": {
           "diverging": [
            [
             0,
             "#8e0152"
            ],
            [
             0.1,
             "#c51b7d"
            ],
            [
             0.2,
             "#de77ae"
            ],
            [
             0.3,
             "#f1b6da"
            ],
            [
             0.4,
             "#fde0ef"
            ],
            [
             0.5,
             "#f7f7f7"
            ],
            [
             0.6,
             "#e6f5d0"
            ],
            [
             0.7,
             "#b8e186"
            ],
            [
             0.8,
             "#7fbc41"
            ],
            [
             0.9,
             "#4d9221"
            ],
            [
             1,
             "#276419"
            ]
           ],
           "sequential": [
            [
             0,
             "#0d0887"
            ],
            [
             0.1111111111111111,
             "#46039f"
            ],
            [
             0.2222222222222222,
             "#7201a8"
            ],
            [
             0.3333333333333333,
             "#9c179e"
            ],
            [
             0.4444444444444444,
             "#bd3786"
            ],
            [
             0.5555555555555556,
             "#d8576b"
            ],
            [
             0.6666666666666666,
             "#ed7953"
            ],
            [
             0.7777777777777778,
             "#fb9f3a"
            ],
            [
             0.8888888888888888,
             "#fdca26"
            ],
            [
             1,
             "#f0f921"
            ]
           ],
           "sequentialminus": [
            [
             0,
             "#0d0887"
            ],
            [
             0.1111111111111111,
             "#46039f"
            ],
            [
             0.2222222222222222,
             "#7201a8"
            ],
            [
             0.3333333333333333,
             "#9c179e"
            ],
            [
             0.4444444444444444,
             "#bd3786"
            ],
            [
             0.5555555555555556,
             "#d8576b"
            ],
            [
             0.6666666666666666,
             "#ed7953"
            ],
            [
             0.7777777777777778,
             "#fb9f3a"
            ],
            [
             0.8888888888888888,
             "#fdca26"
            ],
            [
             1,
             "#f0f921"
            ]
           ]
          },
          "colorway": [
           "#636efa",
           "#EF553B",
           "#00cc96",
           "#ab63fa",
           "#FFA15A",
           "#19d3f3",
           "#FF6692",
           "#B6E880",
           "#FF97FF",
           "#FECB52"
          ],
          "font": {
           "color": "#2a3f5f"
          },
          "geo": {
           "bgcolor": "white",
           "lakecolor": "white",
           "landcolor": "#E5ECF6",
           "showlakes": true,
           "showland": true,
           "subunitcolor": "white"
          },
          "hoverlabel": {
           "align": "left"
          },
          "hovermode": "closest",
          "mapbox": {
           "style": "light"
          },
          "paper_bgcolor": "white",
          "plot_bgcolor": "#E5ECF6",
          "polar": {
           "angularaxis": {
            "gridcolor": "white",
            "linecolor": "white",
            "ticks": ""
           },
           "bgcolor": "#E5ECF6",
           "radialaxis": {
            "gridcolor": "white",
            "linecolor": "white",
            "ticks": ""
           }
          },
          "scene": {
           "xaxis": {
            "backgroundcolor": "#E5ECF6",
            "gridcolor": "white",
            "gridwidth": 2,
            "linecolor": "white",
            "showbackground": true,
            "ticks": "",
            "zerolinecolor": "white"
           },
           "yaxis": {
            "backgroundcolor": "#E5ECF6",
            "gridcolor": "white",
            "gridwidth": 2,
            "linecolor": "white",
            "showbackground": true,
            "ticks": "",
            "zerolinecolor": "white"
           },
           "zaxis": {
            "backgroundcolor": "#E5ECF6",
            "gridcolor": "white",
            "gridwidth": 2,
            "linecolor": "white",
            "showbackground": true,
            "ticks": "",
            "zerolinecolor": "white"
           }
          },
          "shapedefaults": {
           "line": {
            "color": "#2a3f5f"
           }
          },
          "ternary": {
           "aaxis": {
            "gridcolor": "white",
            "linecolor": "white",
            "ticks": ""
           },
           "baxis": {
            "gridcolor": "white",
            "linecolor": "white",
            "ticks": ""
           },
           "bgcolor": "#E5ECF6",
           "caxis": {
            "gridcolor": "white",
            "linecolor": "white",
            "ticks": ""
           }
          },
          "title": {
           "x": 0.05
          },
          "xaxis": {
           "automargin": true,
           "gridcolor": "white",
           "linecolor": "white",
           "ticks": "",
           "title": {
            "standoff": 15
           },
           "zerolinecolor": "white",
           "zerolinewidth": 2
          },
          "yaxis": {
           "automargin": true,
           "gridcolor": "white",
           "linecolor": "white",
           "ticks": "",
           "title": {
            "standoff": 15
           },
           "zerolinecolor": "white",
           "zerolinewidth": 2
          }
         }
        },
        "title": {
         "text": "Precio total por formato de banda"
        },
        "xaxis": {
         "anchor": "y",
         "domain": [
          0,
          1
         ],
         "title": {
          "text": "Precio total"
         }
        },
        "yaxis": {
         "anchor": "x",
         "categoryarray": [
          "Banda/Conjunto sin batería",
          "Banda con batería",
          "Trío",
          "Cuarteto",
          "Dúo",
          "Solista"
         ],
         "categoryorder": "array",
         "domain": [
          0,
          1
         ],
         "title": {
          "text": " "
         }
        }
       }
      }
     },
     "metadata": {},
     "output_type": "display_data"
    },
    {
     "name": "stdout",
     "output_type": "stream",
     "text": [
      "[\"El rango de precios solicitados de 'Banda con batería' está entre 624.0 y 1422.0.\", \"El rango de precios solicitados de 'Banda/Conjunto sin batería' está entre 696.0 y 1296.0.\", \"El rango de precios solicitados de 'Cuarteto' está entre 540.0 y 846.0.\", \"El rango de precios solicitados de 'Dúo' está entre 288.0 y 585.0.\", \"El rango de precios solicitados de 'Solista' está entre 180.0 y 300.0.\", \"El rango de precios solicitados de 'Trío' está entre 492.0 y 720.0.\"]\n"
     ]
    }
   ],
   "source": [
    "fig = px.box(mus_max, x='estimacionPrecioTotal', y='calculadora_formato_musico',\n",
    "             color='calculadora_formato_musico',\n",
    "             boxmode='overlay')\n",
    "\n",
    "fig.update_layout(\n",
    "    title=\"Precio total por formato de banda\",  \n",
    "    xaxis_title=\"Precio total\", \n",
    "    yaxis_title=\" \",  \n",
    "    showlegend=False \n",
    ")\n",
    "\n",
    "# Percentiles, mediana, y media por cada formato de banda\n",
    "grouped_data = mus_max.groupby('calculadora_formato_musico')['estimacionPrecioTotal']\n",
    "annotations = []\n",
    "for name, group in grouped_data:\n",
    "    q1 = group.quantile(0.25)\n",
    "    q3 = group.quantile(0.75)\n",
    "    text = f\"El rango de precios solicitados de '{name}' está entre {q1} y {q3}.\"\n",
    "    annotations.append(text)\n",
    "fig.show()\n",
    "print(annotations)"
   ]
  },
  {
   "attachments": {},
   "cell_type": "markdown",
   "metadata": {},
   "source": [
    "## Análisis para DJ's"
   ]
  },
  {
   "cell_type": "code",
   "execution_count": 155,
   "metadata": {},
   "outputs": [
    {
     "data": {
      "text/html": [
       "<div>\n",
       "<style scoped>\n",
       "    .dataframe tbody tr th:only-of-type {\n",
       "        vertical-align: middle;\n",
       "    }\n",
       "\n",
       "    .dataframe tbody tr th {\n",
       "        vertical-align: top;\n",
       "    }\n",
       "\n",
       "    .dataframe thead th {\n",
       "        text-align: right;\n",
       "    }\n",
       "</style>\n",
       "<table border=\"1\" class=\"dataframe\">\n",
       "  <thead>\n",
       "    <tr style=\"text-align: right;\">\n",
       "      <th></th>\n",
       "      <th>calculadora_musico_tipo</th>\n",
       "      <th>calculadora_provincia_evento</th>\n",
       "      <th>estimacionPrecioTotal</th>\n",
       "      <th>calculadora_numero_invitados</th>\n",
       "      <th>calculadora_espacio_evento</th>\n",
       "      <th>calculadora_horas_actuacion</th>\n",
       "      <th>calculadora_formato_musico</th>\n",
       "      <th>estado_solicitud</th>\n",
       "    </tr>\n",
       "  </thead>\n",
       "  <tbody>\n",
       "    <tr>\n",
       "      <th>60</th>\n",
       "      <td>DJ</td>\n",
       "      <td>Valencia</td>\n",
       "      <td>3000.0</td>\n",
       "      <td>50.0</td>\n",
       "      <td>aire</td>\n",
       "      <td>3.0</td>\n",
       "      <td>NaN</td>\n",
       "      <td>presupuesto_calculado</td>\n",
       "    </tr>\n",
       "    <tr>\n",
       "      <th>4</th>\n",
       "      <td>DJ</td>\n",
       "      <td>Teruel</td>\n",
       "      <td>1200.0</td>\n",
       "      <td>100.0</td>\n",
       "      <td>dentro</td>\n",
       "      <td>16.0</td>\n",
       "      <td>NaN</td>\n",
       "      <td>NaN</td>\n",
       "    </tr>\n",
       "    <tr>\n",
       "      <th>3</th>\n",
       "      <td>DJ</td>\n",
       "      <td>Vizcaya</td>\n",
       "      <td>942.0</td>\n",
       "      <td>1.0</td>\n",
       "      <td>aire</td>\n",
       "      <td>4.0</td>\n",
       "      <td>NaN</td>\n",
       "      <td>NaN</td>\n",
       "    </tr>\n",
       "    <tr>\n",
       "      <th>20</th>\n",
       "      <td>DJ</td>\n",
       "      <td>Almería</td>\n",
       "      <td>720.0</td>\n",
       "      <td>150.0</td>\n",
       "      <td>aire</td>\n",
       "      <td>5.0</td>\n",
       "      <td>NaN</td>\n",
       "      <td>NaN</td>\n",
       "    </tr>\n",
       "    <tr>\n",
       "      <th>43</th>\n",
       "      <td>DJ</td>\n",
       "      <td>Valencia</td>\n",
       "      <td>600.0</td>\n",
       "      <td>50.0</td>\n",
       "      <td>aire</td>\n",
       "      <td>6.0</td>\n",
       "      <td>NaN</td>\n",
       "      <td>presupuesto_calculado</td>\n",
       "    </tr>\n",
       "    <tr>\n",
       "      <th>56</th>\n",
       "      <td>DJ</td>\n",
       "      <td>Orense</td>\n",
       "      <td>600.0</td>\n",
       "      <td>100.0</td>\n",
       "      <td>aire</td>\n",
       "      <td>4.0</td>\n",
       "      <td>NaN</td>\n",
       "      <td>amedias</td>\n",
       "    </tr>\n",
       "    <tr>\n",
       "      <th>55</th>\n",
       "      <td>DJ</td>\n",
       "      <td>Madrid</td>\n",
       "      <td>600.0</td>\n",
       "      <td>200.0</td>\n",
       "      <td>aire</td>\n",
       "      <td>4.0</td>\n",
       "      <td>NaN</td>\n",
       "      <td>presupuesto_calculado</td>\n",
       "    </tr>\n",
       "    <tr>\n",
       "      <th>11</th>\n",
       "      <td>DJ</td>\n",
       "      <td>Sevilla</td>\n",
       "      <td>540.0</td>\n",
       "      <td>100.0</td>\n",
       "      <td>aire</td>\n",
       "      <td>3.0</td>\n",
       "      <td>NaN</td>\n",
       "      <td>NaN</td>\n",
       "    </tr>\n",
       "    <tr>\n",
       "      <th>5</th>\n",
       "      <td>DJ</td>\n",
       "      <td>Zaragoza</td>\n",
       "      <td>510.0</td>\n",
       "      <td>100.0</td>\n",
       "      <td>aire</td>\n",
       "      <td>4.0</td>\n",
       "      <td>NaN</td>\n",
       "      <td>NaN</td>\n",
       "    </tr>\n",
       "    <tr>\n",
       "      <th>22</th>\n",
       "      <td>DJ</td>\n",
       "      <td>Almería</td>\n",
       "      <td>480.0</td>\n",
       "      <td>50.0</td>\n",
       "      <td>aire</td>\n",
       "      <td>3.0</td>\n",
       "      <td>NaN</td>\n",
       "      <td>presupuesto_calculado</td>\n",
       "    </tr>\n",
       "  </tbody>\n",
       "</table>\n",
       "</div>"
      ],
      "text/plain": [
       "   calculadora_musico_tipo calculadora_provincia_evento  \\\n",
       "60                      DJ                     Valencia   \n",
       "4                       DJ                       Teruel   \n",
       "3                       DJ                      Vizcaya   \n",
       "20                      DJ                      Almería   \n",
       "43                      DJ                     Valencia   \n",
       "56                      DJ                       Orense   \n",
       "55                      DJ                       Madrid   \n",
       "11                      DJ                      Sevilla   \n",
       "5                       DJ                     Zaragoza   \n",
       "22                      DJ                      Almería   \n",
       "\n",
       "    estimacionPrecioTotal  calculadora_numero_invitados  \\\n",
       "60                 3000.0                          50.0   \n",
       "4                  1200.0                         100.0   \n",
       "3                   942.0                           1.0   \n",
       "20                  720.0                         150.0   \n",
       "43                  600.0                          50.0   \n",
       "56                  600.0                         100.0   \n",
       "55                  600.0                         200.0   \n",
       "11                  540.0                         100.0   \n",
       "5                   510.0                         100.0   \n",
       "22                  480.0                          50.0   \n",
       "\n",
       "   calculadora_espacio_evento  calculadora_horas_actuacion  \\\n",
       "60                       aire                          3.0   \n",
       "4                      dentro                         16.0   \n",
       "3                        aire                          4.0   \n",
       "20                       aire                          5.0   \n",
       "43                       aire                          6.0   \n",
       "56                       aire                          4.0   \n",
       "55                       aire                          4.0   \n",
       "11                       aire                          3.0   \n",
       "5                        aire                          4.0   \n",
       "22                       aire                          3.0   \n",
       "\n",
       "   calculadora_formato_musico       estado_solicitud  \n",
       "60                        NaN  presupuesto_calculado  \n",
       "4                         NaN                    NaN  \n",
       "3                         NaN                    NaN  \n",
       "20                        NaN                    NaN  \n",
       "43                        NaN  presupuesto_calculado  \n",
       "56                        NaN                amedias  \n",
       "55                        NaN  presupuesto_calculado  \n",
       "11                        NaN                    NaN  \n",
       "5                         NaN                    NaN  \n",
       "22                        NaN  presupuesto_calculado  "
      ]
     },
     "execution_count": 155,
     "metadata": {},
     "output_type": "execute_result"
    }
   ],
   "source": [
    "dj_max = dj.sort_values(by = 'estimacionPrecioTotal',ascending=False)\n",
    "dj_max.head(10)"
   ]
  },
  {
   "cell_type": "code",
   "execution_count": 156,
   "metadata": {},
   "outputs": [
    {
     "data": {
      "text/html": [
       "<div>\n",
       "<style scoped>\n",
       "    .dataframe tbody tr th:only-of-type {\n",
       "        vertical-align: middle;\n",
       "    }\n",
       "\n",
       "    .dataframe tbody tr th {\n",
       "        vertical-align: top;\n",
       "    }\n",
       "\n",
       "    .dataframe thead th {\n",
       "        text-align: right;\n",
       "    }\n",
       "</style>\n",
       "<table border=\"1\" class=\"dataframe\">\n",
       "  <thead>\n",
       "    <tr style=\"text-align: right;\">\n",
       "      <th></th>\n",
       "      <th>estimacionPrecioTotal</th>\n",
       "      <th>calculadora_numero_invitados</th>\n",
       "      <th>calculadora_horas_actuacion</th>\n",
       "    </tr>\n",
       "  </thead>\n",
       "  <tbody>\n",
       "    <tr>\n",
       "      <th>count</th>\n",
       "      <td>59.000000</td>\n",
       "      <td>60.000000</td>\n",
       "      <td>60.000000</td>\n",
       "    </tr>\n",
       "    <tr>\n",
       "      <th>mean</th>\n",
       "      <td>338.389831</td>\n",
       "      <td>48.800000</td>\n",
       "      <td>2.950000</td>\n",
       "    </tr>\n",
       "    <tr>\n",
       "      <th>std</th>\n",
       "      <td>412.933326</td>\n",
       "      <td>45.477057</td>\n",
       "      <td>2.150483</td>\n",
       "    </tr>\n",
       "    <tr>\n",
       "      <th>min</th>\n",
       "      <td>60.000000</td>\n",
       "      <td>1.000000</td>\n",
       "      <td>1.000000</td>\n",
       "    </tr>\n",
       "    <tr>\n",
       "      <th>25%</th>\n",
       "      <td>174.000000</td>\n",
       "      <td>20.000000</td>\n",
       "      <td>2.000000</td>\n",
       "    </tr>\n",
       "    <tr>\n",
       "      <th>50%</th>\n",
       "      <td>240.000000</td>\n",
       "      <td>30.000000</td>\n",
       "      <td>3.000000</td>\n",
       "    </tr>\n",
       "    <tr>\n",
       "      <th>75%</th>\n",
       "      <td>390.000000</td>\n",
       "      <td>52.500000</td>\n",
       "      <td>4.000000</td>\n",
       "    </tr>\n",
       "    <tr>\n",
       "      <th>max</th>\n",
       "      <td>3000.000000</td>\n",
       "      <td>207.000000</td>\n",
       "      <td>16.000000</td>\n",
       "    </tr>\n",
       "  </tbody>\n",
       "</table>\n",
       "</div>"
      ],
      "text/plain": [
       "       estimacionPrecioTotal  calculadora_numero_invitados  \\\n",
       "count              59.000000                     60.000000   \n",
       "mean              338.389831                     48.800000   \n",
       "std               412.933326                     45.477057   \n",
       "min                60.000000                      1.000000   \n",
       "25%               174.000000                     20.000000   \n",
       "50%               240.000000                     30.000000   \n",
       "75%               390.000000                     52.500000   \n",
       "max              3000.000000                    207.000000   \n",
       "\n",
       "       calculadora_horas_actuacion  \n",
       "count                    60.000000  \n",
       "mean                      2.950000  \n",
       "std                       2.150483  \n",
       "min                       1.000000  \n",
       "25%                       2.000000  \n",
       "50%                       3.000000  \n",
       "75%                       4.000000  \n",
       "max                      16.000000  "
      ]
     },
     "execution_count": 156,
     "metadata": {},
     "output_type": "execute_result"
    }
   ],
   "source": [
    "dj_max.describe()"
   ]
  },
  {
   "cell_type": "code",
   "execution_count": 157,
   "metadata": {},
   "outputs": [
    {
     "data": {
      "application/vnd.plotly.v1+json": {
       "config": {
        "plotlyServerURL": "https://plot.ly"
       },
       "data": [
        {
         "alignmentgroup": "True",
         "bingroup": "x",
         "hovertemplate": "Estado solicitud=presupuesto_calculado<br>Precio Total=%{x}<br>count=%{y}<extra></extra>",
         "legendgroup": "presupuesto_calculado",
         "marker": {
          "color": "#636efa",
          "pattern": {
           "shape": ""
          }
         },
         "name": "presupuesto_calculado",
         "nbinsx": 10,
         "offsetgroup": "presupuesto_calculado",
         "orientation": "v",
         "showlegend": true,
         "type": "histogram",
         "x": [
          3000,
          600,
          600,
          480,
          456,
          300,
          300,
          240,
          216,
          204,
          144,
          120,
          120,
          120,
          96,
          96,
          60,
          60,
          null
         ],
         "xaxis": "x",
         "yaxis": "y"
        },
        {
         "alignmentgroup": "True",
         "bingroup": "x",
         "hovertemplate": "Estado solicitud=amedias<br>Precio Total=%{x}<br>count=%{y}<extra></extra>",
         "legendgroup": "amedias",
         "marker": {
          "color": "#00cc96",
          "pattern": {
           "shape": ""
          }
         },
         "name": "amedias",
         "nbinsx": 10,
         "offsetgroup": "amedias",
         "orientation": "v",
         "showlegend": true,
         "type": "histogram",
         "x": [
          600,
          240,
          180,
          60
         ],
         "xaxis": "x",
         "yaxis": "y"
        },
        {
         "alignmentgroup": "True",
         "bingroup": "x",
         "hovertemplate": "Estado solicitud=completa<br>Precio Total=%{x}<br>count=%{y}<extra></extra>",
         "legendgroup": "completa",
         "marker": {
          "color": "#ab63fa",
          "pattern": {
           "shape": ""
          }
         },
         "name": "completa",
         "nbinsx": 10,
         "offsetgroup": "completa",
         "orientation": "v",
         "showlegend": true,
         "type": "histogram",
         "x": [
          360,
          360,
          360,
          300,
          252,
          240,
          240,
          240,
          240,
          180,
          180,
          180,
          180,
          180,
          156,
          141,
          120,
          120,
          60
         ],
         "xaxis": "x",
         "yaxis": "y"
        }
       ],
       "layout": {
        "barmode": "relative",
        "legend": {
         "title": {
          "text": "Estado solicitud"
         },
         "tracegroupgap": 0
        },
        "template": {
         "data": {
          "bar": [
           {
            "error_x": {
             "color": "#2a3f5f"
            },
            "error_y": {
             "color": "#2a3f5f"
            },
            "marker": {
             "line": {
              "color": "#E5ECF6",
              "width": 0.5
             },
             "pattern": {
              "fillmode": "overlay",
              "size": 10,
              "solidity": 0.2
             }
            },
            "type": "bar"
           }
          ],
          "barpolar": [
           {
            "marker": {
             "line": {
              "color": "#E5ECF6",
              "width": 0.5
             },
             "pattern": {
              "fillmode": "overlay",
              "size": 10,
              "solidity": 0.2
             }
            },
            "type": "barpolar"
           }
          ],
          "carpet": [
           {
            "aaxis": {
             "endlinecolor": "#2a3f5f",
             "gridcolor": "white",
             "linecolor": "white",
             "minorgridcolor": "white",
             "startlinecolor": "#2a3f5f"
            },
            "baxis": {
             "endlinecolor": "#2a3f5f",
             "gridcolor": "white",
             "linecolor": "white",
             "minorgridcolor": "white",
             "startlinecolor": "#2a3f5f"
            },
            "type": "carpet"
           }
          ],
          "choropleth": [
           {
            "colorbar": {
             "outlinewidth": 0,
             "ticks": ""
            },
            "type": "choropleth"
           }
          ],
          "contour": [
           {
            "colorbar": {
             "outlinewidth": 0,
             "ticks": ""
            },
            "colorscale": [
             [
              0,
              "#0d0887"
             ],
             [
              0.1111111111111111,
              "#46039f"
             ],
             [
              0.2222222222222222,
              "#7201a8"
             ],
             [
              0.3333333333333333,
              "#9c179e"
             ],
             [
              0.4444444444444444,
              "#bd3786"
             ],
             [
              0.5555555555555556,
              "#d8576b"
             ],
             [
              0.6666666666666666,
              "#ed7953"
             ],
             [
              0.7777777777777778,
              "#fb9f3a"
             ],
             [
              0.8888888888888888,
              "#fdca26"
             ],
             [
              1,
              "#f0f921"
             ]
            ],
            "type": "contour"
           }
          ],
          "contourcarpet": [
           {
            "colorbar": {
             "outlinewidth": 0,
             "ticks": ""
            },
            "type": "contourcarpet"
           }
          ],
          "heatmap": [
           {
            "colorbar": {
             "outlinewidth": 0,
             "ticks": ""
            },
            "colorscale": [
             [
              0,
              "#0d0887"
             ],
             [
              0.1111111111111111,
              "#46039f"
             ],
             [
              0.2222222222222222,
              "#7201a8"
             ],
             [
              0.3333333333333333,
              "#9c179e"
             ],
             [
              0.4444444444444444,
              "#bd3786"
             ],
             [
              0.5555555555555556,
              "#d8576b"
             ],
             [
              0.6666666666666666,
              "#ed7953"
             ],
             [
              0.7777777777777778,
              "#fb9f3a"
             ],
             [
              0.8888888888888888,
              "#fdca26"
             ],
             [
              1,
              "#f0f921"
             ]
            ],
            "type": "heatmap"
           }
          ],
          "heatmapgl": [
           {
            "colorbar": {
             "outlinewidth": 0,
             "ticks": ""
            },
            "colorscale": [
             [
              0,
              "#0d0887"
             ],
             [
              0.1111111111111111,
              "#46039f"
             ],
             [
              0.2222222222222222,
              "#7201a8"
             ],
             [
              0.3333333333333333,
              "#9c179e"
             ],
             [
              0.4444444444444444,
              "#bd3786"
             ],
             [
              0.5555555555555556,
              "#d8576b"
             ],
             [
              0.6666666666666666,
              "#ed7953"
             ],
             [
              0.7777777777777778,
              "#fb9f3a"
             ],
             [
              0.8888888888888888,
              "#fdca26"
             ],
             [
              1,
              "#f0f921"
             ]
            ],
            "type": "heatmapgl"
           }
          ],
          "histogram": [
           {
            "marker": {
             "pattern": {
              "fillmode": "overlay",
              "size": 10,
              "solidity": 0.2
             }
            },
            "type": "histogram"
           }
          ],
          "histogram2d": [
           {
            "colorbar": {
             "outlinewidth": 0,
             "ticks": ""
            },
            "colorscale": [
             [
              0,
              "#0d0887"
             ],
             [
              0.1111111111111111,
              "#46039f"
             ],
             [
              0.2222222222222222,
              "#7201a8"
             ],
             [
              0.3333333333333333,
              "#9c179e"
             ],
             [
              0.4444444444444444,
              "#bd3786"
             ],
             [
              0.5555555555555556,
              "#d8576b"
             ],
             [
              0.6666666666666666,
              "#ed7953"
             ],
             [
              0.7777777777777778,
              "#fb9f3a"
             ],
             [
              0.8888888888888888,
              "#fdca26"
             ],
             [
              1,
              "#f0f921"
             ]
            ],
            "type": "histogram2d"
           }
          ],
          "histogram2dcontour": [
           {
            "colorbar": {
             "outlinewidth": 0,
             "ticks": ""
            },
            "colorscale": [
             [
              0,
              "#0d0887"
             ],
             [
              0.1111111111111111,
              "#46039f"
             ],
             [
              0.2222222222222222,
              "#7201a8"
             ],
             [
              0.3333333333333333,
              "#9c179e"
             ],
             [
              0.4444444444444444,
              "#bd3786"
             ],
             [
              0.5555555555555556,
              "#d8576b"
             ],
             [
              0.6666666666666666,
              "#ed7953"
             ],
             [
              0.7777777777777778,
              "#fb9f3a"
             ],
             [
              0.8888888888888888,
              "#fdca26"
             ],
             [
              1,
              "#f0f921"
             ]
            ],
            "type": "histogram2dcontour"
           }
          ],
          "mesh3d": [
           {
            "colorbar": {
             "outlinewidth": 0,
             "ticks": ""
            },
            "type": "mesh3d"
           }
          ],
          "parcoords": [
           {
            "line": {
             "colorbar": {
              "outlinewidth": 0,
              "ticks": ""
             }
            },
            "type": "parcoords"
           }
          ],
          "pie": [
           {
            "automargin": true,
            "type": "pie"
           }
          ],
          "scatter": [
           {
            "fillpattern": {
             "fillmode": "overlay",
             "size": 10,
             "solidity": 0.2
            },
            "type": "scatter"
           }
          ],
          "scatter3d": [
           {
            "line": {
             "colorbar": {
              "outlinewidth": 0,
              "ticks": ""
             }
            },
            "marker": {
             "colorbar": {
              "outlinewidth": 0,
              "ticks": ""
             }
            },
            "type": "scatter3d"
           }
          ],
          "scattercarpet": [
           {
            "marker": {
             "colorbar": {
              "outlinewidth": 0,
              "ticks": ""
             }
            },
            "type": "scattercarpet"
           }
          ],
          "scattergeo": [
           {
            "marker": {
             "colorbar": {
              "outlinewidth": 0,
              "ticks": ""
             }
            },
            "type": "scattergeo"
           }
          ],
          "scattergl": [
           {
            "marker": {
             "colorbar": {
              "outlinewidth": 0,
              "ticks": ""
             }
            },
            "type": "scattergl"
           }
          ],
          "scattermapbox": [
           {
            "marker": {
             "colorbar": {
              "outlinewidth": 0,
              "ticks": ""
             }
            },
            "type": "scattermapbox"
           }
          ],
          "scatterpolar": [
           {
            "marker": {
             "colorbar": {
              "outlinewidth": 0,
              "ticks": ""
             }
            },
            "type": "scatterpolar"
           }
          ],
          "scatterpolargl": [
           {
            "marker": {
             "colorbar": {
              "outlinewidth": 0,
              "ticks": ""
             }
            },
            "type": "scatterpolargl"
           }
          ],
          "scatterternary": [
           {
            "marker": {
             "colorbar": {
              "outlinewidth": 0,
              "ticks": ""
             }
            },
            "type": "scatterternary"
           }
          ],
          "surface": [
           {
            "colorbar": {
             "outlinewidth": 0,
             "ticks": ""
            },
            "colorscale": [
             [
              0,
              "#0d0887"
             ],
             [
              0.1111111111111111,
              "#46039f"
             ],
             [
              0.2222222222222222,
              "#7201a8"
             ],
             [
              0.3333333333333333,
              "#9c179e"
             ],
             [
              0.4444444444444444,
              "#bd3786"
             ],
             [
              0.5555555555555556,
              "#d8576b"
             ],
             [
              0.6666666666666666,
              "#ed7953"
             ],
             [
              0.7777777777777778,
              "#fb9f3a"
             ],
             [
              0.8888888888888888,
              "#fdca26"
             ],
             [
              1,
              "#f0f921"
             ]
            ],
            "type": "surface"
           }
          ],
          "table": [
           {
            "cells": {
             "fill": {
              "color": "#EBF0F8"
             },
             "line": {
              "color": "white"
             }
            },
            "header": {
             "fill": {
              "color": "#C8D4E3"
             },
             "line": {
              "color": "white"
             }
            },
            "type": "table"
           }
          ]
         },
         "layout": {
          "annotationdefaults": {
           "arrowcolor": "#2a3f5f",
           "arrowhead": 0,
           "arrowwidth": 1
          },
          "autotypenumbers": "strict",
          "coloraxis": {
           "colorbar": {
            "outlinewidth": 0,
            "ticks": ""
           }
          },
          "colorscale": {
           "diverging": [
            [
             0,
             "#8e0152"
            ],
            [
             0.1,
             "#c51b7d"
            ],
            [
             0.2,
             "#de77ae"
            ],
            [
             0.3,
             "#f1b6da"
            ],
            [
             0.4,
             "#fde0ef"
            ],
            [
             0.5,
             "#f7f7f7"
            ],
            [
             0.6,
             "#e6f5d0"
            ],
            [
             0.7,
             "#b8e186"
            ],
            [
             0.8,
             "#7fbc41"
            ],
            [
             0.9,
             "#4d9221"
            ],
            [
             1,
             "#276419"
            ]
           ],
           "sequential": [
            [
             0,
             "#0d0887"
            ],
            [
             0.1111111111111111,
             "#46039f"
            ],
            [
             0.2222222222222222,
             "#7201a8"
            ],
            [
             0.3333333333333333,
             "#9c179e"
            ],
            [
             0.4444444444444444,
             "#bd3786"
            ],
            [
             0.5555555555555556,
             "#d8576b"
            ],
            [
             0.6666666666666666,
             "#ed7953"
            ],
            [
             0.7777777777777778,
             "#fb9f3a"
            ],
            [
             0.8888888888888888,
             "#fdca26"
            ],
            [
             1,
             "#f0f921"
            ]
           ],
           "sequentialminus": [
            [
             0,
             "#0d0887"
            ],
            [
             0.1111111111111111,
             "#46039f"
            ],
            [
             0.2222222222222222,
             "#7201a8"
            ],
            [
             0.3333333333333333,
             "#9c179e"
            ],
            [
             0.4444444444444444,
             "#bd3786"
            ],
            [
             0.5555555555555556,
             "#d8576b"
            ],
            [
             0.6666666666666666,
             "#ed7953"
            ],
            [
             0.7777777777777778,
             "#fb9f3a"
            ],
            [
             0.8888888888888888,
             "#fdca26"
            ],
            [
             1,
             "#f0f921"
            ]
           ]
          },
          "colorway": [
           "#636efa",
           "#EF553B",
           "#00cc96",
           "#ab63fa",
           "#FFA15A",
           "#19d3f3",
           "#FF6692",
           "#B6E880",
           "#FF97FF",
           "#FECB52"
          ],
          "font": {
           "color": "#2a3f5f"
          },
          "geo": {
           "bgcolor": "white",
           "lakecolor": "white",
           "landcolor": "#E5ECF6",
           "showlakes": true,
           "showland": true,
           "subunitcolor": "white"
          },
          "hoverlabel": {
           "align": "left"
          },
          "hovermode": "closest",
          "mapbox": {
           "style": "light"
          },
          "paper_bgcolor": "white",
          "plot_bgcolor": "#E5ECF6",
          "polar": {
           "angularaxis": {
            "gridcolor": "white",
            "linecolor": "white",
            "ticks": ""
           },
           "bgcolor": "#E5ECF6",
           "radialaxis": {
            "gridcolor": "white",
            "linecolor": "white",
            "ticks": ""
           }
          },
          "scene": {
           "xaxis": {
            "backgroundcolor": "#E5ECF6",
            "gridcolor": "white",
            "gridwidth": 2,
            "linecolor": "white",
            "showbackground": true,
            "ticks": "",
            "zerolinecolor": "white"
           },
           "yaxis": {
            "backgroundcolor": "#E5ECF6",
            "gridcolor": "white",
            "gridwidth": 2,
            "linecolor": "white",
            "showbackground": true,
            "ticks": "",
            "zerolinecolor": "white"
           },
           "zaxis": {
            "backgroundcolor": "#E5ECF6",
            "gridcolor": "white",
            "gridwidth": 2,
            "linecolor": "white",
            "showbackground": true,
            "ticks": "",
            "zerolinecolor": "white"
           }
          },
          "shapedefaults": {
           "line": {
            "color": "#2a3f5f"
           }
          },
          "ternary": {
           "aaxis": {
            "gridcolor": "white",
            "linecolor": "white",
            "ticks": ""
           },
           "baxis": {
            "gridcolor": "white",
            "linecolor": "white",
            "ticks": ""
           },
           "bgcolor": "#E5ECF6",
           "caxis": {
            "gridcolor": "white",
            "linecolor": "white",
            "ticks": ""
           }
          },
          "title": {
           "x": 0.05
          },
          "xaxis": {
           "automargin": true,
           "gridcolor": "white",
           "linecolor": "white",
           "ticks": "",
           "title": {
            "standoff": 15
           },
           "zerolinecolor": "white",
           "zerolinewidth": 2
          },
          "yaxis": {
           "automargin": true,
           "gridcolor": "white",
           "linecolor": "white",
           "ticks": "",
           "title": {
            "standoff": 15
           },
           "zerolinecolor": "white",
           "zerolinewidth": 2
          }
         }
        },
        "title": {
         "text": "Cantidad de solicitudes por estado de solicitud y precio total"
        },
        "xaxis": {
         "anchor": "y",
         "domain": [
          0,
          1
         ],
         "title": {
          "text": "Precio Total"
         }
        },
        "yaxis": {
         "anchor": "x",
         "domain": [
          0,
          1
         ],
         "title": {
          "text": "count"
         }
        }
       }
      }
     },
     "metadata": {},
     "output_type": "display_data"
    }
   ],
   "source": [
    "\n",
    "px.histogram(dj_max, x='estimacionPrecioTotal', \n",
    "             color='estado_solicitud',\n",
    "             title=\"Cantidad de solicitudes por estado de solicitud y precio total\", \n",
    "             labels={'estado_solicitud': 'Estado solicitud','estimacionPrecioTotal': 'Precio Total'},\n",
    "             nbins = 10\n",
    "             )\n"
   ]
  },
  {
   "cell_type": "code",
   "execution_count": 158,
   "metadata": {},
   "outputs": [
    {
     "data": {
      "text/html": [
       "<div>\n",
       "<style scoped>\n",
       "    .dataframe tbody tr th:only-of-type {\n",
       "        vertical-align: middle;\n",
       "    }\n",
       "\n",
       "    .dataframe tbody tr th {\n",
       "        vertical-align: top;\n",
       "    }\n",
       "\n",
       "    .dataframe thead th {\n",
       "        text-align: right;\n",
       "    }\n",
       "</style>\n",
       "<table border=\"1\" class=\"dataframe\">\n",
       "  <thead>\n",
       "    <tr style=\"text-align: right;\">\n",
       "      <th></th>\n",
       "      <th>estimacionPrecioTotal</th>\n",
       "      <th>calculadora_horas_actuacion</th>\n",
       "      <th>calculadora_numero_invitados</th>\n",
       "      <th>estado_solicitud</th>\n",
       "    </tr>\n",
       "  </thead>\n",
       "  <tbody>\n",
       "    <tr>\n",
       "      <th>43</th>\n",
       "      <td>600.0</td>\n",
       "      <td>6.0</td>\n",
       "      <td>50.0</td>\n",
       "      <td>presupuesto_calculado</td>\n",
       "    </tr>\n",
       "    <tr>\n",
       "      <th>56</th>\n",
       "      <td>600.0</td>\n",
       "      <td>4.0</td>\n",
       "      <td>100.0</td>\n",
       "      <td>amedias</td>\n",
       "    </tr>\n",
       "    <tr>\n",
       "      <th>55</th>\n",
       "      <td>600.0</td>\n",
       "      <td>4.0</td>\n",
       "      <td>200.0</td>\n",
       "      <td>presupuesto_calculado</td>\n",
       "    </tr>\n",
       "    <tr>\n",
       "      <th>22</th>\n",
       "      <td>480.0</td>\n",
       "      <td>3.0</td>\n",
       "      <td>50.0</td>\n",
       "      <td>presupuesto_calculado</td>\n",
       "    </tr>\n",
       "    <tr>\n",
       "      <th>25</th>\n",
       "      <td>456.0</td>\n",
       "      <td>3.0</td>\n",
       "      <td>130.0</td>\n",
       "      <td>presupuesto_calculado</td>\n",
       "    </tr>\n",
       "  </tbody>\n",
       "</table>\n",
       "</div>"
      ],
      "text/plain": [
       "    estimacionPrecioTotal  calculadora_horas_actuacion  \\\n",
       "43                  600.0                          6.0   \n",
       "56                  600.0                          4.0   \n",
       "55                  600.0                          4.0   \n",
       "22                  480.0                          3.0   \n",
       "25                  456.0                          3.0   \n",
       "\n",
       "    calculadora_numero_invitados       estado_solicitud  \n",
       "43                          50.0  presupuesto_calculado  \n",
       "56                         100.0                amedias  \n",
       "55                         200.0  presupuesto_calculado  \n",
       "22                          50.0  presupuesto_calculado  \n",
       "25                         130.0  presupuesto_calculado  "
      ]
     },
     "execution_count": 158,
     "metadata": {},
     "output_type": "execute_result"
    }
   ],
   "source": [
    "dj_max = dj_max.iloc[1:,]\n",
    "dj_max = dj_max[['estimacionPrecioTotal', 'calculadora_horas_actuacion','calculadora_numero_invitados','estado_solicitud','calculadora_provincia_evento','calculadora_espacio_evento']].dropna()\n",
    "dj_max.iloc[:,:4].head()"
   ]
  },
  {
   "cell_type": "code",
   "execution_count": 159,
   "metadata": {},
   "outputs": [
    {
     "data": {
      "application/vnd.plotly.v1+json": {
       "config": {
        "plotlyServerURL": "https://plot.ly"
       },
       "data": [
        {
         "alignmentgroup": "True",
         "bingroup": "x",
         "hovertemplate": "Estado solicitud=presupuesto_calculado<br>Precio Total=%{x}<br>count=%{y}<extra></extra>",
         "legendgroup": "presupuesto_calculado",
         "marker": {
          "color": "#636efa",
          "pattern": {
           "shape": ""
          }
         },
         "name": "presupuesto_calculado",
         "nbinsx": 10,
         "offsetgroup": "presupuesto_calculado",
         "orientation": "v",
         "showlegend": true,
         "type": "histogram",
         "x": [
          600,
          600,
          480,
          456,
          300,
          300,
          240,
          216,
          204,
          144,
          120,
          120,
          120,
          96,
          96,
          60,
          60
         ],
         "xaxis": "x",
         "yaxis": "y"
        },
        {
         "alignmentgroup": "True",
         "bingroup": "x",
         "hovertemplate": "Estado solicitud=amedias<br>Precio Total=%{x}<br>count=%{y}<extra></extra>",
         "legendgroup": "amedias",
         "marker": {
          "color": "#EF553B",
          "pattern": {
           "shape": ""
          }
         },
         "name": "amedias",
         "nbinsx": 10,
         "offsetgroup": "amedias",
         "orientation": "v",
         "showlegend": true,
         "type": "histogram",
         "x": [
          600,
          240,
          180,
          60
         ],
         "xaxis": "x",
         "yaxis": "y"
        },
        {
         "alignmentgroup": "True",
         "bingroup": "x",
         "hovertemplate": "Estado solicitud=completa<br>Precio Total=%{x}<br>count=%{y}<extra></extra>",
         "legendgroup": "completa",
         "marker": {
          "color": "#00cc96",
          "pattern": {
           "shape": ""
          }
         },
         "name": "completa",
         "nbinsx": 10,
         "offsetgroup": "completa",
         "orientation": "v",
         "showlegend": true,
         "type": "histogram",
         "x": [
          360,
          360,
          360,
          300,
          252,
          240,
          240,
          240,
          240,
          180,
          180,
          180,
          180,
          180,
          156,
          141,
          120,
          120,
          60
         ],
         "xaxis": "x",
         "yaxis": "y"
        }
       ],
       "layout": {
        "barmode": "relative",
        "legend": {
         "title": {
          "text": "Estado solicitud"
         },
         "tracegroupgap": 0
        },
        "template": {
         "data": {
          "bar": [
           {
            "error_x": {
             "color": "#2a3f5f"
            },
            "error_y": {
             "color": "#2a3f5f"
            },
            "marker": {
             "line": {
              "color": "#E5ECF6",
              "width": 0.5
             },
             "pattern": {
              "fillmode": "overlay",
              "size": 10,
              "solidity": 0.2
             }
            },
            "type": "bar"
           }
          ],
          "barpolar": [
           {
            "marker": {
             "line": {
              "color": "#E5ECF6",
              "width": 0.5
             },
             "pattern": {
              "fillmode": "overlay",
              "size": 10,
              "solidity": 0.2
             }
            },
            "type": "barpolar"
           }
          ],
          "carpet": [
           {
            "aaxis": {
             "endlinecolor": "#2a3f5f",
             "gridcolor": "white",
             "linecolor": "white",
             "minorgridcolor": "white",
             "startlinecolor": "#2a3f5f"
            },
            "baxis": {
             "endlinecolor": "#2a3f5f",
             "gridcolor": "white",
             "linecolor": "white",
             "minorgridcolor": "white",
             "startlinecolor": "#2a3f5f"
            },
            "type": "carpet"
           }
          ],
          "choropleth": [
           {
            "colorbar": {
             "outlinewidth": 0,
             "ticks": ""
            },
            "type": "choropleth"
           }
          ],
          "contour": [
           {
            "colorbar": {
             "outlinewidth": 0,
             "ticks": ""
            },
            "colorscale": [
             [
              0,
              "#0d0887"
             ],
             [
              0.1111111111111111,
              "#46039f"
             ],
             [
              0.2222222222222222,
              "#7201a8"
             ],
             [
              0.3333333333333333,
              "#9c179e"
             ],
             [
              0.4444444444444444,
              "#bd3786"
             ],
             [
              0.5555555555555556,
              "#d8576b"
             ],
             [
              0.6666666666666666,
              "#ed7953"
             ],
             [
              0.7777777777777778,
              "#fb9f3a"
             ],
             [
              0.8888888888888888,
              "#fdca26"
             ],
             [
              1,
              "#f0f921"
             ]
            ],
            "type": "contour"
           }
          ],
          "contourcarpet": [
           {
            "colorbar": {
             "outlinewidth": 0,
             "ticks": ""
            },
            "type": "contourcarpet"
           }
          ],
          "heatmap": [
           {
            "colorbar": {
             "outlinewidth": 0,
             "ticks": ""
            },
            "colorscale": [
             [
              0,
              "#0d0887"
             ],
             [
              0.1111111111111111,
              "#46039f"
             ],
             [
              0.2222222222222222,
              "#7201a8"
             ],
             [
              0.3333333333333333,
              "#9c179e"
             ],
             [
              0.4444444444444444,
              "#bd3786"
             ],
             [
              0.5555555555555556,
              "#d8576b"
             ],
             [
              0.6666666666666666,
              "#ed7953"
             ],
             [
              0.7777777777777778,
              "#fb9f3a"
             ],
             [
              0.8888888888888888,
              "#fdca26"
             ],
             [
              1,
              "#f0f921"
             ]
            ],
            "type": "heatmap"
           }
          ],
          "heatmapgl": [
           {
            "colorbar": {
             "outlinewidth": 0,
             "ticks": ""
            },
            "colorscale": [
             [
              0,
              "#0d0887"
             ],
             [
              0.1111111111111111,
              "#46039f"
             ],
             [
              0.2222222222222222,
              "#7201a8"
             ],
             [
              0.3333333333333333,
              "#9c179e"
             ],
             [
              0.4444444444444444,
              "#bd3786"
             ],
             [
              0.5555555555555556,
              "#d8576b"
             ],
             [
              0.6666666666666666,
              "#ed7953"
             ],
             [
              0.7777777777777778,
              "#fb9f3a"
             ],
             [
              0.8888888888888888,
              "#fdca26"
             ],
             [
              1,
              "#f0f921"
             ]
            ],
            "type": "heatmapgl"
           }
          ],
          "histogram": [
           {
            "marker": {
             "pattern": {
              "fillmode": "overlay",
              "size": 10,
              "solidity": 0.2
             }
            },
            "type": "histogram"
           }
          ],
          "histogram2d": [
           {
            "colorbar": {
             "outlinewidth": 0,
             "ticks": ""
            },
            "colorscale": [
             [
              0,
              "#0d0887"
             ],
             [
              0.1111111111111111,
              "#46039f"
             ],
             [
              0.2222222222222222,
              "#7201a8"
             ],
             [
              0.3333333333333333,
              "#9c179e"
             ],
             [
              0.4444444444444444,
              "#bd3786"
             ],
             [
              0.5555555555555556,
              "#d8576b"
             ],
             [
              0.6666666666666666,
              "#ed7953"
             ],
             [
              0.7777777777777778,
              "#fb9f3a"
             ],
             [
              0.8888888888888888,
              "#fdca26"
             ],
             [
              1,
              "#f0f921"
             ]
            ],
            "type": "histogram2d"
           }
          ],
          "histogram2dcontour": [
           {
            "colorbar": {
             "outlinewidth": 0,
             "ticks": ""
            },
            "colorscale": [
             [
              0,
              "#0d0887"
             ],
             [
              0.1111111111111111,
              "#46039f"
             ],
             [
              0.2222222222222222,
              "#7201a8"
             ],
             [
              0.3333333333333333,
              "#9c179e"
             ],
             [
              0.4444444444444444,
              "#bd3786"
             ],
             [
              0.5555555555555556,
              "#d8576b"
             ],
             [
              0.6666666666666666,
              "#ed7953"
             ],
             [
              0.7777777777777778,
              "#fb9f3a"
             ],
             [
              0.8888888888888888,
              "#fdca26"
             ],
             [
              1,
              "#f0f921"
             ]
            ],
            "type": "histogram2dcontour"
           }
          ],
          "mesh3d": [
           {
            "colorbar": {
             "outlinewidth": 0,
             "ticks": ""
            },
            "type": "mesh3d"
           }
          ],
          "parcoords": [
           {
            "line": {
             "colorbar": {
              "outlinewidth": 0,
              "ticks": ""
             }
            },
            "type": "parcoords"
           }
          ],
          "pie": [
           {
            "automargin": true,
            "type": "pie"
           }
          ],
          "scatter": [
           {
            "fillpattern": {
             "fillmode": "overlay",
             "size": 10,
             "solidity": 0.2
            },
            "type": "scatter"
           }
          ],
          "scatter3d": [
           {
            "line": {
             "colorbar": {
              "outlinewidth": 0,
              "ticks": ""
             }
            },
            "marker": {
             "colorbar": {
              "outlinewidth": 0,
              "ticks": ""
             }
            },
            "type": "scatter3d"
           }
          ],
          "scattercarpet": [
           {
            "marker": {
             "colorbar": {
              "outlinewidth": 0,
              "ticks": ""
             }
            },
            "type": "scattercarpet"
           }
          ],
          "scattergeo": [
           {
            "marker": {
             "colorbar": {
              "outlinewidth": 0,
              "ticks": ""
             }
            },
            "type": "scattergeo"
           }
          ],
          "scattergl": [
           {
            "marker": {
             "colorbar": {
              "outlinewidth": 0,
              "ticks": ""
             }
            },
            "type": "scattergl"
           }
          ],
          "scattermapbox": [
           {
            "marker": {
             "colorbar": {
              "outlinewidth": 0,
              "ticks": ""
             }
            },
            "type": "scattermapbox"
           }
          ],
          "scatterpolar": [
           {
            "marker": {
             "colorbar": {
              "outlinewidth": 0,
              "ticks": ""
             }
            },
            "type": "scatterpolar"
           }
          ],
          "scatterpolargl": [
           {
            "marker": {
             "colorbar": {
              "outlinewidth": 0,
              "ticks": ""
             }
            },
            "type": "scatterpolargl"
           }
          ],
          "scatterternary": [
           {
            "marker": {
             "colorbar": {
              "outlinewidth": 0,
              "ticks": ""
             }
            },
            "type": "scatterternary"
           }
          ],
          "surface": [
           {
            "colorbar": {
             "outlinewidth": 0,
             "ticks": ""
            },
            "colorscale": [
             [
              0,
              "#0d0887"
             ],
             [
              0.1111111111111111,
              "#46039f"
             ],
             [
              0.2222222222222222,
              "#7201a8"
             ],
             [
              0.3333333333333333,
              "#9c179e"
             ],
             [
              0.4444444444444444,
              "#bd3786"
             ],
             [
              0.5555555555555556,
              "#d8576b"
             ],
             [
              0.6666666666666666,
              "#ed7953"
             ],
             [
              0.7777777777777778,
              "#fb9f3a"
             ],
             [
              0.8888888888888888,
              "#fdca26"
             ],
             [
              1,
              "#f0f921"
             ]
            ],
            "type": "surface"
           }
          ],
          "table": [
           {
            "cells": {
             "fill": {
              "color": "#EBF0F8"
             },
             "line": {
              "color": "white"
             }
            },
            "header": {
             "fill": {
              "color": "#C8D4E3"
             },
             "line": {
              "color": "white"
             }
            },
            "type": "table"
           }
          ]
         },
         "layout": {
          "annotationdefaults": {
           "arrowcolor": "#2a3f5f",
           "arrowhead": 0,
           "arrowwidth": 1
          },
          "autotypenumbers": "strict",
          "coloraxis": {
           "colorbar": {
            "outlinewidth": 0,
            "ticks": ""
           }
          },
          "colorscale": {
           "diverging": [
            [
             0,
             "#8e0152"
            ],
            [
             0.1,
             "#c51b7d"
            ],
            [
             0.2,
             "#de77ae"
            ],
            [
             0.3,
             "#f1b6da"
            ],
            [
             0.4,
             "#fde0ef"
            ],
            [
             0.5,
             "#f7f7f7"
            ],
            [
             0.6,
             "#e6f5d0"
            ],
            [
             0.7,
             "#b8e186"
            ],
            [
             0.8,
             "#7fbc41"
            ],
            [
             0.9,
             "#4d9221"
            ],
            [
             1,
             "#276419"
            ]
           ],
           "sequential": [
            [
             0,
             "#0d0887"
            ],
            [
             0.1111111111111111,
             "#46039f"
            ],
            [
             0.2222222222222222,
             "#7201a8"
            ],
            [
             0.3333333333333333,
             "#9c179e"
            ],
            [
             0.4444444444444444,
             "#bd3786"
            ],
            [
             0.5555555555555556,
             "#d8576b"
            ],
            [
             0.6666666666666666,
             "#ed7953"
            ],
            [
             0.7777777777777778,
             "#fb9f3a"
            ],
            [
             0.8888888888888888,
             "#fdca26"
            ],
            [
             1,
             "#f0f921"
            ]
           ],
           "sequentialminus": [
            [
             0,
             "#0d0887"
            ],
            [
             0.1111111111111111,
             "#46039f"
            ],
            [
             0.2222222222222222,
             "#7201a8"
            ],
            [
             0.3333333333333333,
             "#9c179e"
            ],
            [
             0.4444444444444444,
             "#bd3786"
            ],
            [
             0.5555555555555556,
             "#d8576b"
            ],
            [
             0.6666666666666666,
             "#ed7953"
            ],
            [
             0.7777777777777778,
             "#fb9f3a"
            ],
            [
             0.8888888888888888,
             "#fdca26"
            ],
            [
             1,
             "#f0f921"
            ]
           ]
          },
          "colorway": [
           "#636efa",
           "#EF553B",
           "#00cc96",
           "#ab63fa",
           "#FFA15A",
           "#19d3f3",
           "#FF6692",
           "#B6E880",
           "#FF97FF",
           "#FECB52"
          ],
          "font": {
           "color": "#2a3f5f"
          },
          "geo": {
           "bgcolor": "white",
           "lakecolor": "white",
           "landcolor": "#E5ECF6",
           "showlakes": true,
           "showland": true,
           "subunitcolor": "white"
          },
          "hoverlabel": {
           "align": "left"
          },
          "hovermode": "closest",
          "mapbox": {
           "style": "light"
          },
          "paper_bgcolor": "white",
          "plot_bgcolor": "#E5ECF6",
          "polar": {
           "angularaxis": {
            "gridcolor": "white",
            "linecolor": "white",
            "ticks": ""
           },
           "bgcolor": "#E5ECF6",
           "radialaxis": {
            "gridcolor": "white",
            "linecolor": "white",
            "ticks": ""
           }
          },
          "scene": {
           "xaxis": {
            "backgroundcolor": "#E5ECF6",
            "gridcolor": "white",
            "gridwidth": 2,
            "linecolor": "white",
            "showbackground": true,
            "ticks": "",
            "zerolinecolor": "white"
           },
           "yaxis": {
            "backgroundcolor": "#E5ECF6",
            "gridcolor": "white",
            "gridwidth": 2,
            "linecolor": "white",
            "showbackground": true,
            "ticks": "",
            "zerolinecolor": "white"
           },
           "zaxis": {
            "backgroundcolor": "#E5ECF6",
            "gridcolor": "white",
            "gridwidth": 2,
            "linecolor": "white",
            "showbackground": true,
            "ticks": "",
            "zerolinecolor": "white"
           }
          },
          "shapedefaults": {
           "line": {
            "color": "#2a3f5f"
           }
          },
          "ternary": {
           "aaxis": {
            "gridcolor": "white",
            "linecolor": "white",
            "ticks": ""
           },
           "baxis": {
            "gridcolor": "white",
            "linecolor": "white",
            "ticks": ""
           },
           "bgcolor": "#E5ECF6",
           "caxis": {
            "gridcolor": "white",
            "linecolor": "white",
            "ticks": ""
           }
          },
          "title": {
           "x": 0.05
          },
          "xaxis": {
           "automargin": true,
           "gridcolor": "white",
           "linecolor": "white",
           "ticks": "",
           "title": {
            "standoff": 15
           },
           "zerolinecolor": "white",
           "zerolinewidth": 2
          },
          "yaxis": {
           "automargin": true,
           "gridcolor": "white",
           "linecolor": "white",
           "ticks": "",
           "title": {
            "standoff": 15
           },
           "zerolinecolor": "white",
           "zerolinewidth": 2
          }
         }
        },
        "title": {
         "text": "Cantidad de solicitudes por estado de solicitud y precio total"
        },
        "xaxis": {
         "anchor": "y",
         "domain": [
          0,
          1
         ],
         "title": {
          "text": "Precio Total"
         }
        },
        "yaxis": {
         "anchor": "x",
         "domain": [
          0,
          1
         ],
         "title": {
          "text": "count"
         }
        }
       }
      }
     },
     "metadata": {},
     "output_type": "display_data"
    }
   ],
   "source": [
    "px.histogram(dj_max, x='estimacionPrecioTotal', \n",
    "             color='estado_solicitud',\n",
    "             title=\"Cantidad de solicitudes por estado de solicitud y precio total\", \n",
    "             labels={'estado_solicitud': 'Estado solicitud','estimacionPrecioTotal': 'Precio Total'},\n",
    "             nbins = 10\n",
    ")"
   ]
  },
  {
   "attachments": {},
   "cell_type": "markdown",
   "metadata": {},
   "source": [
    "El rango de precios más solicitado de DJ está entre 120 y 300.\n"
   ]
  },
  {
   "cell_type": "code",
   "execution_count": 160,
   "metadata": {},
   "outputs": [
    {
     "data": {
      "text/plain": [
       "114"
      ]
     },
     "execution_count": 160,
     "metadata": {},
     "output_type": "execute_result"
    }
   ],
   "source": [
    "\n",
    "dj_comp = dj_max[dj_max['estado_solicitud'] == 'completa']\n",
    "dj_comp.size"
   ]
  },
  {
   "cell_type": "code",
   "execution_count": 161,
   "metadata": {},
   "outputs": [
    {
     "data": {
      "application/vnd.plotly.v1+json": {
       "config": {
        "plotlyServerURL": "https://plot.ly"
       },
       "data": [
        {
         "alignmentgroup": "True",
         "hovertemplate": "estado_solicitud=%{y}<br>estimacionPrecioTotal=%{x}<extra></extra>",
         "legendgroup": "presupuesto_calculado",
         "marker": {
          "color": "#636efa"
         },
         "name": "presupuesto_calculado",
         "notched": false,
         "offsetgroup": "presupuesto_calculado",
         "orientation": "h",
         "showlegend": true,
         "type": "box",
         "x": [
          600,
          600,
          480,
          456,
          300,
          300,
          240,
          216,
          204,
          144,
          120,
          120,
          120,
          96,
          96,
          60,
          60
         ],
         "x0": " ",
         "xaxis": "x",
         "y": [
          "presupuesto_calculado",
          "presupuesto_calculado",
          "presupuesto_calculado",
          "presupuesto_calculado",
          "presupuesto_calculado",
          "presupuesto_calculado",
          "presupuesto_calculado",
          "presupuesto_calculado",
          "presupuesto_calculado",
          "presupuesto_calculado",
          "presupuesto_calculado",
          "presupuesto_calculado",
          "presupuesto_calculado",
          "presupuesto_calculado",
          "presupuesto_calculado",
          "presupuesto_calculado",
          "presupuesto_calculado"
         ],
         "y0": " ",
         "yaxis": "y"
        },
        {
         "alignmentgroup": "True",
         "hovertemplate": "estado_solicitud=%{y}<br>estimacionPrecioTotal=%{x}<extra></extra>",
         "legendgroup": "amedias",
         "marker": {
          "color": "#EF553B"
         },
         "name": "amedias",
         "notched": false,
         "offsetgroup": "amedias",
         "orientation": "h",
         "showlegend": true,
         "type": "box",
         "x": [
          600,
          240,
          180,
          60
         ],
         "x0": " ",
         "xaxis": "x",
         "y": [
          "amedias",
          "amedias",
          "amedias",
          "amedias"
         ],
         "y0": " ",
         "yaxis": "y"
        },
        {
         "alignmentgroup": "True",
         "hovertemplate": "estado_solicitud=%{y}<br>estimacionPrecioTotal=%{x}<extra></extra>",
         "legendgroup": "completa",
         "marker": {
          "color": "#00cc96"
         },
         "name": "completa",
         "notched": false,
         "offsetgroup": "completa",
         "orientation": "h",
         "showlegend": true,
         "type": "box",
         "x": [
          360,
          360,
          360,
          300,
          252,
          240,
          240,
          240,
          240,
          180,
          180,
          180,
          180,
          180,
          156,
          141,
          120,
          120,
          60
         ],
         "x0": " ",
         "xaxis": "x",
         "y": [
          "completa",
          "completa",
          "completa",
          "completa",
          "completa",
          "completa",
          "completa",
          "completa",
          "completa",
          "completa",
          "completa",
          "completa",
          "completa",
          "completa",
          "completa",
          "completa",
          "completa",
          "completa",
          "completa"
         ],
         "y0": " ",
         "yaxis": "y"
        }
       ],
       "layout": {
        "boxmode": "overlay",
        "legend": {
         "title": {
          "text": "estado_solicitud"
         },
         "tracegroupgap": 0
        },
        "margin": {
         "t": 60
        },
        "showlegend": false,
        "template": {
         "data": {
          "bar": [
           {
            "error_x": {
             "color": "#2a3f5f"
            },
            "error_y": {
             "color": "#2a3f5f"
            },
            "marker": {
             "line": {
              "color": "#E5ECF6",
              "width": 0.5
             },
             "pattern": {
              "fillmode": "overlay",
              "size": 10,
              "solidity": 0.2
             }
            },
            "type": "bar"
           }
          ],
          "barpolar": [
           {
            "marker": {
             "line": {
              "color": "#E5ECF6",
              "width": 0.5
             },
             "pattern": {
              "fillmode": "overlay",
              "size": 10,
              "solidity": 0.2
             }
            },
            "type": "barpolar"
           }
          ],
          "carpet": [
           {
            "aaxis": {
             "endlinecolor": "#2a3f5f",
             "gridcolor": "white",
             "linecolor": "white",
             "minorgridcolor": "white",
             "startlinecolor": "#2a3f5f"
            },
            "baxis": {
             "endlinecolor": "#2a3f5f",
             "gridcolor": "white",
             "linecolor": "white",
             "minorgridcolor": "white",
             "startlinecolor": "#2a3f5f"
            },
            "type": "carpet"
           }
          ],
          "choropleth": [
           {
            "colorbar": {
             "outlinewidth": 0,
             "ticks": ""
            },
            "type": "choropleth"
           }
          ],
          "contour": [
           {
            "colorbar": {
             "outlinewidth": 0,
             "ticks": ""
            },
            "colorscale": [
             [
              0,
              "#0d0887"
             ],
             [
              0.1111111111111111,
              "#46039f"
             ],
             [
              0.2222222222222222,
              "#7201a8"
             ],
             [
              0.3333333333333333,
              "#9c179e"
             ],
             [
              0.4444444444444444,
              "#bd3786"
             ],
             [
              0.5555555555555556,
              "#d8576b"
             ],
             [
              0.6666666666666666,
              "#ed7953"
             ],
             [
              0.7777777777777778,
              "#fb9f3a"
             ],
             [
              0.8888888888888888,
              "#fdca26"
             ],
             [
              1,
              "#f0f921"
             ]
            ],
            "type": "contour"
           }
          ],
          "contourcarpet": [
           {
            "colorbar": {
             "outlinewidth": 0,
             "ticks": ""
            },
            "type": "contourcarpet"
           }
          ],
          "heatmap": [
           {
            "colorbar": {
             "outlinewidth": 0,
             "ticks": ""
            },
            "colorscale": [
             [
              0,
              "#0d0887"
             ],
             [
              0.1111111111111111,
              "#46039f"
             ],
             [
              0.2222222222222222,
              "#7201a8"
             ],
             [
              0.3333333333333333,
              "#9c179e"
             ],
             [
              0.4444444444444444,
              "#bd3786"
             ],
             [
              0.5555555555555556,
              "#d8576b"
             ],
             [
              0.6666666666666666,
              "#ed7953"
             ],
             [
              0.7777777777777778,
              "#fb9f3a"
             ],
             [
              0.8888888888888888,
              "#fdca26"
             ],
             [
              1,
              "#f0f921"
             ]
            ],
            "type": "heatmap"
           }
          ],
          "heatmapgl": [
           {
            "colorbar": {
             "outlinewidth": 0,
             "ticks": ""
            },
            "colorscale": [
             [
              0,
              "#0d0887"
             ],
             [
              0.1111111111111111,
              "#46039f"
             ],
             [
              0.2222222222222222,
              "#7201a8"
             ],
             [
              0.3333333333333333,
              "#9c179e"
             ],
             [
              0.4444444444444444,
              "#bd3786"
             ],
             [
              0.5555555555555556,
              "#d8576b"
             ],
             [
              0.6666666666666666,
              "#ed7953"
             ],
             [
              0.7777777777777778,
              "#fb9f3a"
             ],
             [
              0.8888888888888888,
              "#fdca26"
             ],
             [
              1,
              "#f0f921"
             ]
            ],
            "type": "heatmapgl"
           }
          ],
          "histogram": [
           {
            "marker": {
             "pattern": {
              "fillmode": "overlay",
              "size": 10,
              "solidity": 0.2
             }
            },
            "type": "histogram"
           }
          ],
          "histogram2d": [
           {
            "colorbar": {
             "outlinewidth": 0,
             "ticks": ""
            },
            "colorscale": [
             [
              0,
              "#0d0887"
             ],
             [
              0.1111111111111111,
              "#46039f"
             ],
             [
              0.2222222222222222,
              "#7201a8"
             ],
             [
              0.3333333333333333,
              "#9c179e"
             ],
             [
              0.4444444444444444,
              "#bd3786"
             ],
             [
              0.5555555555555556,
              "#d8576b"
             ],
             [
              0.6666666666666666,
              "#ed7953"
             ],
             [
              0.7777777777777778,
              "#fb9f3a"
             ],
             [
              0.8888888888888888,
              "#fdca26"
             ],
             [
              1,
              "#f0f921"
             ]
            ],
            "type": "histogram2d"
           }
          ],
          "histogram2dcontour": [
           {
            "colorbar": {
             "outlinewidth": 0,
             "ticks": ""
            },
            "colorscale": [
             [
              0,
              "#0d0887"
             ],
             [
              0.1111111111111111,
              "#46039f"
             ],
             [
              0.2222222222222222,
              "#7201a8"
             ],
             [
              0.3333333333333333,
              "#9c179e"
             ],
             [
              0.4444444444444444,
              "#bd3786"
             ],
             [
              0.5555555555555556,
              "#d8576b"
             ],
             [
              0.6666666666666666,
              "#ed7953"
             ],
             [
              0.7777777777777778,
              "#fb9f3a"
             ],
             [
              0.8888888888888888,
              "#fdca26"
             ],
             [
              1,
              "#f0f921"
             ]
            ],
            "type": "histogram2dcontour"
           }
          ],
          "mesh3d": [
           {
            "colorbar": {
             "outlinewidth": 0,
             "ticks": ""
            },
            "type": "mesh3d"
           }
          ],
          "parcoords": [
           {
            "line": {
             "colorbar": {
              "outlinewidth": 0,
              "ticks": ""
             }
            },
            "type": "parcoords"
           }
          ],
          "pie": [
           {
            "automargin": true,
            "type": "pie"
           }
          ],
          "scatter": [
           {
            "fillpattern": {
             "fillmode": "overlay",
             "size": 10,
             "solidity": 0.2
            },
            "type": "scatter"
           }
          ],
          "scatter3d": [
           {
            "line": {
             "colorbar": {
              "outlinewidth": 0,
              "ticks": ""
             }
            },
            "marker": {
             "colorbar": {
              "outlinewidth": 0,
              "ticks": ""
             }
            },
            "type": "scatter3d"
           }
          ],
          "scattercarpet": [
           {
            "marker": {
             "colorbar": {
              "outlinewidth": 0,
              "ticks": ""
             }
            },
            "type": "scattercarpet"
           }
          ],
          "scattergeo": [
           {
            "marker": {
             "colorbar": {
              "outlinewidth": 0,
              "ticks": ""
             }
            },
            "type": "scattergeo"
           }
          ],
          "scattergl": [
           {
            "marker": {
             "colorbar": {
              "outlinewidth": 0,
              "ticks": ""
             }
            },
            "type": "scattergl"
           }
          ],
          "scattermapbox": [
           {
            "marker": {
             "colorbar": {
              "outlinewidth": 0,
              "ticks": ""
             }
            },
            "type": "scattermapbox"
           }
          ],
          "scatterpolar": [
           {
            "marker": {
             "colorbar": {
              "outlinewidth": 0,
              "ticks": ""
             }
            },
            "type": "scatterpolar"
           }
          ],
          "scatterpolargl": [
           {
            "marker": {
             "colorbar": {
              "outlinewidth": 0,
              "ticks": ""
             }
            },
            "type": "scatterpolargl"
           }
          ],
          "scatterternary": [
           {
            "marker": {
             "colorbar": {
              "outlinewidth": 0,
              "ticks": ""
             }
            },
            "type": "scatterternary"
           }
          ],
          "surface": [
           {
            "colorbar": {
             "outlinewidth": 0,
             "ticks": ""
            },
            "colorscale": [
             [
              0,
              "#0d0887"
             ],
             [
              0.1111111111111111,
              "#46039f"
             ],
             [
              0.2222222222222222,
              "#7201a8"
             ],
             [
              0.3333333333333333,
              "#9c179e"
             ],
             [
              0.4444444444444444,
              "#bd3786"
             ],
             [
              0.5555555555555556,
              "#d8576b"
             ],
             [
              0.6666666666666666,
              "#ed7953"
             ],
             [
              0.7777777777777778,
              "#fb9f3a"
             ],
             [
              0.8888888888888888,
              "#fdca26"
             ],
             [
              1,
              "#f0f921"
             ]
            ],
            "type": "surface"
           }
          ],
          "table": [
           {
            "cells": {
             "fill": {
              "color": "#EBF0F8"
             },
             "line": {
              "color": "white"
             }
            },
            "header": {
             "fill": {
              "color": "#C8D4E3"
             },
             "line": {
              "color": "white"
             }
            },
            "type": "table"
           }
          ]
         },
         "layout": {
          "annotationdefaults": {
           "arrowcolor": "#2a3f5f",
           "arrowhead": 0,
           "arrowwidth": 1
          },
          "autotypenumbers": "strict",
          "coloraxis": {
           "colorbar": {
            "outlinewidth": 0,
            "ticks": ""
           }
          },
          "colorscale": {
           "diverging": [
            [
             0,
             "#8e0152"
            ],
            [
             0.1,
             "#c51b7d"
            ],
            [
             0.2,
             "#de77ae"
            ],
            [
             0.3,
             "#f1b6da"
            ],
            [
             0.4,
             "#fde0ef"
            ],
            [
             0.5,
             "#f7f7f7"
            ],
            [
             0.6,
             "#e6f5d0"
            ],
            [
             0.7,
             "#b8e186"
            ],
            [
             0.8,
             "#7fbc41"
            ],
            [
             0.9,
             "#4d9221"
            ],
            [
             1,
             "#276419"
            ]
           ],
           "sequential": [
            [
             0,
             "#0d0887"
            ],
            [
             0.1111111111111111,
             "#46039f"
            ],
            [
             0.2222222222222222,
             "#7201a8"
            ],
            [
             0.3333333333333333,
             "#9c179e"
            ],
            [
             0.4444444444444444,
             "#bd3786"
            ],
            [
             0.5555555555555556,
             "#d8576b"
            ],
            [
             0.6666666666666666,
             "#ed7953"
            ],
            [
             0.7777777777777778,
             "#fb9f3a"
            ],
            [
             0.8888888888888888,
             "#fdca26"
            ],
            [
             1,
             "#f0f921"
            ]
           ],
           "sequentialminus": [
            [
             0,
             "#0d0887"
            ],
            [
             0.1111111111111111,
             "#46039f"
            ],
            [
             0.2222222222222222,
             "#7201a8"
            ],
            [
             0.3333333333333333,
             "#9c179e"
            ],
            [
             0.4444444444444444,
             "#bd3786"
            ],
            [
             0.5555555555555556,
             "#d8576b"
            ],
            [
             0.6666666666666666,
             "#ed7953"
            ],
            [
             0.7777777777777778,
             "#fb9f3a"
            ],
            [
             0.8888888888888888,
             "#fdca26"
            ],
            [
             1,
             "#f0f921"
            ]
           ]
          },
          "colorway": [
           "#636efa",
           "#EF553B",
           "#00cc96",
           "#ab63fa",
           "#FFA15A",
           "#19d3f3",
           "#FF6692",
           "#B6E880",
           "#FF97FF",
           "#FECB52"
          ],
          "font": {
           "color": "#2a3f5f"
          },
          "geo": {
           "bgcolor": "white",
           "lakecolor": "white",
           "landcolor": "#E5ECF6",
           "showlakes": true,
           "showland": true,
           "subunitcolor": "white"
          },
          "hoverlabel": {
           "align": "left"
          },
          "hovermode": "closest",
          "mapbox": {
           "style": "light"
          },
          "paper_bgcolor": "white",
          "plot_bgcolor": "#E5ECF6",
          "polar": {
           "angularaxis": {
            "gridcolor": "white",
            "linecolor": "white",
            "ticks": ""
           },
           "bgcolor": "#E5ECF6",
           "radialaxis": {
            "gridcolor": "white",
            "linecolor": "white",
            "ticks": ""
           }
          },
          "scene": {
           "xaxis": {
            "backgroundcolor": "#E5ECF6",
            "gridcolor": "white",
            "gridwidth": 2,
            "linecolor": "white",
            "showbackground": true,
            "ticks": "",
            "zerolinecolor": "white"
           },
           "yaxis": {
            "backgroundcolor": "#E5ECF6",
            "gridcolor": "white",
            "gridwidth": 2,
            "linecolor": "white",
            "showbackground": true,
            "ticks": "",
            "zerolinecolor": "white"
           },
           "zaxis": {
            "backgroundcolor": "#E5ECF6",
            "gridcolor": "white",
            "gridwidth": 2,
            "linecolor": "white",
            "showbackground": true,
            "ticks": "",
            "zerolinecolor": "white"
           }
          },
          "shapedefaults": {
           "line": {
            "color": "#2a3f5f"
           }
          },
          "ternary": {
           "aaxis": {
            "gridcolor": "white",
            "linecolor": "white",
            "ticks": ""
           },
           "baxis": {
            "gridcolor": "white",
            "linecolor": "white",
            "ticks": ""
           },
           "bgcolor": "#E5ECF6",
           "caxis": {
            "gridcolor": "white",
            "linecolor": "white",
            "ticks": ""
           }
          },
          "title": {
           "x": 0.05
          },
          "xaxis": {
           "automargin": true,
           "gridcolor": "white",
           "linecolor": "white",
           "ticks": "",
           "title": {
            "standoff": 15
           },
           "zerolinecolor": "white",
           "zerolinewidth": 2
          },
          "yaxis": {
           "automargin": true,
           "gridcolor": "white",
           "linecolor": "white",
           "ticks": "",
           "title": {
            "standoff": 15
           },
           "zerolinecolor": "white",
           "zerolinewidth": 2
          }
         }
        },
        "title": {
         "text": "Precio total por estado de solicitud"
        },
        "xaxis": {
         "anchor": "y",
         "domain": [
          0,
          1
         ],
         "title": {
          "text": "Precio total"
         }
        },
        "yaxis": {
         "anchor": "x",
         "categoryarray": [
          "completa",
          "amedias",
          "presupuesto_calculado"
         ],
         "categoryorder": "array",
         "domain": [
          0,
          1
         ],
         "title": {
          "text": " "
         }
        }
       }
      }
     },
     "metadata": {},
     "output_type": "display_data"
    },
    {
     "name": "stdout",
     "output_type": "stream",
     "text": [
      "[\"El rango de precios solicitados de 'amedias' está entre 150.0 y 330.0.\", \"El rango de precios solicitados de 'completa' está entre 168.0 y 246.0.\", \"El rango de precios solicitados de 'presupuesto_calculado' está entre 120.0 y 300.0.\"]\n"
     ]
    }
   ],
   "source": [
    "fig = px.box(dj_max, x='estimacionPrecioTotal',\n",
    "             y='estado_solicitud',\n",
    "             color='estado_solicitud',\n",
    "             boxmode='overlay')\n",
    "\n",
    "fig.update_layout(\n",
    "    title=\"Precio total por estado de solicitud\",  \n",
    "    xaxis_title=\"Precio total\", \n",
    "    yaxis_title=\" \",  \n",
    "    showlegend=False \n",
    ")\n",
    "\n",
    "# Percentiles, mediana, y media por estado de solicitud\n",
    "grouped_data = dj_max.groupby('estado_solicitud')['estimacionPrecioTotal']\n",
    "annotations = []\n",
    "for name, group in grouped_data:\n",
    "    q1 = group.quantile(0.25)\n",
    "    q3 = group.quantile(0.75)\n",
    "    text = f\"El rango de precios solicitados de '{name}' está entre {q1} y {q3}.\"\n",
    "    annotations.append(text)\n",
    "fig.show()\n",
    "print(annotations)"
   ]
  },
  {
   "cell_type": "code",
   "execution_count": 162,
   "metadata": {},
   "outputs": [
    {
     "data": {
      "image/png": "[encoded data removed]",
      "text/plain": [
       "<Figure size 709.375x500 with 1 Axes>"
      ]
     },
     "metadata": {},
     "output_type": "display_data"
    }
   ],
   "source": [
    "sns.catplot(x='calculadora_formato_musico', y= 'estimacionPrecioTotal', hue=\"estado_solicitud\", data=mus_max);"
   ]
  },
  {
   "cell_type": "code",
   "execution_count": 163,
   "metadata": {},
   "outputs": [
    {
     "data": {
      "image/png": "[encoded data removed]",
      "text/plain": [
       "<Figure size 709.375x500 with 1 Axes>"
      ]
     },
     "metadata": {},
     "output_type": "display_data"
    }
   ],
   "source": [
    "sns.catplot(x='calculadora_formato_musico', \n",
    "            y='estimacionPrecioTotal', \n",
    "            hue='estado_solicitud', \n",
    "            data=mus_max,\n",
    "            )\n",
    "plt.title('Dispersión de precios por formato de músico')\n",
    "plt.xlabel('Formato')\n",
    "plt.ylabel('Precio total')\n",
    "plt.xticks(range(len(custom_labels)), custom_labels,rotation=30)\n",
    "\n",
    "\n",
    "plt.show()\n",
    "\n"
   ]
  },
  {
   "cell_type": "code",
   "execution_count": null,
   "metadata": {},
   "outputs": [],
   "source": []
  },
  {
   "cell_type": "code",
   "execution_count": 164,
   "metadata": {},
   "outputs": [
    {
     "data": {
      "image/png": "[encoded data removed]",
      "text/plain": [
       "<Figure size 640x480 with 1 Axes>"
      ]
     },
     "metadata": {},
     "output_type": "display_data"
    }
   ],
   "source": [
    "\n",
    "sns.countplot(dj_max,\n",
    "            x='estado_solicitud',  \n",
    "            hue='estado_solicitud', \n",
    "            \n",
    "            )\n",
    "plt.title('Dispersión de precios por formato de músico')\n",
    "plt.xlabel('Estado solicitud')\n",
    "plt.ylabel('Precio total')\n",
    "\n",
    "\n",
    "\n",
    "plt.show()"
   ]
  },
  {
   "cell_type": "code",
   "execution_count": 165,
   "metadata": {},
   "outputs": [
    {
     "data": {
      "text/html": [
       "<div>\n",
       "<style scoped>\n",
       "    .dataframe tbody tr th:only-of-type {\n",
       "        vertical-align: middle;\n",
       "    }\n",
       "\n",
       "    .dataframe tbody tr th {\n",
       "        vertical-align: top;\n",
       "    }\n",
       "\n",
       "    .dataframe thead th {\n",
       "        text-align: right;\n",
       "    }\n",
       "</style>\n",
       "<table border=\"1\" class=\"dataframe\">\n",
       "  <thead>\n",
       "    <tr style=\"text-align: right;\">\n",
       "      <th></th>\n",
       "      <th>estimacionPrecioTotal</th>\n",
       "      <th>calculadora_horas_actuacion</th>\n",
       "      <th>estado_solicitud</th>\n",
       "      <th>calculadora_numero_invitados</th>\n",
       "      <th>calculadora_formato_musico</th>\n",
       "      <th>calculadora_provincia_evento</th>\n",
       "    </tr>\n",
       "  </thead>\n",
       "  <tbody>\n",
       "    <tr>\n",
       "      <th>347</th>\n",
       "      <td>84.0</td>\n",
       "      <td>1.0</td>\n",
       "      <td>completa</td>\n",
       "      <td>20.0</td>\n",
       "      <td>Solista</td>\n",
       "      <td>Madrid</td>\n",
       "    </tr>\n",
       "  </tbody>\n",
       "</table>\n",
       "</div>"
      ],
      "text/plain": [
       "     estimacionPrecioTotal  calculadora_horas_actuacion estado_solicitud  \\\n",
       "347                   84.0                          1.0         completa   \n",
       "\n",
       "     calculadora_numero_invitados calculadora_formato_musico  \\\n",
       "347                          20.0                    Solista   \n",
       "\n",
       "    calculadora_provincia_evento  \n",
       "347                       Madrid  "
      ]
     },
     "execution_count": 165,
     "metadata": {},
     "output_type": "execute_result"
    }
   ],
   "source": [
    "mus_max.head(1)"
   ]
  },
  {
   "attachments": {},
   "cell_type": "markdown",
   "metadata": {},
   "source": [
    "### ¿Qué músicos son los más solicitados?"
   ]
  },
  {
   "cell_type": "code",
   "execution_count": 166,
   "metadata": {},
   "outputs": [],
   "source": [
    "dj = sol_musicos[sol_musicos['calculadora_musico_tipo'] == 'DJ']\n",
    "mus = sol_musicos[sol_musicos['calculadora_musico_tipo'] == 'Músico']  "
   ]
  },
  {
   "cell_type": "code",
   "execution_count": 167,
   "metadata": {},
   "outputs": [
    {
     "data": {
      "text/html": [
       "<div>\n",
       "<style scoped>\n",
       "    .dataframe tbody tr th:only-of-type {\n",
       "        vertical-align: middle;\n",
       "    }\n",
       "\n",
       "    .dataframe tbody tr th {\n",
       "        vertical-align: top;\n",
       "    }\n",
       "\n",
       "    .dataframe thead th {\n",
       "        text-align: right;\n",
       "    }\n",
       "</style>\n",
       "<table border=\"1\" class=\"dataframe\">\n",
       "  <thead>\n",
       "    <tr style=\"text-align: right;\">\n",
       "      <th></th>\n",
       "      <th>calculadora_musico_provincia</th>\n",
       "      <th>calculadora_musico_nombre_artistico</th>\n",
       "      <th>calculadora_id_musico</th>\n",
       "      <th>count</th>\n",
       "    </tr>\n",
       "  </thead>\n",
       "  <tbody>\n",
       "    <tr>\n",
       "      <th>0</th>\n",
       "      <td>Albacete</td>\n",
       "      <td>aitor_musico</td>\n",
       "      <td>16318.0</td>\n",
       "      <td>7</td>\n",
       "    </tr>\n",
       "    <tr>\n",
       "      <th>1</th>\n",
       "      <td>Albacete</td>\n",
       "      <td>Julia Martínez</td>\n",
       "      <td>18260.0</td>\n",
       "      <td>3</td>\n",
       "    </tr>\n",
       "    <tr>\n",
       "      <th>2</th>\n",
       "      <td>Alicante</td>\n",
       "      <td>The Zlyppers</td>\n",
       "      <td>6263.0</td>\n",
       "      <td>2</td>\n",
       "    </tr>\n",
       "    <tr>\n",
       "      <th>3</th>\n",
       "      <td>Alicante</td>\n",
       "      <td>Morethansax</td>\n",
       "      <td>20321.0</td>\n",
       "      <td>2</td>\n",
       "    </tr>\n",
       "    <tr>\n",
       "      <th>4</th>\n",
       "      <td>Alicante</td>\n",
       "      <td>DOCTOR JAVA</td>\n",
       "      <td>10197.0</td>\n",
       "      <td>2</td>\n",
       "    </tr>\n",
       "    <tr>\n",
       "      <th>...</th>\n",
       "      <td>...</td>\n",
       "      <td>...</td>\n",
       "      <td>...</td>\n",
       "      <td>...</td>\n",
       "    </tr>\n",
       "    <tr>\n",
       "      <th>164</th>\n",
       "      <td>Zaragoza</td>\n",
       "      <td>bandido</td>\n",
       "      <td>18379.0</td>\n",
       "      <td>1</td>\n",
       "    </tr>\n",
       "    <tr>\n",
       "      <th>165</th>\n",
       "      <td>Zaragoza</td>\n",
       "      <td>La Buena Onda con Jadey</td>\n",
       "      <td>8934.0</td>\n",
       "      <td>1</td>\n",
       "    </tr>\n",
       "    <tr>\n",
       "      <th>166</th>\n",
       "      <td>Álava</td>\n",
       "      <td>KRN</td>\n",
       "      <td>34486.0</td>\n",
       "      <td>1</td>\n",
       "    </tr>\n",
       "    <tr>\n",
       "      <th>167</th>\n",
       "      <td>Ávila</td>\n",
       "      <td>LUNA LLENA</td>\n",
       "      <td>31792.0</td>\n",
       "      <td>1</td>\n",
       "    </tr>\n",
       "    <tr>\n",
       "      <th>168</th>\n",
       "      <td>Ávila</td>\n",
       "      <td>Minkee</td>\n",
       "      <td>9220.0</td>\n",
       "      <td>1</td>\n",
       "    </tr>\n",
       "  </tbody>\n",
       "</table>\n",
       "<p>169 rows × 4 columns</p>\n",
       "</div>"
      ],
      "text/plain": [
       "    calculadora_musico_provincia calculadora_musico_nombre_artistico  \\\n",
       "0                       Albacete                        aitor_musico   \n",
       "1                       Albacete                      Julia Martínez   \n",
       "2                       Alicante                        The Zlyppers   \n",
       "3                       Alicante                         Morethansax   \n",
       "4                       Alicante                         DOCTOR JAVA   \n",
       "..                           ...                                 ...   \n",
       "164                     Zaragoza                             bandido   \n",
       "165                     Zaragoza             La Buena Onda con Jadey   \n",
       "166                        Álava                                 KRN   \n",
       "167                        Ávila                          LUNA LLENA   \n",
       "168                        Ávila                              Minkee   \n",
       "\n",
       "     calculadora_id_musico  count  \n",
       "0                  16318.0      7  \n",
       "1                  18260.0      3  \n",
       "2                   6263.0      2  \n",
       "3                  20321.0      2  \n",
       "4                  10197.0      2  \n",
       "..                     ...    ...  \n",
       "164                18379.0      1  \n",
       "165                 8934.0      1  \n",
       "166                34486.0      1  \n",
       "167                31792.0      1  \n",
       "168                 9220.0      1  \n",
       "\n",
       "[169 rows x 4 columns]"
      ]
     },
     "execution_count": 167,
     "metadata": {},
     "output_type": "execute_result"
    }
   ],
   "source": [
    "mus_count = mus.groupby('calculadora_musico_provincia',as_index=False)[['calculadora_musico_nombre_artistico','calculadora_id_musico']].value_counts()\n",
    "mus_count"
   ]
  },
  {
   "cell_type": "code",
   "execution_count": 168,
   "metadata": {},
   "outputs": [
    {
     "data": {
      "application/vnd.plotly.v1+json": {
       "config": {
        "plotlyServerURL": "https://plot.ly"
       },
       "data": [
        {
         "alignmentgroup": "True",
         "bingroup": "x",
         "histfunc": "sum",
         "hovertemplate": "calculadora_musico_provincia=Albacete<br>calculadora_musico_nombre_artistico=%{x}<br>sum of count=%{y}<extra></extra>",
         "legendgroup": "Albacete",
         "marker": {
          "color": "#636efa",
          "pattern": {
           "shape": ""
          }
         },
         "name": "Albacete",
         "offsetgroup": "Albacete",
         "orientation": "v",
         "showlegend": true,
         "type": "histogram",
         "x": [
          "aitor_musico"
         ],
         "xaxis": "x",
         "y": [
          7
         ],
         "yaxis": "y"
        },
        {
         "alignmentgroup": "True",
         "bingroup": "x",
         "histfunc": "sum",
         "hovertemplate": "calculadora_musico_provincia=Barcelona<br>calculadora_musico_nombre_artistico=%{x}<br>sum of count=%{y}<extra></extra>",
         "legendgroup": "Barcelona",
         "marker": {
          "color": "#EF553B",
          "pattern": {
           "shape": ""
          }
         },
         "name": "Barcelona",
         "offsetgroup": "Barcelona",
         "orientation": "v",
         "showlegend": true,
         "type": "histogram",
         "x": [
          "Leen Loud Music",
          "LA CHICA DE AYER"
         ],
         "xaxis": "x",
         "y": [
          4,
          4
         ],
         "yaxis": "y"
        },
        {
         "alignmentgroup": "True",
         "bingroup": "x",
         "histfunc": "sum",
         "hovertemplate": "calculadora_musico_provincia=Madrid<br>calculadora_musico_nombre_artistico=%{x}<br>sum of count=%{y}<extra></extra>",
         "legendgroup": "Madrid",
         "marker": {
          "color": "#00cc96",
          "pattern": {
           "shape": ""
          }
         },
         "name": "Madrid",
         "offsetgroup": "Madrid",
         "orientation": "v",
         "showlegend": true,
         "type": "histogram",
         "x": [
          "Guilan",
          "Rústica",
          "Rock-Olas",
          "aitor_musico",
          "DZayasMusic",
          "Arde la calle",
          "Joey Alonso",
          "RUMBITELS",
          "JdV Co.",
          "Rober Marccu",
          "Cada Loco con su Tema"
         ],
         "xaxis": "x",
         "y": [
          21,
          17,
          15,
          14,
          10,
          10,
          7,
          7,
          5,
          4,
          4
         ],
         "yaxis": "y"
        },
        {
         "alignmentgroup": "True",
         "bingroup": "x",
         "histfunc": "sum",
         "hovertemplate": "calculadora_musico_provincia=Murcia<br>calculadora_musico_nombre_artistico=%{x}<br>sum of count=%{y}<extra></extra>",
         "legendgroup": "Murcia",
         "marker": {
          "color": "#ab63fa",
          "pattern": {
           "shape": ""
          }
         },
         "name": "Murcia",
         "offsetgroup": "Murcia",
         "orientation": "v",
         "showlegend": true,
         "type": "histogram",
         "x": [
          "RetroCD Rock Band"
         ],
         "xaxis": "x",
         "y": [
          4
         ],
         "yaxis": "y"
        },
        {
         "alignmentgroup": "True",
         "bingroup": "x",
         "histfunc": "sum",
         "hovertemplate": "calculadora_musico_provincia=Pontevedra<br>calculadora_musico_nombre_artistico=%{x}<br>sum of count=%{y}<extra></extra>",
         "legendgroup": "Pontevedra",
         "marker": {
          "color": "#FFA15A",
          "pattern": {
           "shape": ""
          }
         },
         "name": "Pontevedra",
         "offsetgroup": "Pontevedra",
         "orientation": "v",
         "showlegend": true,
         "type": "histogram",
         "x": [
          "Blacklabel Duo"
         ],
         "xaxis": "x",
         "y": [
          4
         ],
         "yaxis": "y"
        },
        {
         "alignmentgroup": "True",
         "bingroup": "x",
         "histfunc": "sum",
         "hovertemplate": "calculadora_musico_provincia=Valencia<br>calculadora_musico_nombre_artistico=%{x}<br>sum of count=%{y}<extra></extra>",
         "legendgroup": "Valencia",
         "marker": {
          "color": "#19d3f3",
          "pattern": {
           "shape": ""
          }
         },
         "name": "Valencia",
         "offsetgroup": "Valencia",
         "orientation": "v",
         "showlegend": true,
         "type": "histogram",
         "x": [
          "BOLA 80"
         ],
         "xaxis": "x",
         "y": [
          4
         ],
         "yaxis": "y"
        }
       ],
       "layout": {
        "barmode": "relative",
        "legend": {
         "title": {
          "text": "calculadora_musico_provincia"
         },
         "tracegroupgap": 0
        },
        "margin": {
         "t": 60
        },
        "template": {
         "data": {
          "bar": [
           {
            "error_x": {
             "color": "#2a3f5f"
            },
            "error_y": {
             "color": "#2a3f5f"
            },
            "marker": {
             "line": {
              "color": "#E5ECF6",
              "width": 0.5
             },
             "pattern": {
              "fillmode": "overlay",
              "size": 10,
              "solidity": 0.2
             }
            },
            "type": "bar"
           }
          ],
          "barpolar": [
           {
            "marker": {
             "line": {
              "color": "#E5ECF6",
              "width": 0.5
             },
             "pattern": {
              "fillmode": "overlay",
              "size": 10,
              "solidity": 0.2
             }
            },
            "type": "barpolar"
           }
          ],
          "carpet": [
           {
            "aaxis": {
             "endlinecolor": "#2a3f5f",
             "gridcolor": "white",
             "linecolor": "white",
             "minorgridcolor": "white",
             "startlinecolor": "#2a3f5f"
            },
            "baxis": {
             "endlinecolor": "#2a3f5f",
             "gridcolor": "white",
             "linecolor": "white",
             "minorgridcolor": "white",
             "startlinecolor": "#2a3f5f"
            },
            "type": "carpet"
           }
          ],
          "choropleth": [
           {
            "colorbar": {
             "outlinewidth": 0,
             "ticks": ""
            },
            "type": "choropleth"
           }
          ],
          "contour": [
           {
            "colorbar": {
             "outlinewidth": 0,
             "ticks": ""
            },
            "colorscale": [
             [
              0,
              "#0d0887"
             ],
             [
              0.1111111111111111,
              "#46039f"
             ],
             [
              0.2222222222222222,
              "#7201a8"
             ],
             [
              0.3333333333333333,
              "#9c179e"
             ],
             [
              0.4444444444444444,
              "#bd3786"
             ],
             [
              0.5555555555555556,
              "#d8576b"
             ],
             [
              0.6666666666666666,
              "#ed7953"
             ],
             [
              0.7777777777777778,
              "#fb9f3a"
             ],
             [
              0.8888888888888888,
              "#fdca26"
             ],
             [
              1,
              "#f0f921"
             ]
            ],
            "type": "contour"
           }
          ],
          "contourcarpet": [
           {
            "colorbar": {
             "outlinewidth": 0,
             "ticks": ""
            },
            "type": "contourcarpet"
           }
          ],
          "heatmap": [
           {
            "colorbar": {
             "outlinewidth": 0,
             "ticks": ""
            },
            "colorscale": [
             [
              0,
              "#0d0887"
             ],
             [
              0.1111111111111111,
              "#46039f"
             ],
             [
              0.2222222222222222,
              "#7201a8"
             ],
             [
              0.3333333333333333,
              "#9c179e"
             ],
             [
              0.4444444444444444,
              "#bd3786"
             ],
             [
              0.5555555555555556,
              "#d8576b"
             ],
             [
              0.6666666666666666,
              "#ed7953"
             ],
             [
              0.7777777777777778,
              "#fb9f3a"
             ],
             [
              0.8888888888888888,
              "#fdca26"
             ],
             [
              1,
              "#f0f921"
             ]
            ],
            "type": "heatmap"
           }
          ],
          "heatmapgl": [
           {
            "colorbar": {
             "outlinewidth": 0,
             "ticks": ""
            },
            "colorscale": [
             [
              0,
              "#0d0887"
             ],
             [
              0.1111111111111111,
              "#46039f"
             ],
             [
              0.2222222222222222,
              "#7201a8"
             ],
             [
              0.3333333333333333,
              "#9c179e"
             ],
             [
              0.4444444444444444,
              "#bd3786"
             ],
             [
              0.5555555555555556,
              "#d8576b"
             ],
             [
              0.6666666666666666,
              "#ed7953"
             ],
             [
              0.7777777777777778,
              "#fb9f3a"
             ],
             [
              0.8888888888888888,
              "#fdca26"
             ],
             [
              1,
              "#f0f921"
             ]
            ],
            "type": "heatmapgl"
           }
          ],
          "histogram": [
           {
            "marker": {
             "pattern": {
              "fillmode": "overlay",
              "size": 10,
              "solidity": 0.2
             }
            },
            "type": "histogram"
           }
          ],
          "histogram2d": [
           {
            "colorbar": {
             "outlinewidth": 0,
             "ticks": ""
            },
            "colorscale": [
             [
              0,
              "#0d0887"
             ],
             [
              0.1111111111111111,
              "#46039f"
             ],
             [
              0.2222222222222222,
              "#7201a8"
             ],
             [
              0.3333333333333333,
              "#9c179e"
             ],
             [
              0.4444444444444444,
              "#bd3786"
             ],
             [
              0.5555555555555556,
              "#d8576b"
             ],
             [
              0.6666666666666666,
              "#ed7953"
             ],
             [
              0.7777777777777778,
              "#fb9f3a"
             ],
             [
              0.8888888888888888,
              "#fdca26"
             ],
             [
              1,
              "#f0f921"
             ]
            ],
            "type": "histogram2d"
           }
          ],
          "histogram2dcontour": [
           {
            "colorbar": {
             "outlinewidth": 0,
             "ticks": ""
            },
            "colorscale": [
             [
              0,
              "#0d0887"
             ],
             [
              0.1111111111111111,
              "#46039f"
             ],
             [
              0.2222222222222222,
              "#7201a8"
             ],
             [
              0.3333333333333333,
              "#9c179e"
             ],
             [
              0.4444444444444444,
              "#bd3786"
             ],
             [
              0.5555555555555556,
              "#d8576b"
             ],
             [
              0.6666666666666666,
              "#ed7953"
             ],
             [
              0.7777777777777778,
              "#fb9f3a"
             ],
             [
              0.8888888888888888,
              "#fdca26"
             ],
             [
              1,
              "#f0f921"
             ]
            ],
            "type": "histogram2dcontour"
           }
          ],
          "mesh3d": [
           {
            "colorbar": {
             "outlinewidth": 0,
             "ticks": ""
            },
            "type": "mesh3d"
           }
          ],
          "parcoords": [
           {
            "line": {
             "colorbar": {
              "outlinewidth": 0,
              "ticks": ""
             }
            },
            "type": "parcoords"
           }
          ],
          "pie": [
           {
            "automargin": true,
            "type": "pie"
           }
          ],
          "scatter": [
           {
            "fillpattern": {
             "fillmode": "overlay",
             "size": 10,
             "solidity": 0.2
            },
            "type": "scatter"
           }
          ],
          "scatter3d": [
           {
            "line": {
             "colorbar": {
              "outlinewidth": 0,
              "ticks": ""
             }
            },
            "marker": {
             "colorbar": {
              "outlinewidth": 0,
              "ticks": ""
             }
            },
            "type": "scatter3d"
           }
          ],
          "scattercarpet": [
           {
            "marker": {
             "colorbar": {
              "outlinewidth": 0,
              "ticks": ""
             }
            },
            "type": "scattercarpet"
           }
          ],
          "scattergeo": [
           {
            "marker": {
             "colorbar": {
              "outlinewidth": 0,
              "ticks": ""
             }
            },
            "type": "scattergeo"
           }
          ],
          "scattergl": [
           {
            "marker": {
             "colorbar": {
              "outlinewidth": 0,
              "ticks": ""
             }
            },
            "type": "scattergl"
           }
          ],
          "scattermapbox": [
           {
            "marker": {
             "colorbar": {
              "outlinewidth": 0,
              "ticks": ""
             }
            },
            "type": "scattermapbox"
           }
          ],
          "scatterpolar": [
           {
            "marker": {
             "colorbar": {
              "outlinewidth": 0,
              "ticks": ""
             }
            },
            "type": "scatterpolar"
           }
          ],
          "scatterpolargl": [
           {
            "marker": {
             "colorbar": {
              "outlinewidth": 0,
              "ticks": ""
             }
            },
            "type": "scatterpolargl"
           }
          ],
          "scatterternary": [
           {
            "marker": {
             "colorbar": {
              "outlinewidth": 0,
              "ticks": ""
             }
            },
            "type": "scatterternary"
           }
          ],
          "surface": [
           {
            "colorbar": {
             "outlinewidth": 0,
             "ticks": ""
            },
            "colorscale": [
             [
              0,
              "#0d0887"
             ],
             [
              0.1111111111111111,
              "#46039f"
             ],
             [
              0.2222222222222222,
              "#7201a8"
             ],
             [
              0.3333333333333333,
              "#9c179e"
             ],
             [
              0.4444444444444444,
              "#bd3786"
             ],
             [
              0.5555555555555556,
              "#d8576b"
             ],
             [
              0.6666666666666666,
              "#ed7953"
             ],
             [
              0.7777777777777778,
              "#fb9f3a"
             ],
             [
              0.8888888888888888,
              "#fdca26"
             ],
             [
              1,
              "#f0f921"
             ]
            ],
            "type": "surface"
           }
          ],
          "table": [
           {
            "cells": {
             "fill": {
              "color": "#EBF0F8"
             },
             "line": {
              "color": "white"
             }
            },
            "header": {
             "fill": {
              "color": "#C8D4E3"
             },
             "line": {
              "color": "white"
             }
            },
            "type": "table"
           }
          ]
         },
         "layout": {
          "annotationdefaults": {
           "arrowcolor": "#2a3f5f",
           "arrowhead": 0,
           "arrowwidth": 1
          },
          "autotypenumbers": "strict",
          "coloraxis": {
           "colorbar": {
            "outlinewidth": 0,
            "ticks": ""
           }
          },
          "colorscale": {
           "diverging": [
            [
             0,
             "#8e0152"
            ],
            [
             0.1,
             "#c51b7d"
            ],
            [
             0.2,
             "#de77ae"
            ],
            [
             0.3,
             "#f1b6da"
            ],
            [
             0.4,
             "#fde0ef"
            ],
            [
             0.5,
             "#f7f7f7"
            ],
            [
             0.6,
             "#e6f5d0"
            ],
            [
             0.7,
             "#b8e186"
            ],
            [
             0.8,
             "#7fbc41"
            ],
            [
             0.9,
             "#4d9221"
            ],
            [
             1,
             "#276419"
            ]
           ],
           "sequential": [
            [
             0,
             "#0d0887"
            ],
            [
             0.1111111111111111,
             "#46039f"
            ],
            [
             0.2222222222222222,
             "#7201a8"
            ],
            [
             0.3333333333333333,
             "#9c179e"
            ],
            [
             0.4444444444444444,
             "#bd3786"
            ],
            [
             0.5555555555555556,
             "#d8576b"
            ],
            [
             0.6666666666666666,
             "#ed7953"
            ],
            [
             0.7777777777777778,
             "#fb9f3a"
            ],
            [
             0.8888888888888888,
             "#fdca26"
            ],
            [
             1,
             "#f0f921"
            ]
           ],
           "sequentialminus": [
            [
             0,
             "#0d0887"
            ],
            [
             0.1111111111111111,
             "#46039f"
            ],
            [
             0.2222222222222222,
             "#7201a8"
            ],
            [
             0.3333333333333333,
             "#9c179e"
            ],
            [
             0.4444444444444444,
             "#bd3786"
            ],
            [
             0.5555555555555556,
             "#d8576b"
            ],
            [
             0.6666666666666666,
             "#ed7953"
            ],
            [
             0.7777777777777778,
             "#fb9f3a"
            ],
            [
             0.8888888888888888,
             "#fdca26"
            ],
            [
             1,
             "#f0f921"
            ]
           ]
          },
          "colorway": [
           "#636efa",
           "#EF553B",
           "#00cc96",
           "#ab63fa",
           "#FFA15A",
           "#19d3f3",
           "#FF6692",
           "#B6E880",
           "#FF97FF",
           "#FECB52"
          ],
          "font": {
           "color": "#2a3f5f"
          },
          "geo": {
           "bgcolor": "white",
           "lakecolor": "white",
           "landcolor": "#E5ECF6",
           "showlakes": true,
           "showland": true,
           "subunitcolor": "white"
          },
          "hoverlabel": {
           "align": "left"
          },
          "hovermode": "closest",
          "mapbox": {
           "style": "light"
          },
          "paper_bgcolor": "white",
          "plot_bgcolor": "#E5ECF6",
          "polar": {
           "angularaxis": {
            "gridcolor": "white",
            "linecolor": "white",
            "ticks": ""
           },
           "bgcolor": "#E5ECF6",
           "radialaxis": {
            "gridcolor": "white",
            "linecolor": "white",
            "ticks": ""
           }
          },
          "scene": {
           "xaxis": {
            "backgroundcolor": "#E5ECF6",
            "gridcolor": "white",
            "gridwidth": 2,
            "linecolor": "white",
            "showbackground": true,
            "ticks": "",
            "zerolinecolor": "white"
           },
           "yaxis": {
            "backgroundcolor": "#E5ECF6",
            "gridcolor": "white",
            "gridwidth": 2,
            "linecolor": "white",
            "showbackground": true,
            "ticks": "",
            "zerolinecolor": "white"
           },
           "zaxis": {
            "backgroundcolor": "#E5ECF6",
            "gridcolor": "white",
            "gridwidth": 2,
            "linecolor": "white",
            "showbackground": true,
            "ticks": "",
            "zerolinecolor": "white"
           }
          },
          "shapedefaults": {
           "line": {
            "color": "#2a3f5f"
           }
          },
          "ternary": {
           "aaxis": {
            "gridcolor": "white",
            "linecolor": "white",
            "ticks": ""
           },
           "baxis": {
            "gridcolor": "white",
            "linecolor": "white",
            "ticks": ""
           },
           "bgcolor": "#E5ECF6",
           "caxis": {
            "gridcolor": "white",
            "linecolor": "white",
            "ticks": ""
           }
          },
          "title": {
           "x": 0.05
          },
          "xaxis": {
           "automargin": true,
           "gridcolor": "white",
           "linecolor": "white",
           "ticks": "",
           "title": {
            "standoff": 15
           },
           "zerolinecolor": "white",
           "zerolinewidth": 2
          },
          "yaxis": {
           "automargin": true,
           "gridcolor": "white",
           "linecolor": "white",
           "ticks": "",
           "title": {
            "standoff": 15
           },
           "zerolinecolor": "white",
           "zerolinewidth": 2
          }
         }
        },
        "xaxis": {
         "anchor": "y",
         "domain": [
          0,
          1
         ],
         "title": {
          "text": "calculadora_musico_nombre_artistico"
         }
        },
        "yaxis": {
         "anchor": "x",
         "domain": [
          0,
          1
         ],
         "title": {
          "text": "sum of count"
         }
        }
       }
      }
     },
     "metadata": {},
     "output_type": "display_data"
    }
   ],
   "source": [
    "mus_count = mus_count[mus_count['count'] > 3]\n",
    "\n",
    "\n",
    "fig = px.histogram(mus_count,  \n",
    "                   x=\"calculadora_musico_nombre_artistico\", \n",
    "                   y = 'count', \n",
    "                   color='calculadora_musico_provincia')\n",
    "\n",
    "# fig.update_yaxes(range=[10, None])\n",
    "\n",
    "\n",
    "fig.show()"
   ]
  },
  {
   "cell_type": "code",
   "execution_count": 169,
   "metadata": {},
   "outputs": [
    {
     "data": {
      "text/html": [
       "<div>\n",
       "<style scoped>\n",
       "    .dataframe tbody tr th:only-of-type {\n",
       "        vertical-align: middle;\n",
       "    }\n",
       "\n",
       "    .dataframe tbody tr th {\n",
       "        vertical-align: top;\n",
       "    }\n",
       "\n",
       "    .dataframe thead th {\n",
       "        text-align: right;\n",
       "    }\n",
       "</style>\n",
       "<table border=\"1\" class=\"dataframe\">\n",
       "  <thead>\n",
       "    <tr style=\"text-align: right;\">\n",
       "      <th></th>\n",
       "      <th>calculadora_musico_provincia</th>\n",
       "      <th>calculadora_musico_nombre_artistico</th>\n",
       "      <th>calculadora_id_musico</th>\n",
       "      <th>count</th>\n",
       "    </tr>\n",
       "  </thead>\n",
       "  <tbody>\n",
       "    <tr>\n",
       "      <th>0</th>\n",
       "      <td>Almería</td>\n",
       "      <td>luis gimenez dj</td>\n",
       "      <td>19202.0</td>\n",
       "      <td>1</td>\n",
       "    </tr>\n",
       "    <tr>\n",
       "      <th>1</th>\n",
       "      <td>Barcelona</td>\n",
       "      <td>Jtorres</td>\n",
       "      <td>6090.0</td>\n",
       "      <td>1</td>\n",
       "    </tr>\n",
       "    <tr>\n",
       "      <th>2</th>\n",
       "      <td>Burgos</td>\n",
       "      <td>Russtyle</td>\n",
       "      <td>9664.0</td>\n",
       "      <td>2</td>\n",
       "    </tr>\n",
       "    <tr>\n",
       "      <th>3</th>\n",
       "      <td>Cantabria</td>\n",
       "      <td>Dj Rios</td>\n",
       "      <td>19023.0</td>\n",
       "      <td>2</td>\n",
       "    </tr>\n",
       "    <tr>\n",
       "      <th>4</th>\n",
       "      <td>Cuenca</td>\n",
       "      <td>Gonzalo Cruzado</td>\n",
       "      <td>6716.0</td>\n",
       "      <td>1</td>\n",
       "    </tr>\n",
       "    <tr>\n",
       "      <th>5</th>\n",
       "      <td>Cádiz</td>\n",
       "      <td>DJ Xuky Barbate</td>\n",
       "      <td>8758.0</td>\n",
       "      <td>1</td>\n",
       "    </tr>\n",
       "    <tr>\n",
       "      <th>6</th>\n",
       "      <td>Córdoba</td>\n",
       "      <td>Buitra</td>\n",
       "      <td>6390.0</td>\n",
       "      <td>1</td>\n",
       "    </tr>\n",
       "    <tr>\n",
       "      <th>7</th>\n",
       "      <td>Granada</td>\n",
       "      <td>RodrigoMárquezDj</td>\n",
       "      <td>6193.0</td>\n",
       "      <td>1</td>\n",
       "    </tr>\n",
       "    <tr>\n",
       "      <th>8</th>\n",
       "      <td>Madrid</td>\n",
       "      <td>Sonoriza Eventos DJs</td>\n",
       "      <td>5429.0</td>\n",
       "      <td>4</td>\n",
       "    </tr>\n",
       "    <tr>\n",
       "      <th>9</th>\n",
       "      <td>Madrid</td>\n",
       "      <td>Raher Swing</td>\n",
       "      <td>24221.0</td>\n",
       "      <td>2</td>\n",
       "    </tr>\n",
       "  </tbody>\n",
       "</table>\n",
       "</div>"
      ],
      "text/plain": [
       "  calculadora_musico_provincia calculadora_musico_nombre_artistico  \\\n",
       "0                      Almería                     luis gimenez dj   \n",
       "1                    Barcelona                             Jtorres   \n",
       "2                       Burgos                            Russtyle   \n",
       "3                    Cantabria                             Dj Rios   \n",
       "4                       Cuenca                     Gonzalo Cruzado   \n",
       "5                        Cádiz                     DJ Xuky Barbate   \n",
       "6                      Córdoba                              Buitra   \n",
       "7                      Granada                    RodrigoMárquezDj   \n",
       "8                       Madrid                Sonoriza Eventos DJs   \n",
       "9                       Madrid                         Raher Swing   \n",
       "\n",
       "   calculadora_id_musico  count  \n",
       "0                19202.0      1  \n",
       "1                 6090.0      1  \n",
       "2                 9664.0      2  \n",
       "3                19023.0      2  \n",
       "4                 6716.0      1  \n",
       "5                 8758.0      1  \n",
       "6                 6390.0      1  \n",
       "7                 6193.0      1  \n",
       "8                 5429.0      4  \n",
       "9                24221.0      2  "
      ]
     },
     "execution_count": 169,
     "metadata": {},
     "output_type": "execute_result"
    }
   ],
   "source": [
    "dj_count = dj.groupby('calculadora_musico_provincia',as_index=False)[['calculadora_musico_nombre_artistico','calculadora_id_musico']].value_counts()\n",
    "dj_count.head(10)"
   ]
  },
  {
   "cell_type": "code",
   "execution_count": 170,
   "metadata": {},
   "outputs": [
    {
     "data": {
      "application/vnd.plotly.v1+json": {
       "config": {
        "plotlyServerURL": "https://plot.ly"
       },
       "data": [
        {
         "alignmentgroup": "True",
         "bingroup": "x",
         "histfunc": "sum",
         "hovertemplate": "calculadora_musico_provincia=Almería<br>calculadora_musico_nombre_artistico=%{x}<br>sum of count=%{y}<extra></extra>",
         "legendgroup": "Almería",
         "marker": {
          "color": "#636efa",
          "pattern": {
           "shape": ""
          }
         },
         "name": "Almería",
         "offsetgroup": "Almería",
         "orientation": "v",
         "showlegend": true,
         "type": "histogram",
         "x": [
          "luis gimenez dj"
         ],
         "xaxis": "x",
         "y": [
          1
         ],
         "yaxis": "y"
        },
        {
         "alignmentgroup": "True",
         "bingroup": "x",
         "histfunc": "sum",
         "hovertemplate": "calculadora_musico_provincia=Barcelona<br>calculadora_musico_nombre_artistico=%{x}<br>sum of count=%{y}<extra></extra>",
         "legendgroup": "Barcelona",
         "marker": {
          "color": "#EF553B",
          "pattern": {
           "shape": ""
          }
         },
         "name": "Barcelona",
         "offsetgroup": "Barcelona",
         "orientation": "v",
         "showlegend": true,
         "type": "histogram",
         "x": [
          "Jtorres"
         ],
         "xaxis": "x",
         "y": [
          1
         ],
         "yaxis": "y"
        },
        {
         "alignmentgroup": "True",
         "bingroup": "x",
         "histfunc": "sum",
         "hovertemplate": "calculadora_musico_provincia=Burgos<br>calculadora_musico_nombre_artistico=%{x}<br>sum of count=%{y}<extra></extra>",
         "legendgroup": "Burgos",
         "marker": {
          "color": "#00cc96",
          "pattern": {
           "shape": ""
          }
         },
         "name": "Burgos",
         "offsetgroup": "Burgos",
         "orientation": "v",
         "showlegend": true,
         "type": "histogram",
         "x": [
          "Russtyle"
         ],
         "xaxis": "x",
         "y": [
          2
         ],
         "yaxis": "y"
        },
        {
         "alignmentgroup": "True",
         "bingroup": "x",
         "histfunc": "sum",
         "hovertemplate": "calculadora_musico_provincia=Cantabria<br>calculadora_musico_nombre_artistico=%{x}<br>sum of count=%{y}<extra></extra>",
         "legendgroup": "Cantabria",
         "marker": {
          "color": "#ab63fa",
          "pattern": {
           "shape": ""
          }
         },
         "name": "Cantabria",
         "offsetgroup": "Cantabria",
         "orientation": "v",
         "showlegend": true,
         "type": "histogram",
         "x": [
          "Dj Rios"
         ],
         "xaxis": "x",
         "y": [
          2
         ],
         "yaxis": "y"
        },
        {
         "alignmentgroup": "True",
         "bingroup": "x",
         "histfunc": "sum",
         "hovertemplate": "calculadora_musico_provincia=Cuenca<br>calculadora_musico_nombre_artistico=%{x}<br>sum of count=%{y}<extra></extra>",
         "legendgroup": "Cuenca",
         "marker": {
          "color": "#FFA15A",
          "pattern": {
           "shape": ""
          }
         },
         "name": "Cuenca",
         "offsetgroup": "Cuenca",
         "orientation": "v",
         "showlegend": true,
         "type": "histogram",
         "x": [
          "Gonzalo Cruzado"
         ],
         "xaxis": "x",
         "y": [
          1
         ],
         "yaxis": "y"
        },
        {
         "alignmentgroup": "True",
         "bingroup": "x",
         "histfunc": "sum",
         "hovertemplate": "calculadora_musico_provincia=Cádiz<br>calculadora_musico_nombre_artistico=%{x}<br>sum of count=%{y}<extra></extra>",
         "legendgroup": "Cádiz",
         "marker": {
          "color": "#19d3f3",
          "pattern": {
           "shape": ""
          }
         },
         "name": "Cádiz",
         "offsetgroup": "Cádiz",
         "orientation": "v",
         "showlegend": true,
         "type": "histogram",
         "x": [
          "DJ Xuky Barbate"
         ],
         "xaxis": "x",
         "y": [
          1
         ],
         "yaxis": "y"
        },
        {
         "alignmentgroup": "True",
         "bingroup": "x",
         "histfunc": "sum",
         "hovertemplate": "calculadora_musico_provincia=Córdoba<br>calculadora_musico_nombre_artistico=%{x}<br>sum of count=%{y}<extra></extra>",
         "legendgroup": "Córdoba",
         "marker": {
          "color": "#FF6692",
          "pattern": {
           "shape": ""
          }
         },
         "name": "Córdoba",
         "offsetgroup": "Córdoba",
         "orientation": "v",
         "showlegend": true,
         "type": "histogram",
         "x": [
          "Buitra"
         ],
         "xaxis": "x",
         "y": [
          1
         ],
         "yaxis": "y"
        },
        {
         "alignmentgroup": "True",
         "bingroup": "x",
         "histfunc": "sum",
         "hovertemplate": "calculadora_musico_provincia=Granada<br>calculadora_musico_nombre_artistico=%{x}<br>sum of count=%{y}<extra></extra>",
         "legendgroup": "Granada",
         "marker": {
          "color": "#B6E880",
          "pattern": {
           "shape": ""
          }
         },
         "name": "Granada",
         "offsetgroup": "Granada",
         "orientation": "v",
         "showlegend": true,
         "type": "histogram",
         "x": [
          "RodrigoMárquezDj"
         ],
         "xaxis": "x",
         "y": [
          1
         ],
         "yaxis": "y"
        },
        {
         "alignmentgroup": "True",
         "bingroup": "x",
         "histfunc": "sum",
         "hovertemplate": "calculadora_musico_provincia=Madrid<br>calculadora_musico_nombre_artistico=%{x}<br>sum of count=%{y}<extra></extra>",
         "legendgroup": "Madrid",
         "marker": {
          "color": "#FF97FF",
          "pattern": {
           "shape": ""
          }
         },
         "name": "Madrid",
         "offsetgroup": "Madrid",
         "orientation": "v",
         "showlegend": true,
         "type": "histogram",
         "x": [
          "Sonoriza Eventos DJs",
          "Raher Swing",
          "Syperx",
          "Sonnya Dueñas",
          "Musiksanne",
          "Dj Frank Oz",
          "DJavier Martín",
          "Castán dj"
         ],
         "xaxis": "x",
         "y": [
          4,
          2,
          1,
          1,
          1,
          1,
          1,
          1
         ],
         "yaxis": "y"
        },
        {
         "alignmentgroup": "True",
         "bingroup": "x",
         "histfunc": "sum",
         "hovertemplate": "calculadora_musico_provincia=Málaga<br>calculadora_musico_nombre_artistico=%{x}<br>sum of count=%{y}<extra></extra>",
         "legendgroup": "Málaga",
         "marker": {
          "color": "#FECB52",
          "pattern": {
           "shape": ""
          }
         },
         "name": "Málaga",
         "offsetgroup": "Málaga",
         "orientation": "v",
         "showlegend": true,
         "type": "histogram",
         "x": [
          "Frankz Ruiz",
          "Vulturez",
          "Dj krasch"
         ],
         "xaxis": "x",
         "y": [
          1,
          1,
          1
         ],
         "yaxis": "y"
        },
        {
         "alignmentgroup": "True",
         "bingroup": "x",
         "histfunc": "sum",
         "hovertemplate": "calculadora_musico_provincia=Navarra<br>calculadora_musico_nombre_artistico=%{x}<br>sum of count=%{y}<extra></extra>",
         "legendgroup": "Navarra",
         "marker": {
          "color": "#636efa",
          "pattern": {
           "shape": ""
          }
         },
         "name": "Navarra",
         "offsetgroup": "Navarra",
         "orientation": "v",
         "showlegend": true,
         "type": "histogram",
         "x": [
          "josian el ganyero"
         ],
         "xaxis": "x",
         "y": [
          1
         ],
         "yaxis": "y"
        },
        {
         "alignmentgroup": "True",
         "bingroup": "x",
         "histfunc": "sum",
         "hovertemplate": "calculadora_musico_provincia=Orense<br>calculadora_musico_nombre_artistico=%{x}<br>sum of count=%{y}<extra></extra>",
         "legendgroup": "Orense",
         "marker": {
          "color": "#EF553B",
          "pattern": {
           "shape": ""
          }
         },
         "name": "Orense",
         "offsetgroup": "Orense",
         "orientation": "v",
         "showlegend": true,
         "type": "histogram",
         "x": [
          "Dj eros"
         ],
         "xaxis": "x",
         "y": [
          1
         ],
         "yaxis": "y"
        },
        {
         "alignmentgroup": "True",
         "bingroup": "x",
         "histfunc": "sum",
         "hovertemplate": "calculadora_musico_provincia=Pontevedra<br>calculadora_musico_nombre_artistico=%{x}<br>sum of count=%{y}<extra></extra>",
         "legendgroup": "Pontevedra",
         "marker": {
          "color": "#00cc96",
          "pattern": {
           "shape": ""
          }
         },
         "name": "Pontevedra",
         "offsetgroup": "Pontevedra",
         "orientation": "v",
         "showlegend": true,
         "type": "histogram",
         "x": [
          "Aqua dj"
         ],
         "xaxis": "x",
         "y": [
          1
         ],
         "yaxis": "y"
        },
        {
         "alignmentgroup": "True",
         "bingroup": "x",
         "histfunc": "sum",
         "hovertemplate": "calculadora_musico_provincia=Valencia<br>calculadora_musico_nombre_artistico=%{x}<br>sum of count=%{y}<extra></extra>",
         "legendgroup": "Valencia",
         "marker": {
          "color": "#ab63fa",
          "pattern": {
           "shape": ""
          }
         },
         "name": "Valencia",
         "offsetgroup": "Valencia",
         "orientation": "v",
         "showlegend": true,
         "type": "histogram",
         "x": [
          "Pol Batrox",
          "Dj.soriano",
          "Thabs",
          "Dj Pol Batrox",
          "Henry Sunday",
          "ROLL IT SHOW",
          "Raul Duran dj"
         ],
         "xaxis": "x",
         "y": [
          3,
          3,
          2,
          2,
          1,
          1,
          1
         ],
         "yaxis": "y"
        },
        {
         "alignmentgroup": "True",
         "bingroup": "x",
         "histfunc": "sum",
         "hovertemplate": "calculadora_musico_provincia=Valladolid<br>calculadora_musico_nombre_artistico=%{x}<br>sum of count=%{y}<extra></extra>",
         "legendgroup": "Valladolid",
         "marker": {
          "color": "#FFA15A",
          "pattern": {
           "shape": ""
          }
         },
         "name": "Valladolid",
         "offsetgroup": "Valladolid",
         "orientation": "v",
         "showlegend": true,
         "type": "histogram",
         "x": [
          "Dj Snok"
         ],
         "xaxis": "x",
         "y": [
          1
         ],
         "yaxis": "y"
        }
       ],
       "layout": {
        "barmode": "relative",
        "legend": {
         "title": {
          "text": "calculadora_musico_provincia"
         },
         "tracegroupgap": 0
        },
        "margin": {
         "t": 60
        },
        "template": {
         "data": {
          "bar": [
           {
            "error_x": {
             "color": "#2a3f5f"
            },
            "error_y": {
             "color": "#2a3f5f"
            },
            "marker": {
             "line": {
              "color": "#E5ECF6",
              "width": 0.5
             },
             "pattern": {
              "fillmode": "overlay",
              "size": 10,
              "solidity": 0.2
             }
            },
            "type": "bar"
           }
          ],
          "barpolar": [
           {
            "marker": {
             "line": {
              "color": "#E5ECF6",
              "width": 0.5
             },
             "pattern": {
              "fillmode": "overlay",
              "size": 10,
              "solidity": 0.2
             }
            },
            "type": "barpolar"
           }
          ],
          "carpet": [
           {
            "aaxis": {
             "endlinecolor": "#2a3f5f",
             "gridcolor": "white",
             "linecolor": "white",
             "minorgridcolor": "white",
             "startlinecolor": "#2a3f5f"
            },
            "baxis": {
             "endlinecolor": "#2a3f5f",
             "gridcolor": "white",
             "linecolor": "white",
             "minorgridcolor": "white",
             "startlinecolor": "#2a3f5f"
            },
            "type": "carpet"
           }
          ],
          "choropleth": [
           {
            "colorbar": {
             "outlinewidth": 0,
             "ticks": ""
            },
            "type": "choropleth"
           }
          ],
          "contour": [
           {
            "colorbar": {
             "outlinewidth": 0,
             "ticks": ""
            },
            "colorscale": [
             [
              0,
              "#0d0887"
             ],
             [
              0.1111111111111111,
              "#46039f"
             ],
             [
              0.2222222222222222,
              "#7201a8"
             ],
             [
              0.3333333333333333,
              "#9c179e"
             ],
             [
              0.4444444444444444,
              "#bd3786"
             ],
             [
              0.5555555555555556,
              "#d8576b"
             ],
             [
              0.6666666666666666,
              "#ed7953"
             ],
             [
              0.7777777777777778,
              "#fb9f3a"
             ],
             [
              0.8888888888888888,
              "#fdca26"
             ],
             [
              1,
              "#f0f921"
             ]
            ],
            "type": "contour"
           }
          ],
          "contourcarpet": [
           {
            "colorbar": {
             "outlinewidth": 0,
             "ticks": ""
            },
            "type": "contourcarpet"
           }
          ],
          "heatmap": [
           {
            "colorbar": {
             "outlinewidth": 0,
             "ticks": ""
            },
            "colorscale": [
             [
              0,
              "#0d0887"
             ],
             [
              0.1111111111111111,
              "#46039f"
             ],
             [
              0.2222222222222222,
              "#7201a8"
             ],
             [
              0.3333333333333333,
              "#9c179e"
             ],
             [
              0.4444444444444444,
              "#bd3786"
             ],
             [
              0.5555555555555556,
              "#d8576b"
             ],
             [
              0.6666666666666666,
              "#ed7953"
             ],
             [
              0.7777777777777778,
              "#fb9f3a"
             ],
             [
              0.8888888888888888,
              "#fdca26"
             ],
             [
              1,
              "#f0f921"
             ]
            ],
            "type": "heatmap"
           }
          ],
          "heatmapgl": [
           {
            "colorbar": {
             "outlinewidth": 0,
             "ticks": ""
            },
            "colorscale": [
             [
              0,
              "#0d0887"
             ],
             [
              0.1111111111111111,
              "#46039f"
             ],
             [
              0.2222222222222222,
              "#7201a8"
             ],
             [
              0.3333333333333333,
              "#9c179e"
             ],
             [
              0.4444444444444444,
              "#bd3786"
             ],
             [
              0.5555555555555556,
              "#d8576b"
             ],
             [
              0.6666666666666666,
              "#ed7953"
             ],
             [
              0.7777777777777778,
              "#fb9f3a"
             ],
             [
              0.8888888888888888,
              "#fdca26"
             ],
             [
              1,
              "#f0f921"
             ]
            ],
            "type": "heatmapgl"
           }
          ],
          "histogram": [
           {
            "marker": {
             "pattern": {
              "fillmode": "overlay",
              "size": 10,
              "solidity": 0.2
             }
            },
            "type": "histogram"
           }
          ],
          "histogram2d": [
           {
            "colorbar": {
             "outlinewidth": 0,
             "ticks": ""
            },
            "colorscale": [
             [
              0,
              "#0d0887"
             ],
             [
              0.1111111111111111,
              "#46039f"
             ],
             [
              0.2222222222222222,
              "#7201a8"
             ],
             [
              0.3333333333333333,
              "#9c179e"
             ],
             [
              0.4444444444444444,
              "#bd3786"
             ],
             [
              0.5555555555555556,
              "#d8576b"
             ],
             [
              0.6666666666666666,
              "#ed7953"
             ],
             [
              0.7777777777777778,
              "#fb9f3a"
             ],
             [
              0.8888888888888888,
              "#fdca26"
             ],
             [
              1,
              "#f0f921"
             ]
            ],
            "type": "histogram2d"
           }
          ],
          "histogram2dcontour": [
           {
            "colorbar": {
             "outlinewidth": 0,
             "ticks": ""
            },
            "colorscale": [
             [
              0,
              "#0d0887"
             ],
             [
              0.1111111111111111,
              "#46039f"
             ],
             [
              0.2222222222222222,
              "#7201a8"
             ],
             [
              0.3333333333333333,
              "#9c179e"
             ],
             [
              0.4444444444444444,
              "#bd3786"
             ],
             [
              0.5555555555555556,
              "#d8576b"
             ],
             [
              0.6666666666666666,
              "#ed7953"
             ],
             [
              0.7777777777777778,
              "#fb9f3a"
             ],
             [
              0.8888888888888888,
              "#fdca26"
             ],
             [
              1,
              "#f0f921"
             ]
            ],
            "type": "histogram2dcontour"
           }
          ],
          "mesh3d": [
           {
            "colorbar": {
             "outlinewidth": 0,
             "ticks": ""
            },
            "type": "mesh3d"
           }
          ],
          "parcoords": [
           {
            "line": {
             "colorbar": {
              "outlinewidth": 0,
              "ticks": ""
             }
            },
            "type": "parcoords"
           }
          ],
          "pie": [
           {
            "automargin": true,
            "type": "pie"
           }
          ],
          "scatter": [
           {
            "fillpattern": {
             "fillmode": "overlay",
             "size": 10,
             "solidity": 0.2
            },
            "type": "scatter"
           }
          ],
          "scatter3d": [
           {
            "line": {
             "colorbar": {
              "outlinewidth": 0,
              "ticks": ""
             }
            },
            "marker": {
             "colorbar": {
              "outlinewidth": 0,
              "ticks": ""
             }
            },
            "type": "scatter3d"
           }
          ],
          "scattercarpet": [
           {
            "marker": {
             "colorbar": {
              "outlinewidth": 0,
              "ticks": ""
             }
            },
            "type": "scattercarpet"
           }
          ],
          "scattergeo": [
           {
            "marker": {
             "colorbar": {
              "outlinewidth": 0,
              "ticks": ""
             }
            },
            "type": "scattergeo"
           }
          ],
          "scattergl": [
           {
            "marker": {
             "colorbar": {
              "outlinewidth": 0,
              "ticks": ""
             }
            },
            "type": "scattergl"
           }
          ],
          "scattermapbox": [
           {
            "marker": {
             "colorbar": {
              "outlinewidth": 0,
              "ticks": ""
             }
            },
            "type": "scattermapbox"
           }
          ],
          "scatterpolar": [
           {
            "marker": {
             "colorbar": {
              "outlinewidth": 0,
              "ticks": ""
             }
            },
            "type": "scatterpolar"
           }
          ],
          "scatterpolargl": [
           {
            "marker": {
             "colorbar": {
              "outlinewidth": 0,
              "ticks": ""
             }
            },
            "type": "scatterpolargl"
           }
          ],
          "scatterternary": [
           {
            "marker": {
             "colorbar": {
              "outlinewidth": 0,
              "ticks": ""
             }
            },
            "type": "scatterternary"
           }
          ],
          "surface": [
           {
            "colorbar": {
             "outlinewidth": 0,
             "ticks": ""
            },
            "colorscale": [
             [
              0,
              "#0d0887"
             ],
             [
              0.1111111111111111,
              "#46039f"
             ],
             [
              0.2222222222222222,
              "#7201a8"
             ],
             [
              0.3333333333333333,
              "#9c179e"
             ],
             [
              0.4444444444444444,
              "#bd3786"
             ],
             [
              0.5555555555555556,
              "#d8576b"
             ],
             [
              0.6666666666666666,
              "#ed7953"
             ],
             [
              0.7777777777777778,
              "#fb9f3a"
             ],
             [
              0.8888888888888888,
              "#fdca26"
             ],
             [
              1,
              "#f0f921"
             ]
            ],
            "type": "surface"
           }
          ],
          "table": [
           {
            "cells": {
             "fill": {
              "color": "#EBF0F8"
             },
             "line": {
              "color": "white"
             }
            },
            "header": {
             "fill": {
              "color": "#C8D4E3"
             },
             "line": {
              "color": "white"
             }
            },
            "type": "table"
           }
          ]
         },
         "layout": {
          "annotationdefaults": {
           "arrowcolor": "#2a3f5f",
           "arrowhead": 0,
           "arrowwidth": 1
          },
          "autotypenumbers": "strict",
          "coloraxis": {
           "colorbar": {
            "outlinewidth": 0,
            "ticks": ""
           }
          },
          "colorscale": {
           "diverging": [
            [
             0,
             "#8e0152"
            ],
            [
             0.1,
             "#c51b7d"
            ],
            [
             0.2,
             "#de77ae"
            ],
            [
             0.3,
             "#f1b6da"
            ],
            [
             0.4,
             "#fde0ef"
            ],
            [
             0.5,
             "#f7f7f7"
            ],
            [
             0.6,
             "#e6f5d0"
            ],
            [
             0.7,
             "#b8e186"
            ],
            [
             0.8,
             "#7fbc41"
            ],
            [
             0.9,
             "#4d9221"
            ],
            [
             1,
             "#276419"
            ]
           ],
           "sequential": [
            [
             0,
             "#0d0887"
            ],
            [
             0.1111111111111111,
             "#46039f"
            ],
            [
             0.2222222222222222,
             "#7201a8"
            ],
            [
             0.3333333333333333,
             "#9c179e"
            ],
            [
             0.4444444444444444,
             "#bd3786"
            ],
            [
             0.5555555555555556,
             "#d8576b"
            ],
            [
             0.6666666666666666,
             "#ed7953"
            ],
            [
             0.7777777777777778,
             "#fb9f3a"
            ],
            [
             0.8888888888888888,
             "#fdca26"
            ],
            [
             1,
             "#f0f921"
            ]
           ],
           "sequentialminus": [
            [
             0,
             "#0d0887"
            ],
            [
             0.1111111111111111,
             "#46039f"
            ],
            [
             0.2222222222222222,
             "#7201a8"
            ],
            [
             0.3333333333333333,
             "#9c179e"
            ],
            [
             0.4444444444444444,
             "#bd3786"
            ],
            [
             0.5555555555555556,
             "#d8576b"
            ],
            [
             0.6666666666666666,
             "#ed7953"
            ],
            [
             0.7777777777777778,
             "#fb9f3a"
            ],
            [
             0.8888888888888888,
             "#fdca26"
            ],
            [
             1,
             "#f0f921"
            ]
           ]
          },
          "colorway": [
           "#636efa",
           "#EF553B",
           "#00cc96",
           "#ab63fa",
           "#FFA15A",
           "#19d3f3",
           "#FF6692",
           "#B6E880",
           "#FF97FF",
           "#FECB52"
          ],
          "font": {
           "color": "#2a3f5f"
          },
          "geo": {
           "bgcolor": "white",
           "lakecolor": "white",
           "landcolor": "#E5ECF6",
           "showlakes": true,
           "showland": true,
           "subunitcolor": "white"
          },
          "hoverlabel": {
           "align": "left"
          },
          "hovermode": "closest",
          "mapbox": {
           "style": "light"
          },
          "paper_bgcolor": "white",
          "plot_bgcolor": "#E5ECF6",
          "polar": {
           "angularaxis": {
            "gridcolor": "white",
            "linecolor": "white",
            "ticks": ""
           },
           "bgcolor": "#E5ECF6",
           "radialaxis": {
            "gridcolor": "white",
            "linecolor": "white",
            "ticks": ""
           }
          },
          "scene": {
           "xaxis": {
            "backgroundcolor": "#E5ECF6",
            "gridcolor": "white",
            "gridwidth": 2,
            "linecolor": "white",
            "showbackground": true,
            "ticks": "",
            "zerolinecolor": "white"
           },
           "yaxis": {
            "backgroundcolor": "#E5ECF6",
            "gridcolor": "white",
            "gridwidth": 2,
            "linecolor": "white",
            "showbackground": true,
            "ticks": "",
            "zerolinecolor": "white"
           },
           "zaxis": {
            "backgroundcolor": "#E5ECF6",
            "gridcolor": "white",
            "gridwidth": 2,
            "linecolor": "white",
            "showbackground": true,
            "ticks": "",
            "zerolinecolor": "white"
           }
          },
          "shapedefaults": {
           "line": {
            "color": "#2a3f5f"
           }
          },
          "ternary": {
           "aaxis": {
            "gridcolor": "white",
            "linecolor": "white",
            "ticks": ""
           },
           "baxis": {
            "gridcolor": "white",
            "linecolor": "white",
            "ticks": ""
           },
           "bgcolor": "#E5ECF6",
           "caxis": {
            "gridcolor": "white",
            "linecolor": "white",
            "ticks": ""
           }
          },
          "title": {
           "x": 0.05
          },
          "xaxis": {
           "automargin": true,
           "gridcolor": "white",
           "linecolor": "white",
           "ticks": "",
           "title": {
            "standoff": 15
           },
           "zerolinecolor": "white",
           "zerolinewidth": 2
          },
          "yaxis": {
           "automargin": true,
           "gridcolor": "white",
           "linecolor": "white",
           "ticks": "",
           "title": {
            "standoff": 15
           },
           "zerolinecolor": "white",
           "zerolinewidth": 2
          }
         }
        },
        "xaxis": {
         "anchor": "y",
         "domain": [
          0,
          1
         ],
         "title": {
          "text": "calculadora_musico_nombre_artistico"
         }
        },
        "yaxis": {
         "anchor": "x",
         "domain": [
          0,
          1
         ],
         "title": {
          "text": "sum of count"
         }
        }
       }
      }
     },
     "metadata": {},
     "output_type": "display_data"
    }
   ],
   "source": [
    "fig = px.histogram(dj_count,  \n",
    "                   x=\"calculadora_musico_nombre_artistico\", \n",
    "                   y = 'count',\n",
    "                   color='calculadora_musico_provincia',\n",
    "                   )\n",
    "fig.show()\n"
   ]
  },
  {
   "cell_type": "code",
   "execution_count": 171,
   "metadata": {},
   "outputs": [
    {
     "data": {
      "application/vnd.plotly.v1+json": {
       "config": {
        "plotlyServerURL": "https://plot.ly"
       },
       "data": [
        {
         "alignmentgroup": "True",
         "bingroup": "x",
         "histfunc": "sum",
         "hovertemplate": "calculadora_musico_provincia=Burgos<br>calculadora_musico_nombre_artistico=%{x}<br>sum of count=%{y}<extra></extra>",
         "legendgroup": "Burgos",
         "marker": {
          "color": "#636efa",
          "pattern": {
           "shape": ""
          }
         },
         "name": "Burgos",
         "offsetgroup": "Burgos",
         "orientation": "v",
         "showlegend": true,
         "type": "histogram",
         "x": [
          "Russtyle"
         ],
         "xaxis": "x",
         "y": [
          2
         ],
         "yaxis": "y"
        },
        {
         "alignmentgroup": "True",
         "bingroup": "x",
         "histfunc": "sum",
         "hovertemplate": "calculadora_musico_provincia=Cantabria<br>calculadora_musico_nombre_artistico=%{x}<br>sum of count=%{y}<extra></extra>",
         "legendgroup": "Cantabria",
         "marker": {
          "color": "#EF553B",
          "pattern": {
           "shape": ""
          }
         },
         "name": "Cantabria",
         "offsetgroup": "Cantabria",
         "orientation": "v",
         "showlegend": true,
         "type": "histogram",
         "x": [
          "Dj Rios"
         ],
         "xaxis": "x",
         "y": [
          2
         ],
         "yaxis": "y"
        },
        {
         "alignmentgroup": "True",
         "bingroup": "x",
         "histfunc": "sum",
         "hovertemplate": "calculadora_musico_provincia=Madrid<br>calculadora_musico_nombre_artistico=%{x}<br>sum of count=%{y}<extra></extra>",
         "legendgroup": "Madrid",
         "marker": {
          "color": "#00cc96",
          "pattern": {
           "shape": ""
          }
         },
         "name": "Madrid",
         "offsetgroup": "Madrid",
         "orientation": "v",
         "showlegend": true,
         "type": "histogram",
         "x": [
          "Sonoriza Eventos DJs",
          "Raher Swing"
         ],
         "xaxis": "x",
         "y": [
          4,
          2
         ],
         "yaxis": "y"
        },
        {
         "alignmentgroup": "True",
         "bingroup": "x",
         "histfunc": "sum",
         "hovertemplate": "calculadora_musico_provincia=Valencia<br>calculadora_musico_nombre_artistico=%{x}<br>sum of count=%{y}<extra></extra>",
         "legendgroup": "Valencia",
         "marker": {
          "color": "#ab63fa",
          "pattern": {
           "shape": ""
          }
         },
         "name": "Valencia",
         "offsetgroup": "Valencia",
         "orientation": "v",
         "showlegend": true,
         "type": "histogram",
         "x": [
          "Pol Batrox",
          "Dj.soriano",
          "Thabs",
          "Dj Pol Batrox"
         ],
         "xaxis": "x",
         "y": [
          3,
          3,
          2,
          2
         ],
         "yaxis": "y"
        }
       ],
       "layout": {
        "barmode": "relative",
        "legend": {
         "title": {
          "text": "calculadora_musico_provincia"
         },
         "tracegroupgap": 0
        },
        "margin": {
         "t": 60
        },
        "template": {
         "data": {
          "bar": [
           {
            "error_x": {
             "color": "#2a3f5f"
            },
            "error_y": {
             "color": "#2a3f5f"
            },
            "marker": {
             "line": {
              "color": "#E5ECF6",
              "width": 0.5
             },
             "pattern": {
              "fillmode": "overlay",
              "size": 10,
              "solidity": 0.2
             }
            },
            "type": "bar"
           }
          ],
          "barpolar": [
           {
            "marker": {
             "line": {
              "color": "#E5ECF6",
              "width": 0.5
             },
             "pattern": {
              "fillmode": "overlay",
              "size": 10,
              "solidity": 0.2
             }
            },
            "type": "barpolar"
           }
          ],
          "carpet": [
           {
            "aaxis": {
             "endlinecolor": "#2a3f5f",
             "gridcolor": "white",
             "linecolor": "white",
             "minorgridcolor": "white",
             "startlinecolor": "#2a3f5f"
            },
            "baxis": {
             "endlinecolor": "#2a3f5f",
             "gridcolor": "white",
             "linecolor": "white",
             "minorgridcolor": "white",
             "startlinecolor": "#2a3f5f"
            },
            "type": "carpet"
           }
          ],
          "choropleth": [
           {
            "colorbar": {
             "outlinewidth": 0,
             "ticks": ""
            },
            "type": "choropleth"
           }
          ],
          "contour": [
           {
            "colorbar": {
             "outlinewidth": 0,
             "ticks": ""
            },
            "colorscale": [
             [
              0,
              "#0d0887"
             ],
             [
              0.1111111111111111,
              "#46039f"
             ],
             [
              0.2222222222222222,
              "#7201a8"
             ],
             [
              0.3333333333333333,
              "#9c179e"
             ],
             [
              0.4444444444444444,
              "#bd3786"
             ],
             [
              0.5555555555555556,
              "#d8576b"
             ],
             [
              0.6666666666666666,
              "#ed7953"
             ],
             [
              0.7777777777777778,
              "#fb9f3a"
             ],
             [
              0.8888888888888888,
              "#fdca26"
             ],
             [
              1,
              "#f0f921"
             ]
            ],
            "type": "contour"
           }
          ],
          "contourcarpet": [
           {
            "colorbar": {
             "outlinewidth": 0,
             "ticks": ""
            },
            "type": "contourcarpet"
           }
          ],
          "heatmap": [
           {
            "colorbar": {
             "outlinewidth": 0,
             "ticks": ""
            },
            "colorscale": [
             [
              0,
              "#0d0887"
             ],
             [
              0.1111111111111111,
              "#46039f"
             ],
             [
              0.2222222222222222,
              "#7201a8"
             ],
             [
              0.3333333333333333,
              "#9c179e"
             ],
             [
              0.4444444444444444,
              "#bd3786"
             ],
             [
              0.5555555555555556,
              "#d8576b"
             ],
             [
              0.6666666666666666,
              "#ed7953"
             ],
             [
              0.7777777777777778,
              "#fb9f3a"
             ],
             [
              0.8888888888888888,
              "#fdca26"
             ],
             [
              1,
              "#f0f921"
             ]
            ],
            "type": "heatmap"
           }
          ],
          "heatmapgl": [
           {
            "colorbar": {
             "outlinewidth": 0,
             "ticks": ""
            },
            "colorscale": [
             [
              0,
              "#0d0887"
             ],
             [
              0.1111111111111111,
              "#46039f"
             ],
             [
              0.2222222222222222,
              "#7201a8"
             ],
             [
              0.3333333333333333,
              "#9c179e"
             ],
             [
              0.4444444444444444,
              "#bd3786"
             ],
             [
              0.5555555555555556,
              "#d8576b"
             ],
             [
              0.6666666666666666,
              "#ed7953"
             ],
             [
              0.7777777777777778,
              "#fb9f3a"
             ],
             [
              0.8888888888888888,
              "#fdca26"
             ],
             [
              1,
              "#f0f921"
             ]
            ],
            "type": "heatmapgl"
           }
          ],
          "histogram": [
           {
            "marker": {
             "pattern": {
              "fillmode": "overlay",
              "size": 10,
              "solidity": 0.2
             }
            },
            "type": "histogram"
           }
          ],
          "histogram2d": [
           {
            "colorbar": {
             "outlinewidth": 0,
             "ticks": ""
            },
            "colorscale": [
             [
              0,
              "#0d0887"
             ],
             [
              0.1111111111111111,
              "#46039f"
             ],
             [
              0.2222222222222222,
              "#7201a8"
             ],
             [
              0.3333333333333333,
              "#9c179e"
             ],
             [
              0.4444444444444444,
              "#bd3786"
             ],
             [
              0.5555555555555556,
              "#d8576b"
             ],
             [
              0.6666666666666666,
              "#ed7953"
             ],
             [
              0.7777777777777778,
              "#fb9f3a"
             ],
             [
              0.8888888888888888,
              "#fdca26"
             ],
             [
              1,
              "#f0f921"
             ]
            ],
            "type": "histogram2d"
           }
          ],
          "histogram2dcontour": [
           {
            "colorbar": {
             "outlinewidth": 0,
             "ticks": ""
            },
            "colorscale": [
             [
              0,
              "#0d0887"
             ],
             [
              0.1111111111111111,
              "#46039f"
             ],
             [
              0.2222222222222222,
              "#7201a8"
             ],
             [
              0.3333333333333333,
              "#9c179e"
             ],
             [
              0.4444444444444444,
              "#bd3786"
             ],
             [
              0.5555555555555556,
              "#d8576b"
             ],
             [
              0.6666666666666666,
              "#ed7953"
             ],
             [
              0.7777777777777778,
              "#fb9f3a"
             ],
             [
              0.8888888888888888,
              "#fdca26"
             ],
             [
              1,
              "#f0f921"
             ]
            ],
            "type": "histogram2dcontour"
           }
          ],
          "mesh3d": [
           {
            "colorbar": {
             "outlinewidth": 0,
             "ticks": ""
            },
            "type": "mesh3d"
           }
          ],
          "parcoords": [
           {
            "line": {
             "colorbar": {
              "outlinewidth": 0,
              "ticks": ""
             }
            },
            "type": "parcoords"
           }
          ],
          "pie": [
           {
            "automargin": true,
            "type": "pie"
           }
          ],
          "scatter": [
           {
            "fillpattern": {
             "fillmode": "overlay",
             "size": 10,
             "solidity": 0.2
            },
            "type": "scatter"
           }
          ],
          "scatter3d": [
           {
            "line": {
             "colorbar": {
              "outlinewidth": 0,
              "ticks": ""
             }
            },
            "marker": {
             "colorbar": {
              "outlinewidth": 0,
              "ticks": ""
             }
            },
            "type": "scatter3d"
           }
          ],
          "scattercarpet": [
           {
            "marker": {
             "colorbar": {
              "outlinewidth": 0,
              "ticks": ""
             }
            },
            "type": "scattercarpet"
           }
          ],
          "scattergeo": [
           {
            "marker": {
             "colorbar": {
              "outlinewidth": 0,
              "ticks": ""
             }
            },
            "type": "scattergeo"
           }
          ],
          "scattergl": [
           {
            "marker": {
             "colorbar": {
              "outlinewidth": 0,
              "ticks": ""
             }
            },
            "type": "scattergl"
           }
          ],
          "scattermapbox": [
           {
            "marker": {
             "colorbar": {
              "outlinewidth": 0,
              "ticks": ""
             }
            },
            "type": "scattermapbox"
           }
          ],
          "scatterpolar": [
           {
            "marker": {
             "colorbar": {
              "outlinewidth": 0,
              "ticks": ""
             }
            },
            "type": "scatterpolar"
           }
          ],
          "scatterpolargl": [
           {
            "marker": {
             "colorbar": {
              "outlinewidth": 0,
              "ticks": ""
             }
            },
            "type": "scatterpolargl"
           }
          ],
          "scatterternary": [
           {
            "marker": {
             "colorbar": {
              "outlinewidth": 0,
              "ticks": ""
             }
            },
            "type": "scatterternary"
           }
          ],
          "surface": [
           {
            "colorbar": {
             "outlinewidth": 0,
             "ticks": ""
            },
            "colorscale": [
             [
              0,
              "#0d0887"
             ],
             [
              0.1111111111111111,
              "#46039f"
             ],
             [
              0.2222222222222222,
              "#7201a8"
             ],
             [
              0.3333333333333333,
              "#9c179e"
             ],
             [
              0.4444444444444444,
              "#bd3786"
             ],
             [
              0.5555555555555556,
              "#d8576b"
             ],
             [
              0.6666666666666666,
              "#ed7953"
             ],
             [
              0.7777777777777778,
              "#fb9f3a"
             ],
             [
              0.8888888888888888,
              "#fdca26"
             ],
             [
              1,
              "#f0f921"
             ]
            ],
            "type": "surface"
           }
          ],
          "table": [
           {
            "cells": {
             "fill": {
              "color": "#EBF0F8"
             },
             "line": {
              "color": "white"
             }
            },
            "header": {
             "fill": {
              "color": "#C8D4E3"
             },
             "line": {
              "color": "white"
             }
            },
            "type": "table"
           }
          ]
         },
         "layout": {
          "annotationdefaults": {
           "arrowcolor": "#2a3f5f",
           "arrowhead": 0,
           "arrowwidth": 1
          },
          "autotypenumbers": "strict",
          "coloraxis": {
           "colorbar": {
            "outlinewidth": 0,
            "ticks": ""
           }
          },
          "colorscale": {
           "diverging": [
            [
             0,
             "#8e0152"
            ],
            [
             0.1,
             "#c51b7d"
            ],
            [
             0.2,
             "#de77ae"
            ],
            [
             0.3,
             "#f1b6da"
            ],
            [
             0.4,
             "#fde0ef"
            ],
            [
             0.5,
             "#f7f7f7"
            ],
            [
             0.6,
             "#e6f5d0"
            ],
            [
             0.7,
             "#b8e186"
            ],
            [
             0.8,
             "#7fbc41"
            ],
            [
             0.9,
             "#4d9221"
            ],
            [
             1,
             "#276419"
            ]
           ],
           "sequential": [
            [
             0,
             "#0d0887"
            ],
            [
             0.1111111111111111,
             "#46039f"
            ],
            [
             0.2222222222222222,
             "#7201a8"
            ],
            [
             0.3333333333333333,
             "#9c179e"
            ],
            [
             0.4444444444444444,
             "#bd3786"
            ],
            [
             0.5555555555555556,
             "#d8576b"
            ],
            [
             0.6666666666666666,
             "#ed7953"
            ],
            [
             0.7777777777777778,
             "#fb9f3a"
            ],
            [
             0.8888888888888888,
             "#fdca26"
            ],
            [
             1,
             "#f0f921"
            ]
           ],
           "sequentialminus": [
            [
             0,
             "#0d0887"
            ],
            [
             0.1111111111111111,
             "#46039f"
            ],
            [
             0.2222222222222222,
             "#7201a8"
            ],
            [
             0.3333333333333333,
             "#9c179e"
            ],
            [
             0.4444444444444444,
             "#bd3786"
            ],
            [
             0.5555555555555556,
             "#d8576b"
            ],
            [
             0.6666666666666666,
             "#ed7953"
            ],
            [
             0.7777777777777778,
             "#fb9f3a"
            ],
            [
             0.8888888888888888,
             "#fdca26"
            ],
            [
             1,
             "#f0f921"
            ]
           ]
          },
          "colorway": [
           "#636efa",
           "#EF553B",
           "#00cc96",
           "#ab63fa",
           "#FFA15A",
           "#19d3f3",
           "#FF6692",
           "#B6E880",
           "#FF97FF",
           "#FECB52"
          ],
          "font": {
           "color": "#2a3f5f"
          },
          "geo": {
           "bgcolor": "white",
           "lakecolor": "white",
           "landcolor": "#E5ECF6",
           "showlakes": true,
           "showland": true,
           "subunitcolor": "white"
          },
          "hoverlabel": {
           "align": "left"
          },
          "hovermode": "closest",
          "mapbox": {
           "style": "light"
          },
          "paper_bgcolor": "white",
          "plot_bgcolor": "#E5ECF6",
          "polar": {
           "angularaxis": {
            "gridcolor": "white",
            "linecolor": "white",
            "ticks": ""
           },
           "bgcolor": "#E5ECF6",
           "radialaxis": {
            "gridcolor": "white",
            "linecolor": "white",
            "ticks": ""
           }
          },
          "scene": {
           "xaxis": {
            "backgroundcolor": "#E5ECF6",
            "gridcolor": "white",
            "gridwidth": 2,
            "linecolor": "white",
            "showbackground": true,
            "ticks": "",
            "zerolinecolor": "white"
           },
           "yaxis": {
            "backgroundcolor": "#E5ECF6",
            "gridcolor": "white",
            "gridwidth": 2,
            "linecolor": "white",
            "showbackground": true,
            "ticks": "",
            "zerolinecolor": "white"
           },
           "zaxis": {
            "backgroundcolor": "#E5ECF6",
            "gridcolor": "white",
            "gridwidth": 2,
            "linecolor": "white",
            "showbackground": true,
            "ticks": "",
            "zerolinecolor": "white"
           }
          },
          "shapedefaults": {
           "line": {
            "color": "#2a3f5f"
           }
          },
          "ternary": {
           "aaxis": {
            "gridcolor": "white",
            "linecolor": "white",
            "ticks": ""
           },
           "baxis": {
            "gridcolor": "white",
            "linecolor": "white",
            "ticks": ""
           },
           "bgcolor": "#E5ECF6",
           "caxis": {
            "gridcolor": "white",
            "linecolor": "white",
            "ticks": ""
           }
          },
          "title": {
           "x": 0.05
          },
          "xaxis": {
           "automargin": true,
           "gridcolor": "white",
           "linecolor": "white",
           "ticks": "",
           "title": {
            "standoff": 15
           },
           "zerolinecolor": "white",
           "zerolinewidth": 2
          },
          "yaxis": {
           "automargin": true,
           "gridcolor": "white",
           "linecolor": "white",
           "ticks": "",
           "title": {
            "standoff": 15
           },
           "zerolinecolor": "white",
           "zerolinewidth": 2
          }
         }
        },
        "xaxis": {
         "anchor": "y",
         "domain": [
          0,
          1
         ],
         "title": {
          "text": "calculadora_musico_nombre_artistico"
         }
        },
        "yaxis": {
         "anchor": "x",
         "domain": [
          0,
          1
         ],
         "title": {
          "text": "sum of count"
         }
        }
       }
      }
     },
     "metadata": {},
     "output_type": "display_data"
    }
   ],
   "source": [
    "dj_count = dj_count[dj_count['count'] > 1]\n",
    "\n",
    "\n",
    "fig = px.histogram(dj_count,  \n",
    "                   x=\"calculadora_musico_nombre_artistico\", \n",
    "                   y = 'count',\n",
    "                   color='calculadora_musico_provincia')\n",
    "fig.show()"
   ]
  },
  {
   "cell_type": "code",
   "execution_count": 172,
   "metadata": {},
   "outputs": [
    {
     "data": {
      "text/html": [
       "<div>\n",
       "<style scoped>\n",
       "    .dataframe tbody tr th:only-of-type {\n",
       "        vertical-align: middle;\n",
       "    }\n",
       "\n",
       "    .dataframe tbody tr th {\n",
       "        vertical-align: top;\n",
       "    }\n",
       "\n",
       "    .dataframe thead th {\n",
       "        text-align: right;\n",
       "    }\n",
       "</style>\n",
       "<table border=\"1\" class=\"dataframe\">\n",
       "  <thead>\n",
       "    <tr style=\"text-align: right;\">\n",
       "      <th></th>\n",
       "      <th>ID</th>\n",
       "      <th>Músico</th>\n",
       "      <th>GMV (SIN IVA de MÚSICOS)</th>\n",
       "      <th>Comisión + IVA (INGRESOS CON IVA)</th>\n",
       "      <th>Comisión sin IVA (Ingresos sin IVA o NETOS)</th>\n",
       "      <th>Fecha bolo</th>\n",
       "      <th>De donde viene</th>\n",
       "      <th>Estado</th>\n",
       "      <th>Año-mes contratación</th>\n",
       "      <th>Tipo</th>\n",
       "      <th>Categoría</th>\n",
       "      <th>Nº Contrataciones</th>\n",
       "      <th>Cliente Nuevo/Repetidor</th>\n",
       "      <th>NUEVO = 1, REPE = 0</th>\n",
       "    </tr>\n",
       "  </thead>\n",
       "  <tbody>\n",
       "    <tr>\n",
       "      <th>0</th>\n",
       "      <td>1</td>\n",
       "      <td>Betto Jones</td>\n",
       "      <td>123.97</td>\n",
       "      <td>22.5</td>\n",
       "      <td>18.60</td>\n",
       "      <td>8/10/2022</td>\n",
       "      <td>NaN</td>\n",
       "      <td>NaN</td>\n",
       "      <td>2021-10</td>\n",
       "      <td>Fiesta</td>\n",
       "      <td>Fiesta</td>\n",
       "      <td>1</td>\n",
       "      <td>NUEVO</td>\n",
       "      <td>1</td>\n",
       "    </tr>\n",
       "    <tr>\n",
       "      <th>1</th>\n",
       "      <td>2</td>\n",
       "      <td>Luis Retana</td>\n",
       "      <td>272.73</td>\n",
       "      <td>49.5</td>\n",
       "      <td>40.91</td>\n",
       "      <td>16/10/2022</td>\n",
       "      <td>NaN</td>\n",
       "      <td>NaN</td>\n",
       "      <td>2021-10</td>\n",
       "      <td>Fiesta</td>\n",
       "      <td>Fiesta</td>\n",
       "      <td>1</td>\n",
       "      <td>NUEVO</td>\n",
       "      <td>1</td>\n",
       "    </tr>\n",
       "    <tr>\n",
       "      <th>2</th>\n",
       "      <td>3</td>\n",
       "      <td>Yai Machine</td>\n",
       "      <td>190.08</td>\n",
       "      <td>34.5</td>\n",
       "      <td>28.51</td>\n",
       "      <td>16/10/2022</td>\n",
       "      <td>NaN</td>\n",
       "      <td>NaN</td>\n",
       "      <td>2021-10</td>\n",
       "      <td>Fiesta</td>\n",
       "      <td>Fiesta</td>\n",
       "      <td>1</td>\n",
       "      <td>NUEVO</td>\n",
       "      <td>1</td>\n",
       "    </tr>\n",
       "    <tr>\n",
       "      <th>3</th>\n",
       "      <td>4</td>\n",
       "      <td>Eleka Shows</td>\n",
       "      <td>247.93</td>\n",
       "      <td>45.0</td>\n",
       "      <td>37.19</td>\n",
       "      <td>22/10/2022</td>\n",
       "      <td>NaN</td>\n",
       "      <td>NaN</td>\n",
       "      <td>2021-10</td>\n",
       "      <td>Fiesta</td>\n",
       "      <td>Fiesta</td>\n",
       "      <td>1</td>\n",
       "      <td>NUEVO</td>\n",
       "      <td>1</td>\n",
       "    </tr>\n",
       "    <tr>\n",
       "      <th>4</th>\n",
       "      <td>5</td>\n",
       "      <td>Zao Night Band</td>\n",
       "      <td>785.12</td>\n",
       "      <td>0.0</td>\n",
       "      <td>0.00</td>\n",
       "      <td>24/09/2022</td>\n",
       "      <td>NaN</td>\n",
       "      <td>NaN</td>\n",
       "      <td>2021-11</td>\n",
       "      <td>Fiesta</td>\n",
       "      <td>Fiesta</td>\n",
       "      <td>1</td>\n",
       "      <td>NUEVO</td>\n",
       "      <td>1</td>\n",
       "    </tr>\n",
       "  </tbody>\n",
       "</table>\n",
       "</div>"
      ],
      "text/plain": [
       "   ID          Músico  GMV (SIN IVA de MÚSICOS)  \\\n",
       "0   1     Betto Jones                    123.97   \n",
       "1   2     Luis Retana                    272.73   \n",
       "2   3     Yai Machine                    190.08   \n",
       "3   4     Eleka Shows                    247.93   \n",
       "4   5  Zao Night Band                    785.12   \n",
       "\n",
       "   Comisión + IVA (INGRESOS CON IVA)  \\\n",
       "0                               22.5   \n",
       "1                               49.5   \n",
       "2                               34.5   \n",
       "3                               45.0   \n",
       "4                                0.0   \n",
       "\n",
       "   Comisión sin IVA (Ingresos sin IVA o NETOS)  Fecha bolo De donde viene  \\\n",
       "0                                        18.60   8/10/2022            NaN   \n",
       "1                                        40.91  16/10/2022            NaN   \n",
       "2                                        28.51  16/10/2022            NaN   \n",
       "3                                        37.19  22/10/2022            NaN   \n",
       "4                                         0.00  24/09/2022            NaN   \n",
       "\n",
       "  Estado Año-mes contratación    Tipo Categoría  Nº Contrataciones  \\\n",
       "0    NaN              2021-10  Fiesta    Fiesta                  1   \n",
       "1    NaN              2021-10  Fiesta    Fiesta                  1   \n",
       "2    NaN              2021-10  Fiesta    Fiesta                  1   \n",
       "3    NaN              2021-10  Fiesta    Fiesta                  1   \n",
       "4    NaN              2021-11  Fiesta    Fiesta                  1   \n",
       "\n",
       "  Cliente Nuevo/Repetidor  NUEVO = 1, REPE = 0  \n",
       "0                   NUEVO                    1  \n",
       "1                   NUEVO                    1  \n",
       "2                   NUEVO                    1  \n",
       "3                   NUEVO                    1  \n",
       "4                   NUEVO                    1  "
      ]
     },
     "execution_count": 172,
     "metadata": {},
     "output_type": "execute_result"
    }
   ],
   "source": [
    "contrat_all = pd.read_csv(r'E:\\OneDrive\\Data Science Bootcamp 2023\\jaume_eda\\02 - contrataciones\\contrataciones finales.csv', encoding = 'latin-1')\n",
    "contrat_all.head()"
   ]
  },
  {
   "cell_type": "code",
   "execution_count": 173,
   "metadata": {},
   "outputs": [
    {
     "data": {
      "text/html": [
       "<div>\n",
       "<style scoped>\n",
       "    .dataframe tbody tr th:only-of-type {\n",
       "        vertical-align: middle;\n",
       "    }\n",
       "\n",
       "    .dataframe tbody tr th {\n",
       "        vertical-align: top;\n",
       "    }\n",
       "\n",
       "    .dataframe thead th {\n",
       "        text-align: right;\n",
       "    }\n",
       "</style>\n",
       "<table border=\"1\" class=\"dataframe\">\n",
       "  <thead>\n",
       "    <tr style=\"text-align: right;\">\n",
       "      <th></th>\n",
       "      <th>Músico</th>\n",
       "      <th>GMV (SIN IVA de MÚSICOS)</th>\n",
       "      <th>Comisión sin IVA (Ingresos sin IVA o NETOS)</th>\n",
       "      <th>Fecha bolo</th>\n",
       "    </tr>\n",
       "  </thead>\n",
       "  <tbody>\n",
       "    <tr>\n",
       "      <th>0</th>\n",
       "      <td>Betto Jones</td>\n",
       "      <td>123.97</td>\n",
       "      <td>18.60</td>\n",
       "      <td>8/10/2022</td>\n",
       "    </tr>\n",
       "    <tr>\n",
       "      <th>1</th>\n",
       "      <td>Luis Retana</td>\n",
       "      <td>272.73</td>\n",
       "      <td>40.91</td>\n",
       "      <td>16/10/2022</td>\n",
       "    </tr>\n",
       "    <tr>\n",
       "      <th>2</th>\n",
       "      <td>Yai Machine</td>\n",
       "      <td>190.08</td>\n",
       "      <td>28.51</td>\n",
       "      <td>16/10/2022</td>\n",
       "    </tr>\n",
       "    <tr>\n",
       "      <th>3</th>\n",
       "      <td>Eleka Shows</td>\n",
       "      <td>247.93</td>\n",
       "      <td>37.19</td>\n",
       "      <td>22/10/2022</td>\n",
       "    </tr>\n",
       "    <tr>\n",
       "      <th>4</th>\n",
       "      <td>Zao Night Band</td>\n",
       "      <td>785.12</td>\n",
       "      <td>0.00</td>\n",
       "      <td>24/09/2022</td>\n",
       "    </tr>\n",
       "  </tbody>\n",
       "</table>\n",
       "</div>"
      ],
      "text/plain": [
       "           Músico  GMV (SIN IVA de MÚSICOS)  \\\n",
       "0     Betto Jones                    123.97   \n",
       "1     Luis Retana                    272.73   \n",
       "2     Yai Machine                    190.08   \n",
       "3     Eleka Shows                    247.93   \n",
       "4  Zao Night Band                    785.12   \n",
       "\n",
       "   Comisión sin IVA (Ingresos sin IVA o NETOS)  Fecha bolo  \n",
       "0                                        18.60   8/10/2022  \n",
       "1                                        40.91  16/10/2022  \n",
       "2                                        28.51  16/10/2022  \n",
       "3                                        37.19  22/10/2022  \n",
       "4                                         0.00  24/09/2022  "
      ]
     },
     "execution_count": 173,
     "metadata": {},
     "output_type": "execute_result"
    }
   ],
   "source": [
    "contrat = contrat_all.loc[:,['Músico','GMV (SIN IVA de MÚSICOS)','Comisión sin IVA (Ingresos sin IVA o NETOS)','Fecha bolo']]\n",
    "contrat.head()"
   ]
  },
  {
   "cell_type": "code",
   "execution_count": 174,
   "metadata": {},
   "outputs": [
    {
     "name": "stdout",
     "output_type": "stream",
     "text": [
      "<class 'pandas.core.frame.DataFrame'>\n",
      "RangeIndex: 220 entries, 0 to 219\n",
      "Data columns (total 4 columns):\n",
      " #   Column                                       Non-Null Count  Dtype  \n",
      "---  ------                                       --------------  -----  \n",
      " 0   Músico                                       220 non-null    object \n",
      " 1   GMV (SIN IVA de MÚSICOS)                     220 non-null    float64\n",
      " 2   Comisión sin IVA (Ingresos sin IVA o NETOS)  220 non-null    float64\n",
      " 3   Fecha bolo                                   204 non-null    object \n",
      "dtypes: float64(2), object(2)\n",
      "memory usage: 7.0+ KB\n"
     ]
    }
   ],
   "source": [
    "contrat.info()"
   ]
  },
  {
   "cell_type": "code",
   "execution_count": 175,
   "metadata": {},
   "outputs": [
    {
     "data": {
      "text/html": [
       "<div>\n",
       "<style scoped>\n",
       "    .dataframe tbody tr th:only-of-type {\n",
       "        vertical-align: middle;\n",
       "    }\n",
       "\n",
       "    .dataframe tbody tr th {\n",
       "        vertical-align: top;\n",
       "    }\n",
       "\n",
       "    .dataframe thead th {\n",
       "        text-align: right;\n",
       "    }\n",
       "</style>\n",
       "<table border=\"1\" class=\"dataframe\">\n",
       "  <thead>\n",
       "    <tr style=\"text-align: right;\">\n",
       "      <th></th>\n",
       "      <th>GMV (SIN IVA de MÚSICOS)</th>\n",
       "      <th>Comisión sin IVA (Ingresos sin IVA o NETOS)</th>\n",
       "    </tr>\n",
       "  </thead>\n",
       "  <tbody>\n",
       "    <tr>\n",
       "      <th>count</th>\n",
       "      <td>220.000000</td>\n",
       "      <td>220.000000</td>\n",
       "    </tr>\n",
       "    <tr>\n",
       "      <th>mean</th>\n",
       "      <td>374.735273</td>\n",
       "      <td>62.878909</td>\n",
       "    </tr>\n",
       "    <tr>\n",
       "      <th>std</th>\n",
       "      <td>328.295483</td>\n",
       "      <td>57.354240</td>\n",
       "    </tr>\n",
       "    <tr>\n",
       "      <th>min</th>\n",
       "      <td>33.060000</td>\n",
       "      <td>0.000000</td>\n",
       "    </tr>\n",
       "    <tr>\n",
       "      <th>25%</th>\n",
       "      <td>151.857500</td>\n",
       "      <td>24.790000</td>\n",
       "    </tr>\n",
       "    <tr>\n",
       "      <th>50%</th>\n",
       "      <td>291.325000</td>\n",
       "      <td>47.590000</td>\n",
       "    </tr>\n",
       "    <tr>\n",
       "      <th>75%</th>\n",
       "      <td>487.950000</td>\n",
       "      <td>82.640000</td>\n",
       "    </tr>\n",
       "    <tr>\n",
       "      <th>max</th>\n",
       "      <td>2561.980000</td>\n",
       "      <td>512.400000</td>\n",
       "    </tr>\n",
       "  </tbody>\n",
       "</table>\n",
       "</div>"
      ],
      "text/plain": [
       "       GMV (SIN IVA de MÚSICOS)  Comisión sin IVA (Ingresos sin IVA o NETOS)\n",
       "count                220.000000                                   220.000000\n",
       "mean                 374.735273                                    62.878909\n",
       "std                  328.295483                                    57.354240\n",
       "min                   33.060000                                     0.000000\n",
       "25%                  151.857500                                    24.790000\n",
       "50%                  291.325000                                    47.590000\n",
       "75%                  487.950000                                    82.640000\n",
       "max                 2561.980000                                   512.400000"
      ]
     },
     "execution_count": 175,
     "metadata": {},
     "output_type": "execute_result"
    }
   ],
   "source": [
    "contrat.describe()"
   ]
  },
  {
   "cell_type": "code",
   "execution_count": 176,
   "metadata": {},
   "outputs": [
    {
     "data": {
      "application/vnd.plotly.v1+json": {
       "config": {
        "plotlyServerURL": "https://plot.ly"
       },
       "data": [
        {
         "alignmentgroup": "True",
         "bingroup": "x",
         "hovertemplate": "Músico=%{x}<br>count=%{y}<extra></extra>",
         "legendgroup": "",
         "marker": {
          "color": "#636efa",
          "pattern": {
           "shape": ""
          }
         },
         "name": "",
         "offsetgroup": "",
         "orientation": "v",
         "showlegend": false,
         "type": "histogram",
         "x": [
          "Betto Jones",
          "Luis Retana",
          "Yai Machine",
          "Eleka Shows",
          "Zao Night Band",
          "Spin Off",
          "Spin Off",
          "Spin Off",
          "Javi del Val",
          "Rocío Chello ",
          "Rocío Chello ",
          "David Zayas",
          "Andrés Drello",
          "Andrés Drello",
          "Amedias",
          "Amedias",
          "Capitán Mike",
          "Andrés Drello",
          "Zao night band",
          "David Zayas",
          "David Zayas",
          "Tour 80",
          "Ziro Band",
          "Spin Off",
          "David Zayas",
          "Pablo Pedraza",
          "Mocking bird",
          "Josan Rodríguez",
          "Up fot it",
          "Guilan",
          "Spin Off",
          "Sonoriza Eventos",
          "Rock Olas",
          "Undercover",
          "Zao Night Band",
          "Mariachis",
          "De la Huerta",
          "Arañas",
          "Altostanley",
          "Eva Páez",
          "Arde la calle",
          "Mariachis",
          "Pablo Pedraza",
          "Pablo Pedraza",
          "Jose Sonoriza Eventos",
          "Pere",
          "David Zayas",
          "De la Huerta",
          "Guilan",
          "Undercover",
          "Spin Off",
          "Paco Lanzarote",
          "Cuarteto Nonamé",
          "Gabriel Piattorre",
          "Naufragos",
          "Jose Sonoriza Eventos",
          "Guilan",
          "Andres Aranda DJ",
          "La chica de ayer",
          "Javi del Val",
          "Alessandro",
          "Rustica",
          "María Huélamo",
          "Andres Aranda DJ",
          "Capitán Nemo",
          "Zao Night",
          "Sonoriza Eventos",
          "Lalala Band",
          "Arde la Calle",
          "Beatriz Pastor",
          "Analisse",
          "J&J",
          "Rock Olas",
          "Sol de America",
          "Jadey",
          "Arde la Calle",
          "Alejandro Rosa",
          "Tuti Fruti",
          "Pamela Magal",
          "Pamela Magal",
          "Analisse",
          "Analisse",
          "Valentín Porto",
          "Andrés Aranda",
          "Alejandro Rosa",
          "Rustica",
          "Candela & rumba",
          "Efectos personales",
          "Arde la Calle",
          "Rafa Sax",
          "Lulanca",
          "Efectos personales",
          "Retropop",
          "Rumbitels",
          "David Dieguez",
          "Pol",
          "Rustica",
          "¿?",
          "Mario Herrero",
          "Jorge Arenas",
          "Javier Ventura",
          "Elena Salpe",
          "Andrius DJ",
          "Sergio Elias",
          "Oscar rapalo",
          "Andres",
          "Live Sound",
          "Retropop",
          "Javi del Val",
          "Tai Gonzalez",
          "Sergio Elias",
          "Malik",
          "Sergio Elias",
          "Input",
          "Paula y rober",
          "Marta capitan",
          "Javi del Val",
          "Beca Laud Trío",
          "Arde la Calle",
          "Oscar Rapalo",
          "DJ Valen",
          "Amedias",
          "Arde la Calle",
          "Oscar rapalo",
          "Paula y Rober",
          "Sergio Elias",
          "Miris Way",
          "María Huélamo",
          "Javi Mejías",
          "MyM",
          "Lucia ropero",
          "Loveacoustic",
          "Raúl Baraona",
          "Duo Ana Medina Y Andrés Kostu",
          "Amedias",
          "Julio Flores",
          "AMEDIAS",
          "Rumbitels",
          "OScar Rapalo",
          "Vanila Star",
          "Oscar rapalo",
          "Sergio Elías",
          "Naufragos",
          "Amigos cristian",
          "Rustica",
          "eco&ele",
          "Maria Huelamo",
          "Efectos personales",
          "Juan Antonio",
          "Dr Java",
          "Anais",
          "Rober ",
          "Rober ",
          "Pedro de Mingo",
          "Rober y paula",
          "Betty Brown",
          "Juan Antonio",
          "Anaís Gomez",
          "Arde la Calle",
          "Input",
          "Joey",
          "Joey",
          "Guille santa olalla",
          "Guille santa olalla",
          "Juan Antonio",
          "Juan Antonio",
          "La chica de ayer",
          "Candela & rumba",
          "Guilan",
          "Braju Dj",
          "Rustica",
          "Rock Olas",
          "Don DJ",
          "Retrpop",
          "Saffi",
          "Tuti Fruti",
          "Rock Olas",
          "Joey",
          "Moonlaisey",
          "Arde la Calle",
          "Joey",
          "Guilan",
          "Alejandro Rosa",
          "Alexandra & BJ",
          "The Zlyppers",
          "Arde la Calle",
          "eco&ele",
          "DJ Kepi",
          "Oscar rapalo",
          "Rustica",
          "Guilan",
          "Guilan",
          "Rock Olas",
          "Rober Marcu",
          "Miris Way",
          "María Huélamo",
          "Rock Olas",
          "Joey",
          "Up fot it",
          "Guilan",
          "Leen Loud",
          "Sonoriza eventos",
          "Anais Gomez",
          "retroCD",
          "Rock Olas",
          "Guilan",
          "Escudero Sax",
          "Sonoriza eventos",
          "Arde la Calle",
          "Coro madrid",
          "Fontan",
          "La chica de ayer",
          "De la Huerta",
          "Guille santa olalla",
          "Guilan",
          "Alejandro Rosa",
          "Rober Marcu",
          "Alejandro Rosa",
          "Guilan",
          "Cada loco con su tema"
         ],
         "xaxis": "x",
         "yaxis": "y"
        }
       ],
       "layout": {
        "barmode": "relative",
        "legend": {
         "tracegroupgap": 0
        },
        "margin": {
         "t": 60
        },
        "template": {
         "data": {
          "bar": [
           {
            "error_x": {
             "color": "#2a3f5f"
            },
            "error_y": {
             "color": "#2a3f5f"
            },
            "marker": {
             "line": {
              "color": "#E5ECF6",
              "width": 0.5
             },
             "pattern": {
              "fillmode": "overlay",
              "size": 10,
              "solidity": 0.2
             }
            },
            "type": "bar"
           }
          ],
          "barpolar": [
           {
            "marker": {
             "line": {
              "color": "#E5ECF6",
              "width": 0.5
             },
             "pattern": {
              "fillmode": "overlay",
              "size": 10,
              "solidity": 0.2
             }
            },
            "type": "barpolar"
           }
          ],
          "carpet": [
           {
            "aaxis": {
             "endlinecolor": "#2a3f5f",
             "gridcolor": "white",
             "linecolor": "white",
             "minorgridcolor": "white",
             "startlinecolor": "#2a3f5f"
            },
            "baxis": {
             "endlinecolor": "#2a3f5f",
             "gridcolor": "white",
             "linecolor": "white",
             "minorgridcolor": "white",
             "startlinecolor": "#2a3f5f"
            },
            "type": "carpet"
           }
          ],
          "choropleth": [
           {
            "colorbar": {
             "outlinewidth": 0,
             "ticks": ""
            },
            "type": "choropleth"
           }
          ],
          "contour": [
           {
            "colorbar": {
             "outlinewidth": 0,
             "ticks": ""
            },
            "colorscale": [
             [
              0,
              "#0d0887"
             ],
             [
              0.1111111111111111,
              "#46039f"
             ],
             [
              0.2222222222222222,
              "#7201a8"
             ],
             [
              0.3333333333333333,
              "#9c179e"
             ],
             [
              0.4444444444444444,
              "#bd3786"
             ],
             [
              0.5555555555555556,
              "#d8576b"
             ],
             [
              0.6666666666666666,
              "#ed7953"
             ],
             [
              0.7777777777777778,
              "#fb9f3a"
             ],
             [
              0.8888888888888888,
              "#fdca26"
             ],
             [
              1,
              "#f0f921"
             ]
            ],
            "type": "contour"
           }
          ],
          "contourcarpet": [
           {
            "colorbar": {
             "outlinewidth": 0,
             "ticks": ""
            },
            "type": "contourcarpet"
           }
          ],
          "heatmap": [
           {
            "colorbar": {
             "outlinewidth": 0,
             "ticks": ""
            },
            "colorscale": [
             [
              0,
              "#0d0887"
             ],
             [
              0.1111111111111111,
              "#46039f"
             ],
             [
              0.2222222222222222,
              "#7201a8"
             ],
             [
              0.3333333333333333,
              "#9c179e"
             ],
             [
              0.4444444444444444,
              "#bd3786"
             ],
             [
              0.5555555555555556,
              "#d8576b"
             ],
             [
              0.6666666666666666,
              "#ed7953"
             ],
             [
              0.7777777777777778,
              "#fb9f3a"
             ],
             [
              0.8888888888888888,
              "#fdca26"
             ],
             [
              1,
              "#f0f921"
             ]
            ],
            "type": "heatmap"
           }
          ],
          "heatmapgl": [
           {
            "colorbar": {
             "outlinewidth": 0,
             "ticks": ""
            },
            "colorscale": [
             [
              0,
              "#0d0887"
             ],
             [
              0.1111111111111111,
              "#46039f"
             ],
             [
              0.2222222222222222,
              "#7201a8"
             ],
             [
              0.3333333333333333,
              "#9c179e"
             ],
             [
              0.4444444444444444,
              "#bd3786"
             ],
             [
              0.5555555555555556,
              "#d8576b"
             ],
             [
              0.6666666666666666,
              "#ed7953"
             ],
             [
              0.7777777777777778,
              "#fb9f3a"
             ],
             [
              0.8888888888888888,
              "#fdca26"
             ],
             [
              1,
              "#f0f921"
             ]
            ],
            "type": "heatmapgl"
           }
          ],
          "histogram": [
           {
            "marker": {
             "pattern": {
              "fillmode": "overlay",
              "size": 10,
              "solidity": 0.2
             }
            },
            "type": "histogram"
           }
          ],
          "histogram2d": [
           {
            "colorbar": {
             "outlinewidth": 0,
             "ticks": ""
            },
            "colorscale": [
             [
              0,
              "#0d0887"
             ],
             [
              0.1111111111111111,
              "#46039f"
             ],
             [
              0.2222222222222222,
              "#7201a8"
             ],
             [
              0.3333333333333333,
              "#9c179e"
             ],
             [
              0.4444444444444444,
              "#bd3786"
             ],
             [
              0.5555555555555556,
              "#d8576b"
             ],
             [
              0.6666666666666666,
              "#ed7953"
             ],
             [
              0.7777777777777778,
              "#fb9f3a"
             ],
             [
              0.8888888888888888,
              "#fdca26"
             ],
             [
              1,
              "#f0f921"
             ]
            ],
            "type": "histogram2d"
           }
          ],
          "histogram2dcontour": [
           {
            "colorbar": {
             "outlinewidth": 0,
             "ticks": ""
            },
            "colorscale": [
             [
              0,
              "#0d0887"
             ],
             [
              0.1111111111111111,
              "#46039f"
             ],
             [
              0.2222222222222222,
              "#7201a8"
             ],
             [
              0.3333333333333333,
              "#9c179e"
             ],
             [
              0.4444444444444444,
              "#bd3786"
             ],
             [
              0.5555555555555556,
              "#d8576b"
             ],
             [
              0.6666666666666666,
              "#ed7953"
             ],
             [
              0.7777777777777778,
              "#fb9f3a"
             ],
             [
              0.8888888888888888,
              "#fdca26"
             ],
             [
              1,
              "#f0f921"
             ]
            ],
            "type": "histogram2dcontour"
           }
          ],
          "mesh3d": [
           {
            "colorbar": {
             "outlinewidth": 0,
             "ticks": ""
            },
            "type": "mesh3d"
           }
          ],
          "parcoords": [
           {
            "line": {
             "colorbar": {
              "outlinewidth": 0,
              "ticks": ""
             }
            },
            "type": "parcoords"
           }
          ],
          "pie": [
           {
            "automargin": true,
            "type": "pie"
           }
          ],
          "scatter": [
           {
            "fillpattern": {
             "fillmode": "overlay",
             "size": 10,
             "solidity": 0.2
            },
            "type": "scatter"
           }
          ],
          "scatter3d": [
           {
            "line": {
             "colorbar": {
              "outlinewidth": 0,
              "ticks": ""
             }
            },
            "marker": {
             "colorbar": {
              "outlinewidth": 0,
              "ticks": ""
             }
            },
            "type": "scatter3d"
           }
          ],
          "scattercarpet": [
           {
            "marker": {
             "colorbar": {
              "outlinewidth": 0,
              "ticks": ""
             }
            },
            "type": "scattercarpet"
           }
          ],
          "scattergeo": [
           {
            "marker": {
             "colorbar": {
              "outlinewidth": 0,
              "ticks": ""
             }
            },
            "type": "scattergeo"
           }
          ],
          "scattergl": [
           {
            "marker": {
             "colorbar": {
              "outlinewidth": 0,
              "ticks": ""
             }
            },
            "type": "scattergl"
           }
          ],
          "scattermapbox": [
           {
            "marker": {
             "colorbar": {
              "outlinewidth": 0,
              "ticks": ""
             }
            },
            "type": "scattermapbox"
           }
          ],
          "scatterpolar": [
           {
            "marker": {
             "colorbar": {
              "outlinewidth": 0,
              "ticks": ""
             }
            },
            "type": "scatterpolar"
           }
          ],
          "scatterpolargl": [
           {
            "marker": {
             "colorbar": {
              "outlinewidth": 0,
              "ticks": ""
             }
            },
            "type": "scatterpolargl"
           }
          ],
          "scatterternary": [
           {
            "marker": {
             "colorbar": {
              "outlinewidth": 0,
              "ticks": ""
             }
            },
            "type": "scatterternary"
           }
          ],
          "surface": [
           {
            "colorbar": {
             "outlinewidth": 0,
             "ticks": ""
            },
            "colorscale": [
             [
              0,
              "#0d0887"
             ],
             [
              0.1111111111111111,
              "#46039f"
             ],
             [
              0.2222222222222222,
              "#7201a8"
             ],
             [
              0.3333333333333333,
              "#9c179e"
             ],
             [
              0.4444444444444444,
              "#bd3786"
             ],
             [
              0.5555555555555556,
              "#d8576b"
             ],
             [
              0.6666666666666666,
              "#ed7953"
             ],
             [
              0.7777777777777778,
              "#fb9f3a"
             ],
             [
              0.8888888888888888,
              "#fdca26"
             ],
             [
              1,
              "#f0f921"
             ]
            ],
            "type": "surface"
           }
          ],
          "table": [
           {
            "cells": {
             "fill": {
              "color": "#EBF0F8"
             },
             "line": {
              "color": "white"
             }
            },
            "header": {
             "fill": {
              "color": "#C8D4E3"
             },
             "line": {
              "color": "white"
             }
            },
            "type": "table"
           }
          ]
         },
         "layout": {
          "annotationdefaults": {
           "arrowcolor": "#2a3f5f",
           "arrowhead": 0,
           "arrowwidth": 1
          },
          "autotypenumbers": "strict",
          "coloraxis": {
           "colorbar": {
            "outlinewidth": 0,
            "ticks": ""
           }
          },
          "colorscale": {
           "diverging": [
            [
             0,
             "#8e0152"
            ],
            [
             0.1,
             "#c51b7d"
            ],
            [
             0.2,
             "#de77ae"
            ],
            [
             0.3,
             "#f1b6da"
            ],
            [
             0.4,
             "#fde0ef"
            ],
            [
             0.5,
             "#f7f7f7"
            ],
            [
             0.6,
             "#e6f5d0"
            ],
            [
             0.7,
             "#b8e186"
            ],
            [
             0.8,
             "#7fbc41"
            ],
            [
             0.9,
             "#4d9221"
            ],
            [
             1,
             "#276419"
            ]
           ],
           "sequential": [
            [
             0,
             "#0d0887"
            ],
            [
             0.1111111111111111,
             "#46039f"
            ],
            [
             0.2222222222222222,
             "#7201a8"
            ],
            [
             0.3333333333333333,
             "#9c179e"
            ],
            [
             0.4444444444444444,
             "#bd3786"
            ],
            [
             0.5555555555555556,
             "#d8576b"
            ],
            [
             0.6666666666666666,
             "#ed7953"
            ],
            [
             0.7777777777777778,
             "#fb9f3a"
            ],
            [
             0.8888888888888888,
             "#fdca26"
            ],
            [
             1,
             "#f0f921"
            ]
           ],
           "sequentialminus": [
            [
             0,
             "#0d0887"
            ],
            [
             0.1111111111111111,
             "#46039f"
            ],
            [
             0.2222222222222222,
             "#7201a8"
            ],
            [
             0.3333333333333333,
             "#9c179e"
            ],
            [
             0.4444444444444444,
             "#bd3786"
            ],
            [
             0.5555555555555556,
             "#d8576b"
            ],
            [
             0.6666666666666666,
             "#ed7953"
            ],
            [
             0.7777777777777778,
             "#fb9f3a"
            ],
            [
             0.8888888888888888,
             "#fdca26"
            ],
            [
             1,
             "#f0f921"
            ]
           ]
          },
          "colorway": [
           "#636efa",
           "#EF553B",
           "#00cc96",
           "#ab63fa",
           "#FFA15A",
           "#19d3f3",
           "#FF6692",
           "#B6E880",
           "#FF97FF",
           "#FECB52"
          ],
          "font": {
           "color": "#2a3f5f"
          },
          "geo": {
           "bgcolor": "white",
           "lakecolor": "white",
           "landcolor": "#E5ECF6",
           "showlakes": true,
           "showland": true,
           "subunitcolor": "white"
          },
          "hoverlabel": {
           "align": "left"
          },
          "hovermode": "closest",
          "mapbox": {
           "style": "light"
          },
          "paper_bgcolor": "white",
          "plot_bgcolor": "#E5ECF6",
          "polar": {
           "angularaxis": {
            "gridcolor": "white",
            "linecolor": "white",
            "ticks": ""
           },
           "bgcolor": "#E5ECF6",
           "radialaxis": {
            "gridcolor": "white",
            "linecolor": "white",
            "ticks": ""
           }
          },
          "scene": {
           "xaxis": {
            "backgroundcolor": "#E5ECF6",
            "gridcolor": "white",
            "gridwidth": 2,
            "linecolor": "white",
            "showbackground": true,
            "ticks": "",
            "zerolinecolor": "white"
           },
           "yaxis": {
            "backgroundcolor": "#E5ECF6",
            "gridcolor": "white",
            "gridwidth": 2,
            "linecolor": "white",
            "showbackground": true,
            "ticks": "",
            "zerolinecolor": "white"
           },
           "zaxis": {
            "backgroundcolor": "#E5ECF6",
            "gridcolor": "white",
            "gridwidth": 2,
            "linecolor": "white",
            "showbackground": true,
            "ticks": "",
            "zerolinecolor": "white"
           }
          },
          "shapedefaults": {
           "line": {
            "color": "#2a3f5f"
           }
          },
          "ternary": {
           "aaxis": {
            "gridcolor": "white",
            "linecolor": "white",
            "ticks": ""
           },
           "baxis": {
            "gridcolor": "white",
            "linecolor": "white",
            "ticks": ""
           },
           "bgcolor": "#E5ECF6",
           "caxis": {
            "gridcolor": "white",
            "linecolor": "white",
            "ticks": ""
           }
          },
          "title": {
           "x": 0.05
          },
          "xaxis": {
           "automargin": true,
           "gridcolor": "white",
           "linecolor": "white",
           "ticks": "",
           "title": {
            "standoff": 15
           },
           "zerolinecolor": "white",
           "zerolinewidth": 2
          },
          "yaxis": {
           "automargin": true,
           "gridcolor": "white",
           "linecolor": "white",
           "ticks": "",
           "title": {
            "standoff": 15
           },
           "zerolinecolor": "white",
           "zerolinewidth": 2
          }
         }
        },
        "xaxis": {
         "anchor": "y",
         "domain": [
          0,
          1
         ],
         "title": {
          "text": "Músico"
         }
        },
        "yaxis": {
         "anchor": "x",
         "domain": [
          0,
          1
         ],
         "title": {
          "text": "count"
         }
        }
       }
      }
     },
     "metadata": {},
     "output_type": "display_data"
    }
   ],
   "source": [
    "fig = px.histogram(contrat,  \n",
    "                   x=\"Músico\")\n",
    "\n",
    "# fig.update_yaxes(range=[10, None])\n",
    "\n",
    "\n",
    "fig.show()"
   ]
  },
  {
   "cell_type": "code",
   "execution_count": 177,
   "metadata": {},
   "outputs": [],
   "source": [
    "musicos = pd.read_csv(r'E:\\OneDrive\\Data Science Bootcamp 2023\\jaume_eda\\01 - musicos\\musicos.csv',encoding='latin-1')\n",
    "musicos = musicos.loc[:,['id','Author ID','musico_nombre_artistico','musico_provincia','musico_formatos_disponibles','musico_genero_musical','Nº CONTRATACIONES']]"
   ]
  },
  {
   "cell_type": "code",
   "execution_count": 178,
   "metadata": {},
   "outputs": [
    {
     "data": {
      "text/html": [
       "<div>\n",
       "<style scoped>\n",
       "    .dataframe tbody tr th:only-of-type {\n",
       "        vertical-align: middle;\n",
       "    }\n",
       "\n",
       "    .dataframe tbody tr th {\n",
       "        vertical-align: top;\n",
       "    }\n",
       "\n",
       "    .dataframe thead th {\n",
       "        text-align: right;\n",
       "    }\n",
       "</style>\n",
       "<table border=\"1\" class=\"dataframe\">\n",
       "  <thead>\n",
       "    <tr style=\"text-align: right;\">\n",
       "      <th></th>\n",
       "      <th>id</th>\n",
       "      <th>Author ID</th>\n",
       "      <th>musico_nombre_artistico</th>\n",
       "      <th>musico_provincia</th>\n",
       "      <th>musico_formatos_disponibles</th>\n",
       "      <th>musico_genero_musical</th>\n",
       "      <th>Nº CONTRATACIONES</th>\n",
       "    </tr>\n",
       "  </thead>\n",
       "  <tbody>\n",
       "    <tr>\n",
       "      <th>0</th>\n",
       "      <td>4679</td>\n",
       "      <td>2</td>\n",
       "      <td>Alex</td>\n",
       "      <td>Cádiz</td>\n",
       "      <td>a:2:{i:0;s:7:\"Solista\";i:1;s:27:\"Banda/Conjunt...</td>\n",
       "      <td>a:1:{i:0;s:9:\"Acústico\";}</td>\n",
       "      <td>0.0</td>\n",
       "    </tr>\n",
       "  </tbody>\n",
       "</table>\n",
       "</div>"
      ],
      "text/plain": [
       "     id  Author ID musico_nombre_artistico musico_provincia  \\\n",
       "0  4679          2                    Alex            Cádiz   \n",
       "\n",
       "                         musico_formatos_disponibles  \\\n",
       "0  a:2:{i:0;s:7:\"Solista\";i:1;s:27:\"Banda/Conjunt...   \n",
       "\n",
       "       musico_genero_musical  Nº CONTRATACIONES  \n",
       "0  a:1:{i:0;s:9:\"Acústico\";}                0.0  "
      ]
     },
     "execution_count": 178,
     "metadata": {},
     "output_type": "execute_result"
    }
   ],
   "source": [
    "musicos.head(1)"
   ]
  },
  {
   "cell_type": "code",
   "execution_count": 179,
   "metadata": {},
   "outputs": [],
   "source": [
    "musicos = musicos.rename(columns={'musico_nombre_artistico': 'Músico'})"
   ]
  },
  {
   "cell_type": "code",
   "execution_count": 196,
   "metadata": {},
   "outputs": [
    {
     "data": {
      "text/html": [
       "<div>\n",
       "<style scoped>\n",
       "    .dataframe tbody tr th:only-of-type {\n",
       "        vertical-align: middle;\n",
       "    }\n",
       "\n",
       "    .dataframe tbody tr th {\n",
       "        vertical-align: top;\n",
       "    }\n",
       "\n",
       "    .dataframe thead th {\n",
       "        text-align: right;\n",
       "    }\n",
       "</style>\n",
       "<table border=\"1\" class=\"dataframe\">\n",
       "  <thead>\n",
       "    <tr style=\"text-align: right;\">\n",
       "      <th></th>\n",
       "      <th>id</th>\n",
       "      <th>Author ID</th>\n",
       "      <th>Músico</th>\n",
       "      <th>musico_provincia</th>\n",
       "      <th>musico_formatos_disponibles</th>\n",
       "      <th>musico_genero_musical</th>\n",
       "      <th>Nº CONTRATACIONES</th>\n",
       "      <th>GMV (SIN IVA de MÚSICOS)</th>\n",
       "      <th>Comisión sin IVA (Ingresos sin IVA o NETOS)</th>\n",
       "      <th>Fecha bolo</th>\n",
       "    </tr>\n",
       "  </thead>\n",
       "  <tbody>\n",
       "    <tr>\n",
       "      <th>0</th>\n",
       "      <td>5020</td>\n",
       "      <td>50</td>\n",
       "      <td>Pablo Pedraza</td>\n",
       "      <td>Madrid</td>\n",
       "      <td>a:1:{i:0;s:4:\"Dúo\";}</td>\n",
       "      <td>a:3:{i:0;s:3:\"Pop\";i:1;s:9:\"Reggeaton\";i:2;s:4...</td>\n",
       "      <td>3.0</td>\n",
       "      <td>305.79</td>\n",
       "      <td>45.87</td>\n",
       "      <td>30/04/2022</td>\n",
       "    </tr>\n",
       "  </tbody>\n",
       "</table>\n",
       "</div>"
      ],
      "text/plain": [
       "     id  Author ID         Músico musico_provincia  \\\n",
       "0  5020         50  Pablo Pedraza           Madrid   \n",
       "\n",
       "  musico_formatos_disponibles  \\\n",
       "0        a:1:{i:0;s:4:\"Dúo\";}   \n",
       "\n",
       "                               musico_genero_musical  Nº CONTRATACIONES  \\\n",
       "0  a:3:{i:0;s:3:\"Pop\";i:1;s:9:\"Reggeaton\";i:2;s:4...                3.0   \n",
       "\n",
       "   GMV (SIN IVA de MÚSICOS)  Comisión sin IVA (Ingresos sin IVA o NETOS)  \\\n",
       "0                    305.79                                        45.87   \n",
       "\n",
       "   Fecha bolo  \n",
       "0  30/04/2022  "
      ]
     },
     "execution_count": 196,
     "metadata": {},
     "output_type": "execute_result"
    }
   ],
   "source": [
    "pd.merge(musicos, contrat, on = 'Músico', how = 'inner').head(1)"
   ]
  },
  {
   "cell_type": "code",
   "execution_count": 181,
   "metadata": {},
   "outputs": [
    {
     "data": {
      "text/html": [
       "<div>\n",
       "<style scoped>\n",
       "    .dataframe tbody tr th:only-of-type {\n",
       "        vertical-align: middle;\n",
       "    }\n",
       "\n",
       "    .dataframe tbody tr th {\n",
       "        vertical-align: top;\n",
       "    }\n",
       "\n",
       "    .dataframe thead th {\n",
       "        text-align: right;\n",
       "    }\n",
       "</style>\n",
       "<table border=\"1\" class=\"dataframe\">\n",
       "  <thead>\n",
       "    <tr style=\"text-align: right;\">\n",
       "      <th></th>\n",
       "      <th>id</th>\n",
       "      <th>Author ID</th>\n",
       "      <th>Músico</th>\n",
       "      <th>musico_provincia</th>\n",
       "      <th>musico_formatos_disponibles</th>\n",
       "      <th>musico_genero_musical</th>\n",
       "      <th>Nº CONTRATACIONES</th>\n",
       "    </tr>\n",
       "  </thead>\n",
       "  <tbody>\n",
       "    <tr>\n",
       "      <th>0</th>\n",
       "      <td>4679</td>\n",
       "      <td>2</td>\n",
       "      <td>Alex</td>\n",
       "      <td>Cádiz</td>\n",
       "      <td>a:2:{i:0;s:7:\"Solista\";i:1;s:27:\"Banda/Conjunt...</td>\n",
       "      <td>a:1:{i:0;s:9:\"Acústico\";}</td>\n",
       "      <td>0.0</td>\n",
       "    </tr>\n",
       "    <tr>\n",
       "      <th>1</th>\n",
       "      <td>4706</td>\n",
       "      <td>36</td>\n",
       "      <td>DJ_movil</td>\n",
       "      <td>Madrid</td>\n",
       "      <td>NaN</td>\n",
       "      <td>a:1:{i:0;s:11:\"Alternativa\";}</td>\n",
       "      <td>0.0</td>\n",
       "    </tr>\n",
       "    <tr>\n",
       "      <th>2</th>\n",
       "      <td>4914</td>\n",
       "      <td>38</td>\n",
       "      <td>Paloma García del Busto</td>\n",
       "      <td>Madrid</td>\n",
       "      <td>a:5:{i:0;s:7:\"Solista\";i:1;s:4:\"Dúo\";i:2;s:5:\"...</td>\n",
       "      <td>a:4:{i:0;s:8:\"Clásica\";i:1;s:12:\"Instrumental\"...</td>\n",
       "      <td>0.0</td>\n",
       "    </tr>\n",
       "    <tr>\n",
       "      <th>3</th>\n",
       "      <td>5005</td>\n",
       "      <td>49</td>\n",
       "      <td>Platos &amp; Piñones</td>\n",
       "      <td>Madrid</td>\n",
       "      <td>a:1:{i:0;s:18:\"Banda con batería\";}</td>\n",
       "      <td>a:4:{i:0;s:9:\"Acústico\";i:1;s:3:\"Pop\";i:2;s:4:...</td>\n",
       "      <td>0.0</td>\n",
       "    </tr>\n",
       "    <tr>\n",
       "      <th>4</th>\n",
       "      <td>5020</td>\n",
       "      <td>50</td>\n",
       "      <td>Pablo Pedraza</td>\n",
       "      <td>Madrid</td>\n",
       "      <td>a:1:{i:0;s:4:\"Dúo\";}</td>\n",
       "      <td>a:3:{i:0;s:3:\"Pop\";i:1;s:9:\"Reggeaton\";i:2;s:4...</td>\n",
       "      <td>3.0</td>\n",
       "    </tr>\n",
       "  </tbody>\n",
       "</table>\n",
       "</div>"
      ],
      "text/plain": [
       "     id  Author ID                   Músico musico_provincia  \\\n",
       "0  4679          2                     Alex            Cádiz   \n",
       "1  4706         36                 DJ_movil           Madrid   \n",
       "2  4914         38  Paloma García del Busto           Madrid   \n",
       "3  5005         49         Platos & Piñones           Madrid   \n",
       "4  5020         50            Pablo Pedraza           Madrid   \n",
       "\n",
       "                         musico_formatos_disponibles  \\\n",
       "0  a:2:{i:0;s:7:\"Solista\";i:1;s:27:\"Banda/Conjunt...   \n",
       "1                                                NaN   \n",
       "2  a:5:{i:0;s:7:\"Solista\";i:1;s:4:\"Dúo\";i:2;s:5:\"...   \n",
       "3                a:1:{i:0;s:18:\"Banda con batería\";}   \n",
       "4                               a:1:{i:0;s:4:\"Dúo\";}   \n",
       "\n",
       "                               musico_genero_musical  Nº CONTRATACIONES  \n",
       "0                          a:1:{i:0;s:9:\"Acústico\";}                0.0  \n",
       "1                      a:1:{i:0;s:11:\"Alternativa\";}                0.0  \n",
       "2  a:4:{i:0;s:8:\"Clásica\";i:1;s:12:\"Instrumental\"...                0.0  \n",
       "3  a:4:{i:0;s:9:\"Acústico\";i:1;s:3:\"Pop\";i:2;s:4:...                0.0  \n",
       "4  a:3:{i:0;s:3:\"Pop\";i:1;s:9:\"Reggeaton\";i:2;s:4...                3.0  "
      ]
     },
     "execution_count": 181,
     "metadata": {},
     "output_type": "execute_result"
    }
   ],
   "source": [
    "musicos.head()"
   ]
  },
  {
   "cell_type": "code",
   "execution_count": 182,
   "metadata": {},
   "outputs": [
    {
     "data": {
      "text/html": [
       "<div>\n",
       "<style scoped>\n",
       "    .dataframe tbody tr th:only-of-type {\n",
       "        vertical-align: middle;\n",
       "    }\n",
       "\n",
       "    .dataframe tbody tr th {\n",
       "        vertical-align: top;\n",
       "    }\n",
       "\n",
       "    .dataframe thead th {\n",
       "        text-align: right;\n",
       "    }\n",
       "</style>\n",
       "<table border=\"1\" class=\"dataframe\">\n",
       "  <thead>\n",
       "    <tr style=\"text-align: right;\">\n",
       "      <th></th>\n",
       "      <th>Músico</th>\n",
       "      <th>GMV (SIN IVA de MÚSICOS)</th>\n",
       "      <th>Comisión sin IVA (Ingresos sin IVA o NETOS)</th>\n",
       "      <th>Fecha bolo</th>\n",
       "    </tr>\n",
       "  </thead>\n",
       "  <tbody>\n",
       "  </tbody>\n",
       "</table>\n",
       "</div>"
      ],
      "text/plain": [
       "Empty DataFrame\n",
       "Columns: [Músico, GMV (SIN IVA de MÚSICOS), Comisión sin IVA (Ingresos sin IVA o NETOS), Fecha bolo]\n",
       "Index: []"
      ]
     },
     "execution_count": 182,
     "metadata": {},
     "output_type": "execute_result"
    }
   ],
   "source": [
    "contrat[contrat['Músico']=='aitor_musico']"
   ]
  },
  {
   "cell_type": "code",
   "execution_count": 190,
   "metadata": {},
   "outputs": [],
   "source": [
    "sol_musicos = sol_musicos.rename({'calculadora_musico_nombre_artistico': 'nombre_artista'})\n",
    "musicos = musicos.rename(columns={'musico_nombre_artistico': 'nombre_artista'})"
   ]
  },
  {
   "cell_type": "code",
   "execution_count": 195,
   "metadata": {},
   "outputs": [
    {
     "data": {
      "text/html": [
       "<div>\n",
       "<style scoped>\n",
       "    .dataframe tbody tr th:only-of-type {\n",
       "        vertical-align: middle;\n",
       "    }\n",
       "\n",
       "    .dataframe tbody tr th {\n",
       "        vertical-align: top;\n",
       "    }\n",
       "\n",
       "    .dataframe thead th {\n",
       "        text-align: right;\n",
       "    }\n",
       "</style>\n",
       "<table border=\"1\" class=\"dataframe\">\n",
       "  <thead>\n",
       "    <tr style=\"text-align: right;\">\n",
       "      <th></th>\n",
       "      <th>id</th>\n",
       "      <th>Date</th>\n",
       "      <th>Title</th>\n",
       "      <th>calculadora_musico_nombre_artistico</th>\n",
       "      <th>calculadora_musico_provincia</th>\n",
       "      <th>calculadora_musico_tipo</th>\n",
       "      <th>calculadora_provincia_evento</th>\n",
       "      <th>calculadora_numero_invitados</th>\n",
       "      <th>calculadora_espacio_evento</th>\n",
       "      <th>calculadora_horas_actuacion</th>\n",
       "      <th>calculadora_formato_musico</th>\n",
       "      <th>estimacionPrecioTotal</th>\n",
       "      <th>fech_evento</th>\n",
       "      <th>calculadora_id_musico</th>\n",
       "      <th>solicitud_calculada_paso</th>\n",
       "      <th>estado_solicitud</th>\n",
       "    </tr>\n",
       "  </thead>\n",
       "  <tbody>\n",
       "  </tbody>\n",
       "</table>\n",
       "</div>"
      ],
      "text/plain": [
       "Empty DataFrame\n",
       "Columns: [id, Date, Title, calculadora_musico_nombre_artistico, calculadora_musico_provincia, calculadora_musico_tipo, calculadora_provincia_evento, calculadora_numero_invitados, calculadora_espacio_evento, calculadora_horas_actuacion, calculadora_formato_musico, estimacionPrecioTotal, fech_evento, calculadora_id_musico, solicitud_calculada_paso, estado_solicitud]\n",
       "Index: []"
      ]
     },
     "execution_count": 195,
     "metadata": {},
     "output_type": "execute_result"
    }
   ],
   "source": [
    "sol_musicos[sol_musicos['calculadora_musico_nombre_artistico'] == 'Luis Retana']"
   ]
  },
  {
   "cell_type": "code",
   "execution_count": 188,
   "metadata": {},
   "outputs": [
    {
     "data": {
      "text/html": [
       "<div>\n",
       "<style scoped>\n",
       "    .dataframe tbody tr th:only-of-type {\n",
       "        vertical-align: middle;\n",
       "    }\n",
       "\n",
       "    .dataframe tbody tr th {\n",
       "        vertical-align: top;\n",
       "    }\n",
       "\n",
       "    .dataframe thead th {\n",
       "        text-align: right;\n",
       "    }\n",
       "</style>\n",
       "<table border=\"1\" class=\"dataframe\">\n",
       "  <thead>\n",
       "    <tr style=\"text-align: right;\">\n",
       "      <th></th>\n",
       "      <th>id</th>\n",
       "      <th>Author ID</th>\n",
       "      <th>Músico</th>\n",
       "      <th>musico_provincia</th>\n",
       "      <th>musico_formatos_disponibles</th>\n",
       "      <th>musico_genero_musical</th>\n",
       "      <th>Nº CONTRATACIONES</th>\n",
       "      <th>Date</th>\n",
       "      <th>Title</th>\n",
       "      <th>calculadora_musico_nombre_artistico</th>\n",
       "      <th>...</th>\n",
       "      <th>calculadora_provincia_evento</th>\n",
       "      <th>calculadora_numero_invitados</th>\n",
       "      <th>calculadora_espacio_evento</th>\n",
       "      <th>calculadora_horas_actuacion</th>\n",
       "      <th>calculadora_formato_musico</th>\n",
       "      <th>estimacionPrecioTotal</th>\n",
       "      <th>fech_evento</th>\n",
       "      <th>calculadora_id_musico</th>\n",
       "      <th>solicitud_calculada_paso</th>\n",
       "      <th>estado_solicitud</th>\n",
       "    </tr>\n",
       "  </thead>\n",
       "  <tbody>\n",
       "    <tr>\n",
       "      <th>0</th>\n",
       "      <td>4679</td>\n",
       "      <td>2.0</td>\n",
       "      <td>Alex</td>\n",
       "      <td>Cádiz</td>\n",
       "      <td>a:2:{i:0;s:7:\"Solista\";i:1;s:27:\"Banda/Conjunt...</td>\n",
       "      <td>a:1:{i:0;s:9:\"Acústico\";}</td>\n",
       "      <td>0.0</td>\n",
       "      <td>NaN</td>\n",
       "      <td>NaN</td>\n",
       "      <td>NaN</td>\n",
       "      <td>...</td>\n",
       "      <td>NaN</td>\n",
       "      <td>NaN</td>\n",
       "      <td>NaN</td>\n",
       "      <td>NaN</td>\n",
       "      <td>NaN</td>\n",
       "      <td>NaN</td>\n",
       "      <td>NaN</td>\n",
       "      <td>NaN</td>\n",
       "      <td>NaN</td>\n",
       "      <td>NaN</td>\n",
       "    </tr>\n",
       "    <tr>\n",
       "      <th>1</th>\n",
       "      <td>4706</td>\n",
       "      <td>36.0</td>\n",
       "      <td>DJ_movil</td>\n",
       "      <td>Madrid</td>\n",
       "      <td>NaN</td>\n",
       "      <td>a:1:{i:0;s:11:\"Alternativa\";}</td>\n",
       "      <td>0.0</td>\n",
       "      <td>NaN</td>\n",
       "      <td>NaN</td>\n",
       "      <td>NaN</td>\n",
       "      <td>...</td>\n",
       "      <td>NaN</td>\n",
       "      <td>NaN</td>\n",
       "      <td>NaN</td>\n",
       "      <td>NaN</td>\n",
       "      <td>NaN</td>\n",
       "      <td>NaN</td>\n",
       "      <td>NaN</td>\n",
       "      <td>NaN</td>\n",
       "      <td>NaN</td>\n",
       "      <td>NaN</td>\n",
       "    </tr>\n",
       "    <tr>\n",
       "      <th>2</th>\n",
       "      <td>4914</td>\n",
       "      <td>38.0</td>\n",
       "      <td>Paloma García del Busto</td>\n",
       "      <td>Madrid</td>\n",
       "      <td>a:5:{i:0;s:7:\"Solista\";i:1;s:4:\"Dúo\";i:2;s:5:\"...</td>\n",
       "      <td>a:4:{i:0;s:8:\"Clásica\";i:1;s:12:\"Instrumental\"...</td>\n",
       "      <td>0.0</td>\n",
       "      <td>NaN</td>\n",
       "      <td>NaN</td>\n",
       "      <td>NaN</td>\n",
       "      <td>...</td>\n",
       "      <td>NaN</td>\n",
       "      <td>NaN</td>\n",
       "      <td>NaN</td>\n",
       "      <td>NaN</td>\n",
       "      <td>NaN</td>\n",
       "      <td>NaN</td>\n",
       "      <td>NaN</td>\n",
       "      <td>NaN</td>\n",
       "      <td>NaN</td>\n",
       "      <td>NaN</td>\n",
       "    </tr>\n",
       "    <tr>\n",
       "      <th>3</th>\n",
       "      <td>5005</td>\n",
       "      <td>49.0</td>\n",
       "      <td>Platos &amp; Piñones</td>\n",
       "      <td>Madrid</td>\n",
       "      <td>a:1:{i:0;s:18:\"Banda con batería\";}</td>\n",
       "      <td>a:4:{i:0;s:9:\"Acústico\";i:1;s:3:\"Pop\";i:2;s:4:...</td>\n",
       "      <td>0.0</td>\n",
       "      <td>NaN</td>\n",
       "      <td>NaN</td>\n",
       "      <td>NaN</td>\n",
       "      <td>...</td>\n",
       "      <td>NaN</td>\n",
       "      <td>NaN</td>\n",
       "      <td>NaN</td>\n",
       "      <td>NaN</td>\n",
       "      <td>NaN</td>\n",
       "      <td>NaN</td>\n",
       "      <td>NaN</td>\n",
       "      <td>NaN</td>\n",
       "      <td>NaN</td>\n",
       "      <td>NaN</td>\n",
       "    </tr>\n",
       "    <tr>\n",
       "      <th>4</th>\n",
       "      <td>5020</td>\n",
       "      <td>50.0</td>\n",
       "      <td>Pablo Pedraza</td>\n",
       "      <td>Madrid</td>\n",
       "      <td>a:1:{i:0;s:4:\"Dúo\";}</td>\n",
       "      <td>a:3:{i:0;s:3:\"Pop\";i:1;s:9:\"Reggeaton\";i:2;s:4...</td>\n",
       "      <td>3.0</td>\n",
       "      <td>NaN</td>\n",
       "      <td>NaN</td>\n",
       "      <td>NaN</td>\n",
       "      <td>...</td>\n",
       "      <td>NaN</td>\n",
       "      <td>NaN</td>\n",
       "      <td>NaN</td>\n",
       "      <td>NaN</td>\n",
       "      <td>NaN</td>\n",
       "      <td>NaN</td>\n",
       "      <td>NaN</td>\n",
       "      <td>NaN</td>\n",
       "      <td>NaN</td>\n",
       "      <td>NaN</td>\n",
       "    </tr>\n",
       "    <tr>\n",
       "      <th>...</th>\n",
       "      <td>...</td>\n",
       "      <td>...</td>\n",
       "      <td>...</td>\n",
       "      <td>...</td>\n",
       "      <td>...</td>\n",
       "      <td>...</td>\n",
       "      <td>...</td>\n",
       "      <td>...</td>\n",
       "      <td>...</td>\n",
       "      <td>...</td>\n",
       "      <td>...</td>\n",
       "      <td>...</td>\n",
       "      <td>...</td>\n",
       "      <td>...</td>\n",
       "      <td>...</td>\n",
       "      <td>...</td>\n",
       "      <td>...</td>\n",
       "      <td>...</td>\n",
       "      <td>...</td>\n",
       "      <td>...</td>\n",
       "      <td>...</td>\n",
       "    </tr>\n",
       "    <tr>\n",
       "      <th>2565</th>\n",
       "      <td>44696</td>\n",
       "      <td>NaN</td>\n",
       "      <td>NaN</td>\n",
       "      <td>NaN</td>\n",
       "      <td>NaN</td>\n",
       "      <td>NaN</td>\n",
       "      <td>NaN</td>\n",
       "      <td>2023-06-20</td>\n",
       "      <td>Reserva - Arre-Molke</td>\n",
       "      <td>Arre-Molke</td>\n",
       "      <td>...</td>\n",
       "      <td>Zamora</td>\n",
       "      <td>20.0</td>\n",
       "      <td>dentro</td>\n",
       "      <td>2.0</td>\n",
       "      <td>Banda con batería</td>\n",
       "      <td>1200</td>\n",
       "      <td>NaN</td>\n",
       "      <td>44683.0</td>\n",
       "      <td>2.0</td>\n",
       "      <td>presupuesto_calculado</td>\n",
       "    </tr>\n",
       "    <tr>\n",
       "      <th>2566</th>\n",
       "      <td>44697</td>\n",
       "      <td>NaN</td>\n",
       "      <td>NaN</td>\n",
       "      <td>NaN</td>\n",
       "      <td>NaN</td>\n",
       "      <td>NaN</td>\n",
       "      <td>NaN</td>\n",
       "      <td>2023-06-20</td>\n",
       "      <td>Reserva - Arre-Molke</td>\n",
       "      <td>Arre-Molke</td>\n",
       "      <td>...</td>\n",
       "      <td>Zamora</td>\n",
       "      <td>20.0</td>\n",
       "      <td>dentro</td>\n",
       "      <td>1.0</td>\n",
       "      <td>Banda con batería</td>\n",
       "      <td>960</td>\n",
       "      <td>NaN</td>\n",
       "      <td>44683.0</td>\n",
       "      <td>2.0</td>\n",
       "      <td>presupuesto_calculado</td>\n",
       "    </tr>\n",
       "    <tr>\n",
       "      <th>2567</th>\n",
       "      <td>44734</td>\n",
       "      <td>NaN</td>\n",
       "      <td>NaN</td>\n",
       "      <td>NaN</td>\n",
       "      <td>NaN</td>\n",
       "      <td>NaN</td>\n",
       "      <td>NaN</td>\n",
       "      <td>2023-06-20</td>\n",
       "      <td>Reserva - Arde la calle</td>\n",
       "      <td>Arde la calle</td>\n",
       "      <td>...</td>\n",
       "      <td>Ávila</td>\n",
       "      <td>50.0</td>\n",
       "      <td>aire</td>\n",
       "      <td>3.0</td>\n",
       "      <td>Dúo</td>\n",
       "      <td>632</td>\n",
       "      <td>2023-08-05</td>\n",
       "      <td>11405.0</td>\n",
       "      <td>3.0</td>\n",
       "      <td>amedias</td>\n",
       "    </tr>\n",
       "    <tr>\n",
       "      <th>2568</th>\n",
       "      <td>44762</td>\n",
       "      <td>NaN</td>\n",
       "      <td>NaN</td>\n",
       "      <td>NaN</td>\n",
       "      <td>NaN</td>\n",
       "      <td>NaN</td>\n",
       "      <td>NaN</td>\n",
       "      <td>2023-06-21</td>\n",
       "      <td>Reserva - DZayasMusic</td>\n",
       "      <td>DZayasMusic</td>\n",
       "      <td>...</td>\n",
       "      <td>Madrid</td>\n",
       "      <td>100.0</td>\n",
       "      <td>dentro</td>\n",
       "      <td>2.0</td>\n",
       "      <td>Solista</td>\n",
       "      <td>420</td>\n",
       "      <td>NaN</td>\n",
       "      <td>5382.0</td>\n",
       "      <td>2.0</td>\n",
       "      <td>presupuesto_calculado</td>\n",
       "    </tr>\n",
       "    <tr>\n",
       "      <th>2569</th>\n",
       "      <td>44921</td>\n",
       "      <td>NaN</td>\n",
       "      <td>NaN</td>\n",
       "      <td>NaN</td>\n",
       "      <td>NaN</td>\n",
       "      <td>NaN</td>\n",
       "      <td>NaN</td>\n",
       "      <td>2023-06-21</td>\n",
       "      <td>Reserva - CAPITAN NEMO COVER BAND</td>\n",
       "      <td>CAPITAN NEMO COVER BAND</td>\n",
       "      <td>...</td>\n",
       "      <td>Murcia</td>\n",
       "      <td>100.0</td>\n",
       "      <td>aire</td>\n",
       "      <td>2.0</td>\n",
       "      <td>Dúo</td>\n",
       "      <td>840</td>\n",
       "      <td>NaN</td>\n",
       "      <td>10878.0</td>\n",
       "      <td>2.0</td>\n",
       "      <td>presupuesto_calculado</td>\n",
       "    </tr>\n",
       "  </tbody>\n",
       "</table>\n",
       "<p>2570 rows × 22 columns</p>\n",
       "</div>"
      ],
      "text/plain": [
       "         id  Author ID                   Músico musico_provincia  \\\n",
       "0      4679        2.0                     Alex            Cádiz   \n",
       "1      4706       36.0                 DJ_movil           Madrid   \n",
       "2      4914       38.0  Paloma García del Busto           Madrid   \n",
       "3      5005       49.0         Platos & Piñones           Madrid   \n",
       "4      5020       50.0            Pablo Pedraza           Madrid   \n",
       "...     ...        ...                      ...              ...   \n",
       "2565  44696        NaN                      NaN              NaN   \n",
       "2566  44697        NaN                      NaN              NaN   \n",
       "2567  44734        NaN                      NaN              NaN   \n",
       "2568  44762        NaN                      NaN              NaN   \n",
       "2569  44921        NaN                      NaN              NaN   \n",
       "\n",
       "                            musico_formatos_disponibles  \\\n",
       "0     a:2:{i:0;s:7:\"Solista\";i:1;s:27:\"Banda/Conjunt...   \n",
       "1                                                   NaN   \n",
       "2     a:5:{i:0;s:7:\"Solista\";i:1;s:4:\"Dúo\";i:2;s:5:\"...   \n",
       "3                   a:1:{i:0;s:18:\"Banda con batería\";}   \n",
       "4                                  a:1:{i:0;s:4:\"Dúo\";}   \n",
       "...                                                 ...   \n",
       "2565                                                NaN   \n",
       "2566                                                NaN   \n",
       "2567                                                NaN   \n",
       "2568                                                NaN   \n",
       "2569                                                NaN   \n",
       "\n",
       "                                  musico_genero_musical  Nº CONTRATACIONES  \\\n",
       "0                             a:1:{i:0;s:9:\"Acústico\";}                0.0   \n",
       "1                         a:1:{i:0;s:11:\"Alternativa\";}                0.0   \n",
       "2     a:4:{i:0;s:8:\"Clásica\";i:1;s:12:\"Instrumental\"...                0.0   \n",
       "3     a:4:{i:0;s:9:\"Acústico\";i:1;s:3:\"Pop\";i:2;s:4:...                0.0   \n",
       "4     a:3:{i:0;s:3:\"Pop\";i:1;s:9:\"Reggeaton\";i:2;s:4...                3.0   \n",
       "...                                                 ...                ...   \n",
       "2565                                                NaN                NaN   \n",
       "2566                                                NaN                NaN   \n",
       "2567                                                NaN                NaN   \n",
       "2568                                                NaN                NaN   \n",
       "2569                                                NaN                NaN   \n",
       "\n",
       "            Date                              Title  \\\n",
       "0            NaN                                NaN   \n",
       "1            NaN                                NaN   \n",
       "2            NaN                                NaN   \n",
       "3            NaN                                NaN   \n",
       "4            NaN                                NaN   \n",
       "...          ...                                ...   \n",
       "2565  2023-06-20               Reserva - Arre-Molke   \n",
       "2566  2023-06-20               Reserva - Arre-Molke   \n",
       "2567  2023-06-20            Reserva - Arde la calle   \n",
       "2568  2023-06-21              Reserva - DZayasMusic   \n",
       "2569  2023-06-21  Reserva - CAPITAN NEMO COVER BAND   \n",
       "\n",
       "     calculadora_musico_nombre_artistico  ... calculadora_provincia_evento  \\\n",
       "0                                    NaN  ...                          NaN   \n",
       "1                                    NaN  ...                          NaN   \n",
       "2                                    NaN  ...                          NaN   \n",
       "3                                    NaN  ...                          NaN   \n",
       "4                                    NaN  ...                          NaN   \n",
       "...                                  ...  ...                          ...   \n",
       "2565                          Arre-Molke  ...                       Zamora   \n",
       "2566                          Arre-Molke  ...                       Zamora   \n",
       "2567                       Arde la calle  ...                        Ávila   \n",
       "2568                         DZayasMusic  ...                       Madrid   \n",
       "2569             CAPITAN NEMO COVER BAND  ...                       Murcia   \n",
       "\n",
       "     calculadora_numero_invitados calculadora_espacio_evento  \\\n",
       "0                             NaN                        NaN   \n",
       "1                             NaN                        NaN   \n",
       "2                             NaN                        NaN   \n",
       "3                             NaN                        NaN   \n",
       "4                             NaN                        NaN   \n",
       "...                           ...                        ...   \n",
       "2565                         20.0                     dentro   \n",
       "2566                         20.0                     dentro   \n",
       "2567                         50.0                       aire   \n",
       "2568                        100.0                     dentro   \n",
       "2569                        100.0                       aire   \n",
       "\n",
       "      calculadora_horas_actuacion calculadora_formato_musico  \\\n",
       "0                             NaN                        NaN   \n",
       "1                             NaN                        NaN   \n",
       "2                             NaN                        NaN   \n",
       "3                             NaN                        NaN   \n",
       "4                             NaN                        NaN   \n",
       "...                           ...                        ...   \n",
       "2565                          2.0          Banda con batería   \n",
       "2566                          1.0          Banda con batería   \n",
       "2567                          3.0                        Dúo   \n",
       "2568                          2.0                    Solista   \n",
       "2569                          2.0                        Dúo   \n",
       "\n",
       "      estimacionPrecioTotal fech_evento calculadora_id_musico  \\\n",
       "0                       NaN         NaN                   NaN   \n",
       "1                       NaN         NaN                   NaN   \n",
       "2                       NaN         NaN                   NaN   \n",
       "3                       NaN         NaN                   NaN   \n",
       "4                       NaN         NaN                   NaN   \n",
       "...                     ...         ...                   ...   \n",
       "2565                   1200         NaN               44683.0   \n",
       "2566                    960         NaN               44683.0   \n",
       "2567                    632  2023-08-05               11405.0   \n",
       "2568                    420         NaN                5382.0   \n",
       "2569                    840         NaN               10878.0   \n",
       "\n",
       "     solicitud_calculada_paso       estado_solicitud  \n",
       "0                         NaN                    NaN  \n",
       "1                         NaN                    NaN  \n",
       "2                         NaN                    NaN  \n",
       "3                         NaN                    NaN  \n",
       "4                         NaN                    NaN  \n",
       "...                       ...                    ...  \n",
       "2565                      2.0  presupuesto_calculado  \n",
       "2566                      2.0  presupuesto_calculado  \n",
       "2567                      3.0                amedias  \n",
       "2568                      2.0  presupuesto_calculado  \n",
       "2569                      2.0  presupuesto_calculado  \n",
       "\n",
       "[2570 rows x 22 columns]"
      ]
     },
     "execution_count": 188,
     "metadata": {},
     "output_type": "execute_result"
    }
   ],
   "source": [
    "pd.merge(musicos, sol_musicos, how = 'outer')"
   ]
  }
 ],
 "metadata": {
  "kernelspec": {
   "display_name": "eda3",
   "language": "python",
   "name": "python3"
  },
  "language_info": {
   "codemirror_mode": {
    "name": "ipython",
    "version": 3
   },
   "file_extension": ".py",
   "mimetype": "text/x-python",
   "name": "python",
   "nbconvert_exporter": "python",
   "pygments_lexer": "ipython3",
   "version": "3.9.16"
  },
  "orig_nbformat": 4
 },
 "nbformat": 4,
 "nbformat_minor": 2
}
